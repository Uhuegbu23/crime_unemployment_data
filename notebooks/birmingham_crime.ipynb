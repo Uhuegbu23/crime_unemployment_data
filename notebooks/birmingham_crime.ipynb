{
 "cells": [
  {
   "cell_type": "code",
   "execution_count": 1,
   "metadata": {},
   "outputs": [],
   "source": [
    "import pandas as pd   \n",
    "import numpy as np  \n",
    "import matplotlib.pyplot as plt \n",
    "import seaborn as sns\n",
    "from scipy.stats import levene\n",
    "from scipy.stats import f_oneway\n",
    "from scipy.stats import shapiro\n",
    "from scipy.stats import ttest_ind\n",
    "import numpy as np\n",
    "import geopandas as gpd\n",
    "import folium\n",
    "from folium.plugins import MarkerCluster\n",
    "from folium.plugins import FastMarkerCluster\n",
    "import calendar"
   ]
  },
  {
   "cell_type": "markdown",
   "metadata": {},
   "source": [
    "The next cell reads the csvs and excel files from the entire birmingham data"
   ]
  },
  {
   "cell_type": "code",
   "execution_count": 2,
   "metadata": {},
   "outputs": [],
   "source": [
    "#read csv\n",
    "birm_unemployment_df=pd.read_csv('../data/Birmingham_Data/Unemployment Rate_Birmingham-Hoover.csv')\n",
    "birm_crime_north_df=pd.read_excel('../data/Birmingham_Data/open-data-north-2023.xlsx')\n",
    "birm_crime_south_df=pd.read_excel('../data/Birmingham_Data/open-data-north-2023.xlsx')\n",
    "birm_crime_west_df=pd.read_excel('../data/Birmingham_Data/open-data-west-2023.xlsx')\n",
    "birm_crime_east_df=pd.read_excel('../data/Birmingham_Data/opendataportal-east-2023.xlsx')  "
   ]
  },
  {
   "cell_type": "markdown",
   "metadata": {},
   "source": [
    "After reading the file, I am using .head() method to returns the first 5 rows of birmingham east file"
   ]
  },
  {
   "cell_type": "code",
   "execution_count": 3,
   "metadata": {},
   "outputs": [
    {
     "data": {
      "text/html": [
       "<div>\n",
       "<style scoped>\n",
       "    .dataframe tbody tr th:only-of-type {\n",
       "        vertical-align: middle;\n",
       "    }\n",
       "\n",
       "    .dataframe tbody tr th {\n",
       "        vertical-align: top;\n",
       "    }\n",
       "\n",
       "    .dataframe thead th {\n",
       "        text-align: right;\n",
       "    }\n",
       "</style>\n",
       "<table border=\"1\" class=\"dataframe\">\n",
       "  <thead>\n",
       "    <tr style=\"text-align: right;\">\n",
       "      <th></th>\n",
       "      <th>Block</th>\n",
       "      <th>Street</th>\n",
       "      <th>Case Address Latitude</th>\n",
       "      <th>Case Address Longitude</th>\n",
       "      <th>Case Address Zip</th>\n",
       "      <th>Case Occurred From Date</th>\n",
       "      <th>Case Offense Statute</th>\n",
       "      <th>Case Offense Statute Description</th>\n",
       "      <th>Case ORI</th>\n",
       "      <th>Reporting District</th>\n",
       "    </tr>\n",
       "  </thead>\n",
       "  <tbody>\n",
       "    <tr>\n",
       "      <th>0</th>\n",
       "      <td>700</td>\n",
       "      <td>SPRINGVILLE RD</td>\n",
       "      <td>33.608202</td>\n",
       "      <td>-86.686890</td>\n",
       "      <td>35215.0</td>\n",
       "      <td>11/30/2023 18:00:00</td>\n",
       "      <td>13A-8-3</td>\n",
       "      <td>Theft of Property Auto Theft 1st</td>\n",
       "      <td>AL0010200</td>\n",
       "      <td>E230</td>\n",
       "    </tr>\n",
       "    <tr>\n",
       "      <th>1</th>\n",
       "      <td>8300</td>\n",
       "      <td>DIVISION AVE</td>\n",
       "      <td>33.571259</td>\n",
       "      <td>-86.720541</td>\n",
       "      <td>35206.0</td>\n",
       "      <td>11/30/2023 15:00:00</td>\n",
       "      <td>13A-8-5</td>\n",
       "      <td>Theft from Residence 4th Degree</td>\n",
       "      <td>AL0010200</td>\n",
       "      <td>E223</td>\n",
       "    </tr>\n",
       "    <tr>\n",
       "      <th>2</th>\n",
       "      <td>7700</td>\n",
       "      <td>RUGBY AVE</td>\n",
       "      <td>33.557691</td>\n",
       "      <td>-86.718364</td>\n",
       "      <td>35206.0</td>\n",
       "      <td>11/30/2023 14:00:00</td>\n",
       "      <td>13A-8-3</td>\n",
       "      <td>Theft of Property Auto Theft 1st</td>\n",
       "      <td>AL0010200</td>\n",
       "      <td>E224</td>\n",
       "    </tr>\n",
       "    <tr>\n",
       "      <th>3</th>\n",
       "      <td>500</td>\n",
       "      <td>61ST ST S</td>\n",
       "      <td>33.538302</td>\n",
       "      <td>-86.742352</td>\n",
       "      <td>35212.0</td>\n",
       "      <td>11/30/2023 12:00:00</td>\n",
       "      <td>13A-6-138</td>\n",
       "      <td>Domestic Strangulation or Suffocation</td>\n",
       "      <td>AL0010200</td>\n",
       "      <td>E234</td>\n",
       "    </tr>\n",
       "    <tr>\n",
       "      <th>4</th>\n",
       "      <td>1600</td>\n",
       "      <td>MONTCLAIR RD</td>\n",
       "      <td>33.525970</td>\n",
       "      <td>-86.721946</td>\n",
       "      <td>35210.0</td>\n",
       "      <td>11/30/2023 11:30:00</td>\n",
       "      <td>13A-8-4.1</td>\n",
       "      <td>Shoplifting 3rd Degree</td>\n",
       "      <td>AL0010200</td>\n",
       "      <td>E220</td>\n",
       "    </tr>\n",
       "  </tbody>\n",
       "</table>\n",
       "</div>"
      ],
      "text/plain": [
       "   Block           Street  Case Address Latitude  Case Address Longitude  \\\n",
       "0    700  SPRINGVILLE RD               33.608202              -86.686890   \n",
       "1   8300    DIVISION AVE               33.571259              -86.720541   \n",
       "2   7700        RUGBY AVE              33.557691              -86.718364   \n",
       "3    500       61ST ST S               33.538302              -86.742352   \n",
       "4   1600    MONTCLAIR RD               33.525970              -86.721946   \n",
       "\n",
       "   Case Address Zip Case Occurred From Date Case Offense Statute  \\\n",
       "0           35215.0     11/30/2023 18:00:00              13A-8-3   \n",
       "1           35206.0     11/30/2023 15:00:00              13A-8-5   \n",
       "2           35206.0     11/30/2023 14:00:00              13A-8-3   \n",
       "3           35212.0     11/30/2023 12:00:00            13A-6-138   \n",
       "4           35210.0     11/30/2023 11:30:00            13A-8-4.1   \n",
       "\n",
       "        Case Offense Statute Description   Case ORI Reporting District  \n",
       "0      Theft of Property Auto Theft 1st   AL0010200               E230  \n",
       "1        Theft from Residence 4th Degree  AL0010200               E223  \n",
       "2      Theft of Property Auto Theft 1st   AL0010200               E224  \n",
       "3  Domestic Strangulation or Suffocation  AL0010200               E234  \n",
       "4                 Shoplifting 3rd Degree  AL0010200               E220  "
      ]
     },
     "execution_count": 3,
     "metadata": {},
     "output_type": "execute_result"
    }
   ],
   "source": [
    "birm_crime_east_df.head()\n",
    "#2061 rows × 10 columns"
   ]
  },
  {
   "cell_type": "code",
   "execution_count": 4,
   "metadata": {},
   "outputs": [
    {
     "data": {
      "text/html": [
       "<div>\n",
       "<style scoped>\n",
       "    .dataframe tbody tr th:only-of-type {\n",
       "        vertical-align: middle;\n",
       "    }\n",
       "\n",
       "    .dataframe tbody tr th {\n",
       "        vertical-align: top;\n",
       "    }\n",
       "\n",
       "    .dataframe thead th {\n",
       "        text-align: right;\n",
       "    }\n",
       "</style>\n",
       "<table border=\"1\" class=\"dataframe\">\n",
       "  <thead>\n",
       "    <tr style=\"text-align: right;\">\n",
       "      <th></th>\n",
       "      <th>Block</th>\n",
       "      <th>Street</th>\n",
       "      <th>Case Address Latitude</th>\n",
       "      <th>Case Address Longitude</th>\n",
       "      <th>Case Address Zip</th>\n",
       "      <th>Case Occurred From Date</th>\n",
       "      <th>Case Offense Statute Description</th>\n",
       "      <th>Reporting District</th>\n",
       "    </tr>\n",
       "  </thead>\n",
       "  <tbody>\n",
       "    <tr>\n",
       "      <th>0</th>\n",
       "      <td>NaN</td>\n",
       "      <td>19TH ST N</td>\n",
       "      <td>33.518551</td>\n",
       "      <td>-86.811302</td>\n",
       "      <td>35203.0</td>\n",
       "      <td>11/30/2023 12:00:00</td>\n",
       "      <td>Theft-From Public Building-1st Degree</td>\n",
       "      <td>N122</td>\n",
       "    </tr>\n",
       "    <tr>\n",
       "      <th>1</th>\n",
       "      <td>NaN</td>\n",
       "      <td>26TH ST N</td>\n",
       "      <td>33.553396</td>\n",
       "      <td>-86.818906</td>\n",
       "      <td>35207.0</td>\n",
       "      <td>11/30/2023 11:45:00</td>\n",
       "      <td>Larceny/Theft-Shoplifting, less than $500</td>\n",
       "      <td>N131</td>\n",
       "    </tr>\n",
       "    <tr>\n",
       "      <th>2</th>\n",
       "      <td>NaN</td>\n",
       "      <td>17TH ST N</td>\n",
       "      <td>33.512548</td>\n",
       "      <td>-86.810036</td>\n",
       "      <td>35203.0</td>\n",
       "      <td>11/30/2023</td>\n",
       "      <td>Theft of Property Auto Theft 1st</td>\n",
       "      <td>N122</td>\n",
       "    </tr>\n",
       "    <tr>\n",
       "      <th>3</th>\n",
       "      <td>NaN</td>\n",
       "      <td>31ST AVE N</td>\n",
       "      <td>33.553181</td>\n",
       "      <td>-86.817887</td>\n",
       "      <td>35207.0</td>\n",
       "      <td>11/29/2023 18:30:00</td>\n",
       "      <td>Theft by deception</td>\n",
       "      <td>N131</td>\n",
       "    </tr>\n",
       "    <tr>\n",
       "      <th>4</th>\n",
       "      <td>NaN</td>\n",
       "      <td>6TH AVE W</td>\n",
       "      <td>NaN</td>\n",
       "      <td>NaN</td>\n",
       "      <td>NaN</td>\n",
       "      <td>11/29/2023 13:00:00</td>\n",
       "      <td>Theft from Residence 4th Degree</td>\n",
       "      <td>N120</td>\n",
       "    </tr>\n",
       "  </tbody>\n",
       "</table>\n",
       "</div>"
      ],
      "text/plain": [
       "   Block       Street  Case Address Latitude  Case Address Longitude  \\\n",
       "0    NaN   19TH ST N               33.518551              -86.811302   \n",
       "1    NaN   26TH ST N               33.553396              -86.818906   \n",
       "2    NaN   17TH ST N               33.512548              -86.810036   \n",
       "3    NaN  31ST AVE N               33.553181              -86.817887   \n",
       "4    NaN    6TH AVE W                    NaN                     NaN   \n",
       "\n",
       "   Case Address Zip Case Occurred From Date  \\\n",
       "0           35203.0     11/30/2023 12:00:00   \n",
       "1           35207.0     11/30/2023 11:45:00   \n",
       "2           35203.0              11/30/2023   \n",
       "3           35207.0     11/29/2023 18:30:00   \n",
       "4               NaN     11/29/2023 13:00:00   \n",
       "\n",
       "            Case Offense Statute Description Reporting District  \n",
       "0      Theft-From Public Building-1st Degree               N122  \n",
       "1  Larceny/Theft-Shoplifting, less than $500               N131  \n",
       "2          Theft of Property Auto Theft 1st                N122  \n",
       "3                         Theft by deception               N131  \n",
       "4            Theft from Residence 4th Degree               N120  "
      ]
     },
     "execution_count": 4,
     "metadata": {},
     "output_type": "execute_result"
    }
   ],
   "source": [
    "birm_crime_north_df.head()\n",
    "#1058 rows × 8 columns"
   ]
  },
  {
   "cell_type": "markdown",
   "metadata": {},
   "source": [
    "I am using .head() method to returns the first 5 rows of birmingham north file"
   ]
  },
  {
   "cell_type": "code",
   "execution_count": 5,
   "metadata": {},
   "outputs": [
    {
     "data": {
      "text/plain": [
       "Index(['Block', 'Street', 'Case Address Latitude', 'Case Address Longitude',\n",
       "       'Case Address Zip', 'Case Occurred From Date',\n",
       "       'Case Offense Statute Description', 'Reporting District'],\n",
       "      dtype='object')"
      ]
     },
     "execution_count": 5,
     "metadata": {},
     "output_type": "execute_result"
    }
   ],
   "source": [
    "birm_crime_north_df.columns"
   ]
  },
  {
   "cell_type": "markdown",
   "metadata": {},
   "source": [
    "I am using .columns to returns the label of each column in the DataFrame"
   ]
  },
  {
   "cell_type": "code",
   "execution_count": 6,
   "metadata": {},
   "outputs": [
    {
     "data": {
      "text/html": [
       "<div>\n",
       "<style scoped>\n",
       "    .dataframe tbody tr th:only-of-type {\n",
       "        vertical-align: middle;\n",
       "    }\n",
       "\n",
       "    .dataframe tbody tr th {\n",
       "        vertical-align: top;\n",
       "    }\n",
       "\n",
       "    .dataframe thead th {\n",
       "        text-align: right;\n",
       "    }\n",
       "</style>\n",
       "<table border=\"1\" class=\"dataframe\">\n",
       "  <thead>\n",
       "    <tr style=\"text-align: right;\">\n",
       "      <th></th>\n",
       "      <th>Block</th>\n",
       "      <th>Street</th>\n",
       "      <th>Case Address Latitude</th>\n",
       "      <th>Case Address Longitude</th>\n",
       "      <th>Case Address Zip</th>\n",
       "      <th>Case Occurred From Date</th>\n",
       "      <th>Case Offense Statute Description</th>\n",
       "      <th>Reporting District</th>\n",
       "    </tr>\n",
       "  </thead>\n",
       "  <tbody>\n",
       "    <tr>\n",
       "      <th>0</th>\n",
       "      <td>NaN</td>\n",
       "      <td>19TH ST N</td>\n",
       "      <td>33.518551</td>\n",
       "      <td>-86.811302</td>\n",
       "      <td>35203.0</td>\n",
       "      <td>11/30/2023 12:00:00</td>\n",
       "      <td>Theft-From Public Building-1st Degree</td>\n",
       "      <td>N122</td>\n",
       "    </tr>\n",
       "    <tr>\n",
       "      <th>1</th>\n",
       "      <td>NaN</td>\n",
       "      <td>26TH ST N</td>\n",
       "      <td>33.553396</td>\n",
       "      <td>-86.818906</td>\n",
       "      <td>35207.0</td>\n",
       "      <td>11/30/2023 11:45:00</td>\n",
       "      <td>Larceny/Theft-Shoplifting, less than $500</td>\n",
       "      <td>N131</td>\n",
       "    </tr>\n",
       "    <tr>\n",
       "      <th>2</th>\n",
       "      <td>NaN</td>\n",
       "      <td>17TH ST N</td>\n",
       "      <td>33.512548</td>\n",
       "      <td>-86.810036</td>\n",
       "      <td>35203.0</td>\n",
       "      <td>11/30/2023</td>\n",
       "      <td>Theft of Property Auto Theft 1st</td>\n",
       "      <td>N122</td>\n",
       "    </tr>\n",
       "    <tr>\n",
       "      <th>3</th>\n",
       "      <td>NaN</td>\n",
       "      <td>31ST AVE N</td>\n",
       "      <td>33.553181</td>\n",
       "      <td>-86.817887</td>\n",
       "      <td>35207.0</td>\n",
       "      <td>11/29/2023 18:30:00</td>\n",
       "      <td>Theft by deception</td>\n",
       "      <td>N131</td>\n",
       "    </tr>\n",
       "    <tr>\n",
       "      <th>4</th>\n",
       "      <td>NaN</td>\n",
       "      <td>6TH AVE W</td>\n",
       "      <td>NaN</td>\n",
       "      <td>NaN</td>\n",
       "      <td>NaN</td>\n",
       "      <td>11/29/2023 13:00:00</td>\n",
       "      <td>Theft from Residence 4th Degree</td>\n",
       "      <td>N120</td>\n",
       "    </tr>\n",
       "  </tbody>\n",
       "</table>\n",
       "</div>"
      ],
      "text/plain": [
       "   Block       Street  Case Address Latitude  Case Address Longitude  \\\n",
       "0    NaN   19TH ST N               33.518551              -86.811302   \n",
       "1    NaN   26TH ST N               33.553396              -86.818906   \n",
       "2    NaN   17TH ST N               33.512548              -86.810036   \n",
       "3    NaN  31ST AVE N               33.553181              -86.817887   \n",
       "4    NaN    6TH AVE W                    NaN                     NaN   \n",
       "\n",
       "   Case Address Zip Case Occurred From Date  \\\n",
       "0           35203.0     11/30/2023 12:00:00   \n",
       "1           35207.0     11/30/2023 11:45:00   \n",
       "2           35203.0              11/30/2023   \n",
       "3           35207.0     11/29/2023 18:30:00   \n",
       "4               NaN     11/29/2023 13:00:00   \n",
       "\n",
       "            Case Offense Statute Description Reporting District  \n",
       "0      Theft-From Public Building-1st Degree               N122  \n",
       "1  Larceny/Theft-Shoplifting, less than $500               N131  \n",
       "2          Theft of Property Auto Theft 1st                N122  \n",
       "3                         Theft by deception               N131  \n",
       "4            Theft from Residence 4th Degree               N120  "
      ]
     },
     "execution_count": 6,
     "metadata": {},
     "output_type": "execute_result"
    }
   ],
   "source": [
    "birm_crime_south_df.head()\n",
    "#1058 rows × 8 columns"
   ]
  },
  {
   "cell_type": "markdown",
   "metadata": {},
   "source": [
    "I am using .head() method to returns the first 5 rows of birmingham south file"
   ]
  },
  {
   "cell_type": "code",
   "execution_count": 7,
   "metadata": {},
   "outputs": [
    {
     "data": {
      "text/plain": [
       "Index(['Block', 'Street', 'Case Address Latitude', 'Case Address Longitude',\n",
       "       'Case Address Zip', 'Case Occurred From Date',\n",
       "       'Case Offense Statute Description', 'Reporting District'],\n",
       "      dtype='object')"
      ]
     },
     "execution_count": 7,
     "metadata": {},
     "output_type": "execute_result"
    }
   ],
   "source": [
    "birm_crime_south_df.columns"
   ]
  },
  {
   "cell_type": "markdown",
   "metadata": {},
   "source": [
    "I am using .columns to returns the label of each column in the DataFrame"
   ]
  },
  {
   "cell_type": "code",
   "execution_count": 8,
   "metadata": {},
   "outputs": [
    {
     "data": {
      "text/html": [
       "<div>\n",
       "<style scoped>\n",
       "    .dataframe tbody tr th:only-of-type {\n",
       "        vertical-align: middle;\n",
       "    }\n",
       "\n",
       "    .dataframe tbody tr th {\n",
       "        vertical-align: top;\n",
       "    }\n",
       "\n",
       "    .dataframe thead th {\n",
       "        text-align: right;\n",
       "    }\n",
       "</style>\n",
       "<table border=\"1\" class=\"dataframe\">\n",
       "  <thead>\n",
       "    <tr style=\"text-align: right;\">\n",
       "      <th></th>\n",
       "      <th>Block</th>\n",
       "      <th>Street</th>\n",
       "      <th>Case Address Latitude</th>\n",
       "      <th>Case Address Longitude</th>\n",
       "      <th>Case Address Zip</th>\n",
       "      <th>Case Occurred From Date</th>\n",
       "      <th>Case Offense Statute Description</th>\n",
       "      <th>Reporting District</th>\n",
       "    </tr>\n",
       "  </thead>\n",
       "  <tbody>\n",
       "    <tr>\n",
       "      <th>0</th>\n",
       "      <td>500</td>\n",
       "      <td>16TH WAY SW</td>\n",
       "      <td>33.490053</td>\n",
       "      <td>-86.862152</td>\n",
       "      <td>35211.0</td>\n",
       "      <td>11/30/2023 23:02:00</td>\n",
       "      <td>Disch Firearm into Occupied Bldg/Veh</td>\n",
       "      <td>W429</td>\n",
       "    </tr>\n",
       "    <tr>\n",
       "      <th>1</th>\n",
       "      <td>500</td>\n",
       "      <td>16TH WAY SW</td>\n",
       "      <td>33.490053</td>\n",
       "      <td>-86.862152</td>\n",
       "      <td>35211.0</td>\n",
       "      <td>11/30/2023 23:02:00</td>\n",
       "      <td>Aggravated Assault Non-Family-Gun-2nd Degree</td>\n",
       "      <td>W429</td>\n",
       "    </tr>\n",
       "    <tr>\n",
       "      <th>2</th>\n",
       "      <td>600</td>\n",
       "      <td>CANDLE LN</td>\n",
       "      <td>33.541728</td>\n",
       "      <td>-86.865778</td>\n",
       "      <td>35214.0</td>\n",
       "      <td>11/30/2023 21:58:00</td>\n",
       "      <td>Theft from Residence 4th Degree</td>\n",
       "      <td>W439</td>\n",
       "    </tr>\n",
       "    <tr>\n",
       "      <th>3</th>\n",
       "      <td>1500</td>\n",
       "      <td>51ST ST</td>\n",
       "      <td>33.483066</td>\n",
       "      <td>-86.890583</td>\n",
       "      <td>35208.0</td>\n",
       "      <td>11/30/2023 17:00:00</td>\n",
       "      <td>Theft of Property Auto Theft 1st</td>\n",
       "      <td>W432</td>\n",
       "    </tr>\n",
       "    <tr>\n",
       "      <th>4</th>\n",
       "      <td>1100</td>\n",
       "      <td>4TH AVE W</td>\n",
       "      <td>33.506463</td>\n",
       "      <td>-86.856604</td>\n",
       "      <td>35204.0</td>\n",
       "      <td>11/30/2023 16:00:00</td>\n",
       "      <td>Aggravated Assault Family-Gun-2nd Degree</td>\n",
       "      <td>W430</td>\n",
       "    </tr>\n",
       "  </tbody>\n",
       "</table>\n",
       "</div>"
      ],
      "text/plain": [
       "   Block        Street  Case Address Latitude  Case Address Longitude  \\\n",
       "0    500  16TH WAY SW               33.490053              -86.862152   \n",
       "1    500  16TH WAY SW               33.490053              -86.862152   \n",
       "2    600    CANDLE LN               33.541728              -86.865778   \n",
       "3   1500      51ST ST               33.483066              -86.890583   \n",
       "4   1100    4TH AVE W               33.506463              -86.856604   \n",
       "\n",
       "   Case Address Zip Case Occurred From Date  \\\n",
       "0           35211.0     11/30/2023 23:02:00   \n",
       "1           35211.0     11/30/2023 23:02:00   \n",
       "2           35214.0     11/30/2023 21:58:00   \n",
       "3           35208.0     11/30/2023 17:00:00   \n",
       "4           35204.0     11/30/2023 16:00:00   \n",
       "\n",
       "               Case Offense Statute Description Reporting District  \n",
       "0          Disch Firearm into Occupied Bldg/Veh               W429  \n",
       "1  Aggravated Assault Non-Family-Gun-2nd Degree               W429  \n",
       "2               Theft from Residence 4th Degree               W439  \n",
       "3             Theft of Property Auto Theft 1st                W432  \n",
       "4      Aggravated Assault Family-Gun-2nd Degree               W430  "
      ]
     },
     "execution_count": 8,
     "metadata": {},
     "output_type": "execute_result"
    }
   ],
   "source": [
    "birm_crime_west_df.head()"
   ]
  },
  {
   "cell_type": "markdown",
   "metadata": {},
   "source": [
    "the .head() method returns the first 5 rows of birmingham west file. 2092 rows × 8 columns. A simple addition of all the rows and columns is 6269"
   ]
  },
  {
   "cell_type": "code",
   "execution_count": 9,
   "metadata": {},
   "outputs": [
    {
     "data": {
      "text/html": [
       "<div>\n",
       "<style scoped>\n",
       "    .dataframe tbody tr th:only-of-type {\n",
       "        vertical-align: middle;\n",
       "    }\n",
       "\n",
       "    .dataframe tbody tr th {\n",
       "        vertical-align: top;\n",
       "    }\n",
       "\n",
       "    .dataframe thead th {\n",
       "        text-align: right;\n",
       "    }\n",
       "</style>\n",
       "<table border=\"1\" class=\"dataframe\">\n",
       "  <thead>\n",
       "    <tr style=\"text-align: right;\">\n",
       "      <th></th>\n",
       "      <th>Series ID</th>\n",
       "      <th>Year</th>\n",
       "      <th>Period</th>\n",
       "      <th>Label</th>\n",
       "      <th>Value</th>\n",
       "    </tr>\n",
       "  </thead>\n",
       "  <tbody>\n",
       "    <tr>\n",
       "      <th>0</th>\n",
       "      <td>LAUMT011382000000003</td>\n",
       "      <td>2021</td>\n",
       "      <td>M01</td>\n",
       "      <td>2021 Jan</td>\n",
       "      <td>4.1</td>\n",
       "    </tr>\n",
       "  </tbody>\n",
       "</table>\n",
       "</div>"
      ],
      "text/plain": [
       "              Series ID  Year Period     Label  Value\n",
       "0  LAUMT011382000000003  2021    M01  2021 Jan    4.1"
      ]
     },
     "execution_count": 9,
     "metadata": {},
     "output_type": "execute_result"
    }
   ],
   "source": [
    "birm_unemployment_df.head(1)"
   ]
  },
  {
   "cell_type": "code",
   "execution_count": 10,
   "metadata": {},
   "outputs": [
    {
     "data": {
      "text/html": [
       "<div>\n",
       "<style scoped>\n",
       "    .dataframe tbody tr th:only-of-type {\n",
       "        vertical-align: middle;\n",
       "    }\n",
       "\n",
       "    .dataframe tbody tr th {\n",
       "        vertical-align: top;\n",
       "    }\n",
       "\n",
       "    .dataframe thead th {\n",
       "        text-align: right;\n",
       "    }\n",
       "</style>\n",
       "<table border=\"1\" class=\"dataframe\">\n",
       "  <thead>\n",
       "    <tr style=\"text-align: right;\">\n",
       "      <th></th>\n",
       "      <th>Block</th>\n",
       "      <th>Street</th>\n",
       "      <th>Case Address Latitude</th>\n",
       "      <th>Case Address Longitude</th>\n",
       "      <th>Case Address Zip</th>\n",
       "      <th>Case Occurred From Date</th>\n",
       "      <th>Case Offense Statute Description</th>\n",
       "      <th>Reporting District</th>\n",
       "      <th>Case Offense Statute</th>\n",
       "      <th>Case ORI</th>\n",
       "    </tr>\n",
       "  </thead>\n",
       "  <tbody>\n",
       "    <tr>\n",
       "      <th>0</th>\n",
       "      <td>NaN</td>\n",
       "      <td>19TH ST N</td>\n",
       "      <td>33.518551</td>\n",
       "      <td>-86.811302</td>\n",
       "      <td>35203.0</td>\n",
       "      <td>11/30/2023 12:00:00</td>\n",
       "      <td>Theft-From Public Building-1st Degree</td>\n",
       "      <td>N122</td>\n",
       "      <td>NaN</td>\n",
       "      <td>NaN</td>\n",
       "    </tr>\n",
       "    <tr>\n",
       "      <th>1</th>\n",
       "      <td>NaN</td>\n",
       "      <td>26TH ST N</td>\n",
       "      <td>33.553396</td>\n",
       "      <td>-86.818906</td>\n",
       "      <td>35207.0</td>\n",
       "      <td>11/30/2023 11:45:00</td>\n",
       "      <td>Larceny/Theft-Shoplifting, less than $500</td>\n",
       "      <td>N131</td>\n",
       "      <td>NaN</td>\n",
       "      <td>NaN</td>\n",
       "    </tr>\n",
       "    <tr>\n",
       "      <th>2</th>\n",
       "      <td>NaN</td>\n",
       "      <td>17TH ST N</td>\n",
       "      <td>33.512548</td>\n",
       "      <td>-86.810036</td>\n",
       "      <td>35203.0</td>\n",
       "      <td>11/30/2023</td>\n",
       "      <td>Theft of Property Auto Theft 1st</td>\n",
       "      <td>N122</td>\n",
       "      <td>NaN</td>\n",
       "      <td>NaN</td>\n",
       "    </tr>\n",
       "    <tr>\n",
       "      <th>3</th>\n",
       "      <td>NaN</td>\n",
       "      <td>31ST AVE N</td>\n",
       "      <td>33.553181</td>\n",
       "      <td>-86.817887</td>\n",
       "      <td>35207.0</td>\n",
       "      <td>11/29/2023 18:30:00</td>\n",
       "      <td>Theft by deception</td>\n",
       "      <td>N131</td>\n",
       "      <td>NaN</td>\n",
       "      <td>NaN</td>\n",
       "    </tr>\n",
       "    <tr>\n",
       "      <th>4</th>\n",
       "      <td>NaN</td>\n",
       "      <td>6TH AVE W</td>\n",
       "      <td>NaN</td>\n",
       "      <td>NaN</td>\n",
       "      <td>NaN</td>\n",
       "      <td>11/29/2023 13:00:00</td>\n",
       "      <td>Theft from Residence 4th Degree</td>\n",
       "      <td>N120</td>\n",
       "      <td>NaN</td>\n",
       "      <td>NaN</td>\n",
       "    </tr>\n",
       "  </tbody>\n",
       "</table>\n",
       "</div>"
      ],
      "text/plain": [
       "   Block       Street  Case Address Latitude  Case Address Longitude  \\\n",
       "0    NaN   19TH ST N               33.518551              -86.811302   \n",
       "1    NaN   26TH ST N               33.553396              -86.818906   \n",
       "2    NaN   17TH ST N               33.512548              -86.810036   \n",
       "3    NaN  31ST AVE N               33.553181              -86.817887   \n",
       "4    NaN    6TH AVE W                    NaN                     NaN   \n",
       "\n",
       "   Case Address Zip Case Occurred From Date  \\\n",
       "0           35203.0     11/30/2023 12:00:00   \n",
       "1           35207.0     11/30/2023 11:45:00   \n",
       "2           35203.0              11/30/2023   \n",
       "3           35207.0     11/29/2023 18:30:00   \n",
       "4               NaN     11/29/2023 13:00:00   \n",
       "\n",
       "            Case Offense Statute Description Reporting District  \\\n",
       "0      Theft-From Public Building-1st Degree               N122   \n",
       "1  Larceny/Theft-Shoplifting, less than $500               N131   \n",
       "2          Theft of Property Auto Theft 1st                N122   \n",
       "3                         Theft by deception               N131   \n",
       "4            Theft from Residence 4th Degree               N120   \n",
       "\n",
       "  Case Offense Statute Case ORI  \n",
       "0                  NaN      NaN  \n",
       "1                  NaN      NaN  \n",
       "2                  NaN      NaN  \n",
       "3                  NaN      NaN  \n",
       "4                  NaN      NaN  "
      ]
     },
     "execution_count": 10,
     "metadata": {},
     "output_type": "execute_result"
    }
   ],
   "source": [
    "birm_crime_df = pd.concat([birm_crime_north_df, birm_crime_south_df, birm_crime_east_df, birm_crime_west_df], ignore_index=True)\n",
    "birm_crime_df.head() #6269 rows × 10 columns"
   ]
  },
  {
   "cell_type": "markdown",
   "metadata": {},
   "source": [
    "The pd.concat is the most accurate method to join the entired Birmingham dataframe since it returns the total number of rows and retains the column since they have common values. One would assume that i do merge, but the .merge that not return the entire rows, see update on a simple maths some cells above. "
   ]
  },
  {
   "cell_type": "code",
   "execution_count": 11,
   "metadata": {},
   "outputs": [
    {
     "data": {
      "text/plain": [
       "Index(['Block', 'Street', 'Case Address Latitude', 'Case Address Longitude',\n",
       "       'Case Address Zip', 'Case Occurred From Date',\n",
       "       'Case Offense Statute Description', 'Reporting District',\n",
       "       'Case Offense Statute', 'Case ORI'],\n",
       "      dtype='object')"
      ]
     },
     "execution_count": 11,
     "metadata": {},
     "output_type": "execute_result"
    }
   ],
   "source": [
    "birm_crime_df.columns"
   ]
  },
  {
   "cell_type": "markdown",
   "metadata": {},
   "source": [
    " After joining, i use .columns to returns the label of each column in the DataFrame"
   ]
  },
  {
   "cell_type": "markdown",
   "metadata": {},
   "source": [
    "merged_df_1 = pd.merge(birm_crime_north_df, birm_crime_south_df, how='inner', on= ['Block', 'Street', 'Case Address Latitude', 'Case Address Longitude',\n",
    "       'Case Address Zip', 'Case Occurred From Date',\n",
    "       'Case Offense Statute Description', 'Reporting District'])\n",
    "merged_df_1"
   ]
  },
  {
   "cell_type": "markdown",
   "metadata": {},
   "source": [
    "Here i am using .merge to join the entire Birmingham data. The result shows that .concat is the best way to join the entire dataframe instead of merge. the entire row is 1082 rows × 8 columns as against #6269 rows × 10 columns from .merge"
   ]
  },
  {
   "cell_type": "code",
   "execution_count": 12,
   "metadata": {},
   "outputs": [
    {
     "data": {
      "text/plain": [
       "Case Offense Statute Description\n",
       "Theft of Property Auto Theft 1st             1323\n",
       "Disch Firearm into Occupied Bldg/Veh          502\n",
       "Burglary (Residence) Force 3rd Degree         458\n",
       "Miscellaneous Theft-3rd Degree                404\n",
       "Theft - TOP 2nd Degree                        362\n",
       "Larceny/Theft-Shoplifting, less than $500     272\n",
       "Burglary-Residence-No Force-3rd Degree        215\n",
       "Theft-Firearms-2nd Degree                     175\n",
       "Domestic Strangulation or Suffocation         167\n",
       "Larceny/Theft-TOP 2 $500-less than $1500      152\n",
       "Name: count, dtype: int64"
      ]
     },
     "execution_count": 12,
     "metadata": {},
     "output_type": "execute_result"
    }
   ],
   "source": [
    "#top ten crime in birmingham\n",
    "top_ten_crime_in_birm=birm_crime_df['Case Offense Statute Description'].value_counts()\n",
    "top_ten_crime_in_birm.head(10)"
   ]
  },
  {
   "cell_type": "markdown",
   "metadata": {},
   "source": [
    "this code identifies and lists the top 10 most common crime descriptions in the birm_crime_df DataFrame, based on the frequency of each description. Of the top ten, \"Theft of Property Auto Theft 1st\", comes up top with 1323 frequency and \"Larceny/Theft-TOP 2 $500-less than $1500\" with the least number of times, 152. "
   ]
  },
  {
   "cell_type": "code",
   "execution_count": 13,
   "metadata": {},
   "outputs": [
    {
     "data": {
      "text/plain": [
       "(<Axes: title={'center': 'Top Ten Crime in Birmingham, AL'}, ylabel='Case Offense Statute Description'>,\n",
       " None)"
      ]
     },
     "execution_count": 13,
     "metadata": {},
     "output_type": "execute_result"
    },
    {
     "data": {
      "image/png": "[encoded data removed]",
      "text/plain": [
       "<Figure size 640x480 with 1 Axes>"
      ]
     },
     "metadata": {},
     "output_type": "display_data"
    }
   ],
   "source": [
    "top_ten_crime_in_birm.head(10).plot(kind=\"barh\", title = \"Top Ten Crime in Birmingham, AL\"), plt.savefig('Top Ten Crime in Birmingham, AL.png', bbox_inches='tight')"
   ]
  },
  {
   "cell_type": "markdown",
   "metadata": {},
   "source": [
    "Here, I plot a bar plot to display the result of the top ten crime in Birmingham AL, I used plt.savefig to export the png file and \"barh\" to make it horizontally. "
   ]
  },
  {
   "cell_type": "code",
   "execution_count": 14,
   "metadata": {},
   "outputs": [
    {
     "data": {
      "text/html": [
       "<div>\n",
       "<style scoped>\n",
       "    .dataframe tbody tr th:only-of-type {\n",
       "        vertical-align: middle;\n",
       "    }\n",
       "\n",
       "    .dataframe tbody tr th {\n",
       "        vertical-align: top;\n",
       "    }\n",
       "\n",
       "    .dataframe thead th {\n",
       "        text-align: right;\n",
       "    }\n",
       "</style>\n",
       "<table border=\"1\" class=\"dataframe\">\n",
       "  <thead>\n",
       "    <tr style=\"text-align: right;\">\n",
       "      <th></th>\n",
       "      <th>Block</th>\n",
       "      <th>Street</th>\n",
       "      <th>Case Address Latitude</th>\n",
       "      <th>Case Address Longitude</th>\n",
       "      <th>Case Address Zip</th>\n",
       "      <th>Case Occurred From Date</th>\n",
       "      <th>Case Offense Statute Description</th>\n",
       "      <th>Reporting District</th>\n",
       "      <th>Case Offense Statute</th>\n",
       "      <th>Case ORI</th>\n",
       "    </tr>\n",
       "  </thead>\n",
       "  <tbody>\n",
       "    <tr>\n",
       "      <th>0</th>\n",
       "      <td>NaN</td>\n",
       "      <td>19TH ST N</td>\n",
       "      <td>33.518551</td>\n",
       "      <td>-86.811302</td>\n",
       "      <td>35203.0</td>\n",
       "      <td>11/30/2023 12:00:00</td>\n",
       "      <td>Theft-From Public Building-1st Degree</td>\n",
       "      <td>N122</td>\n",
       "      <td>NaN</td>\n",
       "      <td>NaN</td>\n",
       "    </tr>\n",
       "    <tr>\n",
       "      <th>1</th>\n",
       "      <td>NaN</td>\n",
       "      <td>26TH ST N</td>\n",
       "      <td>33.553396</td>\n",
       "      <td>-86.818906</td>\n",
       "      <td>35207.0</td>\n",
       "      <td>11/30/2023 11:45:00</td>\n",
       "      <td>Larceny/Theft-Shoplifting, less than $500</td>\n",
       "      <td>N131</td>\n",
       "      <td>NaN</td>\n",
       "      <td>NaN</td>\n",
       "    </tr>\n",
       "  </tbody>\n",
       "</table>\n",
       "</div>"
      ],
      "text/plain": [
       "   Block      Street  Case Address Latitude  Case Address Longitude  \\\n",
       "0    NaN  19TH ST N               33.518551              -86.811302   \n",
       "1    NaN  26TH ST N               33.553396              -86.818906   \n",
       "\n",
       "   Case Address Zip Case Occurred From Date  \\\n",
       "0           35203.0     11/30/2023 12:00:00   \n",
       "1           35207.0     11/30/2023 11:45:00   \n",
       "\n",
       "            Case Offense Statute Description Reporting District  \\\n",
       "0      Theft-From Public Building-1st Degree               N122   \n",
       "1  Larceny/Theft-Shoplifting, less than $500               N131   \n",
       "\n",
       "  Case Offense Statute Case ORI  \n",
       "0                  NaN      NaN  \n",
       "1                  NaN      NaN  "
      ]
     },
     "execution_count": 14,
     "metadata": {},
     "output_type": "execute_result"
    }
   ],
   "source": [
    "birm_crime_df.head(2)"
   ]
  },
  {
   "cell_type": "code",
   "execution_count": 15,
   "metadata": {},
   "outputs": [],
   "source": [
    "import calendar"
   ]
  },
  {
   "cell_type": "markdown",
   "metadata": {},
   "source": [
    "To use the calendar module, I must first import it into your Python script. In the next few codes, i am going to be using the calendar module"
   ]
  },
  {
   "cell_type": "code",
   "execution_count": 16,
   "metadata": {},
   "outputs": [
    {
     "data": {
      "text/html": [
       "<div>\n",
       "<style scoped>\n",
       "    .dataframe tbody tr th:only-of-type {\n",
       "        vertical-align: middle;\n",
       "    }\n",
       "\n",
       "    .dataframe tbody tr th {\n",
       "        vertical-align: top;\n",
       "    }\n",
       "\n",
       "    .dataframe thead th {\n",
       "        text-align: right;\n",
       "    }\n",
       "</style>\n",
       "<table border=\"1\" class=\"dataframe\">\n",
       "  <thead>\n",
       "    <tr style=\"text-align: right;\">\n",
       "      <th></th>\n",
       "      <th>Block</th>\n",
       "      <th>Street</th>\n",
       "      <th>Case Address Latitude</th>\n",
       "      <th>Case Address Longitude</th>\n",
       "      <th>Case Address Zip</th>\n",
       "      <th>Case Occurred From Date</th>\n",
       "      <th>Case Offense Statute Description</th>\n",
       "      <th>Reporting District</th>\n",
       "      <th>Case Offense Statute</th>\n",
       "      <th>Case ORI</th>\n",
       "    </tr>\n",
       "  </thead>\n",
       "  <tbody>\n",
       "    <tr>\n",
       "      <th>0</th>\n",
       "      <td>NaN</td>\n",
       "      <td>19TH ST N</td>\n",
       "      <td>33.518551</td>\n",
       "      <td>-86.811302</td>\n",
       "      <td>35203.0</td>\n",
       "      <td>2023-11-30 12:00:00</td>\n",
       "      <td>Theft-From Public Building-1st Degree</td>\n",
       "      <td>N122</td>\n",
       "      <td>NaN</td>\n",
       "      <td>NaN</td>\n",
       "    </tr>\n",
       "    <tr>\n",
       "      <th>1</th>\n",
       "      <td>NaN</td>\n",
       "      <td>26TH ST N</td>\n",
       "      <td>33.553396</td>\n",
       "      <td>-86.818906</td>\n",
       "      <td>35207.0</td>\n",
       "      <td>2023-11-30 11:45:00</td>\n",
       "      <td>Larceny/Theft-Shoplifting, less than $500</td>\n",
       "      <td>N131</td>\n",
       "      <td>NaN</td>\n",
       "      <td>NaN</td>\n",
       "    </tr>\n",
       "    <tr>\n",
       "      <th>2</th>\n",
       "      <td>NaN</td>\n",
       "      <td>17TH ST N</td>\n",
       "      <td>33.512548</td>\n",
       "      <td>-86.810036</td>\n",
       "      <td>35203.0</td>\n",
       "      <td>NaT</td>\n",
       "      <td>Theft of Property Auto Theft 1st</td>\n",
       "      <td>N122</td>\n",
       "      <td>NaN</td>\n",
       "      <td>NaN</td>\n",
       "    </tr>\n",
       "    <tr>\n",
       "      <th>3</th>\n",
       "      <td>NaN</td>\n",
       "      <td>31ST AVE N</td>\n",
       "      <td>33.553181</td>\n",
       "      <td>-86.817887</td>\n",
       "      <td>35207.0</td>\n",
       "      <td>2023-11-29 18:30:00</td>\n",
       "      <td>Theft by deception</td>\n",
       "      <td>N131</td>\n",
       "      <td>NaN</td>\n",
       "      <td>NaN</td>\n",
       "    </tr>\n",
       "  </tbody>\n",
       "</table>\n",
       "</div>"
      ],
      "text/plain": [
       "   Block       Street  Case Address Latitude  Case Address Longitude  \\\n",
       "0    NaN   19TH ST N               33.518551              -86.811302   \n",
       "1    NaN   26TH ST N               33.553396              -86.818906   \n",
       "2    NaN   17TH ST N               33.512548              -86.810036   \n",
       "3    NaN  31ST AVE N               33.553181              -86.817887   \n",
       "\n",
       "   Case Address Zip Case Occurred From Date  \\\n",
       "0           35203.0     2023-11-30 12:00:00   \n",
       "1           35207.0     2023-11-30 11:45:00   \n",
       "2           35203.0                     NaT   \n",
       "3           35207.0     2023-11-29 18:30:00   \n",
       "\n",
       "            Case Offense Statute Description Reporting District  \\\n",
       "0      Theft-From Public Building-1st Degree               N122   \n",
       "1  Larceny/Theft-Shoplifting, less than $500               N131   \n",
       "2          Theft of Property Auto Theft 1st                N122   \n",
       "3                         Theft by deception               N131   \n",
       "\n",
       "  Case Offense Statute Case ORI  \n",
       "0                  NaN      NaN  \n",
       "1                  NaN      NaN  \n",
       "2                  NaN      NaN  \n",
       "3                  NaN      NaN  "
      ]
     },
     "execution_count": 16,
     "metadata": {},
     "output_type": "execute_result"
    }
   ],
   "source": [
    "#convert to datetime specifying format\n",
    "birm_crime_df['Case Occurred From Date'] = pd.to_datetime(birm_crime_df['Case Occurred From Date'], format='%m/%d/%Y %H:%M:%S', errors='coerce')\n",
    "birm_crime_df.head(4)"
   ]
  },
  {
   "cell_type": "markdown",
   "metadata": {},
   "source": [
    "here i am converting the \"Case Occurred From Date\" column to datetime objects. This conversion is necessary since i am working with time-series data and it involves dates and times"
   ]
  },
  {
   "cell_type": "code",
   "execution_count": 17,
   "metadata": {},
   "outputs": [
    {
     "data": {
      "text/plain": [
       "array(['Theft-From Public Building-1st Degree',\n",
       "       'Larceny/Theft-Shoplifting, less than $500',\n",
       "       'Theft of Property Auto Theft 1st ', 'Theft by deception',\n",
       "       'Theft from Residence 4th Degree',\n",
       "       'Miscellaneous Theft-3rd Degree', 'Theft - TOP 2nd Degree',\n",
       "       'Larceny/Theft-TOP 2 $500-less than $1500',\n",
       "       'Burglary-Residence-No Force-3rd Degree',\n",
       "       'Domestic Burglary - 3rd Degree',\n",
       "       'Burglary (Residence)-Force 1st Degree',\n",
       "       'Burglary (Residence) Force 3rd Degree',\n",
       "       'Domestic Strangulation or Suffocation',\n",
       "       'Aggravated Assault Family-Knife-2nd Degree',\n",
       "       'Disch Firearm into Occupied Bldg/Veh',\n",
       "       'Robbery-Business-Gun-1st Degree', 'Theft-Firearms-2nd Degree',\n",
       "       'Theft from Residence - 3rd Degree',\n",
       "       'Aggravated Assault Family-Other Weapon-2nd Degree',\n",
       "       'Theft-Vehicle Parts-4th Degree', 'Theft-From Yards-3rd Degree',\n",
       "       'Aggravated Assault Non-Family-Knife-2nd Degree',\n",
       "       'Theft-From Yards-4th Degree', 'Theft - TOP 4th Degree',\n",
       "       'Theft-Other Vehicle-1st Degree',\n",
       "       'Theft of Lost Property-2nd Degree',\n",
       "       'Aggravated Assault Family-Gun-1st Degree',\n",
       "       'Miscellaneous Theft-TOP-1st Degree', 'Attempt to Commit Murder',\n",
       "       'Theft-From Banking Institution-2nd Degree',\n",
       "       'Theft-From Yards-1st Degree', 'Theft-From Residence-1st Degree',\n",
       "       'Burglary-Non-Residence-No Force-2nd Degree',\n",
       "       'Aggravated Assault Family-Gun-2nd Degree',\n",
       "       'Theft-Bicycle-3rd Degree',\n",
       "       'Theft of property with intent to deprive owner',\n",
       "       'Theft-From Public Building-2nd Degree',\n",
       "       'Theft of Lost Property 3rd',\n",
       "       'Theft-From Public Building- 4th Degree',\n",
       "       'Burglary-Non-Residence-No Force-3rd Degree',\n",
       "       'Miscellaneous Theft-2nd Degree',\n",
       "       'Robbery-Street-Other Weapon-3rd Degree',\n",
       "       'Carjacking-Injury Or Deadly Weapon-2nd Degree',\n",
       "       'Theft-From Public Building-3rd Degree',\n",
       "       'Theft-From Shipment-4th Degree',\n",
       "       'Theft of Lost Property-1st Degree', 'Theft-Bicycle- 4th Degree',\n",
       "       'Robbery-Business-Other Weapon-3rd Degree',\n",
       "       'Throwing/Shoot Rock/Missle in Occupied Vehicle',\n",
       "       'Robbery-Residence-Gun-2nd Degree',\n",
       "       'Aggravated Assault Non-Family-Other Weapon-1st Degree',\n",
       "       'Aggravated Assault Non-Family-Gun-2nd Degree',\n",
       "       'Theft-Vehicle Parts-1st Degree',\n",
       "       'Robbery-Residence-Strong Arm-2nd Degree',\n",
       "       'Robbery-Street-Strong Arm-1st Degree',\n",
       "       'Theft-Firearms-3rd Degree',\n",
       "       'Burglary-Residence-No Force-2nd Degree',\n",
       "       'Theft-Firearms-1st Degree',\n",
       "       'Aggravated Assault Family-Strong Arm-2nd Degree', 'Rape - Force',\n",
       "       'Robbery-Street-Other Weapon-1st Degree',\n",
       "       'Sodomy-With A Girl-Gun-1st Degree',\n",
       "       'Carjacking-Injury Or Deadly Weapon-1st Degree',\n",
       "       'Robbery-Street-Gun-3rd Degree', 'Robbery-Street-Knife-1st Degree',\n",
       "       'Theft - TOP 1st Degree', 'Theft-From Residence-2nd Degree',\n",
       "       'Theft-Pickpocket-1st Degree',\n",
       "       'Burglary-Bank Type Business-Force-2nd Degree',\n",
       "       'Theft-Pickpocket-4th Degree',\n",
       "       'Aggravated Assault Non-Family-Knife-1st Degree',\n",
       "       'Burglary (Residence) Force 2nd Degree', 'Theft Pickpocket -3rd',\n",
       "       'Robbery-Residence-Strong Arm-3rd Degree',\n",
       "       'Aggravated Assault Police Officer-Strong Arm-2nd Degree',\n",
       "       'Domestic Burglary - 2nd Degree',\n",
       "       'Theft-From Banking Institution-1st Degree',\n",
       "       'Assault 1st- Non-Family Knife', 'Shoplifting 3rd Degree',\n",
       "       'Theft-From Shipment-3rd Degree', 'Theft-Vehicle Parts-3rd Degree',\n",
       "       'Possession of Burglars Tools',\n",
       "       'Burglary-Non-Residence-No Force-1st Degree',\n",
       "       'Sodomy-With A Girl-Domestic Violence-1st Degree',\n",
       "       'Theft-Bicycle-2nd Degree', 'Theft-Vehicle Parts-2nd Degree',\n",
       "       'Robbery-Residence-Gun-1st Degree',\n",
       "       'Theft-From Banking Institution-3rd Degree',\n",
       "       'Sodomy-With A Man-Strong Arm-1st Degree',\n",
       "       'Child Abuse-Aggravated-Family-2nd Degree',\n",
       "       'Domestic Violence 1st Degree',\n",
       "       'Robbery-Business-Knife-1st Degree',\n",
       "       'Sodomy-With A Woman Strong Arm-1st Degree',\n",
       "       'Burglary-Residence-No Force-1st Degree',\n",
       "       'Burglary-Bank Type Business-No Force-3rd Degree',\n",
       "       'Aggravated Assault Police Officer-Other Weapon-2nd Degree',\n",
       "       'Sodomy - 1st Degree', 'Robbery-Street-Gun-2nd Degree',\n",
       "       'Shoplifting-2nd Degree', 'Robbery-Business-Strong Arm-1st Degree',\n",
       "       'Robbery-Business-Gun-3rd Degree',\n",
       "       'Aggravated Assault Non-Family-Strong Arm-2nd Degree',\n",
       "       'Robbery-Residence-Gun-3rd Degree',\n",
       "       'Sodomy-With A Woman-Other Weapon-2nd Degree',\n",
       "       'Statutory Rape - 2nd Degree', 'Theft Of Auto',\n",
       "       'Aggravated Assault Family-Other Weapon-1st Degree',\n",
       "       'Theft-From Yards-2nd Degree', 'Shoplifting-1st Degree',\n",
       "       'Theft-From Shipment-1st Degree',\n",
       "       'Robbery-Business-Other Weapon-1st Degree',\n",
       "       'Robbery-Street-Other Weapon-2nd Degree',\n",
       "       'Auto Theft and Use for a Crime-1st Degree',\n",
       "       'Robbery-Business-Gun-2nd Degree', 'Theft-Truck-1st Degree',\n",
       "       'Rape-With A Gun-1st Degree', 'Sodomy-With A Woman-Gun-1st Degree',\n",
       "       'Burglary-Bank Type Business-Force-3rd Degree',\n",
       "       'Robbery-Business-Strong Arm-3rd Degree',\n",
       "       'Aggravated Assault Family-Strong Arm-1st Degree',\n",
       "       'Child Abuse-Aggravated-Family', 'Auto Theft and Sale-1st Degree',\n",
       "       'Robbery-Residence-Other Weapon-1st Degree',\n",
       "       'Aggravated Assault Non-Family-Strong Arm-1st Degree',\n",
       "       'Aggravated Assault Family-Other Weapon',\n",
       "       'Sodomy-With A Girl-Knife-2nd Degree',\n",
       "       'Rape-With A Knife-2nd Degree',\n",
       "       'Rape-Domestic Violence-1st Degree',\n",
       "       'Robbery-Business-Strong Arm-2nd Degree',\n",
       "       'Sodomy-With A Woman-Other Weapon-1st Degree',\n",
       "       'Aggravated Assault Family-Knife-1st Degree',\n",
       "       'Auto Theft and Strip-1st Degree',\n",
       "       'Sodomy-With A Girl-Other Weapon-1st Degree',\n",
       "       'Robbery-Residence-Other Weapon-3rd Degree',\n",
       "       'Robbery-Residence-Knife-1st Degree',\n",
       "       'Sodomy-With A Woman-Domestic Violence-1st Degree'], dtype=object)"
      ]
     },
     "execution_count": 17,
     "metadata": {},
     "output_type": "execute_result"
    }
   ],
   "source": [
    "birm_crime_df['Case Offense Statute Description'].unique()"
   ]
  },
  {
   "cell_type": "markdown",
   "metadata": {},
   "source": [
    "i want to identify all the distinct values present in the birm_crime_df "
   ]
  },
  {
   "cell_type": "code",
   "execution_count": 18,
   "metadata": {},
   "outputs": [
    {
     "data": {
      "text/plain": [
       "0    11.0\n",
       "1    11.0\n",
       "2     NaN\n",
       "3    11.0\n",
       "4    11.0\n",
       "Name: Month Occured, dtype: float64"
      ]
     },
     "execution_count": 18,
     "metadata": {},
     "output_type": "execute_result"
    }
   ],
   "source": [
    "birm_crime_df['Month Occured'] = birm_crime_df['Case Occurred From Date'].dt.month\n",
    "birm_crime_df['Month Occured'].head()"
   ]
  },
  {
   "cell_type": "markdown",
   "metadata": {},
   "source": [
    "i am Extracting the month number and creating 'Month Occured' column, and making it into a month row."
   ]
  },
  {
   "cell_type": "code",
   "execution_count": 19,
   "metadata": {},
   "outputs": [
    {
     "data": {
      "text/html": [
       "<div>\n",
       "<style scoped>\n",
       "    .dataframe tbody tr th:only-of-type {\n",
       "        vertical-align: middle;\n",
       "    }\n",
       "\n",
       "    .dataframe tbody tr th {\n",
       "        vertical-align: top;\n",
       "    }\n",
       "\n",
       "    .dataframe thead th {\n",
       "        text-align: right;\n",
       "    }\n",
       "</style>\n",
       "<table border=\"1\" class=\"dataframe\">\n",
       "  <thead>\n",
       "    <tr style=\"text-align: right;\">\n",
       "      <th></th>\n",
       "      <th>Block</th>\n",
       "      <th>Street</th>\n",
       "      <th>Case Address Latitude</th>\n",
       "      <th>Case Address Longitude</th>\n",
       "      <th>Case Address Zip</th>\n",
       "      <th>Case Occurred From Date</th>\n",
       "      <th>Case Offense Statute Description</th>\n",
       "      <th>Reporting District</th>\n",
       "      <th>Case Offense Statute</th>\n",
       "      <th>Case ORI</th>\n",
       "      <th>Month Occured</th>\n",
       "    </tr>\n",
       "  </thead>\n",
       "  <tbody>\n",
       "    <tr>\n",
       "      <th>6266</th>\n",
       "      <td>1500.0</td>\n",
       "      <td>ARTHUR SHORES DR</td>\n",
       "      <td>33.471651</td>\n",
       "      <td>-86.854865</td>\n",
       "      <td>35211.0</td>\n",
       "      <td>2023-01-01 02:25:00</td>\n",
       "      <td>Aggravated Assault Family-Gun-1st Degree</td>\n",
       "      <td>W422</td>\n",
       "      <td>NaN</td>\n",
       "      <td>NaN</td>\n",
       "      <td>1.0</td>\n",
       "    </tr>\n",
       "    <tr>\n",
       "      <th>6267</th>\n",
       "      <td>1300.0</td>\n",
       "      <td>JERSEY ST</td>\n",
       "      <td>33.498782</td>\n",
       "      <td>-86.924066</td>\n",
       "      <td>35224.0</td>\n",
       "      <td>2023-01-01 00:10:00</td>\n",
       "      <td>Disch Firearm into Occupied Bldg/Veh</td>\n",
       "      <td>W437</td>\n",
       "      <td>NaN</td>\n",
       "      <td>NaN</td>\n",
       "      <td>1.0</td>\n",
       "    </tr>\n",
       "    <tr>\n",
       "      <th>6268</th>\n",
       "      <td>1600.0</td>\n",
       "      <td>BOISE AVE</td>\n",
       "      <td>33.482842</td>\n",
       "      <td>-86.856379</td>\n",
       "      <td>35211.0</td>\n",
       "      <td>2023-01-01 00:01:00</td>\n",
       "      <td>Disch Firearm into Occupied Bldg/Veh</td>\n",
       "      <td>W424</td>\n",
       "      <td>NaN</td>\n",
       "      <td>NaN</td>\n",
       "      <td>1.0</td>\n",
       "    </tr>\n",
       "  </tbody>\n",
       "</table>\n",
       "</div>"
      ],
      "text/plain": [
       "       Block             Street  Case Address Latitude  \\\n",
       "6266  1500.0  ARTHUR SHORES DR               33.471651   \n",
       "6267  1300.0          JERSEY ST              33.498782   \n",
       "6268  1600.0         BOISE AVE               33.482842   \n",
       "\n",
       "      Case Address Longitude  Case Address Zip Case Occurred From Date  \\\n",
       "6266              -86.854865           35211.0     2023-01-01 02:25:00   \n",
       "6267              -86.924066           35224.0     2023-01-01 00:10:00   \n",
       "6268              -86.856379           35211.0     2023-01-01 00:01:00   \n",
       "\n",
       "              Case Offense Statute Description Reporting District  \\\n",
       "6266  Aggravated Assault Family-Gun-1st Degree               W422   \n",
       "6267      Disch Firearm into Occupied Bldg/Veh               W437   \n",
       "6268      Disch Firearm into Occupied Bldg/Veh               W424   \n",
       "\n",
       "     Case Offense Statute Case ORI  Month Occured  \n",
       "6266                  NaN      NaN            1.0  \n",
       "6267                  NaN      NaN            1.0  \n",
       "6268                  NaN      NaN            1.0  "
      ]
     },
     "execution_count": 19,
     "metadata": {},
     "output_type": "execute_result"
    }
   ],
   "source": [
    "birm_crime_df.tail(3)"
   ]
  },
  {
   "cell_type": "code",
   "execution_count": 20,
   "metadata": {},
   "outputs": [
    {
     "data": {
      "text/plain": [
       "dtype('float64')"
      ]
     },
     "execution_count": 20,
     "metadata": {},
     "output_type": "execute_result"
    }
   ],
   "source": [
    "birm_crime_df['Case Address Zip'].dtype"
   ]
  },
  {
   "cell_type": "markdown",
   "metadata": {},
   "source": [
    "I am trying to figure out the attribute of the ['Case Address Zip'] data type, it is if a float or integer as you would observe the I will convert it to integer in the next cell"
   ]
  },
  {
   "cell_type": "code",
   "execution_count": 21,
   "metadata": {},
   "outputs": [],
   "source": [
    "birm_crime_df = birm_crime_df.dropna(subset=['Case Address Zip'])\n",
    "birm_crime_df['Case Address Zip'] = birm_crime_df['Case Address Zip'].astype(int)"
   ]
  },
  {
   "cell_type": "markdown",
   "metadata": {},
   "source": [
    "Here, i convert ['Case Address Zip'] to integer using .astype and cleaned zipcode column. The rows has the \"35211.0\t\", the \"0\" at the end of each zip code is cleaned and can look like a normal AL zipcode"
   ]
  },
  {
   "cell_type": "code",
   "execution_count": 22,
   "metadata": {},
   "outputs": [
    {
     "data": {
      "text/plain": [
       "0       35203\n",
       "1       35207\n",
       "2       35203\n",
       "3       35207\n",
       "5       35203\n",
       "        ...  \n",
       "6264    35211\n",
       "6265    35211\n",
       "6266    35211\n",
       "6267    35224\n",
       "6268    35211\n",
       "Name: Case Address Zip, Length: 6055, dtype: int64"
      ]
     },
     "execution_count": 22,
     "metadata": {},
     "output_type": "execute_result"
    }
   ],
   "source": [
    "birm_crime_df['Case Address Zip'] = birm_crime_df['Case Address Zip'].fillna(0).astype(int)\n",
    "birm_crime_df['Case Address Zip']"
   ]
  },
  {
   "cell_type": "markdown",
   "metadata": {},
   "source": [
    "filling any empty row as NA"
   ]
  },
  {
   "cell_type": "code",
   "execution_count": 23,
   "metadata": {},
   "outputs": [
    {
     "data": {
      "text/html": [
       "<div>\n",
       "<style scoped>\n",
       "    .dataframe tbody tr th:only-of-type {\n",
       "        vertical-align: middle;\n",
       "    }\n",
       "\n",
       "    .dataframe tbody tr th {\n",
       "        vertical-align: top;\n",
       "    }\n",
       "\n",
       "    .dataframe thead th {\n",
       "        text-align: right;\n",
       "    }\n",
       "</style>\n",
       "<table border=\"1\" class=\"dataframe\">\n",
       "  <thead>\n",
       "    <tr style=\"text-align: right;\">\n",
       "      <th></th>\n",
       "      <th>Block</th>\n",
       "      <th>Street</th>\n",
       "      <th>Case Address Latitude</th>\n",
       "      <th>Case Address Longitude</th>\n",
       "      <th>Case Address Zip</th>\n",
       "      <th>Case Occurred From Date</th>\n",
       "      <th>Case Offense Statute Description</th>\n",
       "      <th>Reporting District</th>\n",
       "      <th>Case Offense Statute</th>\n",
       "      <th>Case ORI</th>\n",
       "      <th>Month Occured</th>\n",
       "    </tr>\n",
       "  </thead>\n",
       "  <tbody>\n",
       "    <tr>\n",
       "      <th>0</th>\n",
       "      <td>NaN</td>\n",
       "      <td>19TH ST N</td>\n",
       "      <td>33.518551</td>\n",
       "      <td>-86.811302</td>\n",
       "      <td>35203</td>\n",
       "      <td>2023-11-30 12:00:00</td>\n",
       "      <td>Theft-From Public Building-1st Degree</td>\n",
       "      <td>N122</td>\n",
       "      <td>NaN</td>\n",
       "      <td>NaN</td>\n",
       "      <td>11.0</td>\n",
       "    </tr>\n",
       "    <tr>\n",
       "      <th>1</th>\n",
       "      <td>NaN</td>\n",
       "      <td>26TH ST N</td>\n",
       "      <td>33.553396</td>\n",
       "      <td>-86.818906</td>\n",
       "      <td>35207</td>\n",
       "      <td>2023-11-30 11:45:00</td>\n",
       "      <td>Larceny/Theft-Shoplifting, less than $500</td>\n",
       "      <td>N131</td>\n",
       "      <td>NaN</td>\n",
       "      <td>NaN</td>\n",
       "      <td>11.0</td>\n",
       "    </tr>\n",
       "    <tr>\n",
       "      <th>2</th>\n",
       "      <td>NaN</td>\n",
       "      <td>17TH ST N</td>\n",
       "      <td>33.512548</td>\n",
       "      <td>-86.810036</td>\n",
       "      <td>35203</td>\n",
       "      <td>NaT</td>\n",
       "      <td>Theft of Property Auto Theft 1st</td>\n",
       "      <td>N122</td>\n",
       "      <td>NaN</td>\n",
       "      <td>NaN</td>\n",
       "      <td>NaN</td>\n",
       "    </tr>\n",
       "    <tr>\n",
       "      <th>3</th>\n",
       "      <td>NaN</td>\n",
       "      <td>31ST AVE N</td>\n",
       "      <td>33.553181</td>\n",
       "      <td>-86.817887</td>\n",
       "      <td>35207</td>\n",
       "      <td>2023-11-29 18:30:00</td>\n",
       "      <td>Theft by deception</td>\n",
       "      <td>N131</td>\n",
       "      <td>NaN</td>\n",
       "      <td>NaN</td>\n",
       "      <td>11.0</td>\n",
       "    </tr>\n",
       "  </tbody>\n",
       "</table>\n",
       "</div>"
      ],
      "text/plain": [
       "   Block       Street  Case Address Latitude  Case Address Longitude  \\\n",
       "0    NaN   19TH ST N               33.518551              -86.811302   \n",
       "1    NaN   26TH ST N               33.553396              -86.818906   \n",
       "2    NaN   17TH ST N               33.512548              -86.810036   \n",
       "3    NaN  31ST AVE N               33.553181              -86.817887   \n",
       "\n",
       "   Case Address Zip Case Occurred From Date  \\\n",
       "0             35203     2023-11-30 12:00:00   \n",
       "1             35207     2023-11-30 11:45:00   \n",
       "2             35203                     NaT   \n",
       "3             35207     2023-11-29 18:30:00   \n",
       "\n",
       "            Case Offense Statute Description Reporting District  \\\n",
       "0      Theft-From Public Building-1st Degree               N122   \n",
       "1  Larceny/Theft-Shoplifting, less than $500               N131   \n",
       "2          Theft of Property Auto Theft 1st                N122   \n",
       "3                         Theft by deception               N131   \n",
       "\n",
       "  Case Offense Statute Case ORI  Month Occured  \n",
       "0                  NaN      NaN           11.0  \n",
       "1                  NaN      NaN           11.0  \n",
       "2                  NaN      NaN            NaN  \n",
       "3                  NaN      NaN           11.0  "
      ]
     },
     "execution_count": 23,
     "metadata": {},
     "output_type": "execute_result"
    }
   ],
   "source": [
    "birm_crime_df.head(4)"
   ]
  },
  {
   "cell_type": "markdown",
   "metadata": {},
   "source": [
    "The \"Case Address Zip\" all look cleaned now. "
   ]
  },
  {
   "cell_type": "code",
   "execution_count": 24,
   "metadata": {},
   "outputs": [
    {
     "data": {
      "text/plain": [
       "Case Address Zip  Case Offense Statute Description                 \n",
       "35020             Theft of Property Auto Theft 1st                     11\n",
       "                  Disch Firearm into Occupied Bldg/Veh                  4\n",
       "                  Larceny/Theft-TOP 2 $500-less than $1500              2\n",
       "                  Burglary-Residence-No Force-3rd Degree                2\n",
       "                  Burglary (Residence) Force 3rd Degree                 2\n",
       "                                                                       ..\n",
       "35235             Robbery-Business-Gun-3rd Degree                       1\n",
       "35242             Aggravated Assault Family-Other Weapon-2nd Degree     1\n",
       "35294             Aggravated Assault Family-Gun-1st Degree              1\n",
       "                  Aggravated Assault Non-Family-Gun-2nd Degree          1\n",
       "                  Sodomy-With A Woman-Other Weapon-2nd Degree           1\n",
       "Name: count, Length: 948, dtype: int64"
      ]
     },
     "execution_count": 24,
     "metadata": {},
     "output_type": "execute_result"
    }
   ],
   "source": [
    "num_offense_per_zip=birm_crime_df.groupby('Case Address Zip')['Case Offense Statute Description'].value_counts()\n",
    "num_offense_per_zip"
   ]
  },
  {
   "cell_type": "markdown",
   "metadata": {},
   "source": [
    "I analyze the df, specifically focusing on the frequency of different types of crimes based on their statute descriptions and grouping these frequencies by zip codes where the crimes occurred"
   ]
  },
  {
   "cell_type": "code",
   "execution_count": 25,
   "metadata": {},
   "outputs": [
    {
     "data": {
      "text/plain": [
       "<bound method NDFrame.head of Case Address Zip\n",
       "35204    780\n",
       "35206    640\n",
       "35211    609\n",
       "35203    591\n",
       "35208    556\n",
       "35215    484\n",
       "35207    420\n",
       "35212    331\n",
       "35234    269\n",
       "35218    254\n",
       "35214    218\n",
       "35210    202\n",
       "35217    147\n",
       "35235    136\n",
       "35228     87\n",
       "Name: Case Offense Statute Description, dtype: int64>"
      ]
     },
     "execution_count": 25,
     "metadata": {},
     "output_type": "execute_result"
    }
   ],
   "source": [
    "total_offenses_per_zip = birm_crime_df.groupby('Case Address Zip')['Case Offense Statute Description'].count().sort_values(ascending=False).head(15)\n",
    "total_offenses_per_zip.head"
   ]
  },
  {
   "cell_type": "markdown",
   "metadata": {},
   "source": [
    "I am performing a data aggregation and sorting operations on a df. For each group (ZIP code), the .count() method is applied to the 'Case Offense Statute Description' column to count the number of offenses recorded in each ZIP code. I now sort resulting Series from the count operation in descending order using the .sort_values() method with the ascending=False parameter. "
   ]
  },
  {
   "cell_type": "code",
   "execution_count": 26,
   "metadata": {},
   "outputs": [
    {
     "data": {
      "image/png": "[encoded data removed]",
      "text/plain": [
       "<Figure size 1000x600 with 1 Axes>"
      ]
     },
     "metadata": {},
     "output_type": "display_data"
    }
   ],
   "source": [
    "total_offenses_per_zip.plot(kind='bar', figsize=(10, 6))\n",
    "plt.title('Total Offenses per Zip Code')\n",
    "plt.xlabel('Zip Code')\n",
    "plt.ylabel('Number of Offenses')\n",
    "plt.xticks(rotation=45)\n",
    "plt.savefig('Total Offenses per Zip Code.png', bbox_inches='tight')\n",
    "plt.show()"
   ]
  },
  {
   "cell_type": "markdown",
   "metadata": {},
   "source": [
    "I am displaying the plot of my code here. The plot here displays that 35204 has the highest number of crime and 35228 the lowest in Birmingham. "
   ]
  },
  {
   "cell_type": "code",
   "execution_count": 27,
   "metadata": {},
   "outputs": [
    {
     "data": {
      "text/html": [
       "<div>\n",
       "<style scoped>\n",
       "    .dataframe tbody tr th:only-of-type {\n",
       "        vertical-align: middle;\n",
       "    }\n",
       "\n",
       "    .dataframe tbody tr th {\n",
       "        vertical-align: top;\n",
       "    }\n",
       "\n",
       "    .dataframe thead th {\n",
       "        text-align: right;\n",
       "    }\n",
       "</style>\n",
       "<table border=\"1\" class=\"dataframe\">\n",
       "  <thead>\n",
       "    <tr style=\"text-align: right;\">\n",
       "      <th></th>\n",
       "      <th>Case Address Zip</th>\n",
       "      <th>Case Offense Statute Description</th>\n",
       "      <th>Counts</th>\n",
       "    </tr>\n",
       "  </thead>\n",
       "  <tbody>\n",
       "    <tr>\n",
       "      <th>0</th>\n",
       "      <td>35020</td>\n",
       "      <td>Theft of Property Auto Theft 1st</td>\n",
       "      <td>11</td>\n",
       "    </tr>\n",
       "    <tr>\n",
       "      <th>1</th>\n",
       "      <td>35020</td>\n",
       "      <td>Disch Firearm into Occupied Bldg/Veh</td>\n",
       "      <td>4</td>\n",
       "    </tr>\n",
       "    <tr>\n",
       "      <th>2</th>\n",
       "      <td>35020</td>\n",
       "      <td>Larceny/Theft-TOP 2 $500-less than $1500</td>\n",
       "      <td>2</td>\n",
       "    </tr>\n",
       "    <tr>\n",
       "      <th>3</th>\n",
       "      <td>35020</td>\n",
       "      <td>Burglary-Residence-No Force-3rd Degree</td>\n",
       "      <td>2</td>\n",
       "    </tr>\n",
       "    <tr>\n",
       "      <th>4</th>\n",
       "      <td>35020</td>\n",
       "      <td>Burglary (Residence) Force 3rd Degree</td>\n",
       "      <td>2</td>\n",
       "    </tr>\n",
       "    <tr>\n",
       "      <th>5</th>\n",
       "      <td>35020</td>\n",
       "      <td>Aggravated Assault Family-Gun-1st Degree</td>\n",
       "      <td>1</td>\n",
       "    </tr>\n",
       "    <tr>\n",
       "      <th>6</th>\n",
       "      <td>35020</td>\n",
       "      <td>Theft from Residence 4th Degree</td>\n",
       "      <td>1</td>\n",
       "    </tr>\n",
       "    <tr>\n",
       "      <th>7</th>\n",
       "      <td>35020</td>\n",
       "      <td>Theft - TOP 2nd Degree</td>\n",
       "      <td>1</td>\n",
       "    </tr>\n",
       "    <tr>\n",
       "      <th>8</th>\n",
       "      <td>35020</td>\n",
       "      <td>Miscellaneous Theft-2nd Degree</td>\n",
       "      <td>1</td>\n",
       "    </tr>\n",
       "    <tr>\n",
       "      <th>9</th>\n",
       "      <td>35020</td>\n",
       "      <td>Burglary (Residence) Force 2nd Degree</td>\n",
       "      <td>1</td>\n",
       "    </tr>\n",
       "    <tr>\n",
       "      <th>10</th>\n",
       "      <td>35020</td>\n",
       "      <td>Aggravated Assault Non-Family-Gun-2nd Degree</td>\n",
       "      <td>1</td>\n",
       "    </tr>\n",
       "    <tr>\n",
       "      <th>11</th>\n",
       "      <td>35020</td>\n",
       "      <td>Aggravated Assault Family-Knife-2nd Degree</td>\n",
       "      <td>1</td>\n",
       "    </tr>\n",
       "    <tr>\n",
       "      <th>12</th>\n",
       "      <td>35060</td>\n",
       "      <td>Burglary-Non-Residence-No Force-3rd Degree</td>\n",
       "      <td>2</td>\n",
       "    </tr>\n",
       "    <tr>\n",
       "      <th>13</th>\n",
       "      <td>35061</td>\n",
       "      <td>Theft of Property Auto Theft 1st</td>\n",
       "      <td>5</td>\n",
       "    </tr>\n",
       "    <tr>\n",
       "      <th>14</th>\n",
       "      <td>35061</td>\n",
       "      <td>Theft-Bicycle-3rd Degree</td>\n",
       "      <td>2</td>\n",
       "    </tr>\n",
       "    <tr>\n",
       "      <th>15</th>\n",
       "      <td>35061</td>\n",
       "      <td>Theft - TOP 2nd Degree</td>\n",
       "      <td>2</td>\n",
       "    </tr>\n",
       "    <tr>\n",
       "      <th>16</th>\n",
       "      <td>35061</td>\n",
       "      <td>Burglary-Residence-No Force-3rd Degree</td>\n",
       "      <td>1</td>\n",
       "    </tr>\n",
       "    <tr>\n",
       "      <th>17</th>\n",
       "      <td>35061</td>\n",
       "      <td>Burglary (Residence) Force 3rd Degree</td>\n",
       "      <td>1</td>\n",
       "    </tr>\n",
       "    <tr>\n",
       "      <th>18</th>\n",
       "      <td>35061</td>\n",
       "      <td>Aggravated Assault Non-Family-Knife-2nd Degree</td>\n",
       "      <td>1</td>\n",
       "    </tr>\n",
       "    <tr>\n",
       "      <th>19</th>\n",
       "      <td>35064</td>\n",
       "      <td>Theft by deception</td>\n",
       "      <td>1</td>\n",
       "    </tr>\n",
       "  </tbody>\n",
       "</table>\n",
       "</div>"
      ],
      "text/plain": [
       "    Case Address Zip                Case Offense Statute Description  Counts\n",
       "0              35020               Theft of Property Auto Theft 1st       11\n",
       "1              35020            Disch Firearm into Occupied Bldg/Veh       4\n",
       "2              35020        Larceny/Theft-TOP 2 $500-less than $1500       2\n",
       "3              35020          Burglary-Residence-No Force-3rd Degree       2\n",
       "4              35020           Burglary (Residence) Force 3rd Degree       2\n",
       "5              35020        Aggravated Assault Family-Gun-1st Degree       1\n",
       "6              35020                 Theft from Residence 4th Degree       1\n",
       "7              35020                          Theft - TOP 2nd Degree       1\n",
       "8              35020                  Miscellaneous Theft-2nd Degree       1\n",
       "9              35020           Burglary (Residence) Force 2nd Degree       1\n",
       "10             35020    Aggravated Assault Non-Family-Gun-2nd Degree       1\n",
       "11             35020      Aggravated Assault Family-Knife-2nd Degree       1\n",
       "12             35060      Burglary-Non-Residence-No Force-3rd Degree       2\n",
       "13             35061               Theft of Property Auto Theft 1st        5\n",
       "14             35061                        Theft-Bicycle-3rd Degree       2\n",
       "15             35061                          Theft - TOP 2nd Degree       2\n",
       "16             35061          Burglary-Residence-No Force-3rd Degree       1\n",
       "17             35061           Burglary (Residence) Force 3rd Degree       1\n",
       "18             35061  Aggravated Assault Non-Family-Knife-2nd Degree       1\n",
       "19             35064                              Theft by deception       1"
      ]
     },
     "execution_count": 27,
     "metadata": {},
     "output_type": "execute_result"
    }
   ],
   "source": [
    "num_offense_per_zip_df = num_offense_per_zip.reset_index(name='Counts').head(20)\n",
    "num_offense_per_zip_df"
   ]
  },
  {
   "cell_type": "code",
   "execution_count": 28,
   "metadata": {},
   "outputs": [
    {
     "data": {
      "text/html": [
       "<div>\n",
       "<style scoped>\n",
       "    .dataframe tbody tr th:only-of-type {\n",
       "        vertical-align: middle;\n",
       "    }\n",
       "\n",
       "    .dataframe tbody tr th {\n",
       "        vertical-align: top;\n",
       "    }\n",
       "\n",
       "    .dataframe thead th {\n",
       "        text-align: right;\n",
       "    }\n",
       "</style>\n",
       "<table border=\"1\" class=\"dataframe\">\n",
       "  <thead>\n",
       "    <tr style=\"text-align: right;\">\n",
       "      <th></th>\n",
       "      <th>Block</th>\n",
       "      <th>Street</th>\n",
       "      <th>Case Address Latitude</th>\n",
       "      <th>Case Address Longitude</th>\n",
       "      <th>Case Address Zip</th>\n",
       "      <th>Case Occurred From Date</th>\n",
       "      <th>Case Offense Statute Description</th>\n",
       "      <th>Reporting District</th>\n",
       "      <th>Case Offense Statute</th>\n",
       "      <th>Case ORI</th>\n",
       "      <th>Month Occured</th>\n",
       "      <th>geometry</th>\n",
       "    </tr>\n",
       "  </thead>\n",
       "  <tbody>\n",
       "    <tr>\n",
       "      <th>0</th>\n",
       "      <td>NaN</td>\n",
       "      <td>19TH ST N</td>\n",
       "      <td>33.518551</td>\n",
       "      <td>-86.811302</td>\n",
       "      <td>35203</td>\n",
       "      <td>2023-11-30 12:00:00</td>\n",
       "      <td>Theft-From Public Building-1st Degree</td>\n",
       "      <td>N122</td>\n",
       "      <td>NaN</td>\n",
       "      <td>NaN</td>\n",
       "      <td>11.0</td>\n",
       "      <td>POINT (-86.81130 33.51855)</td>\n",
       "    </tr>\n",
       "    <tr>\n",
       "      <th>1</th>\n",
       "      <td>NaN</td>\n",
       "      <td>26TH ST N</td>\n",
       "      <td>33.553396</td>\n",
       "      <td>-86.818906</td>\n",
       "      <td>35207</td>\n",
       "      <td>2023-11-30 11:45:00</td>\n",
       "      <td>Larceny/Theft-Shoplifting, less than $500</td>\n",
       "      <td>N131</td>\n",
       "      <td>NaN</td>\n",
       "      <td>NaN</td>\n",
       "      <td>11.0</td>\n",
       "      <td>POINT (-86.81891 33.55340)</td>\n",
       "    </tr>\n",
       "    <tr>\n",
       "      <th>2</th>\n",
       "      <td>NaN</td>\n",
       "      <td>17TH ST N</td>\n",
       "      <td>33.512548</td>\n",
       "      <td>-86.810036</td>\n",
       "      <td>35203</td>\n",
       "      <td>NaT</td>\n",
       "      <td>Theft of Property Auto Theft 1st</td>\n",
       "      <td>N122</td>\n",
       "      <td>NaN</td>\n",
       "      <td>NaN</td>\n",
       "      <td>NaN</td>\n",
       "      <td>POINT (-86.81004 33.51255)</td>\n",
       "    </tr>\n",
       "    <tr>\n",
       "      <th>3</th>\n",
       "      <td>NaN</td>\n",
       "      <td>31ST AVE N</td>\n",
       "      <td>33.553181</td>\n",
       "      <td>-86.817887</td>\n",
       "      <td>35207</td>\n",
       "      <td>2023-11-29 18:30:00</td>\n",
       "      <td>Theft by deception</td>\n",
       "      <td>N131</td>\n",
       "      <td>NaN</td>\n",
       "      <td>NaN</td>\n",
       "      <td>11.0</td>\n",
       "      <td>POINT (-86.81789 33.55318)</td>\n",
       "    </tr>\n",
       "    <tr>\n",
       "      <th>5</th>\n",
       "      <td>NaN</td>\n",
       "      <td>28TH ST N</td>\n",
       "      <td>33.523155</td>\n",
       "      <td>-86.797087</td>\n",
       "      <td>35203</td>\n",
       "      <td>2023-11-29 12:32:00</td>\n",
       "      <td>Theft by deception</td>\n",
       "      <td>N120</td>\n",
       "      <td>NaN</td>\n",
       "      <td>NaN</td>\n",
       "      <td>11.0</td>\n",
       "      <td>POINT (-86.79709 33.52315)</td>\n",
       "    </tr>\n",
       "    <tr>\n",
       "      <th>...</th>\n",
       "      <td>...</td>\n",
       "      <td>...</td>\n",
       "      <td>...</td>\n",
       "      <td>...</td>\n",
       "      <td>...</td>\n",
       "      <td>...</td>\n",
       "      <td>...</td>\n",
       "      <td>...</td>\n",
       "      <td>...</td>\n",
       "      <td>...</td>\n",
       "      <td>...</td>\n",
       "      <td>...</td>\n",
       "    </tr>\n",
       "    <tr>\n",
       "      <th>6264</th>\n",
       "      <td>1700.0</td>\n",
       "      <td>PEARSON AVE</td>\n",
       "      <td>33.485909</td>\n",
       "      <td>-86.863144</td>\n",
       "      <td>35211</td>\n",
       "      <td>2023-01-01 03:00:00</td>\n",
       "      <td>Domestic Strangulation or Suffocation</td>\n",
       "      <td>W427</td>\n",
       "      <td>NaN</td>\n",
       "      <td>NaN</td>\n",
       "      <td>1.0</td>\n",
       "      <td>POINT (-86.86314 33.48591)</td>\n",
       "    </tr>\n",
       "    <tr>\n",
       "      <th>6265</th>\n",
       "      <td>1700.0</td>\n",
       "      <td>PEARSON AVE</td>\n",
       "      <td>33.485909</td>\n",
       "      <td>-86.863144</td>\n",
       "      <td>35211</td>\n",
       "      <td>2023-01-01 03:00:00</td>\n",
       "      <td>Sodomy-With A Woman-Domestic Violence-1st Degree</td>\n",
       "      <td>W427</td>\n",
       "      <td>NaN</td>\n",
       "      <td>NaN</td>\n",
       "      <td>1.0</td>\n",
       "      <td>POINT (-86.86314 33.48591)</td>\n",
       "    </tr>\n",
       "    <tr>\n",
       "      <th>6266</th>\n",
       "      <td>1500.0</td>\n",
       "      <td>ARTHUR SHORES DR</td>\n",
       "      <td>33.471651</td>\n",
       "      <td>-86.854865</td>\n",
       "      <td>35211</td>\n",
       "      <td>2023-01-01 02:25:00</td>\n",
       "      <td>Aggravated Assault Family-Gun-1st Degree</td>\n",
       "      <td>W422</td>\n",
       "      <td>NaN</td>\n",
       "      <td>NaN</td>\n",
       "      <td>1.0</td>\n",
       "      <td>POINT (-86.85486 33.47165)</td>\n",
       "    </tr>\n",
       "    <tr>\n",
       "      <th>6267</th>\n",
       "      <td>1300.0</td>\n",
       "      <td>JERSEY ST</td>\n",
       "      <td>33.498782</td>\n",
       "      <td>-86.924066</td>\n",
       "      <td>35224</td>\n",
       "      <td>2023-01-01 00:10:00</td>\n",
       "      <td>Disch Firearm into Occupied Bldg/Veh</td>\n",
       "      <td>W437</td>\n",
       "      <td>NaN</td>\n",
       "      <td>NaN</td>\n",
       "      <td>1.0</td>\n",
       "      <td>POINT (-86.92407 33.49878)</td>\n",
       "    </tr>\n",
       "    <tr>\n",
       "      <th>6268</th>\n",
       "      <td>1600.0</td>\n",
       "      <td>BOISE AVE</td>\n",
       "      <td>33.482842</td>\n",
       "      <td>-86.856379</td>\n",
       "      <td>35211</td>\n",
       "      <td>2023-01-01 00:01:00</td>\n",
       "      <td>Disch Firearm into Occupied Bldg/Veh</td>\n",
       "      <td>W424</td>\n",
       "      <td>NaN</td>\n",
       "      <td>NaN</td>\n",
       "      <td>1.0</td>\n",
       "      <td>POINT (-86.85638 33.48284)</td>\n",
       "    </tr>\n",
       "  </tbody>\n",
       "</table>\n",
       "<p>6055 rows × 12 columns</p>\n",
       "</div>"
      ],
      "text/plain": [
       "       Block             Street  Case Address Latitude  \\\n",
       "0        NaN         19TH ST N               33.518551   \n",
       "1        NaN         26TH ST N               33.553396   \n",
       "2        NaN         17TH ST N               33.512548   \n",
       "3        NaN        31ST AVE N               33.553181   \n",
       "5        NaN         28TH ST N               33.523155   \n",
       "...      ...                ...                    ...   \n",
       "6264  1700.0       PEARSON AVE               33.485909   \n",
       "6265  1700.0       PEARSON AVE               33.485909   \n",
       "6266  1500.0  ARTHUR SHORES DR               33.471651   \n",
       "6267  1300.0          JERSEY ST              33.498782   \n",
       "6268  1600.0         BOISE AVE               33.482842   \n",
       "\n",
       "      Case Address Longitude  Case Address Zip Case Occurred From Date  \\\n",
       "0                 -86.811302             35203     2023-11-30 12:00:00   \n",
       "1                 -86.818906             35207     2023-11-30 11:45:00   \n",
       "2                 -86.810036             35203                     NaT   \n",
       "3                 -86.817887             35207     2023-11-29 18:30:00   \n",
       "5                 -86.797087             35203     2023-11-29 12:32:00   \n",
       "...                      ...               ...                     ...   \n",
       "6264              -86.863144             35211     2023-01-01 03:00:00   \n",
       "6265              -86.863144             35211     2023-01-01 03:00:00   \n",
       "6266              -86.854865             35211     2023-01-01 02:25:00   \n",
       "6267              -86.924066             35224     2023-01-01 00:10:00   \n",
       "6268              -86.856379             35211     2023-01-01 00:01:00   \n",
       "\n",
       "                      Case Offense Statute Description Reporting District  \\\n",
       "0                Theft-From Public Building-1st Degree               N122   \n",
       "1            Larceny/Theft-Shoplifting, less than $500               N131   \n",
       "2                    Theft of Property Auto Theft 1st                N122   \n",
       "3                                   Theft by deception               N131   \n",
       "5                                   Theft by deception               N120   \n",
       "...                                                ...                ...   \n",
       "6264             Domestic Strangulation or Suffocation               W427   \n",
       "6265  Sodomy-With A Woman-Domestic Violence-1st Degree               W427   \n",
       "6266          Aggravated Assault Family-Gun-1st Degree               W422   \n",
       "6267              Disch Firearm into Occupied Bldg/Veh               W437   \n",
       "6268              Disch Firearm into Occupied Bldg/Veh               W424   \n",
       "\n",
       "     Case Offense Statute Case ORI  Month Occured                    geometry  \n",
       "0                     NaN      NaN           11.0  POINT (-86.81130 33.51855)  \n",
       "1                     NaN      NaN           11.0  POINT (-86.81891 33.55340)  \n",
       "2                     NaN      NaN            NaN  POINT (-86.81004 33.51255)  \n",
       "3                     NaN      NaN           11.0  POINT (-86.81789 33.55318)  \n",
       "5                     NaN      NaN           11.0  POINT (-86.79709 33.52315)  \n",
       "...                   ...      ...            ...                         ...  \n",
       "6264                  NaN      NaN            1.0  POINT (-86.86314 33.48591)  \n",
       "6265                  NaN      NaN            1.0  POINT (-86.86314 33.48591)  \n",
       "6266                  NaN      NaN            1.0  POINT (-86.85486 33.47165)  \n",
       "6267                  NaN      NaN            1.0  POINT (-86.92407 33.49878)  \n",
       "6268                  NaN      NaN            1.0  POINT (-86.85638 33.48284)  \n",
       "\n",
       "[6055 rows x 12 columns]"
      ]
     },
     "execution_count": 28,
     "metadata": {},
     "output_type": "execute_result"
    }
   ],
   "source": [
    "birm_crime_df_geo = gpd.GeoDataFrame(birm_crime_df, geometry=gpd.points_from_xy(birm_crime_df['Case Address Longitude'], birm_crime_df['Case Address Latitude']))\n",
    "birm_crime_df_geo"
   ]
  },
  {
   "cell_type": "markdown",
   "metadata": {},
   "source": [
    "I am using geopandas to convert long and lat to points"
   ]
  },
  {
   "cell_type": "code",
   "execution_count": 30,
   "metadata": {},
   "outputs": [
    {
     "data": {
      "text/plain": [
       "0       POINT (-86.81130 33.51855)\n",
       "1       POINT (-86.81891 33.55340)\n",
       "2       POINT (-86.81004 33.51255)\n",
       "3       POINT (-86.81789 33.55318)\n",
       "5       POINT (-86.79709 33.52315)\n",
       "                   ...            \n",
       "6264    POINT (-86.86314 33.48591)\n",
       "6265    POINT (-86.86314 33.48591)\n",
       "6266    POINT (-86.85486 33.47165)\n",
       "6267    POINT (-86.92407 33.49878)\n",
       "6268    POINT (-86.85638 33.48284)\n",
       "Name: geometry, Length: 6055, dtype: geometry"
      ]
     },
     "execution_count": 30,
     "metadata": {},
     "output_type": "execute_result"
    }
   ],
   "source": [
    "birm_crime_df_geo['geometry']"
   ]
  },
  {
   "cell_type": "code",
   "execution_count": 60,
   "metadata": {},
   "outputs": [
    {
     "data": {
      "text/plain": [
       "<Axes: >"
      ]
     },
     "execution_count": 60,
     "metadata": {},
     "output_type": "execute_result"
    },
    {
     "data": {
      "image/png": "[encoded data removed]",
      "text/plain": [
       "<Figure size 640x480 with 1 Axes>"
      ]
     },
     "metadata": {},
     "output_type": "display_data"
    }
   ],
   "source": [
    "birm_crime_df_geo.plot()"
   ]
  },
  {
   "cell_type": "markdown",
   "metadata": {},
   "source": [
    "i created this yesterday, not part of the original project that i did. Just messing with the code"
   ]
  },
  {
   "cell_type": "code",
   "execution_count": 32,
   "metadata": {},
   "outputs": [
    {
     "data": {
      "text/html": [
       "<div>\n",
       "<style scoped>\n",
       "    .dataframe tbody tr th:only-of-type {\n",
       "        vertical-align: middle;\n",
       "    }\n",
       "\n",
       "    .dataframe tbody tr th {\n",
       "        vertical-align: top;\n",
       "    }\n",
       "\n",
       "    .dataframe thead th {\n",
       "        text-align: right;\n",
       "    }\n",
       "</style>\n",
       "<table border=\"1\" class=\"dataframe\">\n",
       "  <thead>\n",
       "    <tr style=\"text-align: right;\">\n",
       "      <th></th>\n",
       "      <th>Case Address Zip</th>\n",
       "      <th>Case Offense Statute Description</th>\n",
       "      <th>geometry</th>\n",
       "    </tr>\n",
       "  </thead>\n",
       "  <tbody>\n",
       "    <tr>\n",
       "      <th>0</th>\n",
       "      <td>35203</td>\n",
       "      <td>Theft-From Public Building-1st Degree</td>\n",
       "      <td>POINT (-86.81130 33.51855)</td>\n",
       "    </tr>\n",
       "    <tr>\n",
       "      <th>1</th>\n",
       "      <td>35207</td>\n",
       "      <td>Larceny/Theft-Shoplifting, less than $500</td>\n",
       "      <td>POINT (-86.81891 33.55340)</td>\n",
       "    </tr>\n",
       "    <tr>\n",
       "      <th>2</th>\n",
       "      <td>35203</td>\n",
       "      <td>Theft of Property Auto Theft 1st</td>\n",
       "      <td>POINT (-86.81004 33.51255)</td>\n",
       "    </tr>\n",
       "    <tr>\n",
       "      <th>3</th>\n",
       "      <td>35207</td>\n",
       "      <td>Theft by deception</td>\n",
       "      <td>POINT (-86.81789 33.55318)</td>\n",
       "    </tr>\n",
       "    <tr>\n",
       "      <th>5</th>\n",
       "      <td>35203</td>\n",
       "      <td>Theft by deception</td>\n",
       "      <td>POINT (-86.79709 33.52315)</td>\n",
       "    </tr>\n",
       "  </tbody>\n",
       "</table>\n",
       "</div>"
      ],
      "text/plain": [
       "   Case Address Zip           Case Offense Statute Description  \\\n",
       "0             35203      Theft-From Public Building-1st Degree   \n",
       "1             35207  Larceny/Theft-Shoplifting, less than $500   \n",
       "2             35203          Theft of Property Auto Theft 1st    \n",
       "3             35207                         Theft by deception   \n",
       "5             35203                         Theft by deception   \n",
       "\n",
       "                     geometry  \n",
       "0  POINT (-86.81130 33.51855)  \n",
       "1  POINT (-86.81891 33.55340)  \n",
       "2  POINT (-86.81004 33.51255)  \n",
       "3  POINT (-86.81789 33.55318)  \n",
       "5  POINT (-86.79709 33.52315)  "
      ]
     },
     "execution_count": 32,
     "metadata": {},
     "output_type": "execute_result"
    }
   ],
   "source": [
    "birm_crime_df_geo = birm_crime_df_geo[['Case Address Zip', 'Case Offense Statute Description', 'geometry']]#use the double bracket to drop the column instead of the .drop, they do the same thing\n",
    "birm_crime_df_geo.head()"
   ]
  },
  {
   "cell_type": "code",
   "execution_count": 34,
   "metadata": {},
   "outputs": [
    {
     "data": {
      "text/plain": [
       "Case Address Zip\n",
       "35204    780\n",
       "35206    640\n",
       "35211    609\n",
       "35203    591\n",
       "35208    556\n",
       "35215    484\n",
       "35207    420\n",
       "35212    331\n",
       "35234    269\n",
       "35218    254\n",
       "35214    218\n",
       "35210    202\n",
       "35217    147\n",
       "35235    136\n",
       "35221     87\n",
       "35228     87\n",
       "35224     77\n",
       "35213     50\n",
       "35020     28\n",
       "35222     26\n",
       "35233     13\n",
       "35061     12\n",
       "35205      7\n",
       "35064      7\n",
       "35209      6\n",
       "35223      4\n",
       "35294      3\n",
       "35068      3\n",
       "35118      2\n",
       "35173      2\n",
       "35060      2\n",
       "35242      1\n",
       "35117      1\n",
       "Name: count, dtype: int64"
      ]
     },
     "execution_count": 34,
     "metadata": {},
     "output_type": "execute_result"
    }
   ],
   "source": [
    "# crime_count_per_zip = gpd.sjoin(bus_geo, zipcodes, predicate = 'within')\n",
    "crime_count_per_zip= birm_crime_df_geo['Case Address Zip'].value_counts()\n",
    "crime_count_per_zip"
   ]
  },
  {
   "cell_type": "code",
   "execution_count": 36,
   "metadata": {},
   "outputs": [
    {
     "data": {
      "text/plain": [
       "dtype('int64')"
      ]
     },
     "execution_count": 36,
     "metadata": {},
     "output_type": "execute_result"
    }
   ],
   "source": [
    "birm_crime_df_geo['Case Address Zip'].dtypes"
   ]
  },
  {
   "cell_type": "code",
   "execution_count": 39,
   "metadata": {},
   "outputs": [
    {
     "data": {
      "text/plain": [
       "0       35203\n",
       "1       35207\n",
       "2       35203\n",
       "3       35207\n",
       "5       35203\n",
       "        ...  \n",
       "6264    35211\n",
       "6265    35211\n",
       "6266    35211\n",
       "6267    35224\n",
       "6268    35211\n",
       "Name: Case Address Zip, Length: 6055, dtype: object"
      ]
     },
     "execution_count": 39,
     "metadata": {},
     "output_type": "execute_result"
    }
   ],
   "source": [
    "birm_crime_df_geo['Case Address Zip'].astype(str)"
   ]
  },
  {
   "cell_type": "code",
   "execution_count": 40,
   "metadata": {},
   "outputs": [
    {
     "data": {
      "text/plain": [
       "dtype('int64')"
      ]
     },
     "execution_count": 40,
     "metadata": {},
     "output_type": "execute_result"
    }
   ],
   "source": [
    "crime_count_per_zip.dtypes"
   ]
  },
  {
   "cell_type": "code",
   "execution_count": 111,
   "metadata": {},
   "outputs": [],
   "source": [
    "# #Offenses per Zip Code \n",
    "# num_offense_per_zip_df.pivot(index='Case Address Zip', columns='Case Offense Statute Description', values='Counts').plot(kind='bar', stacked=True, figsize=(10, 6))\n",
    "\n",
    "# plt.title('Offenses per Zip Code by Offense Type')\n",
    "# plt.xlabel('Zip Code')\n",
    "# plt.ylabel('Number of Offenses')\n",
    "# plt.xticks(rotation=45)\n",
    "# plt.legend(title='Offense Type')\n",
    "# plt.savefig('Offenses per Zip Code by Offense Type.png', bbox_inches='tight')\n",
    "# plt.show()"
   ]
  },
  {
   "cell_type": "code",
   "execution_count": 63,
   "metadata": {},
   "outputs": [
    {
     "data": {
      "image/png": "[encoded data removed]",
      "text/plain": [
       "<Figure size 640x480 with 1 Axes>"
      ]
     },
     "metadata": {},
     "output_type": "display_data"
    }
   ],
   "source": [
    "top_15_crimes_in_birm = birm_crime_df['Case Offense Statute Description'].value_counts().sort_values(ascending=False).head(15)\n",
    "top_15_crimes_in_birm.plot(kind=\"barh\", title = \"Top 15 Crime in Birmingham\")\n",
    "plt.savefig('Top 15 Crime in Birmingham.png', bbox_inches='tight')"
   ]
  },
  {
   "cell_type": "markdown",
   "metadata": {},
   "source": [
    "This plot displays the top 15 crime in Birnmigham with Theft of Property Auto theft as the highest and Domestic Burglary as the lowest. "
   ]
  },
  {
   "cell_type": "code",
   "execution_count": 64,
   "metadata": {},
   "outputs": [
    {
     "data": {
      "text/html": [
       "<div>\n",
       "<style scoped>\n",
       "    .dataframe tbody tr th:only-of-type {\n",
       "        vertical-align: middle;\n",
       "    }\n",
       "\n",
       "    .dataframe tbody tr th {\n",
       "        vertical-align: top;\n",
       "    }\n",
       "\n",
       "    .dataframe thead th {\n",
       "        text-align: right;\n",
       "    }\n",
       "</style>\n",
       "<table border=\"1\" class=\"dataframe\">\n",
       "  <thead>\n",
       "    <tr style=\"text-align: right;\">\n",
       "      <th></th>\n",
       "      <th>Block</th>\n",
       "      <th>Street</th>\n",
       "      <th>Case Address Latitude</th>\n",
       "      <th>Case Address Longitude</th>\n",
       "      <th>Case Address Zip</th>\n",
       "      <th>Case Occurred From Date</th>\n",
       "      <th>Case Offense Statute Description</th>\n",
       "      <th>Reporting District</th>\n",
       "      <th>Case Offense Statute</th>\n",
       "      <th>Case ORI</th>\n",
       "      <th>Month Occured</th>\n",
       "    </tr>\n",
       "  </thead>\n",
       "  <tbody>\n",
       "    <tr>\n",
       "      <th>6263</th>\n",
       "      <td>1500.0</td>\n",
       "      <td>MATT LEONARD DR SW</td>\n",
       "      <td>33.464267</td>\n",
       "      <td>-86.854970</td>\n",
       "      <td>35211</td>\n",
       "      <td>2023-01-01 05:20:00</td>\n",
       "      <td>Auto Theft and Sale-1st Degree</td>\n",
       "      <td>W422</td>\n",
       "      <td>NaN</td>\n",
       "      <td>NaN</td>\n",
       "      <td>1.0</td>\n",
       "    </tr>\n",
       "    <tr>\n",
       "      <th>6264</th>\n",
       "      <td>1700.0</td>\n",
       "      <td>PEARSON AVE</td>\n",
       "      <td>33.485909</td>\n",
       "      <td>-86.863144</td>\n",
       "      <td>35211</td>\n",
       "      <td>2023-01-01 03:00:00</td>\n",
       "      <td>Domestic Strangulation or Suffocation</td>\n",
       "      <td>W427</td>\n",
       "      <td>NaN</td>\n",
       "      <td>NaN</td>\n",
       "      <td>1.0</td>\n",
       "    </tr>\n",
       "    <tr>\n",
       "      <th>6265</th>\n",
       "      <td>1700.0</td>\n",
       "      <td>PEARSON AVE</td>\n",
       "      <td>33.485909</td>\n",
       "      <td>-86.863144</td>\n",
       "      <td>35211</td>\n",
       "      <td>2023-01-01 03:00:00</td>\n",
       "      <td>Sodomy-With A Woman-Domestic Violence-1st Degree</td>\n",
       "      <td>W427</td>\n",
       "      <td>NaN</td>\n",
       "      <td>NaN</td>\n",
       "      <td>1.0</td>\n",
       "    </tr>\n",
       "    <tr>\n",
       "      <th>6266</th>\n",
       "      <td>1500.0</td>\n",
       "      <td>ARTHUR SHORES DR</td>\n",
       "      <td>33.471651</td>\n",
       "      <td>-86.854865</td>\n",
       "      <td>35211</td>\n",
       "      <td>2023-01-01 02:25:00</td>\n",
       "      <td>Aggravated Assault Family-Gun-1st Degree</td>\n",
       "      <td>W422</td>\n",
       "      <td>NaN</td>\n",
       "      <td>NaN</td>\n",
       "      <td>1.0</td>\n",
       "    </tr>\n",
       "    <tr>\n",
       "      <th>6267</th>\n",
       "      <td>1300.0</td>\n",
       "      <td>JERSEY ST</td>\n",
       "      <td>33.498782</td>\n",
       "      <td>-86.924066</td>\n",
       "      <td>35224</td>\n",
       "      <td>2023-01-01 00:10:00</td>\n",
       "      <td>Disch Firearm into Occupied Bldg/Veh</td>\n",
       "      <td>W437</td>\n",
       "      <td>NaN</td>\n",
       "      <td>NaN</td>\n",
       "      <td>1.0</td>\n",
       "    </tr>\n",
       "    <tr>\n",
       "      <th>6268</th>\n",
       "      <td>1600.0</td>\n",
       "      <td>BOISE AVE</td>\n",
       "      <td>33.482842</td>\n",
       "      <td>-86.856379</td>\n",
       "      <td>35211</td>\n",
       "      <td>2023-01-01 00:01:00</td>\n",
       "      <td>Disch Firearm into Occupied Bldg/Veh</td>\n",
       "      <td>W424</td>\n",
       "      <td>NaN</td>\n",
       "      <td>NaN</td>\n",
       "      <td>1.0</td>\n",
       "    </tr>\n",
       "  </tbody>\n",
       "</table>\n",
       "</div>"
      ],
      "text/plain": [
       "       Block               Street  Case Address Latitude  \\\n",
       "6263  1500.0  MATT LEONARD DR SW               33.464267   \n",
       "6264  1700.0         PEARSON AVE               33.485909   \n",
       "6265  1700.0         PEARSON AVE               33.485909   \n",
       "6266  1500.0    ARTHUR SHORES DR               33.471651   \n",
       "6267  1300.0            JERSEY ST              33.498782   \n",
       "6268  1600.0           BOISE AVE               33.482842   \n",
       "\n",
       "      Case Address Longitude  Case Address Zip Case Occurred From Date  \\\n",
       "6263              -86.854970             35211     2023-01-01 05:20:00   \n",
       "6264              -86.863144             35211     2023-01-01 03:00:00   \n",
       "6265              -86.863144             35211     2023-01-01 03:00:00   \n",
       "6266              -86.854865             35211     2023-01-01 02:25:00   \n",
       "6267              -86.924066             35224     2023-01-01 00:10:00   \n",
       "6268              -86.856379             35211     2023-01-01 00:01:00   \n",
       "\n",
       "                      Case Offense Statute Description Reporting District  \\\n",
       "6263                    Auto Theft and Sale-1st Degree               W422   \n",
       "6264             Domestic Strangulation or Suffocation               W427   \n",
       "6265  Sodomy-With A Woman-Domestic Violence-1st Degree               W427   \n",
       "6266          Aggravated Assault Family-Gun-1st Degree               W422   \n",
       "6267              Disch Firearm into Occupied Bldg/Veh               W437   \n",
       "6268              Disch Firearm into Occupied Bldg/Veh               W424   \n",
       "\n",
       "     Case Offense Statute Case ORI  Month Occured  \n",
       "6263                  NaN      NaN            1.0  \n",
       "6264                  NaN      NaN            1.0  \n",
       "6265                  NaN      NaN            1.0  \n",
       "6266                  NaN      NaN            1.0  \n",
       "6267                  NaN      NaN            1.0  \n",
       "6268                  NaN      NaN            1.0  "
      ]
     },
     "execution_count": 64,
     "metadata": {},
     "output_type": "execute_result"
    }
   ],
   "source": [
    "birm_crime_df.tail(6)"
   ]
  },
  {
   "cell_type": "code",
   "execution_count": 65,
   "metadata": {},
   "outputs": [
    {
     "data": {
      "text/plain": [
       "Street              Case Offense Statute Description         \n",
       "MONTCLAIR RD        Larceny/Theft-Shoplifting, less than $500    77\n",
       "1ST AVE N           Theft of Property Auto Theft 1st             40\n",
       "2ND AVE N           Theft of Property Auto Theft 1st             23\n",
       "3RD AVE N           Theft of Property Auto Theft 1st             20\n",
       "BESSEMER RD         Theft of Property Auto Theft 1st             19\n",
       "1ST AVE N           Miscellaneous Theft-3rd Degree               17\n",
       "5TH AVE N           Theft of Property Auto Theft 1st             16\n",
       "MONTCLAIR RD        Theft of Property Auto Theft 1st             16\n",
       "MESSER AIRPORT HWY  Theft of Property Auto Theft 1st             13\n",
       "PARKWAY E           Theft of Property Auto Theft 1st             13\n",
       "1ST AVE S           Theft of Property Auto Theft 1st             12\n",
       "REPUBLIC ST         Theft - TOP 2nd Degree                       12\n",
       "2ND AVE N           Theft-Firearms-2nd Degree                    12\n",
       "3RD AVE N           Theft-Firearms-2nd Degree                    12\n",
       "2ND AVE N           Theft - TOP 2nd Degree                       12\n",
       "Name: count, dtype: int64"
      ]
     },
     "execution_count": 65,
     "metadata": {},
     "output_type": "execute_result"
    }
   ],
   "source": [
    "#number of crime per street\n",
    "top_crime_per_street=birm_crime_df.groupby(['Street', 'Case Offense Statute Description'])['Case Offense Statute Description'].value_counts().sort_values(ascending=False).head(15)\n",
    "top_crime_per_street"
   ]
  },
  {
   "cell_type": "markdown",
   "metadata": {},
   "source": [
    "displaying the nuber of crime per street and the type of crime, Montclair road has Larceny/Theft-Shoplifting, less than $500 as 77 count and 2nd Ave has \"Theft - TOP 2nd Degree\" as one of the lowest with 12 counts "
   ]
  },
  {
   "cell_type": "code",
   "execution_count": 66,
   "metadata": {},
   "outputs": [
    {
     "data": {
      "image/png": "[encoded data removed]",
      "text/plain": [
       "<Figure size 640x480 with 1 Axes>"
      ]
     },
     "metadata": {},
     "output_type": "display_data"
    }
   ],
   "source": [
    "#visualizing the number of crime per street\n",
    "ax = top_crime_per_street.plot.barh()\n",
    "ax.set_title('Top Crime per Street')\n",
    "ax.set_xlabel('Street and Offense Description')\n",
    "ax.set_ylabel('Number of Crimes')\n",
    "plt.xticks(rotation=75, ha='right')\n",
    "plt.savefig('Birmingham Top Crime per Street.png', bbox_inches='tight')\n",
    "plt.show()"
   ]
  },
  {
   "cell_type": "markdown",
   "metadata": {},
   "source": [
    "here is a visualization of the code above"
   ]
  },
  {
   "cell_type": "code",
   "execution_count": 67,
   "metadata": {},
   "outputs": [
    {
     "data": {
      "text/plain": [
       "0       12:00:00\n",
       "1       11:45:00\n",
       "2            NaT\n",
       "3       18:30:00\n",
       "5       12:32:00\n",
       "          ...   \n",
       "6264    03:00:00\n",
       "6265    03:00:00\n",
       "6266    02:25:00\n",
       "6267    00:10:00\n",
       "6268    00:01:00\n",
       "Name: Time_Occured, Length: 6055, dtype: object"
      ]
     },
     "execution_count": 67,
     "metadata": {},
     "output_type": "execute_result"
    }
   ],
   "source": [
    "birm_crime_df['Time_Occured'] = birm_crime_df['Case Occurred From Date'].dt.time\n",
    "birm_crime_df['Time_Occured']"
   ]
  },
  {
   "cell_type": "markdown",
   "metadata": {},
   "source": [
    "when does crime happen most. i also converted the 'Case Occurred From Date' to date time which enables me to get the time when crime occurs most. "
   ]
  },
  {
   "cell_type": "code",
   "execution_count": 68,
   "metadata": {},
   "outputs": [
    {
     "data": {
      "text/html": [
       "<div>\n",
       "<style scoped>\n",
       "    .dataframe tbody tr th:only-of-type {\n",
       "        vertical-align: middle;\n",
       "    }\n",
       "\n",
       "    .dataframe tbody tr th {\n",
       "        vertical-align: top;\n",
       "    }\n",
       "\n",
       "    .dataframe thead th {\n",
       "        text-align: right;\n",
       "    }\n",
       "</style>\n",
       "<table border=\"1\" class=\"dataframe\">\n",
       "  <thead>\n",
       "    <tr style=\"text-align: right;\">\n",
       "      <th></th>\n",
       "      <th>Block</th>\n",
       "      <th>Street</th>\n",
       "      <th>Case Address Latitude</th>\n",
       "      <th>Case Address Longitude</th>\n",
       "      <th>Case Address Zip</th>\n",
       "      <th>Case Occurred From Date</th>\n",
       "      <th>Case Offense Statute Description</th>\n",
       "      <th>Reporting District</th>\n",
       "      <th>Case Offense Statute</th>\n",
       "      <th>Case ORI</th>\n",
       "      <th>Month Occured</th>\n",
       "      <th>Time_Occured</th>\n",
       "    </tr>\n",
       "  </thead>\n",
       "  <tbody>\n",
       "    <tr>\n",
       "      <th>0</th>\n",
       "      <td>NaN</td>\n",
       "      <td>19TH ST N</td>\n",
       "      <td>33.518551</td>\n",
       "      <td>-86.811302</td>\n",
       "      <td>35203</td>\n",
       "      <td>2023-11-30 12:00:00</td>\n",
       "      <td>Theft-From Public Building-1st Degree</td>\n",
       "      <td>N122</td>\n",
       "      <td>NaN</td>\n",
       "      <td>NaN</td>\n",
       "      <td>11.0</td>\n",
       "      <td>12:00:00</td>\n",
       "    </tr>\n",
       "    <tr>\n",
       "      <th>1</th>\n",
       "      <td>NaN</td>\n",
       "      <td>26TH ST N</td>\n",
       "      <td>33.553396</td>\n",
       "      <td>-86.818906</td>\n",
       "      <td>35207</td>\n",
       "      <td>2023-11-30 11:45:00</td>\n",
       "      <td>Larceny/Theft-Shoplifting, less than $500</td>\n",
       "      <td>N131</td>\n",
       "      <td>NaN</td>\n",
       "      <td>NaN</td>\n",
       "      <td>11.0</td>\n",
       "      <td>11:45:00</td>\n",
       "    </tr>\n",
       "    <tr>\n",
       "      <th>2</th>\n",
       "      <td>NaN</td>\n",
       "      <td>17TH ST N</td>\n",
       "      <td>33.512548</td>\n",
       "      <td>-86.810036</td>\n",
       "      <td>35203</td>\n",
       "      <td>NaT</td>\n",
       "      <td>Theft of Property Auto Theft 1st</td>\n",
       "      <td>N122</td>\n",
       "      <td>NaN</td>\n",
       "      <td>NaN</td>\n",
       "      <td>NaN</td>\n",
       "      <td>NaT</td>\n",
       "    </tr>\n",
       "    <tr>\n",
       "      <th>3</th>\n",
       "      <td>NaN</td>\n",
       "      <td>31ST AVE N</td>\n",
       "      <td>33.553181</td>\n",
       "      <td>-86.817887</td>\n",
       "      <td>35207</td>\n",
       "      <td>2023-11-29 18:30:00</td>\n",
       "      <td>Theft by deception</td>\n",
       "      <td>N131</td>\n",
       "      <td>NaN</td>\n",
       "      <td>NaN</td>\n",
       "      <td>11.0</td>\n",
       "      <td>18:30:00</td>\n",
       "    </tr>\n",
       "  </tbody>\n",
       "</table>\n",
       "</div>"
      ],
      "text/plain": [
       "   Block       Street  Case Address Latitude  Case Address Longitude  \\\n",
       "0    NaN   19TH ST N               33.518551              -86.811302   \n",
       "1    NaN   26TH ST N               33.553396              -86.818906   \n",
       "2    NaN   17TH ST N               33.512548              -86.810036   \n",
       "3    NaN  31ST AVE N               33.553181              -86.817887   \n",
       "\n",
       "   Case Address Zip Case Occurred From Date  \\\n",
       "0             35203     2023-11-30 12:00:00   \n",
       "1             35207     2023-11-30 11:45:00   \n",
       "2             35203                     NaT   \n",
       "3             35207     2023-11-29 18:30:00   \n",
       "\n",
       "            Case Offense Statute Description Reporting District  \\\n",
       "0      Theft-From Public Building-1st Degree               N122   \n",
       "1  Larceny/Theft-Shoplifting, less than $500               N131   \n",
       "2          Theft of Property Auto Theft 1st                N122   \n",
       "3                         Theft by deception               N131   \n",
       "\n",
       "  Case Offense Statute Case ORI  Month Occured Time_Occured  \n",
       "0                  NaN      NaN           11.0     12:00:00  \n",
       "1                  NaN      NaN           11.0     11:45:00  \n",
       "2                  NaN      NaN            NaN          NaT  \n",
       "3                  NaN      NaN           11.0     18:30:00  "
      ]
     },
     "execution_count": 68,
     "metadata": {},
     "output_type": "execute_result"
    }
   ],
   "source": [
    "birm_crime_df.head(4)"
   ]
  },
  {
   "cell_type": "code",
   "execution_count": 70,
   "metadata": {},
   "outputs": [],
   "source": [
    "times_crimes_occured_most=birm_crime_df.groupby(['Time_Occured', 'Case Offense Statute Description'])['Case Offense Statute Description'].value_counts().sort_values(ascending=False).head(15)"
   ]
  },
  {
   "cell_type": "code",
   "execution_count": 71,
   "metadata": {},
   "outputs": [
    {
     "data": {
      "text/plain": [
       "Time_Occured  Case Offense Statute Description     \n",
       "12:00:00      Theft of Property Auto Theft 1st         53\n",
       "22:00:00      Theft of Property Auto Theft 1st         51\n",
       "20:00:00      Theft of Property Auto Theft 1st         48\n",
       "23:00:00      Theft of Property Auto Theft 1st         46\n",
       "21:00:00      Theft of Property Auto Theft 1st         42\n",
       "18:00:00      Theft of Property Auto Theft 1st         38\n",
       "08:00:00      Theft of Property Auto Theft 1st         37\n",
       "17:00:00      Theft of Property Auto Theft 1st         37\n",
       "19:00:00      Theft of Property Auto Theft 1st         36\n",
       "12:00:00      Theft - TOP 2nd Degree                   35\n",
       "              Miscellaneous Theft-3rd Degree           34\n",
       "16:00:00      Theft of Property Auto Theft 1st         32\n",
       "01:00:00      Theft of Property Auto Theft 1st         31\n",
       "12:00:00      Burglary (Residence) Force 3rd Degree    30\n",
       "17:00:00      Burglary (Residence) Force 3rd Degree    27\n",
       "Name: count, dtype: int64"
      ]
     },
     "execution_count": 71,
     "metadata": {},
     "output_type": "execute_result"
    }
   ],
   "source": [
    "times_crimes_occured_most"
   ]
  },
  {
   "cell_type": "markdown",
   "metadata": {},
   "source": [
    "On this cell, it appears that \"Theft of Property Auto Theft 1st\" happen most of the time with the time range most of the time from 22-23:00"
   ]
  },
  {
   "cell_type": "code",
   "execution_count": 72,
   "metadata": {},
   "outputs": [
    {
     "data": {
      "text/plain": [
       "<Axes: title={'center': 'Most Crime Events by Day'}, ylabel='Time_Occured,Case Offense Statute Description'>"
      ]
     },
     "execution_count": 72,
     "metadata": {},
     "output_type": "execute_result"
    },
    {
     "data": {
      "image/png": "[encoded data removed]",
      "text/plain": [
       "<Figure size 640x480 with 1 Axes>"
      ]
     },
     "metadata": {},
     "output_type": "display_data"
    }
   ],
   "source": [
    "times_crimes_occured_most.plot(kind = 'barh', title ='Most Crime Events by Day')"
   ]
  },
  {
   "cell_type": "code",
   "execution_count": 73,
   "metadata": {},
   "outputs": [
    {
     "data": {
      "text/plain": [
       "array([11., nan, 10.,  9.,  8.,  7.,  6.,  5.,  4.,  3.,  2.,  1.])"
      ]
     },
     "execution_count": 73,
     "metadata": {},
     "output_type": "execute_result"
    }
   ],
   "source": [
    "birm_crime_df['Month Occured'].unique()"
   ]
  },
  {
   "cell_type": "code",
   "execution_count": 74,
   "metadata": {},
   "outputs": [],
   "source": [
    "#convert number to month\n",
    "birm_crime_df['Month Occured'] = birm_crime_df['Month Occured'].apply(lambda x: calendar.month_name[int(x)] if pd.notnull(x) else x)"
   ]
  },
  {
   "cell_type": "markdown",
   "metadata": {},
   "source": [
    "remember that i have already converted the months to number, and here i am changing the number months to names, like jan and etc. "
   ]
  },
  {
   "cell_type": "code",
   "execution_count": 76,
   "metadata": {},
   "outputs": [
    {
     "data": {
      "text/plain": [
       "0       November\n",
       "1       November\n",
       "2            NaN\n",
       "3       November\n",
       "5       November\n",
       "          ...   \n",
       "6264     January\n",
       "6265     January\n",
       "6266     January\n",
       "6267     January\n",
       "6268     January\n",
       "Name: Month Occured, Length: 6055, dtype: object"
      ]
     },
     "execution_count": 76,
     "metadata": {},
     "output_type": "execute_result"
    }
   ],
   "source": [
    "birm_crime_df['Month Occured']"
   ]
  },
  {
   "cell_type": "code",
   "execution_count": 77,
   "metadata": {},
   "outputs": [
    {
     "data": {
      "text/html": [
       "<div>\n",
       "<style scoped>\n",
       "    .dataframe tbody tr th:only-of-type {\n",
       "        vertical-align: middle;\n",
       "    }\n",
       "\n",
       "    .dataframe tbody tr th {\n",
       "        vertical-align: top;\n",
       "    }\n",
       "\n",
       "    .dataframe thead th {\n",
       "        text-align: right;\n",
       "    }\n",
       "</style>\n",
       "<table border=\"1\" class=\"dataframe\">\n",
       "  <thead>\n",
       "    <tr style=\"text-align: right;\">\n",
       "      <th></th>\n",
       "      <th>Block</th>\n",
       "      <th>Street</th>\n",
       "      <th>Case Address Latitude</th>\n",
       "      <th>Case Address Longitude</th>\n",
       "      <th>Case Address Zip</th>\n",
       "      <th>Case Occurred From Date</th>\n",
       "      <th>Case Offense Statute Description</th>\n",
       "      <th>Reporting District</th>\n",
       "      <th>Case Offense Statute</th>\n",
       "      <th>Case ORI</th>\n",
       "      <th>Month Occured</th>\n",
       "      <th>Time_Occured</th>\n",
       "    </tr>\n",
       "  </thead>\n",
       "  <tbody>\n",
       "    <tr>\n",
       "      <th>0</th>\n",
       "      <td>NaN</td>\n",
       "      <td>19TH ST N</td>\n",
       "      <td>33.518551</td>\n",
       "      <td>-86.811302</td>\n",
       "      <td>35203</td>\n",
       "      <td>2023-11-30 12:00:00</td>\n",
       "      <td>Theft-From Public Building-1st Degree</td>\n",
       "      <td>N122</td>\n",
       "      <td>NaN</td>\n",
       "      <td>NaN</td>\n",
       "      <td>November</td>\n",
       "      <td>12:00:00</td>\n",
       "    </tr>\n",
       "    <tr>\n",
       "      <th>1</th>\n",
       "      <td>NaN</td>\n",
       "      <td>26TH ST N</td>\n",
       "      <td>33.553396</td>\n",
       "      <td>-86.818906</td>\n",
       "      <td>35207</td>\n",
       "      <td>2023-11-30 11:45:00</td>\n",
       "      <td>Larceny/Theft-Shoplifting, less than $500</td>\n",
       "      <td>N131</td>\n",
       "      <td>NaN</td>\n",
       "      <td>NaN</td>\n",
       "      <td>November</td>\n",
       "      <td>11:45:00</td>\n",
       "    </tr>\n",
       "    <tr>\n",
       "      <th>2</th>\n",
       "      <td>NaN</td>\n",
       "      <td>17TH ST N</td>\n",
       "      <td>33.512548</td>\n",
       "      <td>-86.810036</td>\n",
       "      <td>35203</td>\n",
       "      <td>NaT</td>\n",
       "      <td>Theft of Property Auto Theft 1st</td>\n",
       "      <td>N122</td>\n",
       "      <td>NaN</td>\n",
       "      <td>NaN</td>\n",
       "      <td>NaN</td>\n",
       "      <td>NaT</td>\n",
       "    </tr>\n",
       "    <tr>\n",
       "      <th>3</th>\n",
       "      <td>NaN</td>\n",
       "      <td>31ST AVE N</td>\n",
       "      <td>33.553181</td>\n",
       "      <td>-86.817887</td>\n",
       "      <td>35207</td>\n",
       "      <td>2023-11-29 18:30:00</td>\n",
       "      <td>Theft by deception</td>\n",
       "      <td>N131</td>\n",
       "      <td>NaN</td>\n",
       "      <td>NaN</td>\n",
       "      <td>November</td>\n",
       "      <td>18:30:00</td>\n",
       "    </tr>\n",
       "    <tr>\n",
       "      <th>5</th>\n",
       "      <td>NaN</td>\n",
       "      <td>28TH ST N</td>\n",
       "      <td>33.523155</td>\n",
       "      <td>-86.797087</td>\n",
       "      <td>35203</td>\n",
       "      <td>2023-11-29 12:32:00</td>\n",
       "      <td>Theft by deception</td>\n",
       "      <td>N120</td>\n",
       "      <td>NaN</td>\n",
       "      <td>NaN</td>\n",
       "      <td>November</td>\n",
       "      <td>12:32:00</td>\n",
       "    </tr>\n",
       "  </tbody>\n",
       "</table>\n",
       "</div>"
      ],
      "text/plain": [
       "   Block       Street  Case Address Latitude  Case Address Longitude  \\\n",
       "0    NaN   19TH ST N               33.518551              -86.811302   \n",
       "1    NaN   26TH ST N               33.553396              -86.818906   \n",
       "2    NaN   17TH ST N               33.512548              -86.810036   \n",
       "3    NaN  31ST AVE N               33.553181              -86.817887   \n",
       "5    NaN   28TH ST N               33.523155              -86.797087   \n",
       "\n",
       "   Case Address Zip Case Occurred From Date  \\\n",
       "0             35203     2023-11-30 12:00:00   \n",
       "1             35207     2023-11-30 11:45:00   \n",
       "2             35203                     NaT   \n",
       "3             35207     2023-11-29 18:30:00   \n",
       "5             35203     2023-11-29 12:32:00   \n",
       "\n",
       "            Case Offense Statute Description Reporting District  \\\n",
       "0      Theft-From Public Building-1st Degree               N122   \n",
       "1  Larceny/Theft-Shoplifting, less than $500               N131   \n",
       "2          Theft of Property Auto Theft 1st                N122   \n",
       "3                         Theft by deception               N131   \n",
       "5                         Theft by deception               N120   \n",
       "\n",
       "  Case Offense Statute Case ORI Month Occured Time_Occured  \n",
       "0                  NaN      NaN      November     12:00:00  \n",
       "1                  NaN      NaN      November     11:45:00  \n",
       "2                  NaN      NaN           NaN          NaT  \n",
       "3                  NaN      NaN      November     18:30:00  \n",
       "5                  NaN      NaN      November     12:32:00  "
      ]
     },
     "execution_count": 77,
     "metadata": {},
     "output_type": "execute_result"
    }
   ],
   "source": [
    "birm_crime_df.head()"
   ]
  },
  {
   "cell_type": "code",
   "execution_count": 78,
   "metadata": {},
   "outputs": [
    {
     "data": {
      "text/html": [
       "<div>\n",
       "<style scoped>\n",
       "    .dataframe tbody tr th:only-of-type {\n",
       "        vertical-align: middle;\n",
       "    }\n",
       "\n",
       "    .dataframe tbody tr th {\n",
       "        vertical-align: top;\n",
       "    }\n",
       "\n",
       "    .dataframe thead th {\n",
       "        text-align: right;\n",
       "    }\n",
       "</style>\n",
       "<table border=\"1\" class=\"dataframe\">\n",
       "  <thead>\n",
       "    <tr style=\"text-align: right;\">\n",
       "      <th></th>\n",
       "      <th>Block</th>\n",
       "      <th>Street</th>\n",
       "      <th>Case Address Latitude</th>\n",
       "      <th>Case Address Longitude</th>\n",
       "      <th>Case Address Zip</th>\n",
       "      <th>Case Occurred From Date</th>\n",
       "      <th>Case Offense Statute Description</th>\n",
       "      <th>Reporting District</th>\n",
       "      <th>Case Offense Statute</th>\n",
       "      <th>Case ORI</th>\n",
       "      <th>Month Occured</th>\n",
       "      <th>Time_Occured</th>\n",
       "    </tr>\n",
       "  </thead>\n",
       "  <tbody>\n",
       "    <tr>\n",
       "      <th>0</th>\n",
       "      <td>NaN</td>\n",
       "      <td>19TH ST N</td>\n",
       "      <td>33.518551</td>\n",
       "      <td>-86.811302</td>\n",
       "      <td>35203</td>\n",
       "      <td>2023-11-30 12:00:00</td>\n",
       "      <td>Theft-From Public Building-1st Degree</td>\n",
       "      <td>N122</td>\n",
       "      <td>NaN</td>\n",
       "      <td>NaN</td>\n",
       "      <td>Nov</td>\n",
       "      <td>12:00:00</td>\n",
       "    </tr>\n",
       "    <tr>\n",
       "      <th>1</th>\n",
       "      <td>NaN</td>\n",
       "      <td>26TH ST N</td>\n",
       "      <td>33.553396</td>\n",
       "      <td>-86.818906</td>\n",
       "      <td>35207</td>\n",
       "      <td>2023-11-30 11:45:00</td>\n",
       "      <td>Larceny/Theft-Shoplifting, less than $500</td>\n",
       "      <td>N131</td>\n",
       "      <td>NaN</td>\n",
       "      <td>NaN</td>\n",
       "      <td>Nov</td>\n",
       "      <td>11:45:00</td>\n",
       "    </tr>\n",
       "    <tr>\n",
       "      <th>2</th>\n",
       "      <td>NaN</td>\n",
       "      <td>17TH ST N</td>\n",
       "      <td>33.512548</td>\n",
       "      <td>-86.810036</td>\n",
       "      <td>35203</td>\n",
       "      <td>NaT</td>\n",
       "      <td>Theft of Property Auto Theft 1st</td>\n",
       "      <td>N122</td>\n",
       "      <td>NaN</td>\n",
       "      <td>NaN</td>\n",
       "      <td>NaN</td>\n",
       "      <td>NaT</td>\n",
       "    </tr>\n",
       "    <tr>\n",
       "      <th>3</th>\n",
       "      <td>NaN</td>\n",
       "      <td>31ST AVE N</td>\n",
       "      <td>33.553181</td>\n",
       "      <td>-86.817887</td>\n",
       "      <td>35207</td>\n",
       "      <td>2023-11-29 18:30:00</td>\n",
       "      <td>Theft by deception</td>\n",
       "      <td>N131</td>\n",
       "      <td>NaN</td>\n",
       "      <td>NaN</td>\n",
       "      <td>Nov</td>\n",
       "      <td>18:30:00</td>\n",
       "    </tr>\n",
       "    <tr>\n",
       "      <th>5</th>\n",
       "      <td>NaN</td>\n",
       "      <td>28TH ST N</td>\n",
       "      <td>33.523155</td>\n",
       "      <td>-86.797087</td>\n",
       "      <td>35203</td>\n",
       "      <td>2023-11-29 12:32:00</td>\n",
       "      <td>Theft by deception</td>\n",
       "      <td>N120</td>\n",
       "      <td>NaN</td>\n",
       "      <td>NaN</td>\n",
       "      <td>Nov</td>\n",
       "      <td>12:32:00</td>\n",
       "    </tr>\n",
       "  </tbody>\n",
       "</table>\n",
       "</div>"
      ],
      "text/plain": [
       "   Block       Street  Case Address Latitude  Case Address Longitude  \\\n",
       "0    NaN   19TH ST N               33.518551              -86.811302   \n",
       "1    NaN   26TH ST N               33.553396              -86.818906   \n",
       "2    NaN   17TH ST N               33.512548              -86.810036   \n",
       "3    NaN  31ST AVE N               33.553181              -86.817887   \n",
       "5    NaN   28TH ST N               33.523155              -86.797087   \n",
       "\n",
       "   Case Address Zip Case Occurred From Date  \\\n",
       "0             35203     2023-11-30 12:00:00   \n",
       "1             35207     2023-11-30 11:45:00   \n",
       "2             35203                     NaT   \n",
       "3             35207     2023-11-29 18:30:00   \n",
       "5             35203     2023-11-29 12:32:00   \n",
       "\n",
       "            Case Offense Statute Description Reporting District  \\\n",
       "0      Theft-From Public Building-1st Degree               N122   \n",
       "1  Larceny/Theft-Shoplifting, less than $500               N131   \n",
       "2          Theft of Property Auto Theft 1st                N122   \n",
       "3                         Theft by deception               N131   \n",
       "5                         Theft by deception               N120   \n",
       "\n",
       "  Case Offense Statute Case ORI Month Occured Time_Occured  \n",
       "0                  NaN      NaN           Nov     12:00:00  \n",
       "1                  NaN      NaN           Nov     11:45:00  \n",
       "2                  NaN      NaN           NaN          NaT  \n",
       "3                  NaN      NaN           Nov     18:30:00  \n",
       "5                  NaN      NaN           Nov     12:32:00  "
      ]
     },
     "execution_count": 78,
     "metadata": {},
     "output_type": "execute_result"
    }
   ],
   "source": [
    "#Replace the month with type abbreviations. \n",
    "birm_crime_df['Month Occured']\n",
    "def update_month(abrv):\n",
    "    birm_crime_df['Month Occured']=birm_crime_df['Month Occured'].map(abrv)\n",
    "    return birm_crime_df\n",
    "abrv={'January': \"Jan\",\n",
    "        'February': \"Feb\",\n",
    "        'March': \"Mar\",\n",
    "        'April': \"Apr\",\n",
    "        'May': \"May\",\n",
    "        'June': \"Jun\",\n",
    "        'July': \"Jul\",\n",
    "        'August': \"Aug\",\n",
    "        'September': \"Sep\",\n",
    "        'October': \"Oct\",\n",
    "        'November': \"Nov\",\n",
    "        'December': \"Dec\"}\n",
    "birm_crime_df = update_month(abrv)\n",
    "birm_crime_df.head()"
   ]
  },
  {
   "cell_type": "markdown",
   "metadata": {},
   "source": [
    "i am creating a define function that would be reusable that performs the name change from {'January': \"Jan\",}"
   ]
  },
  {
   "cell_type": "code",
   "execution_count": 79,
   "metadata": {},
   "outputs": [
    {
     "data": {
      "text/plain": [
       "array(['Nov', nan, 'Oct', 'Sep', 'Aug', 'Jul', 'Jun', 'May', 'Apr', 'Mar',\n",
       "       'Feb', 'Jan'], dtype=object)"
      ]
     },
     "execution_count": 79,
     "metadata": {},
     "output_type": "execute_result"
    }
   ],
   "source": [
    "birm_crime_df['Month Occured'].unique()"
   ]
  },
  {
   "cell_type": "code",
   "execution_count": 80,
   "metadata": {},
   "outputs": [
    {
     "data": {
      "text/html": [
       "<div>\n",
       "<style scoped>\n",
       "    .dataframe tbody tr th:only-of-type {\n",
       "        vertical-align: middle;\n",
       "    }\n",
       "\n",
       "    .dataframe tbody tr th {\n",
       "        vertical-align: top;\n",
       "    }\n",
       "\n",
       "    .dataframe thead th {\n",
       "        text-align: right;\n",
       "    }\n",
       "</style>\n",
       "<table border=\"1\" class=\"dataframe\">\n",
       "  <thead>\n",
       "    <tr style=\"text-align: right;\">\n",
       "      <th></th>\n",
       "      <th>Month Occured</th>\n",
       "      <th>Case Offense Statute Description</th>\n",
       "      <th>Count</th>\n",
       "    </tr>\n",
       "  </thead>\n",
       "  <tbody>\n",
       "    <tr>\n",
       "      <th>0</th>\n",
       "      <td>Apr</td>\n",
       "      <td>Aggravated Assault Family-Gun-2nd Degree</td>\n",
       "      <td>6</td>\n",
       "    </tr>\n",
       "    <tr>\n",
       "      <th>1</th>\n",
       "      <td>Apr</td>\n",
       "      <td>Aggravated Assault Family-Knife-2nd Degree</td>\n",
       "      <td>1</td>\n",
       "    </tr>\n",
       "    <tr>\n",
       "      <th>2</th>\n",
       "      <td>Apr</td>\n",
       "      <td>Aggravated Assault Family-Other Weapon</td>\n",
       "      <td>1</td>\n",
       "    </tr>\n",
       "    <tr>\n",
       "      <th>3</th>\n",
       "      <td>Apr</td>\n",
       "      <td>Aggravated Assault Family-Other Weapon-2nd Degree</td>\n",
       "      <td>5</td>\n",
       "    </tr>\n",
       "    <tr>\n",
       "      <th>4</th>\n",
       "      <td>Apr</td>\n",
       "      <td>Aggravated Assault Non-Family-Gun-2nd Degree</td>\n",
       "      <td>3</td>\n",
       "    </tr>\n",
       "    <tr>\n",
       "      <th>...</th>\n",
       "      <td>...</td>\n",
       "      <td>...</td>\n",
       "      <td>...</td>\n",
       "    </tr>\n",
       "    <tr>\n",
       "      <th>711</th>\n",
       "      <td>Sep</td>\n",
       "      <td>Theft-Other Vehicle-1st Degree</td>\n",
       "      <td>2</td>\n",
       "    </tr>\n",
       "    <tr>\n",
       "      <th>712</th>\n",
       "      <td>Sep</td>\n",
       "      <td>Theft-Vehicle Parts-1st Degree</td>\n",
       "      <td>3</td>\n",
       "    </tr>\n",
       "    <tr>\n",
       "      <th>713</th>\n",
       "      <td>Sep</td>\n",
       "      <td>Theft-Vehicle Parts-3rd Degree</td>\n",
       "      <td>1</td>\n",
       "    </tr>\n",
       "    <tr>\n",
       "      <th>714</th>\n",
       "      <td>Sep</td>\n",
       "      <td>Theft-Vehicle Parts-4th Degree</td>\n",
       "      <td>4</td>\n",
       "    </tr>\n",
       "    <tr>\n",
       "      <th>715</th>\n",
       "      <td>Sep</td>\n",
       "      <td>Throwing/Shoot Rock/Missle in Occupied Vehicle</td>\n",
       "      <td>2</td>\n",
       "    </tr>\n",
       "  </tbody>\n",
       "</table>\n",
       "<p>716 rows × 3 columns</p>\n",
       "</div>"
      ],
      "text/plain": [
       "    Month Occured                   Case Offense Statute Description  Count\n",
       "0             Apr           Aggravated Assault Family-Gun-2nd Degree      6\n",
       "1             Apr         Aggravated Assault Family-Knife-2nd Degree      1\n",
       "2             Apr             Aggravated Assault Family-Other Weapon      1\n",
       "3             Apr  Aggravated Assault Family-Other Weapon-2nd Degree      5\n",
       "4             Apr       Aggravated Assault Non-Family-Gun-2nd Degree      3\n",
       "..            ...                                                ...    ...\n",
       "711           Sep                     Theft-Other Vehicle-1st Degree      2\n",
       "712           Sep                     Theft-Vehicle Parts-1st Degree      3\n",
       "713           Sep                     Theft-Vehicle Parts-3rd Degree      1\n",
       "714           Sep                     Theft-Vehicle Parts-4th Degree      4\n",
       "715           Sep     Throwing/Shoot Rock/Missle in Occupied Vehicle      2\n",
       "\n",
       "[716 rows x 3 columns]"
      ]
     },
     "execution_count": 80,
     "metadata": {},
     "output_type": "execute_result"
    }
   ],
   "source": [
    "crime_counts_by_month = birm_crime_df.groupby(['Month Occured', 'Case Offense Statute Description']).size().reset_index(name='Count')\n",
    "crime_counts_by_month"
   ]
  },
  {
   "cell_type": "markdown",
   "metadata": {},
   "source": [
    "Here i am performing a group-by operation on the birm_crime_df, grouping by two columns: 'Month Occured' and 'Case Offense Statute Description'. After grouping, i want to count the number of occurrences within each group. This is achieved by using the .size() method, which counts the number of elements in each group. The .reset_index(name='Count') part of the code then converts the resulting Series into a DataFrame and renames the column containing the counts to 'Count'. "
   ]
  },
  {
   "cell_type": "code",
   "execution_count": 81,
   "metadata": {},
   "outputs": [],
   "source": [
    "most_crime_per_month = birm_crime_df.groupby('Month Occured')['Case Offense Statute Description'].value_counts().sort_values(ascending=False).head(15)"
   ]
  },
  {
   "cell_type": "code",
   "execution_count": 82,
   "metadata": {},
   "outputs": [
    {
     "data": {
      "text/plain": [
       "Month Occured  Case Offense Statute Description     \n",
       "Aug            Theft of Property Auto Theft 1st         160\n",
       "Oct            Theft of Property Auto Theft 1st         143\n",
       "Jul            Theft of Property Auto Theft 1st         142\n",
       "Nov            Theft of Property Auto Theft 1st         134\n",
       "Sep            Theft of Property Auto Theft 1st         134\n",
       "Jun            Theft of Property Auto Theft 1st         111\n",
       "Mar            Theft of Property Auto Theft 1st         102\n",
       "May            Theft of Property Auto Theft 1st          94\n",
       "Jan            Theft of Property Auto Theft 1st          77\n",
       "Feb            Theft of Property Auto Theft 1st          65\n",
       "Apr            Theft of Property Auto Theft 1st          63\n",
       "Jun            Disch Firearm into Occupied Bldg/Veh      60\n",
       "Jul            Disch Firearm into Occupied Bldg/Veh      55\n",
       "Jun            Miscellaneous Theft-3rd Degree            54\n",
       "Sep            Burglary (Residence) Force 3rd Degree     54\n",
       "Name: count, dtype: int64"
      ]
     },
     "execution_count": 82,
     "metadata": {},
     "output_type": "execute_result"
    }
   ],
   "source": [
    "most_crime_per_month"
   ]
  },
  {
   "cell_type": "markdown",
   "metadata": {},
   "source": [
    "here, i am looking at the most crime per month, just like i did a groupby operation, like the cell above, i am doing the same here, but groupd by ('Month Occured'). i want to identify and display the top 15 most frequent crime types that occurred each month within the df"
   ]
  },
  {
   "cell_type": "code",
   "execution_count": 83,
   "metadata": {},
   "outputs": [
    {
     "data": {
      "image/png": "[encoded data removed]",
      "text/plain": [
       "<Figure size 640x480 with 1 Axes>"
      ]
     },
     "metadata": {},
     "output_type": "display_data"
    }
   ],
   "source": [
    "colors = plt.cm.Pastel1.colors\n",
    "#Using pastel color scheme\n",
    "ax = most_crime_per_month.plot.barh(color=[colors[i % len(colors)] for i in range(len(most_crime_per_month))])\n",
    "ax.set_title('Top 15 Crimes per Month with Pastel Colors')\n",
    "ax.set_xlabel('Month and Offense Description')\n",
    "ax.set_ylabel('Number of Crimes')\n",
    "plt.legend(title='Months')\n",
    "plt.xticks(rotation=45, ha='right')\n",
    "plt.savefig('Birmingham Top 15 Crimes per Month with Pastel Colors.png', bbox_inches='tight')\n",
    "plt.show()"
   ]
  },
  {
   "cell_type": "markdown",
   "metadata": {},
   "source": [
    "i now visualize the code here"
   ]
  },
  {
   "cell_type": "code",
   "execution_count": 84,
   "metadata": {},
   "outputs": [
    {
     "data": {
      "text/plain": [
       "Time_Occured  Case Offense Statute Description     \n",
       "12:00:00      Theft of Property Auto Theft 1st         53\n",
       "22:00:00      Theft of Property Auto Theft 1st         51\n",
       "20:00:00      Theft of Property Auto Theft 1st         48\n",
       "23:00:00      Theft of Property Auto Theft 1st         46\n",
       "21:00:00      Theft of Property Auto Theft 1st         42\n",
       "18:00:00      Theft of Property Auto Theft 1st         38\n",
       "08:00:00      Theft of Property Auto Theft 1st         37\n",
       "17:00:00      Theft of Property Auto Theft 1st         37\n",
       "19:00:00      Theft of Property Auto Theft 1st         36\n",
       "12:00:00      Theft - TOP 2nd Degree                   35\n",
       "              Miscellaneous Theft-3rd Degree           34\n",
       "16:00:00      Theft of Property Auto Theft 1st         32\n",
       "01:00:00      Theft of Property Auto Theft 1st         31\n",
       "12:00:00      Burglary (Residence) Force 3rd Degree    30\n",
       "17:00:00      Burglary (Residence) Force 3rd Degree    27\n",
       "Name: count, dtype: int64"
      ]
     },
     "execution_count": 84,
     "metadata": {},
     "output_type": "execute_result"
    }
   ],
   "source": [
    "most_crime_by_time = birm_crime_df.groupby('Time_Occured')['Case Offense Statute Description'].value_counts().sort_values(ascending=False).head(15) \n",
    "most_crime_by_time"
   ]
  },
  {
   "cell_type": "code",
   "execution_count": 85,
   "metadata": {
    "scrolled": false
   },
   "outputs": [
    {
     "data": {
      "image/png": "[encoded data removed]",
      "text/plain": [
       "<Figure size 640x480 with 1 Axes>"
      ]
     },
     "metadata": {},
     "output_type": "display_data"
    }
   ],
   "source": [
    "ax = most_crime_by_time.plot.barh()\n",
    "ax.set_title('Top 15 Time Occurrences of Most Common Crimes')\n",
    "ax.set_xlabel('Time and Offense Description')\n",
    "ax.set_ylabel('Number of Crimes')\n",
    "plt.savefig('Birmingham Top 15 Time Occurrences of Most Common Crimes.png', bbox_inches='tight')\n",
    "plt.show()"
   ]
  },
  {
   "cell_type": "code",
   "execution_count": 86,
   "metadata": {},
   "outputs": [
    {
     "data": {
      "text/plain": [
       "Month Occured\n",
       "Apr    468\n",
       "Aug    583\n",
       "Feb    437\n",
       "Jan    549\n",
       "Jul    588\n",
       "Jun    609\n",
       "Mar    484\n",
       "May    554\n",
       "Nov    495\n",
       "Oct    556\n",
       "Sep    532\n",
       "dtype: int64"
      ]
     },
     "execution_count": 86,
     "metadata": {},
     "output_type": "execute_result"
    }
   ],
   "source": [
    "crime_count_by_Month = birm_crime_df.groupby('Month Occured').size()\n",
    "crime_count_by_Month"
   ]
  },
  {
   "cell_type": "markdown",
   "metadata": {},
   "source": [
    "The code identifies the crime count by each month and counts the number of occurance"
   ]
  },
  {
   "cell_type": "code",
   "execution_count": 87,
   "metadata": {},
   "outputs": [
    {
     "data": {
      "text/html": [
       "<div>\n",
       "<style scoped>\n",
       "    .dataframe tbody tr th:only-of-type {\n",
       "        vertical-align: middle;\n",
       "    }\n",
       "\n",
       "    .dataframe tbody tr th {\n",
       "        vertical-align: top;\n",
       "    }\n",
       "\n",
       "    .dataframe thead th {\n",
       "        text-align: right;\n",
       "    }\n",
       "</style>\n",
       "<table border=\"1\" class=\"dataframe\">\n",
       "  <thead>\n",
       "    <tr style=\"text-align: right;\">\n",
       "      <th></th>\n",
       "      <th>Month Occured</th>\n",
       "      <th>Crime Count</th>\n",
       "    </tr>\n",
       "  </thead>\n",
       "  <tbody>\n",
       "    <tr>\n",
       "      <th>0</th>\n",
       "      <td>Apr</td>\n",
       "      <td>468</td>\n",
       "    </tr>\n",
       "    <tr>\n",
       "      <th>1</th>\n",
       "      <td>Aug</td>\n",
       "      <td>583</td>\n",
       "    </tr>\n",
       "    <tr>\n",
       "      <th>2</th>\n",
       "      <td>Feb</td>\n",
       "      <td>437</td>\n",
       "    </tr>\n",
       "    <tr>\n",
       "      <th>3</th>\n",
       "      <td>Jan</td>\n",
       "      <td>549</td>\n",
       "    </tr>\n",
       "    <tr>\n",
       "      <th>4</th>\n",
       "      <td>Jul</td>\n",
       "      <td>588</td>\n",
       "    </tr>\n",
       "    <tr>\n",
       "      <th>5</th>\n",
       "      <td>Jun</td>\n",
       "      <td>609</td>\n",
       "    </tr>\n",
       "    <tr>\n",
       "      <th>6</th>\n",
       "      <td>Mar</td>\n",
       "      <td>484</td>\n",
       "    </tr>\n",
       "    <tr>\n",
       "      <th>7</th>\n",
       "      <td>May</td>\n",
       "      <td>554</td>\n",
       "    </tr>\n",
       "    <tr>\n",
       "      <th>8</th>\n",
       "      <td>Nov</td>\n",
       "      <td>495</td>\n",
       "    </tr>\n",
       "    <tr>\n",
       "      <th>9</th>\n",
       "      <td>Oct</td>\n",
       "      <td>556</td>\n",
       "    </tr>\n",
       "    <tr>\n",
       "      <th>10</th>\n",
       "      <td>Sep</td>\n",
       "      <td>532</td>\n",
       "    </tr>\n",
       "  </tbody>\n",
       "</table>\n",
       "</div>"
      ],
      "text/plain": [
       "   Month Occured  Crime Count\n",
       "0            Apr          468\n",
       "1            Aug          583\n",
       "2            Feb          437\n",
       "3            Jan          549\n",
       "4            Jul          588\n",
       "5            Jun          609\n",
       "6            Mar          484\n",
       "7            May          554\n",
       "8            Nov          495\n",
       "9            Oct          556\n",
       "10           Sep          532"
      ]
     },
     "execution_count": 87,
     "metadata": {},
     "output_type": "execute_result"
    }
   ],
   "source": [
    "crime_count_by_Month_df = crime_count_by_Month.reset_index(name='Crime Count')\n",
    "crime_count_by_Month_df"
   ]
  },
  {
   "cell_type": "markdown",
   "metadata": {},
   "source": [
    "Here, i create a df to create a column \"Month Occured\" and \"Crime Count\""
   ]
  },
  {
   "cell_type": "code",
   "execution_count": 88,
   "metadata": {},
   "outputs": [
    {
     "data": {
      "text/html": [
       "<div>\n",
       "<style scoped>\n",
       "    .dataframe tbody tr th:only-of-type {\n",
       "        vertical-align: middle;\n",
       "    }\n",
       "\n",
       "    .dataframe tbody tr th {\n",
       "        vertical-align: top;\n",
       "    }\n",
       "\n",
       "    .dataframe thead th {\n",
       "        text-align: right;\n",
       "    }\n",
       "</style>\n",
       "<table border=\"1\" class=\"dataframe\">\n",
       "  <thead>\n",
       "    <tr style=\"text-align: right;\">\n",
       "      <th></th>\n",
       "      <th>Series ID</th>\n",
       "      <th>Year</th>\n",
       "      <th>Period</th>\n",
       "      <th>Label</th>\n",
       "      <th>Value</th>\n",
       "    </tr>\n",
       "  </thead>\n",
       "  <tbody>\n",
       "    <tr>\n",
       "      <th>0</th>\n",
       "      <td>LAUMT011382000000003</td>\n",
       "      <td>2021</td>\n",
       "      <td>M01</td>\n",
       "      <td>2021 Jan</td>\n",
       "      <td>4.1</td>\n",
       "    </tr>\n",
       "  </tbody>\n",
       "</table>\n",
       "</div>"
      ],
      "text/plain": [
       "              Series ID  Year Period     Label  Value\n",
       "0  LAUMT011382000000003  2021    M01  2021 Jan    4.1"
      ]
     },
     "execution_count": 88,
     "metadata": {},
     "output_type": "execute_result"
    }
   ],
   "source": [
    "birm_unemployment_df.head(1)"
   ]
  },
  {
   "cell_type": "markdown",
   "metadata": {},
   "source": [
    "runing the unemployment data"
   ]
  },
  {
   "cell_type": "code",
   "execution_count": 89,
   "metadata": {},
   "outputs": [
    {
     "data": {
      "text/html": [
       "<div>\n",
       "<style scoped>\n",
       "    .dataframe tbody tr th:only-of-type {\n",
       "        vertical-align: middle;\n",
       "    }\n",
       "\n",
       "    .dataframe tbody tr th {\n",
       "        vertical-align: top;\n",
       "    }\n",
       "\n",
       "    .dataframe thead th {\n",
       "        text-align: right;\n",
       "    }\n",
       "</style>\n",
       "<table border=\"1\" class=\"dataframe\">\n",
       "  <thead>\n",
       "    <tr style=\"text-align: right;\">\n",
       "      <th></th>\n",
       "      <th>Series ID</th>\n",
       "      <th>Year</th>\n",
       "      <th>Period</th>\n",
       "      <th>Label</th>\n",
       "      <th>Value</th>\n",
       "      <th>Month</th>\n",
       "    </tr>\n",
       "  </thead>\n",
       "  <tbody>\n",
       "    <tr>\n",
       "      <th>0</th>\n",
       "      <td>LAUMT011382000000003</td>\n",
       "      <td>2021</td>\n",
       "      <td>M01</td>\n",
       "      <td>2021 Jan</td>\n",
       "      <td>4.1</td>\n",
       "      <td>Jan</td>\n",
       "    </tr>\n",
       "    <tr>\n",
       "      <th>1</th>\n",
       "      <td>LAUMT011382000000003</td>\n",
       "      <td>2021</td>\n",
       "      <td>M02</td>\n",
       "      <td>2021 Feb</td>\n",
       "      <td>3.8</td>\n",
       "      <td>Feb</td>\n",
       "    </tr>\n",
       "    <tr>\n",
       "      <th>2</th>\n",
       "      <td>LAUMT011382000000003</td>\n",
       "      <td>2021</td>\n",
       "      <td>M03</td>\n",
       "      <td>2021 Mar</td>\n",
       "      <td>3.4</td>\n",
       "      <td>Mar</td>\n",
       "    </tr>\n",
       "    <tr>\n",
       "      <th>3</th>\n",
       "      <td>LAUMT011382000000003</td>\n",
       "      <td>2021</td>\n",
       "      <td>M04</td>\n",
       "      <td>2021 Apr</td>\n",
       "      <td>3.0</td>\n",
       "      <td>Apr</td>\n",
       "    </tr>\n",
       "    <tr>\n",
       "      <th>4</th>\n",
       "      <td>LAUMT011382000000003</td>\n",
       "      <td>2021</td>\n",
       "      <td>M05</td>\n",
       "      <td>2021 May</td>\n",
       "      <td>2.9</td>\n",
       "      <td>May</td>\n",
       "    </tr>\n",
       "  </tbody>\n",
       "</table>\n",
       "</div>"
      ],
      "text/plain": [
       "              Series ID  Year Period     Label  Value Month\n",
       "0  LAUMT011382000000003  2021    M01  2021 Jan    4.1   Jan\n",
       "1  LAUMT011382000000003  2021    M02  2021 Feb    3.8   Feb\n",
       "2  LAUMT011382000000003  2021    M03  2021 Mar    3.4   Mar\n",
       "3  LAUMT011382000000003  2021    M04  2021 Apr    3.0   Apr\n",
       "4  LAUMT011382000000003  2021    M05  2021 May    2.9   May"
      ]
     },
     "execution_count": 89,
     "metadata": {},
     "output_type": "execute_result"
    }
   ],
   "source": [
    "birm_unemployment_df[['Year', 'Month']] = birm_unemployment_df['Label'].str.split(' ', expand=True)\n",
    "birm_unemployment_df.head()"
   ]
  },
  {
   "cell_type": "markdown",
   "metadata": {},
   "source": [
    "This code extracts the month information from a column named \"Label\" and stores these values into a new column named  \"Month\". It then displays the first few rows of the modified DataFrame."
   ]
  },
  {
   "cell_type": "code",
   "execution_count": 90,
   "metadata": {},
   "outputs": [
    {
     "data": {
      "text/html": [
       "<div>\n",
       "<style scoped>\n",
       "    .dataframe tbody tr th:only-of-type {\n",
       "        vertical-align: middle;\n",
       "    }\n",
       "\n",
       "    .dataframe tbody tr th {\n",
       "        vertical-align: top;\n",
       "    }\n",
       "\n",
       "    .dataframe thead th {\n",
       "        text-align: right;\n",
       "    }\n",
       "</style>\n",
       "<table border=\"1\" class=\"dataframe\">\n",
       "  <thead>\n",
       "    <tr style=\"text-align: right;\">\n",
       "      <th></th>\n",
       "      <th>Series ID</th>\n",
       "      <th>Year</th>\n",
       "      <th>Period</th>\n",
       "      <th>Label</th>\n",
       "      <th>Unemployed Population</th>\n",
       "      <th>Month</th>\n",
       "    </tr>\n",
       "  </thead>\n",
       "  <tbody>\n",
       "    <tr>\n",
       "      <th>31</th>\n",
       "      <td>LAUMT011382000000003</td>\n",
       "      <td>2023</td>\n",
       "      <td>M08</td>\n",
       "      <td>2023 Aug</td>\n",
       "      <td>2.3</td>\n",
       "      <td>Aug</td>\n",
       "    </tr>\n",
       "    <tr>\n",
       "      <th>32</th>\n",
       "      <td>LAUMT011382000000003</td>\n",
       "      <td>2023</td>\n",
       "      <td>M09</td>\n",
       "      <td>2023 Sep</td>\n",
       "      <td>2.3</td>\n",
       "      <td>Sep</td>\n",
       "    </tr>\n",
       "    <tr>\n",
       "      <th>33</th>\n",
       "      <td>LAUMT011382000000003</td>\n",
       "      <td>2023</td>\n",
       "      <td>M10</td>\n",
       "      <td>2023 Oct</td>\n",
       "      <td>2.2</td>\n",
       "      <td>Oct</td>\n",
       "    </tr>\n",
       "    <tr>\n",
       "      <th>34</th>\n",
       "      <td>LAUMT011382000000003</td>\n",
       "      <td>2023</td>\n",
       "      <td>M11</td>\n",
       "      <td>2023 Nov</td>\n",
       "      <td>2.3</td>\n",
       "      <td>Nov</td>\n",
       "    </tr>\n",
       "    <tr>\n",
       "      <th>35</th>\n",
       "      <td>LAUMT011382000000003</td>\n",
       "      <td>2023</td>\n",
       "      <td>M12</td>\n",
       "      <td>2023 Dec</td>\n",
       "      <td>2.4</td>\n",
       "      <td>Dec</td>\n",
       "    </tr>\n",
       "  </tbody>\n",
       "</table>\n",
       "</div>"
      ],
      "text/plain": [
       "               Series ID  Year Period     Label  Unemployed Population Month\n",
       "31  LAUMT011382000000003  2023    M08  2023 Aug                    2.3   Aug\n",
       "32  LAUMT011382000000003  2023    M09  2023 Sep                    2.3   Sep\n",
       "33  LAUMT011382000000003  2023    M10  2023 Oct                    2.2   Oct\n",
       "34  LAUMT011382000000003  2023    M11  2023 Nov                    2.3   Nov\n",
       "35  LAUMT011382000000003  2023    M12  2023 Dec                    2.4   Dec"
      ]
     },
     "execution_count": 90,
     "metadata": {},
     "output_type": "execute_result"
    }
   ],
   "source": [
    "birm_unemployment_df.rename(columns={'Value': 'Unemployed Population'}, inplace=True)\n",
    "birm_unemployment_df.tail(5)"
   ]
  },
  {
   "cell_type": "markdown",
   "metadata": {},
   "source": [
    "This code renames the Value column to Unemployed Population and stores these values into new column named \"Unemployed Population\". It then displays the tail of the modified df"
   ]
  },
  {
   "cell_type": "code",
   "execution_count": 93,
   "metadata": {},
   "outputs": [
    {
     "data": {
      "text/html": [
       "<div>\n",
       "<style scoped>\n",
       "    .dataframe tbody tr th:only-of-type {\n",
       "        vertical-align: middle;\n",
       "    }\n",
       "\n",
       "    .dataframe tbody tr th {\n",
       "        vertical-align: top;\n",
       "    }\n",
       "\n",
       "    .dataframe thead th {\n",
       "        text-align: right;\n",
       "    }\n",
       "</style>\n",
       "<table border=\"1\" class=\"dataframe\">\n",
       "  <thead>\n",
       "    <tr style=\"text-align: right;\">\n",
       "      <th></th>\n",
       "      <th>Series ID</th>\n",
       "      <th>Year</th>\n",
       "      <th>Period</th>\n",
       "      <th>Label</th>\n",
       "      <th>Unemployed Population</th>\n",
       "      <th>Month</th>\n",
       "    </tr>\n",
       "  </thead>\n",
       "  <tbody>\n",
       "    <tr>\n",
       "      <th>24</th>\n",
       "      <td>LAUMT011382000000003</td>\n",
       "      <td>2023</td>\n",
       "      <td>M01</td>\n",
       "      <td>2023 Jan</td>\n",
       "      <td>2.3</td>\n",
       "      <td>Jan</td>\n",
       "    </tr>\n",
       "    <tr>\n",
       "      <th>25</th>\n",
       "      <td>LAUMT011382000000003</td>\n",
       "      <td>2023</td>\n",
       "      <td>M02</td>\n",
       "      <td>2023 Feb</td>\n",
       "      <td>2.2</td>\n",
       "      <td>Feb</td>\n",
       "    </tr>\n",
       "    <tr>\n",
       "      <th>26</th>\n",
       "      <td>LAUMT011382000000003</td>\n",
       "      <td>2023</td>\n",
       "      <td>M03</td>\n",
       "      <td>2023 Mar</td>\n",
       "      <td>1.8</td>\n",
       "      <td>Mar</td>\n",
       "    </tr>\n",
       "    <tr>\n",
       "      <th>27</th>\n",
       "      <td>LAUMT011382000000003</td>\n",
       "      <td>2023</td>\n",
       "      <td>M04</td>\n",
       "      <td>2023 Apr</td>\n",
       "      <td>1.6</td>\n",
       "      <td>Apr</td>\n",
       "    </tr>\n",
       "    <tr>\n",
       "      <th>28</th>\n",
       "      <td>LAUMT011382000000003</td>\n",
       "      <td>2023</td>\n",
       "      <td>M05</td>\n",
       "      <td>2023 May</td>\n",
       "      <td>2.0</td>\n",
       "      <td>May</td>\n",
       "    </tr>\n",
       "    <tr>\n",
       "      <th>29</th>\n",
       "      <td>LAUMT011382000000003</td>\n",
       "      <td>2023</td>\n",
       "      <td>M06</td>\n",
       "      <td>2023 Jun</td>\n",
       "      <td>2.5</td>\n",
       "      <td>Jun</td>\n",
       "    </tr>\n",
       "    <tr>\n",
       "      <th>30</th>\n",
       "      <td>LAUMT011382000000003</td>\n",
       "      <td>2023</td>\n",
       "      <td>M07</td>\n",
       "      <td>2023 Jul</td>\n",
       "      <td>2.1</td>\n",
       "      <td>Jul</td>\n",
       "    </tr>\n",
       "    <tr>\n",
       "      <th>31</th>\n",
       "      <td>LAUMT011382000000003</td>\n",
       "      <td>2023</td>\n",
       "      <td>M08</td>\n",
       "      <td>2023 Aug</td>\n",
       "      <td>2.3</td>\n",
       "      <td>Aug</td>\n",
       "    </tr>\n",
       "    <tr>\n",
       "      <th>32</th>\n",
       "      <td>LAUMT011382000000003</td>\n",
       "      <td>2023</td>\n",
       "      <td>M09</td>\n",
       "      <td>2023 Sep</td>\n",
       "      <td>2.3</td>\n",
       "      <td>Sep</td>\n",
       "    </tr>\n",
       "    <tr>\n",
       "      <th>33</th>\n",
       "      <td>LAUMT011382000000003</td>\n",
       "      <td>2023</td>\n",
       "      <td>M10</td>\n",
       "      <td>2023 Oct</td>\n",
       "      <td>2.2</td>\n",
       "      <td>Oct</td>\n",
       "    </tr>\n",
       "    <tr>\n",
       "      <th>34</th>\n",
       "      <td>LAUMT011382000000003</td>\n",
       "      <td>2023</td>\n",
       "      <td>M11</td>\n",
       "      <td>2023 Nov</td>\n",
       "      <td>2.3</td>\n",
       "      <td>Nov</td>\n",
       "    </tr>\n",
       "    <tr>\n",
       "      <th>35</th>\n",
       "      <td>LAUMT011382000000003</td>\n",
       "      <td>2023</td>\n",
       "      <td>M12</td>\n",
       "      <td>2023 Dec</td>\n",
       "      <td>2.4</td>\n",
       "      <td>Dec</td>\n",
       "    </tr>\n",
       "  </tbody>\n",
       "</table>\n",
       "</div>"
      ],
      "text/plain": [
       "               Series ID  Year Period     Label  Unemployed Population Month\n",
       "24  LAUMT011382000000003  2023    M01  2023 Jan                    2.3   Jan\n",
       "25  LAUMT011382000000003  2023    M02  2023 Feb                    2.2   Feb\n",
       "26  LAUMT011382000000003  2023    M03  2023 Mar                    1.8   Mar\n",
       "27  LAUMT011382000000003  2023    M04  2023 Apr                    1.6   Apr\n",
       "28  LAUMT011382000000003  2023    M05  2023 May                    2.0   May\n",
       "29  LAUMT011382000000003  2023    M06  2023 Jun                    2.5   Jun\n",
       "30  LAUMT011382000000003  2023    M07  2023 Jul                    2.1   Jul\n",
       "31  LAUMT011382000000003  2023    M08  2023 Aug                    2.3   Aug\n",
       "32  LAUMT011382000000003  2023    M09  2023 Sep                    2.3   Sep\n",
       "33  LAUMT011382000000003  2023    M10  2023 Oct                    2.2   Oct\n",
       "34  LAUMT011382000000003  2023    M11  2023 Nov                    2.3   Nov\n",
       "35  LAUMT011382000000003  2023    M12  2023 Dec                    2.4   Dec"
      ]
     },
     "execution_count": 93,
     "metadata": {},
     "output_type": "execute_result"
    }
   ],
   "source": [
    "birm_unemployment_df_2023 = birm_unemployment_df[birm_unemployment_df['Year'] == \"2023\"]\n",
    "birm_unemployment_df_2023"
   ]
  },
  {
   "cell_type": "markdown",
   "metadata": {},
   "source": [
    "Here, i am extracting the year 2023, that means, i am looking for when the year =2023, because the birmingham crime data only has year as 2023"
   ]
  },
  {
   "cell_type": "code",
   "execution_count": 94,
   "metadata": {},
   "outputs": [
    {
     "data": {
      "text/html": [
       "<div>\n",
       "<style scoped>\n",
       "    .dataframe tbody tr th:only-of-type {\n",
       "        vertical-align: middle;\n",
       "    }\n",
       "\n",
       "    .dataframe tbody tr th {\n",
       "        vertical-align: top;\n",
       "    }\n",
       "\n",
       "    .dataframe thead th {\n",
       "        text-align: right;\n",
       "    }\n",
       "</style>\n",
       "<table border=\"1\" class=\"dataframe\">\n",
       "  <thead>\n",
       "    <tr style=\"text-align: right;\">\n",
       "      <th></th>\n",
       "      <th>Year</th>\n",
       "      <th>Unemployed Population</th>\n",
       "      <th>Month</th>\n",
       "    </tr>\n",
       "  </thead>\n",
       "  <tbody>\n",
       "    <tr>\n",
       "      <th>24</th>\n",
       "      <td>2023</td>\n",
       "      <td>2.3</td>\n",
       "      <td>Jan</td>\n",
       "    </tr>\n",
       "    <tr>\n",
       "      <th>25</th>\n",
       "      <td>2023</td>\n",
       "      <td>2.2</td>\n",
       "      <td>Feb</td>\n",
       "    </tr>\n",
       "    <tr>\n",
       "      <th>26</th>\n",
       "      <td>2023</td>\n",
       "      <td>1.8</td>\n",
       "      <td>Mar</td>\n",
       "    </tr>\n",
       "    <tr>\n",
       "      <th>27</th>\n",
       "      <td>2023</td>\n",
       "      <td>1.6</td>\n",
       "      <td>Apr</td>\n",
       "    </tr>\n",
       "    <tr>\n",
       "      <th>28</th>\n",
       "      <td>2023</td>\n",
       "      <td>2.0</td>\n",
       "      <td>May</td>\n",
       "    </tr>\n",
       "  </tbody>\n",
       "</table>\n",
       "</div>"
      ],
      "text/plain": [
       "    Year  Unemployed Population Month\n",
       "24  2023                    2.3   Jan\n",
       "25  2023                    2.2   Feb\n",
       "26  2023                    1.8   Mar\n",
       "27  2023                    1.6   Apr\n",
       "28  2023                    2.0   May"
      ]
     },
     "execution_count": 94,
     "metadata": {},
     "output_type": "execute_result"
    }
   ],
   "source": [
    "birm_unemployment_df_2023=birm_unemployment_df_2023[['Year', 'Unemployed Population', 'Month']]\n",
    "birm_unemployment_df_2023.head()"
   ]
  },
  {
   "cell_type": "markdown",
   "metadata": {},
   "source": [
    "I am isolating specific columns of interest from the df ['Year', 'Unemployed Population', 'Month'] and displaying the first few rows of the resulting dataset.  "
   ]
  },
  {
   "cell_type": "code",
   "execution_count": 95,
   "metadata": {},
   "outputs": [
    {
     "data": {
      "text/html": [
       "<div>\n",
       "<style scoped>\n",
       "    .dataframe tbody tr th:only-of-type {\n",
       "        vertical-align: middle;\n",
       "    }\n",
       "\n",
       "    .dataframe tbody tr th {\n",
       "        vertical-align: top;\n",
       "    }\n",
       "\n",
       "    .dataframe thead th {\n",
       "        text-align: right;\n",
       "    }\n",
       "</style>\n",
       "<table border=\"1\" class=\"dataframe\">\n",
       "  <thead>\n",
       "    <tr style=\"text-align: right;\">\n",
       "      <th></th>\n",
       "      <th>Unemployed Population</th>\n",
       "      <th>Month</th>\n",
       "    </tr>\n",
       "  </thead>\n",
       "  <tbody>\n",
       "    <tr>\n",
       "      <th>24</th>\n",
       "      <td>2.3</td>\n",
       "      <td>Jan</td>\n",
       "    </tr>\n",
       "    <tr>\n",
       "      <th>25</th>\n",
       "      <td>2.2</td>\n",
       "      <td>Feb</td>\n",
       "    </tr>\n",
       "    <tr>\n",
       "      <th>26</th>\n",
       "      <td>1.8</td>\n",
       "      <td>Mar</td>\n",
       "    </tr>\n",
       "    <tr>\n",
       "      <th>27</th>\n",
       "      <td>1.6</td>\n",
       "      <td>Apr</td>\n",
       "    </tr>\n",
       "    <tr>\n",
       "      <th>28</th>\n",
       "      <td>2.0</td>\n",
       "      <td>May</td>\n",
       "    </tr>\n",
       "    <tr>\n",
       "      <th>29</th>\n",
       "      <td>2.5</td>\n",
       "      <td>Jun</td>\n",
       "    </tr>\n",
       "    <tr>\n",
       "      <th>30</th>\n",
       "      <td>2.1</td>\n",
       "      <td>Jul</td>\n",
       "    </tr>\n",
       "    <tr>\n",
       "      <th>31</th>\n",
       "      <td>2.3</td>\n",
       "      <td>Aug</td>\n",
       "    </tr>\n",
       "    <tr>\n",
       "      <th>32</th>\n",
       "      <td>2.3</td>\n",
       "      <td>Sep</td>\n",
       "    </tr>\n",
       "    <tr>\n",
       "      <th>33</th>\n",
       "      <td>2.2</td>\n",
       "      <td>Oct</td>\n",
       "    </tr>\n",
       "    <tr>\n",
       "      <th>34</th>\n",
       "      <td>2.3</td>\n",
       "      <td>Nov</td>\n",
       "    </tr>\n",
       "    <tr>\n",
       "      <th>35</th>\n",
       "      <td>2.4</td>\n",
       "      <td>Dec</td>\n",
       "    </tr>\n",
       "  </tbody>\n",
       "</table>\n",
       "</div>"
      ],
      "text/plain": [
       "    Unemployed Population Month\n",
       "24                    2.3   Jan\n",
       "25                    2.2   Feb\n",
       "26                    1.8   Mar\n",
       "27                    1.6   Apr\n",
       "28                    2.0   May\n",
       "29                    2.5   Jun\n",
       "30                    2.1   Jul\n",
       "31                    2.3   Aug\n",
       "32                    2.3   Sep\n",
       "33                    2.2   Oct\n",
       "34                    2.3   Nov\n",
       "35                    2.4   Dec"
      ]
     },
     "execution_count": 95,
     "metadata": {},
     "output_type": "execute_result"
    }
   ],
   "source": [
    "birm_unemployment_df_month = birm_unemployment_df_2023[['Unemployed Population', 'Month']]\n",
    "birm_unemployment_df_month"
   ]
  },
  {
   "cell_type": "markdown",
   "metadata": {},
   "source": [
    "I am doing almost the same thing here as above, isolating specific columns of interest from the df [Unemployed Population', 'Month'] and displaying the first few rows of the resulting dataset.  "
   ]
  },
  {
   "cell_type": "code",
   "execution_count": 99,
   "metadata": {},
   "outputs": [
    {
     "data": {
      "text/html": [
       "<div>\n",
       "<style scoped>\n",
       "    .dataframe tbody tr th:only-of-type {\n",
       "        vertical-align: middle;\n",
       "    }\n",
       "\n",
       "    .dataframe tbody tr th {\n",
       "        vertical-align: top;\n",
       "    }\n",
       "\n",
       "    .dataframe thead th {\n",
       "        text-align: right;\n",
       "    }\n",
       "</style>\n",
       "<table border=\"1\" class=\"dataframe\">\n",
       "  <thead>\n",
       "    <tr style=\"text-align: right;\">\n",
       "      <th></th>\n",
       "      <th>Unemployed Population</th>\n",
       "      <th>Month</th>\n",
       "    </tr>\n",
       "  </thead>\n",
       "  <tbody>\n",
       "    <tr>\n",
       "      <th>0</th>\n",
       "      <td>2.3</td>\n",
       "      <td>Jan</td>\n",
       "    </tr>\n",
       "    <tr>\n",
       "      <th>1</th>\n",
       "      <td>2.2</td>\n",
       "      <td>Feb</td>\n",
       "    </tr>\n",
       "    <tr>\n",
       "      <th>2</th>\n",
       "      <td>1.8</td>\n",
       "      <td>Mar</td>\n",
       "    </tr>\n",
       "    <tr>\n",
       "      <th>3</th>\n",
       "      <td>1.6</td>\n",
       "      <td>Apr</td>\n",
       "    </tr>\n",
       "    <tr>\n",
       "      <th>4</th>\n",
       "      <td>2.0</td>\n",
       "      <td>May</td>\n",
       "    </tr>\n",
       "    <tr>\n",
       "      <th>5</th>\n",
       "      <td>2.5</td>\n",
       "      <td>Jun</td>\n",
       "    </tr>\n",
       "    <tr>\n",
       "      <th>6</th>\n",
       "      <td>2.1</td>\n",
       "      <td>Jul</td>\n",
       "    </tr>\n",
       "    <tr>\n",
       "      <th>7</th>\n",
       "      <td>2.3</td>\n",
       "      <td>Aug</td>\n",
       "    </tr>\n",
       "    <tr>\n",
       "      <th>8</th>\n",
       "      <td>2.3</td>\n",
       "      <td>Sep</td>\n",
       "    </tr>\n",
       "    <tr>\n",
       "      <th>9</th>\n",
       "      <td>2.2</td>\n",
       "      <td>Oct</td>\n",
       "    </tr>\n",
       "    <tr>\n",
       "      <th>10</th>\n",
       "      <td>2.3</td>\n",
       "      <td>Nov</td>\n",
       "    </tr>\n",
       "    <tr>\n",
       "      <th>11</th>\n",
       "      <td>2.4</td>\n",
       "      <td>Dec</td>\n",
       "    </tr>\n",
       "  </tbody>\n",
       "</table>\n",
       "</div>"
      ],
      "text/plain": [
       "    Unemployed Population Month\n",
       "0                     2.3   Jan\n",
       "1                     2.2   Feb\n",
       "2                     1.8   Mar\n",
       "3                     1.6   Apr\n",
       "4                     2.0   May\n",
       "5                     2.5   Jun\n",
       "6                     2.1   Jul\n",
       "7                     2.3   Aug\n",
       "8                     2.3   Sep\n",
       "9                     2.2   Oct\n",
       "10                    2.3   Nov\n",
       "11                    2.4   Dec"
      ]
     },
     "execution_count": 99,
     "metadata": {},
     "output_type": "execute_result"
    }
   ],
   "source": [
    "#reset index\n",
    "birm_unemployment_df_month.reset_index(inplace=True, drop=True)\n",
    "birm_unemployment_df_month.head(12)"
   ]
  },
  {
   "cell_type": "markdown",
   "metadata": {},
   "source": [
    "reseting index"
   ]
  },
  {
   "cell_type": "code",
   "execution_count": 100,
   "metadata": {},
   "outputs": [
    {
     "data": {
      "text/html": [
       "<div>\n",
       "<style scoped>\n",
       "    .dataframe tbody tr th:only-of-type {\n",
       "        vertical-align: middle;\n",
       "    }\n",
       "\n",
       "    .dataframe tbody tr th {\n",
       "        vertical-align: top;\n",
       "    }\n",
       "\n",
       "    .dataframe thead th {\n",
       "        text-align: right;\n",
       "    }\n",
       "</style>\n",
       "<table border=\"1\" class=\"dataframe\">\n",
       "  <thead>\n",
       "    <tr style=\"text-align: right;\">\n",
       "      <th></th>\n",
       "      <th>Unemployed Population</th>\n",
       "      <th>Month</th>\n",
       "      <th>Month Occured</th>\n",
       "      <th>Crime Count</th>\n",
       "    </tr>\n",
       "  </thead>\n",
       "  <tbody>\n",
       "    <tr>\n",
       "      <th>0</th>\n",
       "      <td>2.3</td>\n",
       "      <td>Jan</td>\n",
       "      <td>Jan</td>\n",
       "      <td>549.0</td>\n",
       "    </tr>\n",
       "    <tr>\n",
       "      <th>1</th>\n",
       "      <td>2.2</td>\n",
       "      <td>Feb</td>\n",
       "      <td>Feb</td>\n",
       "      <td>437.0</td>\n",
       "    </tr>\n",
       "    <tr>\n",
       "      <th>2</th>\n",
       "      <td>1.8</td>\n",
       "      <td>Mar</td>\n",
       "      <td>Mar</td>\n",
       "      <td>484.0</td>\n",
       "    </tr>\n",
       "    <tr>\n",
       "      <th>3</th>\n",
       "      <td>1.6</td>\n",
       "      <td>Apr</td>\n",
       "      <td>Apr</td>\n",
       "      <td>468.0</td>\n",
       "    </tr>\n",
       "    <tr>\n",
       "      <th>4</th>\n",
       "      <td>2.0</td>\n",
       "      <td>May</td>\n",
       "      <td>May</td>\n",
       "      <td>554.0</td>\n",
       "    </tr>\n",
       "    <tr>\n",
       "      <th>5</th>\n",
       "      <td>2.5</td>\n",
       "      <td>Jun</td>\n",
       "      <td>Jun</td>\n",
       "      <td>609.0</td>\n",
       "    </tr>\n",
       "    <tr>\n",
       "      <th>6</th>\n",
       "      <td>2.1</td>\n",
       "      <td>Jul</td>\n",
       "      <td>Jul</td>\n",
       "      <td>588.0</td>\n",
       "    </tr>\n",
       "    <tr>\n",
       "      <th>7</th>\n",
       "      <td>2.3</td>\n",
       "      <td>Aug</td>\n",
       "      <td>Aug</td>\n",
       "      <td>583.0</td>\n",
       "    </tr>\n",
       "    <tr>\n",
       "      <th>8</th>\n",
       "      <td>2.3</td>\n",
       "      <td>Sep</td>\n",
       "      <td>Sep</td>\n",
       "      <td>532.0</td>\n",
       "    </tr>\n",
       "    <tr>\n",
       "      <th>9</th>\n",
       "      <td>2.2</td>\n",
       "      <td>Oct</td>\n",
       "      <td>Oct</td>\n",
       "      <td>556.0</td>\n",
       "    </tr>\n",
       "    <tr>\n",
       "      <th>10</th>\n",
       "      <td>2.3</td>\n",
       "      <td>Nov</td>\n",
       "      <td>Nov</td>\n",
       "      <td>495.0</td>\n",
       "    </tr>\n",
       "    <tr>\n",
       "      <th>11</th>\n",
       "      <td>2.4</td>\n",
       "      <td>Dec</td>\n",
       "      <td>NaN</td>\n",
       "      <td>NaN</td>\n",
       "    </tr>\n",
       "  </tbody>\n",
       "</table>\n",
       "</div>"
      ],
      "text/plain": [
       "    Unemployed Population Month Month Occured  Crime Count\n",
       "0                     2.3   Jan           Jan        549.0\n",
       "1                     2.2   Feb           Feb        437.0\n",
       "2                     1.8   Mar           Mar        484.0\n",
       "3                     1.6   Apr           Apr        468.0\n",
       "4                     2.0   May           May        554.0\n",
       "5                     2.5   Jun           Jun        609.0\n",
       "6                     2.1   Jul           Jul        588.0\n",
       "7                     2.3   Aug           Aug        583.0\n",
       "8                     2.3   Sep           Sep        532.0\n",
       "9                     2.2   Oct           Oct        556.0\n",
       "10                    2.3   Nov           Nov        495.0\n",
       "11                    2.4   Dec           NaN          NaN"
      ]
     },
     "execution_count": 100,
     "metadata": {},
     "output_type": "execute_result"
    }
   ],
   "source": [
    "crime_unemployment_year = pd.merge(birm_unemployment_df_month, crime_count_by_Month_df,left_on='Month', right_on='Month Occured', how='outer')\n",
    "crime_unemployment_year"
   ]
  },
  {
   "cell_type": "markdown",
   "metadata": {},
   "source": [
    "merge birm_unemployment_df_month and crime_count_by_Month_df"
   ]
  },
  {
   "cell_type": "code",
   "execution_count": 101,
   "metadata": {},
   "outputs": [
    {
     "data": {
      "text/html": [
       "<div>\n",
       "<style scoped>\n",
       "    .dataframe tbody tr th:only-of-type {\n",
       "        vertical-align: middle;\n",
       "    }\n",
       "\n",
       "    .dataframe tbody tr th {\n",
       "        vertical-align: top;\n",
       "    }\n",
       "\n",
       "    .dataframe thead th {\n",
       "        text-align: right;\n",
       "    }\n",
       "</style>\n",
       "<table border=\"1\" class=\"dataframe\">\n",
       "  <thead>\n",
       "    <tr style=\"text-align: right;\">\n",
       "      <th></th>\n",
       "      <th>Unemployed Population</th>\n",
       "      <th>Month</th>\n",
       "      <th>Crime Count</th>\n",
       "    </tr>\n",
       "  </thead>\n",
       "  <tbody>\n",
       "    <tr>\n",
       "      <th>0</th>\n",
       "      <td>2.3</td>\n",
       "      <td>Jan</td>\n",
       "      <td>549.0</td>\n",
       "    </tr>\n",
       "    <tr>\n",
       "      <th>1</th>\n",
       "      <td>2.2</td>\n",
       "      <td>Feb</td>\n",
       "      <td>437.0</td>\n",
       "    </tr>\n",
       "    <tr>\n",
       "      <th>2</th>\n",
       "      <td>1.8</td>\n",
       "      <td>Mar</td>\n",
       "      <td>484.0</td>\n",
       "    </tr>\n",
       "    <tr>\n",
       "      <th>3</th>\n",
       "      <td>1.6</td>\n",
       "      <td>Apr</td>\n",
       "      <td>468.0</td>\n",
       "    </tr>\n",
       "    <tr>\n",
       "      <th>4</th>\n",
       "      <td>2.0</td>\n",
       "      <td>May</td>\n",
       "      <td>554.0</td>\n",
       "    </tr>\n",
       "    <tr>\n",
       "      <th>5</th>\n",
       "      <td>2.5</td>\n",
       "      <td>Jun</td>\n",
       "      <td>609.0</td>\n",
       "    </tr>\n",
       "    <tr>\n",
       "      <th>6</th>\n",
       "      <td>2.1</td>\n",
       "      <td>Jul</td>\n",
       "      <td>588.0</td>\n",
       "    </tr>\n",
       "    <tr>\n",
       "      <th>7</th>\n",
       "      <td>2.3</td>\n",
       "      <td>Aug</td>\n",
       "      <td>583.0</td>\n",
       "    </tr>\n",
       "    <tr>\n",
       "      <th>8</th>\n",
       "      <td>2.3</td>\n",
       "      <td>Sep</td>\n",
       "      <td>532.0</td>\n",
       "    </tr>\n",
       "    <tr>\n",
       "      <th>9</th>\n",
       "      <td>2.2</td>\n",
       "      <td>Oct</td>\n",
       "      <td>556.0</td>\n",
       "    </tr>\n",
       "    <tr>\n",
       "      <th>10</th>\n",
       "      <td>2.3</td>\n",
       "      <td>Nov</td>\n",
       "      <td>495.0</td>\n",
       "    </tr>\n",
       "    <tr>\n",
       "      <th>11</th>\n",
       "      <td>2.4</td>\n",
       "      <td>Dec</td>\n",
       "      <td>NaN</td>\n",
       "    </tr>\n",
       "  </tbody>\n",
       "</table>\n",
       "</div>"
      ],
      "text/plain": [
       "    Unemployed Population Month  Crime Count\n",
       "0                     2.3   Jan        549.0\n",
       "1                     2.2   Feb        437.0\n",
       "2                     1.8   Mar        484.0\n",
       "3                     1.6   Apr        468.0\n",
       "4                     2.0   May        554.0\n",
       "5                     2.5   Jun        609.0\n",
       "6                     2.1   Jul        588.0\n",
       "7                     2.3   Aug        583.0\n",
       "8                     2.3   Sep        532.0\n",
       "9                     2.2   Oct        556.0\n",
       "10                    2.3   Nov        495.0\n",
       "11                    2.4   Dec          NaN"
      ]
     },
     "execution_count": 101,
     "metadata": {},
     "output_type": "execute_result"
    }
   ],
   "source": [
    "crime_unemployment_year=crime_unemployment_year[['Unemployed Population','Month','Crime Count']]\n",
    "crime_unemployment_year"
   ]
  },
  {
   "cell_type": "markdown",
   "metadata": {},
   "source": [
    "This code shows the number of crime by per in relation with the number of unemployed. One thing is clear, there is the high crime count despite the number of unemployed. "
   ]
  },
  {
   "cell_type": "code",
   "execution_count": 102,
   "metadata": {},
   "outputs": [
    {
     "data": {
      "text/plain": [
       "Month\n",
       "Apr    468.0\n",
       "Aug    583.0\n",
       "Feb    437.0\n",
       "Jan    549.0\n",
       "Jul    588.0\n",
       "Jun    609.0\n",
       "Mar    484.0\n",
       "May    554.0\n",
       "Nov    495.0\n",
       "Oct    556.0\n",
       "Sep    532.0\n",
       "Name: Crime Count, dtype: float64"
      ]
     },
     "execution_count": 102,
     "metadata": {},
     "output_type": "execute_result"
    }
   ],
   "source": [
    "avg_crime_per_month=crime_unemployment_year.groupby('Month')['Crime Count'].mean().dropna()\n",
    "avg_crime_per_month"
   ]
  },
  {
   "cell_type": "markdown",
   "metadata": {},
   "source": [
    "The average crime count per month, on an average, June has the highest number of crime count, followed by July while february is the lowest"
   ]
  },
  {
   "cell_type": "code",
   "execution_count": 103,
   "metadata": {},
   "outputs": [
    {
     "data": {
      "text/plain": [
       "(<Axes: title={'center': 'Average Crime Count Month'}, xlabel='Month', ylabel='Crime Count'>,\n",
       " None)"
      ]
     },
     "execution_count": 103,
     "metadata": {},
     "output_type": "execute_result"
    },
    {
     "data": {
      "image/png": "[encoded data removed]",
      "text/plain": [
       "<Figure size 640x480 with 1 Axes>"
      ]
     },
     "metadata": {},
     "output_type": "display_data"
    }
   ],
   "source": [
    "avg_crime_per_month.plot(kind=\"line\", xlabel='Month', ylabel='Crime Count', title = \"Average Crime Count Month\"), plt.savefig('Average Crime Count Month.png', bbox_inches='tight')"
   ]
  },
  {
   "cell_type": "markdown",
   "metadata": {},
   "source": [
    "The line graph demonstrates the crime count per month"
   ]
  },
  {
   "cell_type": "code",
   "execution_count": 105,
   "metadata": {},
   "outputs": [
    {
     "data": {
      "text/plain": [
       "Crime Count\n",
       "437.0    2.2\n",
       "468.0    1.6\n",
       "484.0    1.8\n",
       "495.0    2.3\n",
       "532.0    2.3\n",
       "549.0    2.3\n",
       "554.0    2.0\n",
       "556.0    2.2\n",
       "583.0    2.3\n",
       "588.0    2.1\n",
       "609.0    2.5\n",
       "Name: Unemployed Population, dtype: float64"
      ]
     },
     "execution_count": 105,
     "metadata": {},
     "output_type": "execute_result"
    }
   ],
   "source": [
    "avg_count_per_unemployment=crime_unemployment_year.groupby('Crime Count')['Unemployed Population'].mean() \n",
    "avg_count_per_unemployment"
   ]
  },
  {
   "cell_type": "code",
   "execution_count": null,
   "metadata": {},
   "outputs": [],
   "source": [
    "birm_crime_df.to_csv('birmingham_crime.csv')"
   ]
  },
  {
   "cell_type": "markdown",
   "metadata": {},
   "source": [
    "i am exporting to csv to use for my tableau"
   ]
  },
  {
   "cell_type": "code",
   "execution_count": null,
   "metadata": {},
   "outputs": [],
   "source": []
  }
 ],
 "metadata": {
  "kernelspec": {
   "display_name": "Python 3 (ipykernel)",
   "language": "python",
   "name": "python3"
  },
  "language_info": {
   "codemirror_mode": {
    "name": "ipython",
    "version": 3
   },
   "file_extension": ".py",
   "mimetype": "text/x-python",
   "name": "python",
   "nbconvert_exporter": "python",
   "pygments_lexer": "ipython3",
   "version": "3.11.5"
  }
 },
 "nbformat": 4,
 "nbformat_minor": 4
}
