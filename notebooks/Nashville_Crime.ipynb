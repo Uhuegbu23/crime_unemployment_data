{
 "cells": [
  {
   "cell_type": "code",
   "execution_count": 1,
   "metadata": {},
   "outputs": [],
   "source": [
    "import pandas as pd   \n",
    "import numpy as np  \n",
    "import matplotlib.pyplot as plt \n",
    "import seaborn as sns\n",
    "from scipy.stats import levene\n",
    "from scipy.stats import f_oneway\n",
    "from scipy.stats import shapiro\n",
    "from scipy.stats import ttest_ind\n",
    "import numpy as np\n",
    "import geopandas as gpd\n",
    "import folium\n",
    "from folium.plugins import MarkerCluster\n",
    "from folium.plugins import FastMarkerCluster"
   ]
  },
  {
   "cell_type": "markdown",
   "metadata": {},
   "source": [
    "# Read CSV, Nashville Crime and Unemployment"
   ]
  },
  {
   "cell_type": "code",
   "execution_count": 2,
   "metadata": {},
   "outputs": [],
   "source": [
    "nash_crime_df=pd.read_csv('../data/Nashville/Metro_Nashville_Police.csv')"
   ]
  },
  {
   "cell_type": "code",
   "execution_count": 3,
   "metadata": {},
   "outputs": [
    {
     "data": {
      "text/html": [
       "<div>\n",
       "<style scoped>\n",
       "    .dataframe tbody tr th:only-of-type {\n",
       "        vertical-align: middle;\n",
       "    }\n",
       "\n",
       "    .dataframe tbody tr th {\n",
       "        vertical-align: top;\n",
       "    }\n",
       "\n",
       "    .dataframe thead th {\n",
       "        text-align: right;\n",
       "    }\n",
       "</style>\n",
       "<table border=\"1\" class=\"dataframe\">\n",
       "  <thead>\n",
       "    <tr style=\"text-align: right;\">\n",
       "      <th></th>\n",
       "      <th>Primary Key</th>\n",
       "      <th>Incident Number</th>\n",
       "      <th>Report Type</th>\n",
       "      <th>Report Type Description</th>\n",
       "      <th>Incident Status Code</th>\n",
       "      <th>Incident Status Description</th>\n",
       "      <th>Investigation Status</th>\n",
       "      <th>Incident Occurred</th>\n",
       "      <th>Incident Reported</th>\n",
       "      <th>Incident Location</th>\n",
       "      <th>...</th>\n",
       "      <th>Weapon Description</th>\n",
       "      <th>Victim Number</th>\n",
       "      <th>Domestic Related</th>\n",
       "      <th>Victim Type</th>\n",
       "      <th>Victim Description</th>\n",
       "      <th>Victim Gender</th>\n",
       "      <th>Victim Race</th>\n",
       "      <th>Victim Ethnicity</th>\n",
       "      <th>Victim County Resident</th>\n",
       "      <th>Mapped Location</th>\n",
       "    </tr>\n",
       "  </thead>\n",
       "  <tbody>\n",
       "    <tr>\n",
       "      <th>0</th>\n",
       "      <td>20190496213_11</td>\n",
       "      <td>20190496213</td>\n",
       "      <td>D</td>\n",
       "      <td>DISPATCHED</td>\n",
       "      <td>U</td>\n",
       "      <td>UNFOUNDED</td>\n",
       "      <td>Closed</td>\n",
       "      <td>07/01/2019 05:31:00 PM</td>\n",
       "      <td>07/01/2019 06:17:00 PM</td>\n",
       "      <td>2410 2410</td>\n",
       "      <td>...</td>\n",
       "      <td>NONE</td>\n",
       "      <td>1</td>\n",
       "      <td>True</td>\n",
       "      <td>I</td>\n",
       "      <td>INDIVIDUAL (18 AND OVER)</td>\n",
       "      <td>M</td>\n",
       "      <td>W</td>\n",
       "      <td>Non-Hispanic</td>\n",
       "      <td>RESIDENT</td>\n",
       "      <td>POINT (-86.696 36.218)</td>\n",
       "    </tr>\n",
       "    <tr>\n",
       "      <th>1</th>\n",
       "      <td>20180290646_11</td>\n",
       "      <td>20180290646</td>\n",
       "      <td>D</td>\n",
       "      <td>DISPATCHED</td>\n",
       "      <td>A</td>\n",
       "      <td>CLEARED BY ARREST</td>\n",
       "      <td>Closed</td>\n",
       "      <td>03/31/2018 12:21:00 PM</td>\n",
       "      <td>03/31/2018 07:41:00 PM</td>\n",
       "      <td>5824 5824</td>\n",
       "      <td>...</td>\n",
       "      <td>NONE</td>\n",
       "      <td>1</td>\n",
       "      <td>False</td>\n",
       "      <td>B</td>\n",
       "      <td>BUSINESS</td>\n",
       "      <td>NaN</td>\n",
       "      <td>NaN</td>\n",
       "      <td>NaN</td>\n",
       "      <td>NaN</td>\n",
       "      <td>POINT (-86.713 36.042)</td>\n",
       "    </tr>\n",
       "  </tbody>\n",
       "</table>\n",
       "<p>2 rows × 31 columns</p>\n",
       "</div>"
      ],
      "text/plain": [
       "      Primary Key  Incident Number Report Type Report Type Description  \\\n",
       "0  20190496213_11      20190496213           D              DISPATCHED   \n",
       "1  20180290646_11      20180290646           D              DISPATCHED   \n",
       "\n",
       "  Incident Status Code Incident Status Description Investigation Status  \\\n",
       "0                    U                   UNFOUNDED               Closed   \n",
       "1                    A           CLEARED BY ARREST               Closed   \n",
       "\n",
       "        Incident Occurred       Incident Reported Incident Location  ...  \\\n",
       "0  07/01/2019 05:31:00 PM  07/01/2019 06:17:00 PM         2410 2410  ...   \n",
       "1  03/31/2018 12:21:00 PM  03/31/2018 07:41:00 PM         5824 5824  ...   \n",
       "\n",
       "   Weapon Description  Victim Number  Domestic Related  Victim Type  \\\n",
       "0                NONE              1              True            I   \n",
       "1                NONE              1             False            B   \n",
       "\n",
       "         Victim Description  Victim Gender Victim Race  Victim Ethnicity  \\\n",
       "0  INDIVIDUAL (18 AND OVER)              M           W      Non-Hispanic   \n",
       "1                  BUSINESS            NaN         NaN               NaN   \n",
       "\n",
       "  Victim County Resident         Mapped Location  \n",
       "0               RESIDENT  POINT (-86.696 36.218)  \n",
       "1                    NaN  POINT (-86.713 36.042)  \n",
       "\n",
       "[2 rows x 31 columns]"
      ]
     },
     "execution_count": 3,
     "metadata": {},
     "output_type": "execute_result"
    }
   ],
   "source": [
    "nash_crime_df.head(2)"
   ]
  },
  {
   "cell_type": "code",
   "execution_count": 4,
   "metadata": {},
   "outputs": [],
   "source": [
    "nash_unemployment_df=pd.read_csv('../data/Nashville/Unemployment_Nashville-Davidson.csv')                   "
   ]
  },
  {
   "cell_type": "code",
   "execution_count": 5,
   "metadata": {},
   "outputs": [
    {
     "data": {
      "text/html": [
       "<div>\n",
       "<style scoped>\n",
       "    .dataframe tbody tr th:only-of-type {\n",
       "        vertical-align: middle;\n",
       "    }\n",
       "\n",
       "    .dataframe tbody tr th {\n",
       "        vertical-align: top;\n",
       "    }\n",
       "\n",
       "    .dataframe thead th {\n",
       "        text-align: right;\n",
       "    }\n",
       "</style>\n",
       "<table border=\"1\" class=\"dataframe\">\n",
       "  <thead>\n",
       "    <tr style=\"text-align: right;\">\n",
       "      <th></th>\n",
       "      <th>Series ID</th>\n",
       "      <th>Year</th>\n",
       "      <th>Period</th>\n",
       "      <th>Label</th>\n",
       "      <th>Value</th>\n",
       "    </tr>\n",
       "  </thead>\n",
       "  <tbody>\n",
       "    <tr>\n",
       "      <th>0</th>\n",
       "      <td>LAUCA474000000000004</td>\n",
       "      <td>2021</td>\n",
       "      <td>M01</td>\n",
       "      <td>2021 Jan</td>\n",
       "      <td>54892</td>\n",
       "    </tr>\n",
       "    <tr>\n",
       "      <th>1</th>\n",
       "      <td>LAUCA474000000000004</td>\n",
       "      <td>2021</td>\n",
       "      <td>M02</td>\n",
       "      <td>2021 Feb</td>\n",
       "      <td>52123</td>\n",
       "    </tr>\n",
       "  </tbody>\n",
       "</table>\n",
       "</div>"
      ],
      "text/plain": [
       "              Series ID  Year Period     Label  Value\n",
       "0  LAUCA474000000000004  2021    M01  2021 Jan  54892\n",
       "1  LAUCA474000000000004  2021    M02  2021 Feb  52123"
      ]
     },
     "execution_count": 5,
     "metadata": {},
     "output_type": "execute_result"
    }
   ],
   "source": [
    "nash_unemployment_df.head(2)"
   ]
  },
  {
   "cell_type": "code",
   "execution_count": 6,
   "metadata": {},
   "outputs": [
    {
     "data": {
      "text/html": [
       "<div>\n",
       "<style scoped>\n",
       "    .dataframe tbody tr th:only-of-type {\n",
       "        vertical-align: middle;\n",
       "    }\n",
       "\n",
       "    .dataframe tbody tr th {\n",
       "        vertical-align: top;\n",
       "    }\n",
       "\n",
       "    .dataframe thead th {\n",
       "        text-align: right;\n",
       "    }\n",
       "</style>\n",
       "<table border=\"1\" class=\"dataframe\">\n",
       "  <thead>\n",
       "    <tr style=\"text-align: right;\">\n",
       "      <th></th>\n",
       "      <th>Series ID</th>\n",
       "      <th>Year</th>\n",
       "      <th>Period</th>\n",
       "      <th>Label</th>\n",
       "      <th>Value</th>\n",
       "      <th>Month</th>\n",
       "    </tr>\n",
       "  </thead>\n",
       "  <tbody>\n",
       "    <tr>\n",
       "      <th>0</th>\n",
       "      <td>LAUCA474000000000004</td>\n",
       "      <td>2021</td>\n",
       "      <td>M01</td>\n",
       "      <td>2021 Jan</td>\n",
       "      <td>54892</td>\n",
       "      <td>Jan</td>\n",
       "    </tr>\n",
       "    <tr>\n",
       "      <th>1</th>\n",
       "      <td>LAUCA474000000000004</td>\n",
       "      <td>2021</td>\n",
       "      <td>M02</td>\n",
       "      <td>2021 Feb</td>\n",
       "      <td>52123</td>\n",
       "      <td>Feb</td>\n",
       "    </tr>\n",
       "    <tr>\n",
       "      <th>2</th>\n",
       "      <td>LAUCA474000000000004</td>\n",
       "      <td>2021</td>\n",
       "      <td>M03</td>\n",
       "      <td>2021 Mar</td>\n",
       "      <td>50828</td>\n",
       "      <td>Mar</td>\n",
       "    </tr>\n",
       "    <tr>\n",
       "      <th>3</th>\n",
       "      <td>LAUCA474000000000004</td>\n",
       "      <td>2021</td>\n",
       "      <td>M04</td>\n",
       "      <td>2021 Apr</td>\n",
       "      <td>48648</td>\n",
       "      <td>Apr</td>\n",
       "    </tr>\n",
       "    <tr>\n",
       "      <th>4</th>\n",
       "      <td>LAUCA474000000000004</td>\n",
       "      <td>2021</td>\n",
       "      <td>M05</td>\n",
       "      <td>2021 May</td>\n",
       "      <td>45838</td>\n",
       "      <td>May</td>\n",
       "    </tr>\n",
       "  </tbody>\n",
       "</table>\n",
       "</div>"
      ],
      "text/plain": [
       "              Series ID  Year Period     Label  Value Month\n",
       "0  LAUCA474000000000004  2021    M01  2021 Jan  54892   Jan\n",
       "1  LAUCA474000000000004  2021    M02  2021 Feb  52123   Feb\n",
       "2  LAUCA474000000000004  2021    M03  2021 Mar  50828   Mar\n",
       "3  LAUCA474000000000004  2021    M04  2021 Apr  48648   Apr\n",
       "4  LAUCA474000000000004  2021    M05  2021 May  45838   May"
      ]
     },
     "execution_count": 6,
     "metadata": {},
     "output_type": "execute_result"
    }
   ],
   "source": [
    "nash_unemployment_df[['Year', 'Month']] = nash_unemployment_df['Label'].str.split(' ', expand=True)\n",
    "nash_unemployment_df.head()"
   ]
  },
  {
   "cell_type": "markdown",
   "metadata": {},
   "source": [
    "it is interesting to note that Nashville unemployment data is in numbers and not rate or percentage and contains from 2021 - 2023"
   ]
  },
  {
   "cell_type": "code",
   "execution_count": 7,
   "metadata": {},
   "outputs": [
    {
     "data": {
      "text/html": [
       "<div>\n",
       "<style scoped>\n",
       "    .dataframe tbody tr th:only-of-type {\n",
       "        vertical-align: middle;\n",
       "    }\n",
       "\n",
       "    .dataframe tbody tr th {\n",
       "        vertical-align: top;\n",
       "    }\n",
       "\n",
       "    .dataframe thead th {\n",
       "        text-align: right;\n",
       "    }\n",
       "</style>\n",
       "<table border=\"1\" class=\"dataframe\">\n",
       "  <thead>\n",
       "    <tr style=\"text-align: right;\">\n",
       "      <th></th>\n",
       "      <th>Series ID</th>\n",
       "      <th>Year</th>\n",
       "      <th>Period</th>\n",
       "      <th>Label</th>\n",
       "      <th>Unemployed Population</th>\n",
       "      <th>Month</th>\n",
       "    </tr>\n",
       "  </thead>\n",
       "  <tbody>\n",
       "    <tr>\n",
       "      <th>34</th>\n",
       "      <td>LAUCA474000000000004</td>\n",
       "      <td>2023</td>\n",
       "      <td>M11</td>\n",
       "      <td>2023 Nov</td>\n",
       "      <td>33534</td>\n",
       "      <td>Nov</td>\n",
       "    </tr>\n",
       "    <tr>\n",
       "      <th>35</th>\n",
       "      <td>LAUCA474000000000004</td>\n",
       "      <td>2023</td>\n",
       "      <td>M12</td>\n",
       "      <td>2023 Dec</td>\n",
       "      <td>29693</td>\n",
       "      <td>Dec</td>\n",
       "    </tr>\n",
       "  </tbody>\n",
       "</table>\n",
       "</div>"
      ],
      "text/plain": [
       "               Series ID  Year Period     Label  Unemployed Population Month\n",
       "34  LAUCA474000000000004  2023    M11  2023 Nov                  33534   Nov\n",
       "35  LAUCA474000000000004  2023    M12  2023 Dec                  29693   Dec"
      ]
     },
     "execution_count": 7,
     "metadata": {},
     "output_type": "execute_result"
    }
   ],
   "source": [
    "nash_unemployment_df.rename(columns={'Value': 'Unemployed Population'}, inplace=True)\n",
    "nash_unemployment_df.tail(2)"
   ]
  },
  {
   "cell_type": "markdown",
   "metadata": {},
   "source": [
    "# Analysis Average unemployment number per month"
   ]
  },
  {
   "cell_type": "code",
   "execution_count": 8,
   "metadata": {},
   "outputs": [
    {
     "data": {
      "text/plain": [
       "Month\n",
       "Apr    34904.67\n",
       "Aug    36713.67\n",
       "Dec    29191.00\n",
       "Feb    39792.33\n",
       "Jan    40784.67\n",
       "Jul    39103.00\n",
       "Jun    43610.00\n",
       "Mar    37635.00\n",
       "May    36722.67\n",
       "Nov    32051.33\n",
       "Oct    34361.67\n",
       "Sep    34573.33\n",
       "Name: Unemployed Population, dtype: float64"
      ]
     },
     "execution_count": 8,
     "metadata": {},
     "output_type": "execute_result"
    }
   ],
   "source": [
    "avg_unemployment_month=round(nash_unemployment_df.groupby('Month')['Unemployed Population'].mean(), 2)\n",
    "avg_unemployment_month"
   ]
  },
  {
   "cell_type": "code",
   "execution_count": 9,
   "metadata": {},
   "outputs": [
    {
     "data": {
      "text/plain": [
       "'Jun'"
      ]
     },
     "execution_count": 9,
     "metadata": {},
     "output_type": "execute_result"
    }
   ],
   "source": [
    "month_with_max_unemployment = avg_unemployment_month.idxmax()\n",
    "month_with_max_unemployment"
   ]
  },
  {
   "cell_type": "code",
   "execution_count": 10,
   "metadata": {},
   "outputs": [
    {
     "data": {
      "text/plain": [
       "'Dec'"
      ]
     },
     "execution_count": 10,
     "metadata": {},
     "output_type": "execute_result"
    }
   ],
   "source": [
    "month_with_min_unemployment = avg_unemployment_month.idxmin()\n",
    "month_with_min_unemployment"
   ]
  },
  {
   "cell_type": "markdown",
   "metadata": {},
   "source": [
    "June is the month with the highest unemployment population while December is the lowest"
   ]
  },
  {
   "cell_type": "code",
   "execution_count": 11,
   "metadata": {},
   "outputs": [
    {
     "data": {
      "text/plain": [
       "Year\n",
       "2021    44323.50\n",
       "2022    32793.50\n",
       "2023    32743.83\n",
       "Name: Unemployed Population, dtype: float64"
      ]
     },
     "execution_count": 11,
     "metadata": {},
     "output_type": "execute_result"
    }
   ],
   "source": [
    "avg_unemployment_year=round(nash_unemployment_df.groupby('Year')['Unemployed Population'].mean(), 2)\n",
    "avg_unemployment_year"
   ]
  },
  {
   "cell_type": "markdown",
   "metadata": {},
   "source": [
    "from the analysis, there is an average of more people who are unemployment in 2021 than 2023 and 2023. Remember, the economy was partially shut down in 2021, during the COVID-19 recovery years."
   ]
  },
  {
   "cell_type": "code",
   "execution_count": 12,
   "metadata": {},
   "outputs": [
    {
     "data": {
      "text/html": [
       "<div>\n",
       "<style scoped>\n",
       "    .dataframe tbody tr th:only-of-type {\n",
       "        vertical-align: middle;\n",
       "    }\n",
       "\n",
       "    .dataframe tbody tr th {\n",
       "        vertical-align: top;\n",
       "    }\n",
       "\n",
       "    .dataframe thead th {\n",
       "        text-align: right;\n",
       "    }\n",
       "</style>\n",
       "<table border=\"1\" class=\"dataframe\">\n",
       "  <thead>\n",
       "    <tr style=\"text-align: right;\">\n",
       "      <th></th>\n",
       "      <th>Year</th>\n",
       "      <th>Unemployed Population</th>\n",
       "    </tr>\n",
       "  </thead>\n",
       "  <tbody>\n",
       "    <tr>\n",
       "      <th>0</th>\n",
       "      <td>2021</td>\n",
       "      <td>531882</td>\n",
       "    </tr>\n",
       "    <tr>\n",
       "      <th>1</th>\n",
       "      <td>2022</td>\n",
       "      <td>393522</td>\n",
       "    </tr>\n",
       "    <tr>\n",
       "      <th>2</th>\n",
       "      <td>2023</td>\n",
       "      <td>392926</td>\n",
       "    </tr>\n",
       "  </tbody>\n",
       "</table>\n",
       "</div>"
      ],
      "text/plain": [
       "   Year  Unemployed Population\n",
       "0  2021                 531882\n",
       "1  2022                 393522\n",
       "2  2023                 392926"
      ]
     },
     "execution_count": 12,
     "metadata": {},
     "output_type": "execute_result"
    }
   ],
   "source": [
    "nash_unemployment_df_by_year = nash_unemployment_df.groupby('Year')['Unemployed Population'].sum().reset_index()\n",
    "nash_unemployment_df_by_year"
   ]
  },
  {
   "cell_type": "markdown",
   "metadata": {},
   "source": [
    "getting the sum of the unemployment number"
   ]
  },
  {
   "cell_type": "code",
   "execution_count": 13,
   "metadata": {},
   "outputs": [
    {
     "data": {
      "text/plain": [
       "Year                     int32\n",
       "Unemployed Population    int64\n",
       "dtype: object"
      ]
     },
     "execution_count": 13,
     "metadata": {},
     "output_type": "execute_result"
    }
   ],
   "source": [
    "nash_unemployment_df_by_year['Year'] = nash_unemployment_df_by_year['Year'].astype('int32')\n",
    "nash_unemployment_df_by_year.dtypes"
   ]
  },
  {
   "cell_type": "code",
   "execution_count": 14,
   "metadata": {},
   "outputs": [
    {
     "data": {
      "text/plain": [
       "Index(['Primary Key', 'Incident Number', 'Report Type',\n",
       "       'Report Type Description', 'Incident Status Code',\n",
       "       'Incident Status Description', 'Investigation Status',\n",
       "       'Incident Occurred', 'Incident Reported', 'Incident Location',\n",
       "       'Latitude', 'Longitude', 'ZIP Code', 'RPA', 'Zone', 'Location Code',\n",
       "       'Location Description', 'Offense Number', 'Offense NIBRS',\n",
       "       'Offense Description', 'Weapon Primary', 'Weapon Description',\n",
       "       'Victim Number', 'Domestic Related', 'Victim Type',\n",
       "       'Victim Description', 'Victim Gender', 'Victim Race',\n",
       "       'Victim Ethnicity', 'Victim County Resident', 'Mapped Location'],\n",
       "      dtype='object')"
      ]
     },
     "execution_count": 14,
     "metadata": {},
     "output_type": "execute_result"
    }
   ],
   "source": [
    "nash_crime_df.columns"
   ]
  },
  {
   "cell_type": "markdown",
   "metadata": {},
   "source": [
    "# Cleaning Zip Code to remove any that does not belong to Nashville"
   ]
  },
  {
   "cell_type": "code",
   "execution_count": 36,
   "metadata": {},
   "outputs": [
    {
     "data": {
      "text/plain": [
       "array(['37214.', '37013.', '37207.', '37205.', '37076.', '37201.',\n",
       "       '37208.', '37219.', '37211.', '37138.', '37216.', '37203.',\n",
       "       '37228.', '37209.', '37210.', '37220.', '37072.', '37218.',\n",
       "       '37206.', '37115.', '37212.', '37221.', '37217.', '37189.',\n",
       "       '37213.', '37204.', '37215.', '37240.', '37080.', '37027.',\n",
       "       '37167.', '37049.', '37025.', '37135.', '37015.', '37122.',\n",
       "       '37086.', '37143.', '37064.', '37683.', '37232.', '6706.',\n",
       "       '37130.', '37066.', '3701.', '37129.', '37087.', '37075.',\n",
       "       '38109.', '30139.', '38562.', '37330.', '37067.', '53701.',\n",
       "       '27707.', '38401.', '91107.', '27216.', '89502.', '37029.',\n",
       "       '90069.', '37082.', '0.', '39202.', '37185.', '37043.', '30318.',\n",
       "       '32801.', '19153.', '43440.', '37110.', '15213.', '37028.',\n",
       "       '29501.', '23236.', '17202.', '37179.', '37090.', '37078.',\n",
       "       '37274.', '60123.'], dtype=object)"
      ]
     },
     "execution_count": 36,
     "metadata": {},
     "output_type": "execute_result"
    }
   ],
   "source": [
    "nash_crime_df['ZIP Code'].unique()"
   ]
  },
  {
   "cell_type": "code",
   "execution_count": 37,
   "metadata": {},
   "outputs": [
    {
     "data": {
      "text/plain": [
       "array(['37214.', '37013.', '37207.', '37205.', '37076.', '37201.',\n",
       "       '37208.', '37219.', '37211.', '37138.', '37216.', '37203.',\n",
       "       '37228.', '37209.', '37210.', '37220.', '37072.', '37218.',\n",
       "       '37206.', '37115.', '37212.', '37221.', '37217.', '37189.',\n",
       "       '37213.', '37204.', '37215.', '37240.', '37080.', '37027.',\n",
       "       '37167.', '37049.', '37025.', '37135.', '37015.', '37122.',\n",
       "       '37086.', '37143.', '37064.', '37683.', '37232.', '6706.',\n",
       "       '37130.', '37066.', '3701.', '37129.', '37087.', '37075.',\n",
       "       '38109.', '30139.', '38562.', '37330.', '37067.', '53701.',\n",
       "       '27707.', '38401.', '91107.', '27216.', '89502.', '37029.',\n",
       "       '90069.', '37082.', '0.', '39202.', '37185.', '37043.', '30318.',\n",
       "       '32801.', '19153.', '43440.', '37110.', '15213.', '37028.',\n",
       "       '29501.', '23236.', '17202.', '37179.', '37090.', '37078.',\n",
       "       '37274.', '60123.'], dtype=object)"
      ]
     },
     "execution_count": 37,
     "metadata": {},
     "output_type": "execute_result"
    }
   ],
   "source": [
    "nash_crime_df.dropna(subset=['ZIP Code'], inplace=True)\n",
    "nash_crime_df['ZIP Code'].unique()"
   ]
  },
  {
   "cell_type": "code",
   "execution_count": 38,
   "metadata": {},
   "outputs": [
    {
     "data": {
      "text/plain": [
       "array(['37214', '37013', '37207', '37205', '37076', '37201', '37208',\n",
       "       '37219', '37211', '37138', '37216', '37203', '37228', '37209',\n",
       "       '37210', '37220', '37072', '37218', '37206', '37115', '37212',\n",
       "       '37221', '37217', '37189', '37213', '37204', '37215', '37240',\n",
       "       '37080', '37027', '37167', '37049', '37025', '37135', '37015',\n",
       "       '37122', '37086', '37143', '37064', '37683', '37232', '6706',\n",
       "       '37130', '37066', '3701', '37129', '37087', '37075', '38109',\n",
       "       '30139', '38562', '37330', '37067', '53701', '27707', '38401',\n",
       "       '91107', '27216', '89502', '37029', '90069', '37082', '0', '39202',\n",
       "       '37185', '37043', '30318', '32801', '19153', '43440', '37110',\n",
       "       '15213', '37028', '29501', '23236', '17202', '37179', '37090',\n",
       "       '37078', '37274', '60123'], dtype=object)"
      ]
     },
     "execution_count": 38,
     "metadata": {},
     "output_type": "execute_result"
    }
   ],
   "source": [
    "nash_crime_df['ZIP Code'] = nash_crime_df['ZIP Code'].astype(str).str.rstrip('.')\n",
    "nash_crime_df['ZIP Code'].unique()"
   ]
  },
  {
   "cell_type": "code",
   "execution_count": 39,
   "metadata": {},
   "outputs": [
    {
     "data": {
      "text/plain": [
       "array(['37214', '37013', '37207', '37205', '37076', '37201', '37208',\n",
       "       '37219', '37211', '37138', '37216', '37203', '37228', '37209',\n",
       "       '3721', '3722', '37072', '37218', '37206', '37115', '37212',\n",
       "       '37221', '37217', '37189', '37213', '37204', '37215', '3724',\n",
       "       '3708', '37027', '37167', '37049', '37025', '37135', '37015',\n",
       "       '37122', '37086', '37143', '37064', '37683', '37232', '6706',\n",
       "       '3713', '37066', '3701', '37129', '37087', '37075', '38109',\n",
       "       '30139', '38562', '3733', '37067', '53701', '27707', '38401',\n",
       "       '91107', '27216', '89502', '37029', '90069', '37082', '', '39202',\n",
       "       '37185', '37043', '30318', '32801', '19153', '4344', '3711',\n",
       "       '15213', '37028', '29501', '23236', '17202', '37179', '3709',\n",
       "       '37078', '37274', '60123'], dtype=object)"
      ]
     },
     "execution_count": 39,
     "metadata": {},
     "output_type": "execute_result"
    }
   ],
   "source": [
    "# Assuming 'ZIP Code' is a column in nash_crime_df and you want to remove the last '0' from each ZIP code\n",
    "nash_crime_df['ZIP Code'] = nash_crime_df['ZIP Code'].astype(str).apply(lambda x: x[:-1] if x.endswith('0') else x)\n",
    "nash_crime_df['ZIP Code'].unique()"
   ]
  },
  {
   "cell_type": "markdown",
   "metadata": {},
   "source": [
    "I am applying a function to each element that checks if the ZIP code ends with '0', and then remove it. I tried striping the dots and the zeros came up, which makes it difficult. "
   ]
  },
  {
   "cell_type": "code",
   "execution_count": 40,
   "metadata": {},
   "outputs": [],
   "source": [
    "# nash_crime_df = nash_crime_df.dropna(subset=['ZIP Code'])\n",
    "# nash_crime_df.head(1)"
   ]
  },
  {
   "cell_type": "code",
   "execution_count": 41,
   "metadata": {},
   "outputs": [],
   "source": [
    "# nash_crime_df['ZIP Code'].unique()"
   ]
  },
  {
   "cell_type": "code",
   "execution_count": 42,
   "metadata": {},
   "outputs": [
    {
     "data": {
      "text/plain": [
       "array(['37214', '37013', '37207', '37205', '37076', '37201', '37208',\n",
       "       '37219', '37211', '37138', '37216', '37203', '37228', '37209',\n",
       "       '3721', '37072', '37218', '37206', '37115', '37212', '37221',\n",
       "       '37217', '37189', '37213', '37204', '37215', '37027', '37167',\n",
       "       '37135', '37015', '37122', '37086', '37143', '37064', '37232',\n",
       "       '37066', '37129', '37087', '37075', '38401', '', '37185', '37179'],\n",
       "      dtype=object)"
      ]
     },
     "execution_count": 42,
     "metadata": {},
     "output_type": "execute_result"
    }
   ],
   "source": [
    "zip_codes_to_remove = ['38109', '3722','27707', '37029', '37683', '37067', '38562', '37025', '37049', '37274', '3724', '3733', '3708', '3713', '3709', '37078','17202','3711','37082','37028','90069','39202','3701','15213','91107','60123','89502','89502', '30139','53701','37043', '19153','27216', '4344','6706','30318', '32801','29501', '23236']\n",
    "nash_crime_df_filtered = nash_crime_df[~nash_crime_df['ZIP Code'].isin(zip_codes_to_remove)]\n",
    "nash_crime_df_filtered['ZIP Code'].unique()"
   ]
  },
  {
   "cell_type": "code",
   "execution_count": 43,
   "metadata": {},
   "outputs": [
    {
     "data": {
      "text/html": [
       "<div>\n",
       "<style scoped>\n",
       "    .dataframe tbody tr th:only-of-type {\n",
       "        vertical-align: middle;\n",
       "    }\n",
       "\n",
       "    .dataframe tbody tr th {\n",
       "        vertical-align: top;\n",
       "    }\n",
       "\n",
       "    .dataframe thead th {\n",
       "        text-align: right;\n",
       "    }\n",
       "</style>\n",
       "<table border=\"1\" class=\"dataframe\">\n",
       "  <thead>\n",
       "    <tr style=\"text-align: right;\">\n",
       "      <th></th>\n",
       "      <th>Primary Key</th>\n",
       "      <th>Incident Number</th>\n",
       "      <th>Report Type</th>\n",
       "      <th>Report Type Description</th>\n",
       "      <th>Incident Status Code</th>\n",
       "      <th>Incident Status Description</th>\n",
       "      <th>Investigation Status</th>\n",
       "      <th>Incident Occurred</th>\n",
       "      <th>Incident Reported</th>\n",
       "      <th>Incident Location</th>\n",
       "      <th>...</th>\n",
       "      <th>Weapon Description</th>\n",
       "      <th>Victim Number</th>\n",
       "      <th>Domestic Related</th>\n",
       "      <th>Victim Type</th>\n",
       "      <th>Victim Description</th>\n",
       "      <th>Victim Gender</th>\n",
       "      <th>Victim Race</th>\n",
       "      <th>Victim Ethnicity</th>\n",
       "      <th>Victim County Resident</th>\n",
       "      <th>Mapped Location</th>\n",
       "    </tr>\n",
       "  </thead>\n",
       "  <tbody>\n",
       "    <tr>\n",
       "      <th>0</th>\n",
       "      <td>20190496213_11</td>\n",
       "      <td>20190496213</td>\n",
       "      <td>D</td>\n",
       "      <td>DISPATCHED</td>\n",
       "      <td>U</td>\n",
       "      <td>UNFOUNDED</td>\n",
       "      <td>Closed</td>\n",
       "      <td>07/01/2019 05:31:00 PM</td>\n",
       "      <td>07/01/2019 06:17:00 PM</td>\n",
       "      <td>2410 2410</td>\n",
       "      <td>...</td>\n",
       "      <td>NONE</td>\n",
       "      <td>1</td>\n",
       "      <td>True</td>\n",
       "      <td>I</td>\n",
       "      <td>INDIVIDUAL (18 AND OVER)</td>\n",
       "      <td>M</td>\n",
       "      <td>W</td>\n",
       "      <td>Non-Hispanic</td>\n",
       "      <td>RESIDENT</td>\n",
       "      <td>POINT (-86.696 36.218)</td>\n",
       "    </tr>\n",
       "    <tr>\n",
       "      <th>1</th>\n",
       "      <td>20180290646_11</td>\n",
       "      <td>20180290646</td>\n",
       "      <td>D</td>\n",
       "      <td>DISPATCHED</td>\n",
       "      <td>A</td>\n",
       "      <td>CLEARED BY ARREST</td>\n",
       "      <td>Closed</td>\n",
       "      <td>03/31/2018 12:21:00 PM</td>\n",
       "      <td>03/31/2018 07:41:00 PM</td>\n",
       "      <td>5824 5824</td>\n",
       "      <td>...</td>\n",
       "      <td>NONE</td>\n",
       "      <td>1</td>\n",
       "      <td>False</td>\n",
       "      <td>B</td>\n",
       "      <td>BUSINESS</td>\n",
       "      <td>NaN</td>\n",
       "      <td>NaN</td>\n",
       "      <td>NaN</td>\n",
       "      <td>NaN</td>\n",
       "      <td>POINT (-86.713 36.042)</td>\n",
       "    </tr>\n",
       "    <tr>\n",
       "      <th>2</th>\n",
       "      <td>20200243837_11</td>\n",
       "      <td>20200243837</td>\n",
       "      <td>D</td>\n",
       "      <td>DISPATCHED</td>\n",
       "      <td>U</td>\n",
       "      <td>UNFOUNDED</td>\n",
       "      <td>Closed</td>\n",
       "      <td>04/06/2020 11:15:00 AM</td>\n",
       "      <td>04/06/2020 01:11:00 PM</td>\n",
       "      <td>3144 3144</td>\n",
       "      <td>...</td>\n",
       "      <td>NONE</td>\n",
       "      <td>1</td>\n",
       "      <td>False</td>\n",
       "      <td>G</td>\n",
       "      <td>GOVERNMENT</td>\n",
       "      <td>NaN</td>\n",
       "      <td>NaN</td>\n",
       "      <td>NaN</td>\n",
       "      <td>NaN</td>\n",
       "      <td>POINT (-86.759 36.232)</td>\n",
       "    </tr>\n",
       "    <tr>\n",
       "      <th>3</th>\n",
       "      <td>20170471747_11</td>\n",
       "      <td>20170471747</td>\n",
       "      <td>D</td>\n",
       "      <td>DISPATCHED</td>\n",
       "      <td>U</td>\n",
       "      <td>UNFOUNDED</td>\n",
       "      <td>Closed</td>\n",
       "      <td>05/29/2017 02:33:00 AM</td>\n",
       "      <td>05/29/2017 04:27:00 AM</td>\n",
       "      <td>1714 1714</td>\n",
       "      <td>...</td>\n",
       "      <td>NONE</td>\n",
       "      <td>1</td>\n",
       "      <td>False</td>\n",
       "      <td>I</td>\n",
       "      <td>INDIVIDUAL (18 AND OVER)</td>\n",
       "      <td>M</td>\n",
       "      <td>W</td>\n",
       "      <td>Non-Hispanic</td>\n",
       "      <td>RESIDENT</td>\n",
       "      <td>POINT (-86.907 36.086)</td>\n",
       "    </tr>\n",
       "    <tr>\n",
       "      <th>4</th>\n",
       "      <td>20171099391_21</td>\n",
       "      <td>20171099391</td>\n",
       "      <td>D</td>\n",
       "      <td>DISPATCHED</td>\n",
       "      <td>A</td>\n",
       "      <td>CLEARED BY ARREST</td>\n",
       "      <td>Closed</td>\n",
       "      <td>12/16/2017 06:30:00 PM</td>\n",
       "      <td>12/16/2017 10:44:00 PM</td>\n",
       "      <td>1101 1101</td>\n",
       "      <td>...</td>\n",
       "      <td>PERSONAL (HANDS)</td>\n",
       "      <td>1</td>\n",
       "      <td>True</td>\n",
       "      <td>I</td>\n",
       "      <td>INDIVIDUAL (18 AND OVER)</td>\n",
       "      <td>F</td>\n",
       "      <td>B</td>\n",
       "      <td>Non-Hispanic</td>\n",
       "      <td>RESIDENT</td>\n",
       "      <td>POINT (-86.586 36.178)</td>\n",
       "    </tr>\n",
       "    <tr>\n",
       "      <th>...</th>\n",
       "      <td>...</td>\n",
       "      <td>...</td>\n",
       "      <td>...</td>\n",
       "      <td>...</td>\n",
       "      <td>...</td>\n",
       "      <td>...</td>\n",
       "      <td>...</td>\n",
       "      <td>...</td>\n",
       "      <td>...</td>\n",
       "      <td>...</td>\n",
       "      <td>...</td>\n",
       "      <td>...</td>\n",
       "      <td>...</td>\n",
       "      <td>...</td>\n",
       "      <td>...</td>\n",
       "      <td>...</td>\n",
       "      <td>...</td>\n",
       "      <td>...</td>\n",
       "      <td>...</td>\n",
       "      <td>...</td>\n",
       "      <td>...</td>\n",
       "    </tr>\n",
       "    <tr>\n",
       "      <th>865161</th>\n",
       "      <td>20230778865_11</td>\n",
       "      <td>20230778865</td>\n",
       "      <td>T</td>\n",
       "      <td>NaN</td>\n",
       "      <td>U</td>\n",
       "      <td>UNFOUNDED</td>\n",
       "      <td>Closed</td>\n",
       "      <td>12/27/2023 04:00:00 PM</td>\n",
       "      <td>12/30/2023 12:06:00 PM</td>\n",
       "      <td>1708 1708</td>\n",
       "      <td>...</td>\n",
       "      <td>NONE</td>\n",
       "      <td>1</td>\n",
       "      <td>False</td>\n",
       "      <td>I</td>\n",
       "      <td>INDIVIDUAL (18 AND OVER)</td>\n",
       "      <td>F</td>\n",
       "      <td>W</td>\n",
       "      <td>Non-Hispanic</td>\n",
       "      <td>RESIDENT</td>\n",
       "      <td>POINT (-86.799 36.118)</td>\n",
       "    </tr>\n",
       "    <tr>\n",
       "      <th>865163</th>\n",
       "      <td>20230774687_12</td>\n",
       "      <td>20230774687</td>\n",
       "      <td>S</td>\n",
       "      <td>SUSPECT</td>\n",
       "      <td>U</td>\n",
       "      <td>UNFOUNDED</td>\n",
       "      <td>Closed</td>\n",
       "      <td>12/28/2023 10:37:00 AM</td>\n",
       "      <td>12/28/2023 10:37:00 AM</td>\n",
       "      <td>1201 1201</td>\n",
       "      <td>...</td>\n",
       "      <td>NONE</td>\n",
       "      <td>2</td>\n",
       "      <td>False</td>\n",
       "      <td>I</td>\n",
       "      <td>INDIVIDUAL (18 AND OVER)</td>\n",
       "      <td>U</td>\n",
       "      <td>U</td>\n",
       "      <td>Unknown</td>\n",
       "      <td>NON RESIDENT</td>\n",
       "      <td>POINT (-86.733 36.158)</td>\n",
       "    </tr>\n",
       "    <tr>\n",
       "      <th>865167</th>\n",
       "      <td>20230453680_11</td>\n",
       "      <td>20230453680</td>\n",
       "      <td>D</td>\n",
       "      <td>DISPATCHED</td>\n",
       "      <td>A</td>\n",
       "      <td>CLEARED BY ARREST</td>\n",
       "      <td>Closed</td>\n",
       "      <td>08/03/2023 01:47:00 AM</td>\n",
       "      <td>08/03/2023 09:15:00 AM</td>\n",
       "      <td>426 426</td>\n",
       "      <td>...</td>\n",
       "      <td>HANDGUN - SEMIAUTOMATIC</td>\n",
       "      <td>1</td>\n",
       "      <td>False</td>\n",
       "      <td>I</td>\n",
       "      <td>INDIVIDUAL (18 AND OVER)</td>\n",
       "      <td>M</td>\n",
       "      <td>W</td>\n",
       "      <td>Hispanic</td>\n",
       "      <td>NON RESIDENT</td>\n",
       "      <td>POINT (-86.646 36.16)</td>\n",
       "    </tr>\n",
       "    <tr>\n",
       "      <th>865169</th>\n",
       "      <td>20230777152_11</td>\n",
       "      <td>20230777152</td>\n",
       "      <td>D</td>\n",
       "      <td>DISPATCHED</td>\n",
       "      <td>U</td>\n",
       "      <td>UNFOUNDED</td>\n",
       "      <td>Closed</td>\n",
       "      <td>12/29/2023 02:52:00 PM</td>\n",
       "      <td>12/29/2023 02:52:00 PM</td>\n",
       "      <td>301 301</td>\n",
       "      <td>...</td>\n",
       "      <td>NONE</td>\n",
       "      <td>1</td>\n",
       "      <td>False</td>\n",
       "      <td>I</td>\n",
       "      <td>INDIVIDUAL (18 AND OVER)</td>\n",
       "      <td>M</td>\n",
       "      <td>B</td>\n",
       "      <td>Non-Hispanic</td>\n",
       "      <td>RESIDENT</td>\n",
       "      <td>POINT (-86.815 36.147)</td>\n",
       "    </tr>\n",
       "    <tr>\n",
       "      <th>865174</th>\n",
       "      <td>20230774687_133</td>\n",
       "      <td>20230774687</td>\n",
       "      <td>S</td>\n",
       "      <td>SUSPECT</td>\n",
       "      <td>U</td>\n",
       "      <td>UNFOUNDED</td>\n",
       "      <td>Closed</td>\n",
       "      <td>12/28/2023 10:37:00 AM</td>\n",
       "      <td>12/28/2023 10:37:00 AM</td>\n",
       "      <td>1201 1201</td>\n",
       "      <td>...</td>\n",
       "      <td>NONE</td>\n",
       "      <td>33</td>\n",
       "      <td>False</td>\n",
       "      <td>I</td>\n",
       "      <td>INDIVIDUAL (18 AND OVER)</td>\n",
       "      <td>U</td>\n",
       "      <td>U</td>\n",
       "      <td>Unknown</td>\n",
       "      <td>NON RESIDENT</td>\n",
       "      <td>POINT (-86.733 36.158)</td>\n",
       "    </tr>\n",
       "  </tbody>\n",
       "</table>\n",
       "<p>450739 rows × 31 columns</p>\n",
       "</div>"
      ],
      "text/plain": [
       "            Primary Key  Incident Number Report Type Report Type Description  \\\n",
       "0        20190496213_11      20190496213           D              DISPATCHED   \n",
       "1        20180290646_11      20180290646           D              DISPATCHED   \n",
       "2        20200243837_11      20200243837           D              DISPATCHED   \n",
       "3        20170471747_11      20170471747           D              DISPATCHED   \n",
       "4        20171099391_21      20171099391           D              DISPATCHED   \n",
       "...                 ...              ...         ...                     ...   \n",
       "865161   20230778865_11      20230778865           T                     NaN   \n",
       "865163   20230774687_12      20230774687           S                 SUSPECT   \n",
       "865167   20230453680_11      20230453680           D              DISPATCHED   \n",
       "865169   20230777152_11      20230777152           D              DISPATCHED   \n",
       "865174  20230774687_133      20230774687           S                 SUSPECT   \n",
       "\n",
       "       Incident Status Code Incident Status Description Investigation Status  \\\n",
       "0                         U                   UNFOUNDED               Closed   \n",
       "1                         A           CLEARED BY ARREST               Closed   \n",
       "2                         U                   UNFOUNDED               Closed   \n",
       "3                         U                   UNFOUNDED               Closed   \n",
       "4                         A           CLEARED BY ARREST               Closed   \n",
       "...                     ...                         ...                  ...   \n",
       "865161                    U                   UNFOUNDED               Closed   \n",
       "865163                    U                   UNFOUNDED               Closed   \n",
       "865167                    A           CLEARED BY ARREST               Closed   \n",
       "865169                    U                   UNFOUNDED               Closed   \n",
       "865174                    U                   UNFOUNDED               Closed   \n",
       "\n",
       "             Incident Occurred       Incident Reported Incident Location  ...  \\\n",
       "0       07/01/2019 05:31:00 PM  07/01/2019 06:17:00 PM         2410 2410  ...   \n",
       "1       03/31/2018 12:21:00 PM  03/31/2018 07:41:00 PM         5824 5824  ...   \n",
       "2       04/06/2020 11:15:00 AM  04/06/2020 01:11:00 PM         3144 3144  ...   \n",
       "3       05/29/2017 02:33:00 AM  05/29/2017 04:27:00 AM         1714 1714  ...   \n",
       "4       12/16/2017 06:30:00 PM  12/16/2017 10:44:00 PM         1101 1101  ...   \n",
       "...                        ...                     ...               ...  ...   \n",
       "865161  12/27/2023 04:00:00 PM  12/30/2023 12:06:00 PM         1708 1708  ...   \n",
       "865163  12/28/2023 10:37:00 AM  12/28/2023 10:37:00 AM         1201 1201  ...   \n",
       "865167  08/03/2023 01:47:00 AM  08/03/2023 09:15:00 AM           426 426  ...   \n",
       "865169  12/29/2023 02:52:00 PM  12/29/2023 02:52:00 PM           301 301  ...   \n",
       "865174  12/28/2023 10:37:00 AM  12/28/2023 10:37:00 AM         1201 1201  ...   \n",
       "\n",
       "             Weapon Description  Victim Number Domestic Related  Victim Type  \\\n",
       "0                          NONE              1             True            I   \n",
       "1                          NONE              1            False            B   \n",
       "2                          NONE              1            False            G   \n",
       "3                          NONE              1            False            I   \n",
       "4              PERSONAL (HANDS)              1             True            I   \n",
       "...                         ...            ...              ...          ...   \n",
       "865161                     NONE              1            False            I   \n",
       "865163                     NONE              2            False            I   \n",
       "865167  HANDGUN - SEMIAUTOMATIC              1            False            I   \n",
       "865169                     NONE              1            False            I   \n",
       "865174                     NONE             33            False            I   \n",
       "\n",
       "              Victim Description  Victim Gender Victim Race  Victim Ethnicity  \\\n",
       "0       INDIVIDUAL (18 AND OVER)              M           W      Non-Hispanic   \n",
       "1                       BUSINESS            NaN         NaN               NaN   \n",
       "2                     GOVERNMENT            NaN         NaN               NaN   \n",
       "3       INDIVIDUAL (18 AND OVER)              M           W      Non-Hispanic   \n",
       "4       INDIVIDUAL (18 AND OVER)              F           B      Non-Hispanic   \n",
       "...                          ...            ...         ...               ...   \n",
       "865161  INDIVIDUAL (18 AND OVER)              F           W      Non-Hispanic   \n",
       "865163  INDIVIDUAL (18 AND OVER)              U           U           Unknown   \n",
       "865167  INDIVIDUAL (18 AND OVER)              M           W          Hispanic   \n",
       "865169  INDIVIDUAL (18 AND OVER)              M           B      Non-Hispanic   \n",
       "865174  INDIVIDUAL (18 AND OVER)              U           U           Unknown   \n",
       "\n",
       "       Victim County Resident         Mapped Location  \n",
       "0                    RESIDENT  POINT (-86.696 36.218)  \n",
       "1                         NaN  POINT (-86.713 36.042)  \n",
       "2                         NaN  POINT (-86.759 36.232)  \n",
       "3                    RESIDENT  POINT (-86.907 36.086)  \n",
       "4                    RESIDENT  POINT (-86.586 36.178)  \n",
       "...                       ...                     ...  \n",
       "865161               RESIDENT  POINT (-86.799 36.118)  \n",
       "865163           NON RESIDENT  POINT (-86.733 36.158)  \n",
       "865167           NON RESIDENT   POINT (-86.646 36.16)  \n",
       "865169               RESIDENT  POINT (-86.815 36.147)  \n",
       "865174           NON RESIDENT  POINT (-86.733 36.158)  \n",
       "\n",
       "[450739 rows x 31 columns]"
      ]
     },
     "execution_count": 43,
     "metadata": {},
     "output_type": "execute_result"
    }
   ],
   "source": [
    "nash_crime_df_filtered.dropna(subset=['ZIP Code'])"
   ]
  },
  {
   "cell_type": "code",
   "execution_count": 44,
   "metadata": {},
   "outputs": [
    {
     "data": {
      "text/plain": [
       "array(['37214', '37013', '37207', '37205', '37076', '37201', '37208',\n",
       "       '37219', '37211', '37138', '37216', '37203', '37228', '37209',\n",
       "       '3721', '37072', '37218', '37206', '37115', '37212', '37221',\n",
       "       '37217', '37189', '37213', '37204', '37215', '37027', '37167',\n",
       "       '37135', '37015', '37122', '37086', '37143', '37064', '37232',\n",
       "       '37066', '37129', '37087', '37075', '38401', '', '37185', '37179'],\n",
       "      dtype=object)"
      ]
     },
     "execution_count": 44,
     "metadata": {},
     "output_type": "execute_result"
    }
   ],
   "source": [
    "nash_crime_df_filtered['ZIP Code'].unique()"
   ]
  },
  {
   "cell_type": "code",
   "execution_count": 48,
   "metadata": {},
   "outputs": [
    {
     "data": {
      "text/plain": [
       "array(['37214', '37013', '37207', '37205', '37076', '37201', '37208',\n",
       "       '37219', '37211', '37138', '37216', '37203', '37228', '37209',\n",
       "       '37210', '37072', '37218', '37206', '37115', '37212', '37221',\n",
       "       '37217', '37189', '37213', '37204', '37215', '37027', '37167',\n",
       "       '37135', '37015', '37122', '37086', '37143', '37064', '37232',\n",
       "       '37066', '37129', '37087', '37075', '38401', '', '37185', '37179'],\n",
       "      dtype=object)"
      ]
     },
     "execution_count": 48,
     "metadata": {},
     "output_type": "execute_result"
    }
   ],
   "source": [
    "nash_crime_df_filtered.loc[:, 'ZIP Code'] = nash_crime_df_filtered['ZIP Code'].replace('3721', '37210')\n",
    "nash_crime_df_filtered['ZIP Code'].unique()"
   ]
  },
  {
   "cell_type": "code",
   "execution_count": 49,
   "metadata": {},
   "outputs": [
    {
     "data": {
      "text/plain": [
       "ZIP Code\n",
       "37207    46979\n",
       "37013    43267\n",
       "37211    42507\n",
       "37115    37916\n",
       "37203    27536\n",
       "37210    26131\n",
       "37208    25850\n",
       "37206    23151\n",
       "37217    22838\n",
       "37209    22506\n",
       "37214    20437\n",
       "37076    20269\n",
       "37201    12684\n",
       "37218    11942\n",
       "37216     9908\n",
       "37221     9794\n",
       "37212     6525\n",
       "37138     6150\n",
       "37204     5825\n",
       "37205     5135\n",
       "37219     5109\n",
       "37215     4169\n",
       "37072     3177\n",
       "37228     2840\n",
       "37213     2806\n",
       "37189     2611\n",
       "37027     2141\n",
       "37135      238\n",
       "37015      163\n",
       "37122       62\n",
       "37086       26\n",
       "37143       17\n",
       "37232        6\n",
       "37075        5\n",
       "37087        4\n",
       "37167        4\n",
       "37064        3\n",
       "37129        2\n",
       "37066        2\n",
       "38401        1\n",
       "             1\n",
       "37185        1\n",
       "37179        1\n",
       "Name: count, dtype: int64"
      ]
     },
     "execution_count": 49,
     "metadata": {},
     "output_type": "execute_result"
    }
   ],
   "source": [
    "nash_crime_df_filtered['ZIP Code'].value_counts()"
   ]
  },
  {
   "cell_type": "code",
   "execution_count": 50,
   "metadata": {},
   "outputs": [
    {
     "data": {
      "text/plain": [
       "0         07/01/2019 05:31:00 PM\n",
       "1         03/31/2018 12:21:00 PM\n",
       "2         04/06/2020 11:15:00 AM\n",
       "3         05/29/2017 02:33:00 AM\n",
       "4         12/16/2017 06:30:00 PM\n",
       "                   ...          \n",
       "865161    12/27/2023 04:00:00 PM\n",
       "865163    12/28/2023 10:37:00 AM\n",
       "865167    08/03/2023 01:47:00 AM\n",
       "865169    12/29/2023 02:52:00 PM\n",
       "865174    12/28/2023 10:37:00 AM\n",
       "Name: Incident Occurred, Length: 450739, dtype: object"
      ]
     },
     "execution_count": 50,
     "metadata": {},
     "output_type": "execute_result"
    }
   ],
   "source": [
    "nash_crime_df_filtered['Incident Occurred']"
   ]
  },
  {
   "cell_type": "code",
   "execution_count": 51,
   "metadata": {},
   "outputs": [
    {
     "name": "stderr",
     "output_type": "stream",
     "text": [
      "/var/folders/th/jsjzrfgj5mqb0ntmxxmc9pmm0000gn/T/ipykernel_69865/2550027996.py:2: UserWarning: Could not infer format, so each element will be parsed individually, falling back to `dateutil`. To ensure parsing is consistent and as-expected, please specify a format.\n",
      "  nash_crime_df_filtered.loc[:,'Incident Occurred'] = pd.to_datetime(nash_crime_df_filtered['Incident Occurred'])\n"
     ]
    },
    {
     "data": {
      "text/plain": [
       "0         2019-07-01 17:31:00\n",
       "1         2018-03-31 12:21:00\n",
       "2         2020-04-06 11:15:00\n",
       "3         2017-05-29 02:33:00\n",
       "4         2017-12-16 18:30:00\n",
       "                 ...         \n",
       "865161    2023-12-27 16:00:00\n",
       "865163    2023-12-28 10:37:00\n",
       "865167    2023-08-03 01:47:00\n",
       "865169    2023-12-29 14:52:00\n",
       "865174    2023-12-28 10:37:00\n",
       "Name: Incident Occurred, Length: 450739, dtype: object"
      ]
     },
     "execution_count": 51,
     "metadata": {},
     "output_type": "execute_result"
    }
   ],
   "source": [
    "#convert to datetime\n",
    "nash_crime_df_filtered.loc[:,'Incident Occurred'] = pd.to_datetime(nash_crime_df_filtered['Incident Occurred'])\n",
    "nash_crime_df_filtered['Incident Occurred']"
   ]
  },
  {
   "cell_type": "code",
   "execution_count": 55,
   "metadata": {},
   "outputs": [
    {
     "name": "stderr",
     "output_type": "stream",
     "text": [
      "/var/folders/th/jsjzrfgj5mqb0ntmxxmc9pmm0000gn/T/ipykernel_69865/4163609263.py:2: SettingWithCopyWarning: \n",
      "A value is trying to be set on a copy of a slice from a DataFrame.\n",
      "Try using .loc[row_indexer,col_indexer] = value instead\n",
      "\n",
      "See the caveats in the documentation: https://pandas.pydata.org/pandas-docs/stable/user_guide/indexing.html#returning-a-view-versus-a-copy\n",
      "  nash_crime_df_filtered['Incident Occurred'] = pd.to_datetime(nash_crime_df_filtered['Incident Occurred'], errors='coerce')\n"
     ]
    },
    {
     "data": {
      "text/html": [
       "<div>\n",
       "<style scoped>\n",
       "    .dataframe tbody tr th:only-of-type {\n",
       "        vertical-align: middle;\n",
       "    }\n",
       "\n",
       "    .dataframe tbody tr th {\n",
       "        vertical-align: top;\n",
       "    }\n",
       "\n",
       "    .dataframe thead th {\n",
       "        text-align: right;\n",
       "    }\n",
       "</style>\n",
       "<table border=\"1\" class=\"dataframe\">\n",
       "  <thead>\n",
       "    <tr style=\"text-align: right;\">\n",
       "      <th></th>\n",
       "      <th>Primary Key</th>\n",
       "      <th>Incident Number</th>\n",
       "      <th>Report Type</th>\n",
       "      <th>Report Type Description</th>\n",
       "      <th>Incident Status Code</th>\n",
       "      <th>Incident Status Description</th>\n",
       "      <th>Investigation Status</th>\n",
       "      <th>Incident Occurred</th>\n",
       "      <th>Incident Reported</th>\n",
       "      <th>Incident Location</th>\n",
       "      <th>...</th>\n",
       "      <th>Victim Number</th>\n",
       "      <th>Domestic Related</th>\n",
       "      <th>Victim Type</th>\n",
       "      <th>Victim Description</th>\n",
       "      <th>Victim Gender</th>\n",
       "      <th>Victim Race</th>\n",
       "      <th>Victim Ethnicity</th>\n",
       "      <th>Victim County Resident</th>\n",
       "      <th>Mapped Location</th>\n",
       "      <th>Year</th>\n",
       "    </tr>\n",
       "  </thead>\n",
       "  <tbody>\n",
       "    <tr>\n",
       "      <th>0</th>\n",
       "      <td>20190496213_11</td>\n",
       "      <td>20190496213</td>\n",
       "      <td>D</td>\n",
       "      <td>DISPATCHED</td>\n",
       "      <td>U</td>\n",
       "      <td>UNFOUNDED</td>\n",
       "      <td>Closed</td>\n",
       "      <td>2019-07-01 17:31:00</td>\n",
       "      <td>07/01/2019 06:17:00 PM</td>\n",
       "      <td>2410 2410</td>\n",
       "      <td>...</td>\n",
       "      <td>1</td>\n",
       "      <td>True</td>\n",
       "      <td>I</td>\n",
       "      <td>INDIVIDUAL (18 AND OVER)</td>\n",
       "      <td>M</td>\n",
       "      <td>W</td>\n",
       "      <td>Non-Hispanic</td>\n",
       "      <td>RESIDENT</td>\n",
       "      <td>POINT (-86.696 36.218)</td>\n",
       "      <td>2019</td>\n",
       "    </tr>\n",
       "  </tbody>\n",
       "</table>\n",
       "<p>1 rows × 32 columns</p>\n",
       "</div>"
      ],
      "text/plain": [
       "      Primary Key  Incident Number Report Type Report Type Description  \\\n",
       "0  20190496213_11      20190496213           D              DISPATCHED   \n",
       "\n",
       "  Incident Status Code Incident Status Description Investigation Status  \\\n",
       "0                    U                   UNFOUNDED               Closed   \n",
       "\n",
       "    Incident Occurred       Incident Reported Incident Location  ...  \\\n",
       "0 2019-07-01 17:31:00  07/01/2019 06:17:00 PM         2410 2410  ...   \n",
       "\n",
       "   Victim Number  Domestic Related Victim Type        Victim Description  \\\n",
       "0              1              True           I  INDIVIDUAL (18 AND OVER)   \n",
       "\n",
       "   Victim Gender  Victim Race Victim Ethnicity  Victim County Resident  \\\n",
       "0              M            W     Non-Hispanic                RESIDENT   \n",
       "\n",
       "          Mapped Location  Year  \n",
       "0  POINT (-86.696 36.218)  2019  \n",
       "\n",
       "[1 rows x 32 columns]"
      ]
     },
     "execution_count": 55,
     "metadata": {},
     "output_type": "execute_result"
    }
   ],
   "source": [
    "# Convert 'Incident Occurred' to datetime and creating a new column year\n",
    "nash_crime_df_filtered['Incident Occurred'] = pd.to_datetime(nash_crime_df_filtered['Incident Occurred'], errors='coerce')\n",
    "nash_crime_df_filtered.loc[:, 'Year'] = nash_crime_df_filtered['Incident Occurred'].dt.year\n",
    "nash_crime_df_filtered.head(1)\n"
   ]
  },
  {
   "cell_type": "code",
   "execution_count": 56,
   "metadata": {},
   "outputs": [
    {
     "name": "stderr",
     "output_type": "stream",
     "text": [
      "/var/folders/th/jsjzrfgj5mqb0ntmxxmc9pmm0000gn/T/ipykernel_69865/3042958999.py:1: SettingWithCopyWarning: \n",
      "A value is trying to be set on a copy of a slice from a DataFrame.\n",
      "Try using .loc[row_indexer,col_indexer] = value instead\n",
      "\n",
      "See the caveats in the documentation: https://pandas.pydata.org/pandas-docs/stable/user_guide/indexing.html#returning-a-view-versus-a-copy\n",
      "  nash_crime_df_filtered.loc[:,'Month'] = nash_crime_df_filtered['Incident Occurred'].dt.month\n"
     ]
    },
    {
     "data": {
      "text/html": [
       "<div>\n",
       "<style scoped>\n",
       "    .dataframe tbody tr th:only-of-type {\n",
       "        vertical-align: middle;\n",
       "    }\n",
       "\n",
       "    .dataframe tbody tr th {\n",
       "        vertical-align: top;\n",
       "    }\n",
       "\n",
       "    .dataframe thead th {\n",
       "        text-align: right;\n",
       "    }\n",
       "</style>\n",
       "<table border=\"1\" class=\"dataframe\">\n",
       "  <thead>\n",
       "    <tr style=\"text-align: right;\">\n",
       "      <th></th>\n",
       "      <th>Primary Key</th>\n",
       "      <th>Incident Number</th>\n",
       "      <th>Report Type</th>\n",
       "      <th>Report Type Description</th>\n",
       "      <th>Incident Status Code</th>\n",
       "      <th>Incident Status Description</th>\n",
       "      <th>Investigation Status</th>\n",
       "      <th>Incident Occurred</th>\n",
       "      <th>Incident Reported</th>\n",
       "      <th>Incident Location</th>\n",
       "      <th>...</th>\n",
       "      <th>Domestic Related</th>\n",
       "      <th>Victim Type</th>\n",
       "      <th>Victim Description</th>\n",
       "      <th>Victim Gender</th>\n",
       "      <th>Victim Race</th>\n",
       "      <th>Victim Ethnicity</th>\n",
       "      <th>Victim County Resident</th>\n",
       "      <th>Mapped Location</th>\n",
       "      <th>Year</th>\n",
       "      <th>Month</th>\n",
       "    </tr>\n",
       "  </thead>\n",
       "  <tbody>\n",
       "    <tr>\n",
       "      <th>0</th>\n",
       "      <td>20190496213_11</td>\n",
       "      <td>20190496213</td>\n",
       "      <td>D</td>\n",
       "      <td>DISPATCHED</td>\n",
       "      <td>U</td>\n",
       "      <td>UNFOUNDED</td>\n",
       "      <td>Closed</td>\n",
       "      <td>2019-07-01 17:31:00</td>\n",
       "      <td>07/01/2019 06:17:00 PM</td>\n",
       "      <td>2410 2410</td>\n",
       "      <td>...</td>\n",
       "      <td>True</td>\n",
       "      <td>I</td>\n",
       "      <td>INDIVIDUAL (18 AND OVER)</td>\n",
       "      <td>M</td>\n",
       "      <td>W</td>\n",
       "      <td>Non-Hispanic</td>\n",
       "      <td>RESIDENT</td>\n",
       "      <td>POINT (-86.696 36.218)</td>\n",
       "      <td>2019</td>\n",
       "      <td>7</td>\n",
       "    </tr>\n",
       "  </tbody>\n",
       "</table>\n",
       "<p>1 rows × 33 columns</p>\n",
       "</div>"
      ],
      "text/plain": [
       "      Primary Key  Incident Number Report Type Report Type Description  \\\n",
       "0  20190496213_11      20190496213           D              DISPATCHED   \n",
       "\n",
       "  Incident Status Code Incident Status Description Investigation Status  \\\n",
       "0                    U                   UNFOUNDED               Closed   \n",
       "\n",
       "    Incident Occurred       Incident Reported Incident Location  ...  \\\n",
       "0 2019-07-01 17:31:00  07/01/2019 06:17:00 PM         2410 2410  ...   \n",
       "\n",
       "   Domestic Related  Victim Type        Victim Description  Victim Gender  \\\n",
       "0              True            I  INDIVIDUAL (18 AND OVER)              M   \n",
       "\n",
       "   Victim Race  Victim Ethnicity Victim County Resident  \\\n",
       "0            W      Non-Hispanic               RESIDENT   \n",
       "\n",
       "          Mapped Location  Year Month  \n",
       "0  POINT (-86.696 36.218)  2019     7  \n",
       "\n",
       "[1 rows x 33 columns]"
      ]
     },
     "execution_count": 56,
     "metadata": {},
     "output_type": "execute_result"
    }
   ],
   "source": [
    "#extracting and creating a month column\n",
    "nash_crime_df_filtered.loc[:,'Month'] = nash_crime_df_filtered['Incident Occurred'].dt.month\n",
    "nash_crime_df_filtered.head(1)"
   ]
  },
  {
   "cell_type": "code",
   "execution_count": 57,
   "metadata": {},
   "outputs": [
    {
     "name": "stderr",
     "output_type": "stream",
     "text": [
      "/var/folders/th/jsjzrfgj5mqb0ntmxxmc9pmm0000gn/T/ipykernel_69865/2390565614.py:4: SettingWithCopyWarning: \n",
      "A value is trying to be set on a copy of a slice from a DataFrame.\n",
      "Try using .loc[row_indexer,col_indexer] = value instead\n",
      "\n",
      "See the caveats in the documentation: https://pandas.pydata.org/pandas-docs/stable/user_guide/indexing.html#returning-a-view-versus-a-copy\n",
      "  nash_crime_df_filtered.loc[:, 'Time'] = nash_crime_df_filtered['Incident Occurred'].dt.time\n"
     ]
    },
    {
     "data": {
      "text/html": [
       "<div>\n",
       "<style scoped>\n",
       "    .dataframe tbody tr th:only-of-type {\n",
       "        vertical-align: middle;\n",
       "    }\n",
       "\n",
       "    .dataframe tbody tr th {\n",
       "        vertical-align: top;\n",
       "    }\n",
       "\n",
       "    .dataframe thead th {\n",
       "        text-align: right;\n",
       "    }\n",
       "</style>\n",
       "<table border=\"1\" class=\"dataframe\">\n",
       "  <thead>\n",
       "    <tr style=\"text-align: right;\">\n",
       "      <th></th>\n",
       "      <th>Primary Key</th>\n",
       "      <th>Incident Number</th>\n",
       "      <th>Report Type</th>\n",
       "      <th>Report Type Description</th>\n",
       "      <th>Incident Status Code</th>\n",
       "      <th>Incident Status Description</th>\n",
       "      <th>Investigation Status</th>\n",
       "      <th>Incident Occurred</th>\n",
       "      <th>Incident Reported</th>\n",
       "      <th>Incident Location</th>\n",
       "      <th>...</th>\n",
       "      <th>Victim Type</th>\n",
       "      <th>Victim Description</th>\n",
       "      <th>Victim Gender</th>\n",
       "      <th>Victim Race</th>\n",
       "      <th>Victim Ethnicity</th>\n",
       "      <th>Victim County Resident</th>\n",
       "      <th>Mapped Location</th>\n",
       "      <th>Year</th>\n",
       "      <th>Month</th>\n",
       "      <th>Time</th>\n",
       "    </tr>\n",
       "  </thead>\n",
       "  <tbody>\n",
       "    <tr>\n",
       "      <th>0</th>\n",
       "      <td>20190496213_11</td>\n",
       "      <td>20190496213</td>\n",
       "      <td>D</td>\n",
       "      <td>DISPATCHED</td>\n",
       "      <td>U</td>\n",
       "      <td>UNFOUNDED</td>\n",
       "      <td>Closed</td>\n",
       "      <td>2019-07-01 17:31:00</td>\n",
       "      <td>07/01/2019 06:17:00 PM</td>\n",
       "      <td>2410 2410</td>\n",
       "      <td>...</td>\n",
       "      <td>I</td>\n",
       "      <td>INDIVIDUAL (18 AND OVER)</td>\n",
       "      <td>M</td>\n",
       "      <td>W</td>\n",
       "      <td>Non-Hispanic</td>\n",
       "      <td>RESIDENT</td>\n",
       "      <td>POINT (-86.696 36.218)</td>\n",
       "      <td>2019</td>\n",
       "      <td>7</td>\n",
       "      <td>17:31:00</td>\n",
       "    </tr>\n",
       "  </tbody>\n",
       "</table>\n",
       "<p>1 rows × 34 columns</p>\n",
       "</div>"
      ],
      "text/plain": [
       "      Primary Key  Incident Number Report Type Report Type Description  \\\n",
       "0  20190496213_11      20190496213           D              DISPATCHED   \n",
       "\n",
       "  Incident Status Code Incident Status Description Investigation Status  \\\n",
       "0                    U                   UNFOUNDED               Closed   \n",
       "\n",
       "    Incident Occurred       Incident Reported Incident Location  ...  \\\n",
       "0 2019-07-01 17:31:00  07/01/2019 06:17:00 PM         2410 2410  ...   \n",
       "\n",
       "   Victim Type        Victim Description Victim Gender  Victim Race  \\\n",
       "0            I  INDIVIDUAL (18 AND OVER)             M            W   \n",
       "\n",
       "   Victim Ethnicity  Victim County Resident         Mapped Location  Year  \\\n",
       "0      Non-Hispanic                RESIDENT  POINT (-86.696 36.218)  2019   \n",
       "\n",
       "  Month      Time  \n",
       "0     7  17:31:00  \n",
       "\n",
       "[1 rows x 34 columns]"
      ]
     },
     "execution_count": 57,
     "metadata": {},
     "output_type": "execute_result"
    }
   ],
   "source": [
    "# nash_crime_df_filtered['Time'] = nash_crime_df_filtered['Incident Occurred'].dt.time\n",
    "# nash_crime_df_filtered.head(1)\n",
    "\n",
    "nash_crime_df_filtered.loc[:, 'Time'] = nash_crime_df_filtered['Incident Occurred'].dt.time\n",
    "nash_crime_df_filtered.head(1)"
   ]
  },
  {
   "cell_type": "markdown",
   "metadata": {},
   "source": [
    "You would notice i use the .loc which does not give me any warning issues, which i used after i googled it up"
   ]
  },
  {
   "cell_type": "code",
   "execution_count": 106,
   "metadata": {},
   "outputs": [
    {
     "data": {
      "text/html": [
       "<div>\n",
       "<style scoped>\n",
       "    .dataframe tbody tr th:only-of-type {\n",
       "        vertical-align: middle;\n",
       "    }\n",
       "\n",
       "    .dataframe tbody tr th {\n",
       "        vertical-align: top;\n",
       "    }\n",
       "\n",
       "    .dataframe thead th {\n",
       "        text-align: right;\n",
       "    }\n",
       "</style>\n",
       "<table border=\"1\" class=\"dataframe\">\n",
       "  <thead>\n",
       "    <tr style=\"text-align: right;\">\n",
       "      <th></th>\n",
       "      <th>Year</th>\n",
       "      <th>Crime Count</th>\n",
       "    </tr>\n",
       "  </thead>\n",
       "  <tbody>\n",
       "    <tr>\n",
       "      <th>0</th>\n",
       "      <td>2017</td>\n",
       "      <td>71019</td>\n",
       "    </tr>\n",
       "    <tr>\n",
       "      <th>1</th>\n",
       "      <td>2018</td>\n",
       "      <td>69170</td>\n",
       "    </tr>\n",
       "    <tr>\n",
       "      <th>2</th>\n",
       "      <td>2019</td>\n",
       "      <td>61968</td>\n",
       "    </tr>\n",
       "    <tr>\n",
       "      <th>3</th>\n",
       "      <td>2020</td>\n",
       "      <td>58112</td>\n",
       "    </tr>\n",
       "    <tr>\n",
       "      <th>4</th>\n",
       "      <td>2021</td>\n",
       "      <td>58873</td>\n",
       "    </tr>\n",
       "    <tr>\n",
       "      <th>5</th>\n",
       "      <td>2022</td>\n",
       "      <td>60605</td>\n",
       "    </tr>\n",
       "    <tr>\n",
       "      <th>6</th>\n",
       "      <td>2023</td>\n",
       "      <td>64029</td>\n",
       "    </tr>\n",
       "    <tr>\n",
       "      <th>7</th>\n",
       "      <td>2024</td>\n",
       "      <td>6963</td>\n",
       "    </tr>\n",
       "  </tbody>\n",
       "</table>\n",
       "</div>"
      ],
      "text/plain": [
       "   Year  Crime Count\n",
       "0  2017        71019\n",
       "1  2018        69170\n",
       "2  2019        61968\n",
       "3  2020        58112\n",
       "4  2021        58873\n",
       "5  2022        60605\n",
       "6  2023        64029\n",
       "7  2024         6963"
      ]
     },
     "execution_count": 106,
     "metadata": {},
     "output_type": "execute_result"
    }
   ],
   "source": [
    "crime_count_by_year=nash_crime_df_filtered.groupby('Year').size().reset_index(name='Crime Count')\n",
    "crime_count_by_year"
   ]
  },
  {
   "cell_type": "markdown",
   "metadata": {},
   "source": [
    "There are more crimes in 2017 that any other year, remember, we are still in 2024. "
   ]
  },
  {
   "cell_type": "code",
   "execution_count": 107,
   "metadata": {},
   "outputs": [
    {
     "data": {
      "text/plain": [
       "2017"
      ]
     },
     "execution_count": 107,
     "metadata": {},
     "output_type": "execute_result"
    }
   ],
   "source": [
    "year_with_max_crime_count = crime_count_by_year.loc[crime_count_by_year['Crime Count'].idxmax(), 'Year']\n",
    "year_with_max_crime_count"
   ]
  },
  {
   "cell_type": "code",
   "execution_count": 108,
   "metadata": {},
   "outputs": [
    {
     "data": {
      "text/plain": [
       "37561.58"
      ]
     },
     "execution_count": 108,
     "metadata": {},
     "output_type": "execute_result"
    }
   ],
   "source": [
    "crime_count_by_year = nash_crime_df_filtered.groupby('Month').size().reset_index(name='Crime Count')\n",
    "avg_crime_count_by_year = crime_count_by_year['Crime Count'].mean().round(2)\n",
    "avg_crime_count_by_year"
   ]
  },
  {
   "cell_type": "markdown",
   "metadata": {},
   "source": [
    "# drilling down to 2023"
   ]
  },
  {
   "cell_type": "code",
   "execution_count": 118,
   "metadata": {},
   "outputs": [
    {
     "data": {
      "text/html": [
       "<div>\n",
       "<style scoped>\n",
       "    .dataframe tbody tr th:only-of-type {\n",
       "        vertical-align: middle;\n",
       "    }\n",
       "\n",
       "    .dataframe tbody tr th {\n",
       "        vertical-align: top;\n",
       "    }\n",
       "\n",
       "    .dataframe thead th {\n",
       "        text-align: right;\n",
       "    }\n",
       "</style>\n",
       "<table border=\"1\" class=\"dataframe\">\n",
       "  <thead>\n",
       "    <tr style=\"text-align: right;\">\n",
       "      <th></th>\n",
       "      <th>Primary Key</th>\n",
       "      <th>Incident Number</th>\n",
       "      <th>Report Type</th>\n",
       "      <th>Report Type Description</th>\n",
       "      <th>Incident Status Code</th>\n",
       "      <th>Incident Status Description</th>\n",
       "      <th>Investigation Status</th>\n",
       "      <th>Incident Occurred</th>\n",
       "      <th>Incident Reported</th>\n",
       "      <th>Incident Location</th>\n",
       "      <th>...</th>\n",
       "      <th>Victim Type</th>\n",
       "      <th>Victim Description</th>\n",
       "      <th>Victim Gender</th>\n",
       "      <th>Victim Race</th>\n",
       "      <th>Victim Ethnicity</th>\n",
       "      <th>Victim County Resident</th>\n",
       "      <th>Mapped Location</th>\n",
       "      <th>Year</th>\n",
       "      <th>Month</th>\n",
       "      <th>Time</th>\n",
       "    </tr>\n",
       "  </thead>\n",
       "  <tbody>\n",
       "    <tr>\n",
       "      <th>144</th>\n",
       "      <td>20230321366_11</td>\n",
       "      <td>20230321366</td>\n",
       "      <td>D</td>\n",
       "      <td>DISPATCHED</td>\n",
       "      <td>U</td>\n",
       "      <td>UNFOUNDED</td>\n",
       "      <td>Closed</td>\n",
       "      <td>2023-06-01 18:30:00</td>\n",
       "      <td>06/01/2023 07:40:00 PM</td>\n",
       "      <td>409 409</td>\n",
       "      <td>...</td>\n",
       "      <td>I</td>\n",
       "      <td>INDIVIDUAL (18 AND OVER)</td>\n",
       "      <td>M</td>\n",
       "      <td>W</td>\n",
       "      <td>Non-Hispanic</td>\n",
       "      <td>RESIDENT</td>\n",
       "      <td>NaN</td>\n",
       "      <td>2023</td>\n",
       "      <td>June</td>\n",
       "      <td>18:30:00</td>\n",
       "    </tr>\n",
       "    <tr>\n",
       "      <th>966</th>\n",
       "      <td>20230770706_11</td>\n",
       "      <td>20230770706</td>\n",
       "      <td>D</td>\n",
       "      <td>DISPATCHED</td>\n",
       "      <td>U</td>\n",
       "      <td>UNFOUNDED</td>\n",
       "      <td>Closed</td>\n",
       "      <td>2023-12-25 15:20:00</td>\n",
       "      <td>12/28/2023 03:29:00 PM</td>\n",
       "      <td>41 41</td>\n",
       "      <td>...</td>\n",
       "      <td>B</td>\n",
       "      <td>BUSINESS</td>\n",
       "      <td>NaN</td>\n",
       "      <td>NaN</td>\n",
       "      <td>NaN</td>\n",
       "      <td>NaN</td>\n",
       "      <td>POINT (-86.835 36.091)</td>\n",
       "      <td>2023</td>\n",
       "      <td>December</td>\n",
       "      <td>15:20:00</td>\n",
       "    </tr>\n",
       "    <tr>\n",
       "      <th>1120</th>\n",
       "      <td>20230761089_21</td>\n",
       "      <td>20230761089</td>\n",
       "      <td>S</td>\n",
       "      <td>SUSPECT</td>\n",
       "      <td>A</td>\n",
       "      <td>CLEARED BY ARREST</td>\n",
       "      <td>Closed</td>\n",
       "      <td>2023-12-20 17:00:00</td>\n",
       "      <td>12/20/2023 06:39:00 PM</td>\n",
       "      <td>405 405</td>\n",
       "      <td>...</td>\n",
       "      <td>S</td>\n",
       "      <td>SOCIETY</td>\n",
       "      <td>NaN</td>\n",
       "      <td>NaN</td>\n",
       "      <td>NaN</td>\n",
       "      <td>NaN</td>\n",
       "      <td>POINT (-86.799 36.158)</td>\n",
       "      <td>2023</td>\n",
       "      <td>December</td>\n",
       "      <td>17:00:00</td>\n",
       "    </tr>\n",
       "    <tr>\n",
       "      <th>1435</th>\n",
       "      <td>20230774490_11</td>\n",
       "      <td>20230774490</td>\n",
       "      <td>D</td>\n",
       "      <td>DISPATCHED</td>\n",
       "      <td>U</td>\n",
       "      <td>UNFOUNDED</td>\n",
       "      <td>Closed</td>\n",
       "      <td>2023-12-15 09:55:00</td>\n",
       "      <td>12/28/2023 09:55:00 AM</td>\n",
       "      <td>121 121</td>\n",
       "      <td>...</td>\n",
       "      <td>B</td>\n",
       "      <td>BUSINESS</td>\n",
       "      <td>NaN</td>\n",
       "      <td>NaN</td>\n",
       "      <td>NaN</td>\n",
       "      <td>NaN</td>\n",
       "      <td>POINT (-86.72 36.251)</td>\n",
       "      <td>2023</td>\n",
       "      <td>December</td>\n",
       "      <td>09:55:00</td>\n",
       "    </tr>\n",
       "    <tr>\n",
       "      <th>1449</th>\n",
       "      <td>20230774845_11</td>\n",
       "      <td>20230774845</td>\n",
       "      <td>D</td>\n",
       "      <td>DISPATCHED</td>\n",
       "      <td>U</td>\n",
       "      <td>UNFOUNDED</td>\n",
       "      <td>Closed</td>\n",
       "      <td>2023-12-28 13:15:00</td>\n",
       "      <td>12/28/2023 02:59:00 PM</td>\n",
       "      <td>5824 5824</td>\n",
       "      <td>...</td>\n",
       "      <td>I</td>\n",
       "      <td>INDIVIDUAL (18 AND OVER)</td>\n",
       "      <td>M</td>\n",
       "      <td>B</td>\n",
       "      <td>Non-Hispanic</td>\n",
       "      <td>RESIDENT</td>\n",
       "      <td>POINT (-86.713 36.039)</td>\n",
       "      <td>2023</td>\n",
       "      <td>December</td>\n",
       "      <td>13:15:00</td>\n",
       "    </tr>\n",
       "  </tbody>\n",
       "</table>\n",
       "<p>5 rows × 34 columns</p>\n",
       "</div>"
      ],
      "text/plain": [
       "         Primary Key  Incident Number Report Type Report Type Description  \\\n",
       "144   20230321366_11      20230321366           D              DISPATCHED   \n",
       "966   20230770706_11      20230770706           D              DISPATCHED   \n",
       "1120  20230761089_21      20230761089           S                 SUSPECT   \n",
       "1435  20230774490_11      20230774490           D              DISPATCHED   \n",
       "1449  20230774845_11      20230774845           D              DISPATCHED   \n",
       "\n",
       "     Incident Status Code Incident Status Description Investigation Status  \\\n",
       "144                     U                   UNFOUNDED               Closed   \n",
       "966                     U                   UNFOUNDED               Closed   \n",
       "1120                    A           CLEARED BY ARREST               Closed   \n",
       "1435                    U                   UNFOUNDED               Closed   \n",
       "1449                    U                   UNFOUNDED               Closed   \n",
       "\n",
       "       Incident Occurred       Incident Reported Incident Location  ...  \\\n",
       "144  2023-06-01 18:30:00  06/01/2023 07:40:00 PM           409 409  ...   \n",
       "966  2023-12-25 15:20:00  12/28/2023 03:29:00 PM             41 41  ...   \n",
       "1120 2023-12-20 17:00:00  12/20/2023 06:39:00 PM           405 405  ...   \n",
       "1435 2023-12-15 09:55:00  12/28/2023 09:55:00 AM           121 121  ...   \n",
       "1449 2023-12-28 13:15:00  12/28/2023 02:59:00 PM         5824 5824  ...   \n",
       "\n",
       "      Victim Type        Victim Description Victim Gender  Victim Race  \\\n",
       "144             I  INDIVIDUAL (18 AND OVER)             M            W   \n",
       "966             B                  BUSINESS           NaN          NaN   \n",
       "1120            S                   SOCIETY           NaN          NaN   \n",
       "1435            B                  BUSINESS           NaN          NaN   \n",
       "1449            I  INDIVIDUAL (18 AND OVER)             M            B   \n",
       "\n",
       "      Victim Ethnicity  Victim County Resident         Mapped Location  Year  \\\n",
       "144       Non-Hispanic                RESIDENT                     NaN  2023   \n",
       "966                NaN                     NaN  POINT (-86.835 36.091)  2023   \n",
       "1120               NaN                     NaN  POINT (-86.799 36.158)  2023   \n",
       "1435               NaN                     NaN   POINT (-86.72 36.251)  2023   \n",
       "1449      Non-Hispanic                RESIDENT  POINT (-86.713 36.039)  2023   \n",
       "\n",
       "         Month      Time  \n",
       "144       June  18:30:00  \n",
       "966   December  15:20:00  \n",
       "1120  December  17:00:00  \n",
       "1435  December  09:55:00  \n",
       "1449  December  13:15:00  \n",
       "\n",
       "[5 rows x 34 columns]"
      ]
     },
     "execution_count": 118,
     "metadata": {},
     "output_type": "execute_result"
    }
   ],
   "source": [
    "\n",
    "twenty_twenty_three = nash_crime_df_filtered.loc[nash_crime_df_filtered['Year'].isin([2023])]\n",
    "twenty_twenty_three.head()"
   ]
  },
  {
   "cell_type": "code",
   "execution_count": 122,
   "metadata": {},
   "outputs": [
    {
     "data": {
      "text/html": [
       "<div>\n",
       "<style scoped>\n",
       "    .dataframe tbody tr th:only-of-type {\n",
       "        vertical-align: middle;\n",
       "    }\n",
       "\n",
       "    .dataframe tbody tr th {\n",
       "        vertical-align: top;\n",
       "    }\n",
       "\n",
       "    .dataframe thead th {\n",
       "        text-align: right;\n",
       "    }\n",
       "</style>\n",
       "<table border=\"1\" class=\"dataframe\">\n",
       "  <thead>\n",
       "    <tr style=\"text-align: right;\">\n",
       "      <th></th>\n",
       "      <th>Primary Key</th>\n",
       "      <th>Incident Number</th>\n",
       "      <th>Report Type</th>\n",
       "      <th>Report Type Description</th>\n",
       "      <th>Incident Status Code</th>\n",
       "      <th>Incident Status Description</th>\n",
       "      <th>Investigation Status</th>\n",
       "      <th>Incident Occurred</th>\n",
       "      <th>Incident Reported</th>\n",
       "      <th>Incident Location</th>\n",
       "      <th>...</th>\n",
       "      <th>Victim Type</th>\n",
       "      <th>Victim Description</th>\n",
       "      <th>Victim Gender</th>\n",
       "      <th>Victim Race</th>\n",
       "      <th>Victim Ethnicity</th>\n",
       "      <th>Victim County Resident</th>\n",
       "      <th>Mapped Location</th>\n",
       "      <th>Year</th>\n",
       "      <th>Month</th>\n",
       "      <th>Time</th>\n",
       "    </tr>\n",
       "  </thead>\n",
       "  <tbody>\n",
       "    <tr>\n",
       "      <th>0</th>\n",
       "      <td>20230321366_11</td>\n",
       "      <td>20230321366</td>\n",
       "      <td>D</td>\n",
       "      <td>DISPATCHED</td>\n",
       "      <td>U</td>\n",
       "      <td>UNFOUNDED</td>\n",
       "      <td>Closed</td>\n",
       "      <td>2023-06-01 18:30:00</td>\n",
       "      <td>06/01/2023 07:40:00 PM</td>\n",
       "      <td>409 409</td>\n",
       "      <td>...</td>\n",
       "      <td>I</td>\n",
       "      <td>INDIVIDUAL (18 AND OVER)</td>\n",
       "      <td>M</td>\n",
       "      <td>W</td>\n",
       "      <td>Non-Hispanic</td>\n",
       "      <td>RESIDENT</td>\n",
       "      <td>NaN</td>\n",
       "      <td>2023</td>\n",
       "      <td>June</td>\n",
       "      <td>18:30:00</td>\n",
       "    </tr>\n",
       "    <tr>\n",
       "      <th>1</th>\n",
       "      <td>20230770706_11</td>\n",
       "      <td>20230770706</td>\n",
       "      <td>D</td>\n",
       "      <td>DISPATCHED</td>\n",
       "      <td>U</td>\n",
       "      <td>UNFOUNDED</td>\n",
       "      <td>Closed</td>\n",
       "      <td>2023-12-25 15:20:00</td>\n",
       "      <td>12/28/2023 03:29:00 PM</td>\n",
       "      <td>41 41</td>\n",
       "      <td>...</td>\n",
       "      <td>B</td>\n",
       "      <td>BUSINESS</td>\n",
       "      <td>NaN</td>\n",
       "      <td>NaN</td>\n",
       "      <td>NaN</td>\n",
       "      <td>NaN</td>\n",
       "      <td>POINT (-86.835 36.091)</td>\n",
       "      <td>2023</td>\n",
       "      <td>December</td>\n",
       "      <td>15:20:00</td>\n",
       "    </tr>\n",
       "    <tr>\n",
       "      <th>2</th>\n",
       "      <td>20230761089_21</td>\n",
       "      <td>20230761089</td>\n",
       "      <td>S</td>\n",
       "      <td>SUSPECT</td>\n",
       "      <td>A</td>\n",
       "      <td>CLEARED BY ARREST</td>\n",
       "      <td>Closed</td>\n",
       "      <td>2023-12-20 17:00:00</td>\n",
       "      <td>12/20/2023 06:39:00 PM</td>\n",
       "      <td>405 405</td>\n",
       "      <td>...</td>\n",
       "      <td>S</td>\n",
       "      <td>SOCIETY</td>\n",
       "      <td>NaN</td>\n",
       "      <td>NaN</td>\n",
       "      <td>NaN</td>\n",
       "      <td>NaN</td>\n",
       "      <td>POINT (-86.799 36.158)</td>\n",
       "      <td>2023</td>\n",
       "      <td>December</td>\n",
       "      <td>17:00:00</td>\n",
       "    </tr>\n",
       "    <tr>\n",
       "      <th>3</th>\n",
       "      <td>20230774490_11</td>\n",
       "      <td>20230774490</td>\n",
       "      <td>D</td>\n",
       "      <td>DISPATCHED</td>\n",
       "      <td>U</td>\n",
       "      <td>UNFOUNDED</td>\n",
       "      <td>Closed</td>\n",
       "      <td>2023-12-15 09:55:00</td>\n",
       "      <td>12/28/2023 09:55:00 AM</td>\n",
       "      <td>121 121</td>\n",
       "      <td>...</td>\n",
       "      <td>B</td>\n",
       "      <td>BUSINESS</td>\n",
       "      <td>NaN</td>\n",
       "      <td>NaN</td>\n",
       "      <td>NaN</td>\n",
       "      <td>NaN</td>\n",
       "      <td>POINT (-86.72 36.251)</td>\n",
       "      <td>2023</td>\n",
       "      <td>December</td>\n",
       "      <td>09:55:00</td>\n",
       "    </tr>\n",
       "    <tr>\n",
       "      <th>4</th>\n",
       "      <td>20230774845_11</td>\n",
       "      <td>20230774845</td>\n",
       "      <td>D</td>\n",
       "      <td>DISPATCHED</td>\n",
       "      <td>U</td>\n",
       "      <td>UNFOUNDED</td>\n",
       "      <td>Closed</td>\n",
       "      <td>2023-12-28 13:15:00</td>\n",
       "      <td>12/28/2023 02:59:00 PM</td>\n",
       "      <td>5824 5824</td>\n",
       "      <td>...</td>\n",
       "      <td>I</td>\n",
       "      <td>INDIVIDUAL (18 AND OVER)</td>\n",
       "      <td>M</td>\n",
       "      <td>B</td>\n",
       "      <td>Non-Hispanic</td>\n",
       "      <td>RESIDENT</td>\n",
       "      <td>POINT (-86.713 36.039)</td>\n",
       "      <td>2023</td>\n",
       "      <td>December</td>\n",
       "      <td>13:15:00</td>\n",
       "    </tr>\n",
       "  </tbody>\n",
       "</table>\n",
       "<p>5 rows × 34 columns</p>\n",
       "</div>"
      ],
      "text/plain": [
       "      Primary Key  Incident Number Report Type Report Type Description  \\\n",
       "0  20230321366_11      20230321366           D              DISPATCHED   \n",
       "1  20230770706_11      20230770706           D              DISPATCHED   \n",
       "2  20230761089_21      20230761089           S                 SUSPECT   \n",
       "3  20230774490_11      20230774490           D              DISPATCHED   \n",
       "4  20230774845_11      20230774845           D              DISPATCHED   \n",
       "\n",
       "  Incident Status Code Incident Status Description Investigation Status  \\\n",
       "0                    U                   UNFOUNDED               Closed   \n",
       "1                    U                   UNFOUNDED               Closed   \n",
       "2                    A           CLEARED BY ARREST               Closed   \n",
       "3                    U                   UNFOUNDED               Closed   \n",
       "4                    U                   UNFOUNDED               Closed   \n",
       "\n",
       "    Incident Occurred       Incident Reported Incident Location  ...  \\\n",
       "0 2023-06-01 18:30:00  06/01/2023 07:40:00 PM           409 409  ...   \n",
       "1 2023-12-25 15:20:00  12/28/2023 03:29:00 PM             41 41  ...   \n",
       "2 2023-12-20 17:00:00  12/20/2023 06:39:00 PM           405 405  ...   \n",
       "3 2023-12-15 09:55:00  12/28/2023 09:55:00 AM           121 121  ...   \n",
       "4 2023-12-28 13:15:00  12/28/2023 02:59:00 PM         5824 5824  ...   \n",
       "\n",
       "   Victim Type        Victim Description Victim Gender  Victim Race  \\\n",
       "0            I  INDIVIDUAL (18 AND OVER)             M            W   \n",
       "1            B                  BUSINESS           NaN          NaN   \n",
       "2            S                   SOCIETY           NaN          NaN   \n",
       "3            B                  BUSINESS           NaN          NaN   \n",
       "4            I  INDIVIDUAL (18 AND OVER)             M            B   \n",
       "\n",
       "   Victim Ethnicity  Victim County Resident         Mapped Location  Year  \\\n",
       "0      Non-Hispanic                RESIDENT                     NaN  2023   \n",
       "1               NaN                     NaN  POINT (-86.835 36.091)  2023   \n",
       "2               NaN                     NaN  POINT (-86.799 36.158)  2023   \n",
       "3               NaN                     NaN   POINT (-86.72 36.251)  2023   \n",
       "4      Non-Hispanic                RESIDENT  POINT (-86.713 36.039)  2023   \n",
       "\n",
       "      Month      Time  \n",
       "0      June  18:30:00  \n",
       "1  December  15:20:00  \n",
       "2  December  17:00:00  \n",
       "3  December  09:55:00  \n",
       "4  December  13:15:00  \n",
       "\n",
       "[5 rows x 34 columns]"
      ]
     },
     "execution_count": 122,
     "metadata": {},
     "output_type": "execute_result"
    }
   ],
   "source": [
    "twenty_twenty_three_df = twenty_twenty_three.reset_index(drop=True)\n",
    "twenty_twenty_three_df.head() #64029 rows × 35 columns"
   ]
  },
  {
   "cell_type": "markdown",
   "metadata": {},
   "source": [
    "converted 2023 sorted crime to df"
   ]
  },
  {
   "cell_type": "code",
   "execution_count": 123,
   "metadata": {},
   "outputs": [
    {
     "data": {
      "text/html": [
       "<div>\n",
       "<style scoped>\n",
       "    .dataframe tbody tr th:only-of-type {\n",
       "        vertical-align: middle;\n",
       "    }\n",
       "\n",
       "    .dataframe tbody tr th {\n",
       "        vertical-align: top;\n",
       "    }\n",
       "\n",
       "    .dataframe thead th {\n",
       "        text-align: right;\n",
       "    }\n",
       "</style>\n",
       "<table border=\"1\" class=\"dataframe\">\n",
       "  <thead>\n",
       "    <tr style=\"text-align: right;\">\n",
       "      <th></th>\n",
       "      <th>Month</th>\n",
       "      <th>Crime Count</th>\n",
       "    </tr>\n",
       "  </thead>\n",
       "  <tbody>\n",
       "    <tr>\n",
       "      <th>0</th>\n",
       "      <td>April</td>\n",
       "      <td>5356</td>\n",
       "    </tr>\n",
       "    <tr>\n",
       "      <th>1</th>\n",
       "      <td>August</td>\n",
       "      <td>5635</td>\n",
       "    </tr>\n",
       "    <tr>\n",
       "      <th>2</th>\n",
       "      <td>December</td>\n",
       "      <td>4879</td>\n",
       "    </tr>\n",
       "    <tr>\n",
       "      <th>3</th>\n",
       "      <td>February</td>\n",
       "      <td>4840</td>\n",
       "    </tr>\n",
       "    <tr>\n",
       "      <th>4</th>\n",
       "      <td>January</td>\n",
       "      <td>5189</td>\n",
       "    </tr>\n",
       "    <tr>\n",
       "      <th>5</th>\n",
       "      <td>July</td>\n",
       "      <td>5648</td>\n",
       "    </tr>\n",
       "    <tr>\n",
       "      <th>6</th>\n",
       "      <td>June</td>\n",
       "      <td>5599</td>\n",
       "    </tr>\n",
       "    <tr>\n",
       "      <th>7</th>\n",
       "      <td>March</td>\n",
       "      <td>5412</td>\n",
       "    </tr>\n",
       "    <tr>\n",
       "      <th>8</th>\n",
       "      <td>May</td>\n",
       "      <td>5691</td>\n",
       "    </tr>\n",
       "    <tr>\n",
       "      <th>9</th>\n",
       "      <td>November</td>\n",
       "      <td>4852</td>\n",
       "    </tr>\n",
       "    <tr>\n",
       "      <th>10</th>\n",
       "      <td>October</td>\n",
       "      <td>5425</td>\n",
       "    </tr>\n",
       "    <tr>\n",
       "      <th>11</th>\n",
       "      <td>September</td>\n",
       "      <td>5503</td>\n",
       "    </tr>\n",
       "  </tbody>\n",
       "</table>\n",
       "</div>"
      ],
      "text/plain": [
       "        Month  Crime Count\n",
       "0       April         5356\n",
       "1      August         5635\n",
       "2    December         4879\n",
       "3    February         4840\n",
       "4     January         5189\n",
       "5        July         5648\n",
       "6        June         5599\n",
       "7       March         5412\n",
       "8         May         5691\n",
       "9    November         4852\n",
       "10    October         5425\n",
       "11  September         5503"
      ]
     },
     "execution_count": 123,
     "metadata": {},
     "output_type": "execute_result"
    }
   ],
   "source": [
    "crime_count_by_month_in_23=twenty_twenty_three_df.groupby('Month').size().reset_index(name='Crime Count')\n",
    "crime_count_by_month_in_23"
   ]
  },
  {
   "cell_type": "code",
   "execution_count": 114,
   "metadata": {},
   "outputs": [
    {
     "data": {
      "text/plain": [
       "'May'"
      ]
     },
     "execution_count": 114,
     "metadata": {},
     "output_type": "execute_result"
    }
   ],
   "source": [
    "month_with_max_crime_count_in_23 = crime_count_by_month_in_23.loc[crime_count_by_month_in_23['Crime Count'].idxmax(), 'Month']\n",
    "month_with_max_crime_count_in_23"
   ]
  },
  {
   "cell_type": "code",
   "execution_count": 124,
   "metadata": {},
   "outputs": [
    {
     "data": {
      "text/plain": [
       "5335.75"
      ]
     },
     "execution_count": 124,
     "metadata": {},
     "output_type": "execute_result"
    }
   ],
   "source": [
    "crime_count_by_month = twenty_twenty_three_df.groupby('Month').size().reset_index(name='Crime Count')\n",
    "avg_crime_count_by_month = crime_count_by_month_in_23['Crime Count'].mean().round(2)\n",
    "avg_crime_count_by_month"
   ]
  },
  {
   "cell_type": "markdown",
   "metadata": {},
   "source": [
    "# Back to the whole data that includes the whole year"
   ]
  },
  {
   "cell_type": "code",
   "execution_count": 111,
   "metadata": {},
   "outputs": [
    {
     "data": {
      "text/plain": [
       "37561.58"
      ]
     },
     "execution_count": 111,
     "metadata": {},
     "output_type": "execute_result"
    }
   ],
   "source": [
    "crime_count_by_year = nash_crime_df_filtered.groupby('Month').size().reset_index(name='Crime Count')\n",
    "avg_crime_count_by_year = crime_count_by_year['Crime Count'].mean().round(2)\n",
    "avg_crime_count_by_year"
   ]
  },
  {
   "cell_type": "code",
   "execution_count": 60,
   "metadata": {},
   "outputs": [
    {
     "data": {
      "text/plain": [
       "dtype('int32')"
      ]
     },
     "execution_count": 60,
     "metadata": {},
     "output_type": "execute_result"
    }
   ],
   "source": [
    "nash_crime_df_filtered['Month'].dtypes"
   ]
  },
  {
   "cell_type": "code",
   "execution_count": 61,
   "metadata": {},
   "outputs": [
    {
     "name": "stderr",
     "output_type": "stream",
     "text": [
      "/var/folders/th/jsjzrfgj5mqb0ntmxxmc9pmm0000gn/T/ipykernel_69865/3640405411.py:3: SettingWithCopyWarning: \n",
      "A value is trying to be set on a copy of a slice from a DataFrame.\n",
      "Try using .loc[row_indexer,col_indexer] = value instead\n",
      "\n",
      "See the caveats in the documentation: https://pandas.pydata.org/pandas-docs/stable/user_guide/indexing.html#returning-a-view-versus-a-copy\n",
      "  nash_crime_df_filtered['Month'] = nash_crime_df_filtered['Month'].apply(lambda x: calendar.month_name[x])\n"
     ]
    }
   ],
   "source": [
    "import calendar\n",
    "\n",
    "nash_crime_df_filtered['Month'] = nash_crime_df_filtered['Month'].apply(lambda x: calendar.month_name[x])\n"
   ]
  },
  {
   "cell_type": "markdown",
   "metadata": {},
   "source": [
    "Convert month numbers to month names. i am using the  apply() method to apply a lambda function to each element in the 'Month' column. "
   ]
  },
  {
   "cell_type": "code",
   "execution_count": 74,
   "metadata": {},
   "outputs": [
    {
     "data": {
      "text/html": [
       "<div>\n",
       "<style scoped>\n",
       "    .dataframe tbody tr th:only-of-type {\n",
       "        vertical-align: middle;\n",
       "    }\n",
       "\n",
       "    .dataframe tbody tr th {\n",
       "        vertical-align: top;\n",
       "    }\n",
       "\n",
       "    .dataframe thead th {\n",
       "        text-align: right;\n",
       "    }\n",
       "</style>\n",
       "<table border=\"1\" class=\"dataframe\">\n",
       "  <thead>\n",
       "    <tr style=\"text-align: right;\">\n",
       "      <th></th>\n",
       "      <th>Month</th>\n",
       "      <th>Crime Count</th>\n",
       "    </tr>\n",
       "  </thead>\n",
       "  <tbody>\n",
       "    <tr>\n",
       "      <th>0</th>\n",
       "      <td>April</td>\n",
       "      <td>37356</td>\n",
       "    </tr>\n",
       "    <tr>\n",
       "      <th>1</th>\n",
       "      <td>August</td>\n",
       "      <td>38854</td>\n",
       "    </tr>\n",
       "    <tr>\n",
       "      <th>2</th>\n",
       "      <td>December</td>\n",
       "      <td>34203</td>\n",
       "    </tr>\n",
       "    <tr>\n",
       "      <th>3</th>\n",
       "      <td>February</td>\n",
       "      <td>35916</td>\n",
       "    </tr>\n",
       "    <tr>\n",
       "      <th>4</th>\n",
       "      <td>January</td>\n",
       "      <td>41796</td>\n",
       "    </tr>\n",
       "    <tr>\n",
       "      <th>5</th>\n",
       "      <td>July</td>\n",
       "      <td>38818</td>\n",
       "    </tr>\n",
       "    <tr>\n",
       "      <th>6</th>\n",
       "      <td>June</td>\n",
       "      <td>38040</td>\n",
       "    </tr>\n",
       "    <tr>\n",
       "      <th>7</th>\n",
       "      <td>March</td>\n",
       "      <td>37075</td>\n",
       "    </tr>\n",
       "    <tr>\n",
       "      <th>8</th>\n",
       "      <td>May</td>\n",
       "      <td>39957</td>\n",
       "    </tr>\n",
       "    <tr>\n",
       "      <th>9</th>\n",
       "      <td>November</td>\n",
       "      <td>34260</td>\n",
       "    </tr>\n",
       "    <tr>\n",
       "      <th>10</th>\n",
       "      <td>October</td>\n",
       "      <td>37413</td>\n",
       "    </tr>\n",
       "    <tr>\n",
       "      <th>11</th>\n",
       "      <td>September</td>\n",
       "      <td>37051</td>\n",
       "    </tr>\n",
       "  </tbody>\n",
       "</table>\n",
       "</div>"
      ],
      "text/plain": [
       "        Month  Crime Count\n",
       "0       April        37356\n",
       "1      August        38854\n",
       "2    December        34203\n",
       "3    February        35916\n",
       "4     January        41796\n",
       "5        July        38818\n",
       "6        June        38040\n",
       "7       March        37075\n",
       "8         May        39957\n",
       "9    November        34260\n",
       "10    October        37413\n",
       "11  September        37051"
      ]
     },
     "execution_count": 74,
     "metadata": {},
     "output_type": "execute_result"
    }
   ],
   "source": [
    "crime_count_by_month=nash_crime_df_filtered.groupby('Month').size().reset_index(name='Crime Count')\n",
    "crime_count_by_month"
   ]
  },
  {
   "cell_type": "code",
   "execution_count": 98,
   "metadata": {},
   "outputs": [
    {
     "data": {
      "text/plain": [
       "'January'"
      ]
     },
     "execution_count": 98,
     "metadata": {},
     "output_type": "execute_result"
    }
   ],
   "source": [
    "month_with_max_crime_count = crime_count_by_month.loc[crime_count_by_month['Crime Count'].idxmax(), 'Month']\n",
    "month_with_max_crime_count"
   ]
  },
  {
   "cell_type": "code",
   "execution_count": 78,
   "metadata": {},
   "outputs": [
    {
     "data": {
      "text/plain": [
       "37561.58"
      ]
     },
     "execution_count": 78,
     "metadata": {},
     "output_type": "execute_result"
    }
   ],
   "source": [
    "crime_count_by_month = nash_crime_df_filtered.groupby('Month').size().reset_index(name='Crime Count')\n",
    "avg_crime_count_by_month = crime_count_by_month['Crime Count'].mean().round(2)\n",
    "\n",
    "avg_crime_count_by_month"
   ]
  },
  {
   "cell_type": "code",
   "execution_count": 79,
   "metadata": {},
   "outputs": [
    {
     "data": {
      "text/html": [
       "<div>\n",
       "<style scoped>\n",
       "    .dataframe tbody tr th:only-of-type {\n",
       "        vertical-align: middle;\n",
       "    }\n",
       "\n",
       "    .dataframe tbody tr th {\n",
       "        vertical-align: top;\n",
       "    }\n",
       "\n",
       "    .dataframe thead th {\n",
       "        text-align: right;\n",
       "    }\n",
       "</style>\n",
       "<table border=\"1\" class=\"dataframe\">\n",
       "  <thead>\n",
       "    <tr style=\"text-align: right;\">\n",
       "      <th></th>\n",
       "      <th>Time</th>\n",
       "      <th>Crime Count</th>\n",
       "    </tr>\n",
       "  </thead>\n",
       "  <tbody>\n",
       "    <tr>\n",
       "      <th>0</th>\n",
       "      <td>00:00:00</td>\n",
       "      <td>7853</td>\n",
       "    </tr>\n",
       "    <tr>\n",
       "      <th>1</th>\n",
       "      <td>00:01:00</td>\n",
       "      <td>1292</td>\n",
       "    </tr>\n",
       "    <tr>\n",
       "      <th>2</th>\n",
       "      <td>00:02:00</td>\n",
       "      <td>182</td>\n",
       "    </tr>\n",
       "    <tr>\n",
       "      <th>3</th>\n",
       "      <td>00:03:00</td>\n",
       "      <td>175</td>\n",
       "    </tr>\n",
       "    <tr>\n",
       "      <th>4</th>\n",
       "      <td>00:04:00</td>\n",
       "      <td>165</td>\n",
       "    </tr>\n",
       "    <tr>\n",
       "      <th>...</th>\n",
       "      <td>...</td>\n",
       "      <td>...</td>\n",
       "    </tr>\n",
       "    <tr>\n",
       "      <th>1435</th>\n",
       "      <td>23:55:00</td>\n",
       "      <td>252</td>\n",
       "    </tr>\n",
       "    <tr>\n",
       "      <th>1436</th>\n",
       "      <td>23:56:00</td>\n",
       "      <td>149</td>\n",
       "    </tr>\n",
       "    <tr>\n",
       "      <th>1437</th>\n",
       "      <td>23:57:00</td>\n",
       "      <td>135</td>\n",
       "    </tr>\n",
       "    <tr>\n",
       "      <th>1438</th>\n",
       "      <td>23:58:00</td>\n",
       "      <td>144</td>\n",
       "    </tr>\n",
       "    <tr>\n",
       "      <th>1439</th>\n",
       "      <td>23:59:00</td>\n",
       "      <td>212</td>\n",
       "    </tr>\n",
       "  </tbody>\n",
       "</table>\n",
       "<p>1440 rows × 2 columns</p>\n",
       "</div>"
      ],
      "text/plain": [
       "          Time  Crime Count\n",
       "0     00:00:00         7853\n",
       "1     00:01:00         1292\n",
       "2     00:02:00          182\n",
       "3     00:03:00          175\n",
       "4     00:04:00          165\n",
       "...        ...          ...\n",
       "1435  23:55:00          252\n",
       "1436  23:56:00          149\n",
       "1437  23:57:00          135\n",
       "1438  23:58:00          144\n",
       "1439  23:59:00          212\n",
       "\n",
       "[1440 rows x 2 columns]"
      ]
     },
     "execution_count": 79,
     "metadata": {},
     "output_type": "execute_result"
    }
   ],
   "source": [
    "crime_count_by_time=nash_crime_df_filtered.groupby('Time').size().reset_index(name='Crime Count')\n",
    "crime_count_by_time"
   ]
  },
  {
   "cell_type": "code",
   "execution_count": 80,
   "metadata": {},
   "outputs": [
    {
     "data": {
      "text/plain": [
       "313.01"
      ]
     },
     "execution_count": 80,
     "metadata": {},
     "output_type": "execute_result"
    }
   ],
   "source": [
    "crime_count_by_time = nash_crime_df_filtered.groupby('Time').size().reset_index(name='Crime Count')\n",
    "avg_crime_count_by_time = crime_count_by_time['Crime Count'].mean().round(2)\n",
    "\n",
    "avg_crime_count_by_time"
   ]
  },
  {
   "cell_type": "code",
   "execution_count": 81,
   "metadata": {},
   "outputs": [],
   "source": [
    "# nash_crime_df['ZIP Code'].dtypes"
   ]
  },
  {
   "cell_type": "code",
   "execution_count": null,
   "metadata": {},
   "outputs": [],
   "source": [
    "#df = df.drop(df[df['ZIP Code'].str.startswith('3')].index)\n",
    "#nash_crime_df.drop(nash_crime_df[nash_crime_df['ZIP Code'].to_string().startswith('3')].index)\n",
    "#nash_crime_df = nash_crime_df.drop(nash_crime_df[ 30000 < nash_crime_df['ZIP Code'] < 40000].index)"
   ]
  },
  {
   "cell_type": "code",
   "execution_count": null,
   "metadata": {},
   "outputs": [],
   "source": [
    "# list_of_zips = [3701., 6706.0, 53701.0, 27707.0, 91107.0, 27216.0, 89502.0, 90069.0, 0.0, 19153.0, 43440.0, 15213.0, 29501.0, 23236.0, 17202.0, 60123.0]\n",
    "\n",
    "\n",
    "# for zip in list_of_zips:\n",
    "#     nash_crime_df.drop(nash_crime_df[nash_crime_df['ZIP Code'] == zip].index, inplace=True)\n",
    "    "
   ]
  },
  {
   "cell_type": "code",
   "execution_count": null,
   "metadata": {},
   "outputs": [],
   "source": [
    "# nash_crime_df['ZIP Code'].unique()"
   ]
  },
  {
   "cell_type": "code",
   "execution_count": null,
   "metadata": {},
   "outputs": [],
   "source": [
    "# nash_crime_df['ZIP Code'].unique()"
   ]
  },
  {
   "cell_type": "code",
   "execution_count": null,
   "metadata": {},
   "outputs": [],
   "source": [
    "# nash_crime_df_filtered['ZIP Code'].value_counts()"
   ]
  },
  {
   "cell_type": "code",
   "execution_count": null,
   "metadata": {},
   "outputs": [],
   "source": [
    "nash_crime_df_filtered.head()"
   ]
  },
  {
   "cell_type": "code",
   "execution_count": null,
   "metadata": {},
   "outputs": [],
   "source": [
    "nash_crime_df_37207 = nash_crime_df_filtered[nash_crime_df['ZIP Code'] == 37207]\n",
    "nash_crime_df_37207.size"
   ]
  },
  {
   "cell_type": "code",
   "execution_count": null,
   "metadata": {},
   "outputs": [],
   "source": [
    "crime_count_by_year_37207 = nash_crime_df_37207.groupby('Year').size()\n",
    "# crime_count_by_year\n",
    "crime_count_by_year_37207"
   ]
  },
  {
   "cell_type": "code",
   "execution_count": null,
   "metadata": {},
   "outputs": [],
   "source": [
    "nash_crime_df[nash_crime_df['ZIP Code'] == 37214.0].groupby('Year').size()"
   ]
  },
  {
   "cell_type": "code",
   "execution_count": null,
   "metadata": {},
   "outputs": [],
   "source": [
    "crime_count_by_year.reset_index(name='Crime Count')"
   ]
  },
  {
   "cell_type": "code",
   "execution_count": null,
   "metadata": {},
   "outputs": [],
   "source": [
    "crime_count_by_year.name='Crime Count'\n",
    "crime_count_by_year = crime_count_by_year.reset_index()\n",
    "crime_count_by_year"
   ]
  },
  {
   "cell_type": "code",
   "execution_count": null,
   "metadata": {},
   "outputs": [],
   "source": [
    "nash_unemployment_df_by_year['Year'] = nash_unemployment_df_by_year['Year'].astype('int32')\n",
    "nash_unemployment_df_by_year.dtypes"
   ]
  },
  {
   "cell_type": "code",
   "execution_count": null,
   "metadata": {},
   "outputs": [],
   "source": [
    "crime_unemployment_year = pd.merge(nash_unemployment_df_by_year, crime_count_by_year, on='Year', how='inner')\n",
    "crime_unemployment_year"
   ]
  },
  {
   "cell_type": "code",
   "execution_count": null,
   "metadata": {},
   "outputs": [],
   "source": [
    "#plot barplot to compare unemployment data with crime #ind - bar_width/2, \n",
    "bar_width = 0.35\n",
    "ind = np.arange(len(crime_unemployment_year['Year']))\n",
    "plt.figure(figsize=(10, 6))\n",
    "plt.bar(ind - bar_width/2, crime_unemployment_year['Unemployed Population'], bar_width, label='Unemployed Population', color='blue')\n",
    "plt.bar(ind + bar_width/2, crime_unemployment_year['Crime Count'], bar_width, label='Crime Count', color='Orange')\n",
    "plt.xlabel('Year')\n",
    "plt.ylabel('Count')\n",
    "plt.title('Unemployed Population and Crime Count by Year')\n",
    "plt.xticks(ind, crime_unemployment_year['Year'])\n",
    "plt.legend()\n",
    "plt.tight_layout()\n",
    "plt.show()"
   ]
  },
  {
   "cell_type": "code",
   "execution_count": null,
   "metadata": {},
   "outputs": [],
   "source": [
    "first_list = ['37210', '37207', '37115', '37076', '37013', '37217', '37218',\n",
    "       '37203', '37211', '37209', '37219', '37206', '37221', '37216',\n",
    "       '37208', '37214', '37027', '37212', '37204', '37201', '37042',\n",
    "       '37205', '37189', '37240', '37228', '37213', '37072', '37138',\n",
    "       '37215', '37220', '37135', '37080', '38401', '37015', '37067',\n",
    "       '37087', '53701', '37122', '38109', '37075', '60123', '37090',\n",
    "       '37028', '37086', '37043', '37179', '17202', '23236', '29501',\n",
    "       '32801', '30318', '0', '37029', '38562', '30139', '89502', '37167',\n",
    "       '27216', '37129', '37064', '37185', '39202', '37082', '90069',\n",
    "       '37130', '91107', '27707', '37330', '37274', '37078', '37232',\n",
    "       '37066', '37110', '43440', '19153', '6706', '15213', '37143',\n",
    "       '3701', '37683', '37049', '37025']\n",
    "\n",
    "new_list = []\n",
    "for zip in first_list:\n",
    "    if not str(zip).startswith('3'):\n",
    "        new_list.append(zip)\n",
    "print(new_list)"
   ]
  },
  {
   "cell_type": "code",
   "execution_count": null,
   "metadata": {},
   "outputs": [],
   "source": [
    "nash_crime_df.head(2)"
   ]
  },
  {
   "cell_type": "code",
   "execution_count": null,
   "metadata": {},
   "outputs": [],
   "source": [
    "nash_crime_df.columns"
   ]
  },
  {
   "cell_type": "code",
   "execution_count": null,
   "metadata": {},
   "outputs": [],
   "source": [
    "# # sex_crimes = nash_crime_df[nash_crime_df['Incident Status Description'].str.contains('SEX CRIMES|RAPE')]\n",
    "\n",
    "\n",
    "# # sex_crimes = nash_crime_df[nash_crime_df['Incident Status Description'].str.contains('SEX CRIMES|RAPE')]\n",
    "\n",
    "# sex_crimes = nash_crime_df[nash_crime_df['Incident Status Description'].str.contains('Sex Crime|Rape', case=False, na=False)]"
   ]
  },
  {
   "cell_type": "code",
   "execution_count": null,
   "metadata": {},
   "outputs": [],
   "source": [
    "nash_crime_df['Incident Status Description'].info()"
   ]
  },
  {
   "cell_type": "code",
   "execution_count": null,
   "metadata": {},
   "outputs": [],
   "source": [
    "nash_crime_df.columns"
   ]
  },
  {
   "cell_type": "code",
   "execution_count": null,
   "metadata": {},
   "outputs": [],
   "source": [
    "nash_crime_df['Offense Description'].unique()"
   ]
  },
  {
   "cell_type": "code",
   "execution_count": null,
   "metadata": {},
   "outputs": [],
   "source": []
  }
 ],
 "metadata": {
  "kernelspec": {
   "display_name": "Python 3 (ipykernel)",
   "language": "python",
   "name": "python3"
  },
  "language_info": {
   "codemirror_mode": {
    "name": "ipython",
    "version": 3
   },
   "file_extension": ".py",
   "mimetype": "text/x-python",
   "name": "python",
   "nbconvert_exporter": "python",
   "pygments_lexer": "ipython3",
   "version": "3.11.5"
  }
 },
 "nbformat": 4,
 "nbformat_minor": 4
}
