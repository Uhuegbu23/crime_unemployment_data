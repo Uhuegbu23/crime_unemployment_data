{
 "cells": [
  {
   "cell_type": "code",
   "execution_count": 1,
   "metadata": {},
   "outputs": [],
   "source": [
    "import pandas as pd   \n",
    "import numpy as np  \n",
    "import matplotlib.pyplot as plt \n",
    "import seaborn as sns\n",
    "from scipy.stats import levene\n",
    "from scipy.stats import f_oneway\n",
    "from scipy.stats import shapiro\n",
    "from scipy.stats import ttest_ind\n",
    "import numpy as np\n",
    "import geopandas as gpd\n",
    "import folium\n",
    "from folium.plugins import MarkerCluster\n",
    "from folium.plugins import FastMarkerCluster"
   ]
  },
  {
   "cell_type": "markdown",
   "metadata": {},
   "source": [
    "# Read CSV, Nashville Crime and Unemployment"
   ]
  },
  {
   "cell_type": "code",
   "execution_count": 2,
   "metadata": {},
   "outputs": [],
   "source": [
    "nash_crime_df=pd.read_csv('../data/Nashville/Metro_Nashville_Police.csv',dtype={\"ZIP Code\":str})"
   ]
  },
  {
   "cell_type": "markdown",
   "metadata": {},
   "source": [
    "i use the :str to change the Zip code column from float to string, in other to clean it up, thereby remove the .0 that comes with it"
   ]
  },
  {
   "cell_type": "code",
   "execution_count": 3,
   "metadata": {},
   "outputs": [
    {
     "data": {
      "text/html": [
       "<div>\n",
       "<style scoped>\n",
       "    .dataframe tbody tr th:only-of-type {\n",
       "        vertical-align: middle;\n",
       "    }\n",
       "\n",
       "    .dataframe tbody tr th {\n",
       "        vertical-align: top;\n",
       "    }\n",
       "\n",
       "    .dataframe thead th {\n",
       "        text-align: right;\n",
       "    }\n",
       "</style>\n",
       "<table border=\"1\" class=\"dataframe\">\n",
       "  <thead>\n",
       "    <tr style=\"text-align: right;\">\n",
       "      <th></th>\n",
       "      <th>Primary Key</th>\n",
       "      <th>Incident Number</th>\n",
       "      <th>Report Type</th>\n",
       "      <th>Report Type Description</th>\n",
       "      <th>Incident Status Code</th>\n",
       "      <th>Incident Status Description</th>\n",
       "      <th>Investigation Status</th>\n",
       "      <th>Incident Occurred</th>\n",
       "      <th>Incident Reported</th>\n",
       "      <th>Incident Location</th>\n",
       "      <th>...</th>\n",
       "      <th>Weapon Description</th>\n",
       "      <th>Victim Number</th>\n",
       "      <th>Domestic Related</th>\n",
       "      <th>Victim Type</th>\n",
       "      <th>Victim Description</th>\n",
       "      <th>Victim Gender</th>\n",
       "      <th>Victim Race</th>\n",
       "      <th>Victim Ethnicity</th>\n",
       "      <th>Victim County Resident</th>\n",
       "      <th>Mapped Location</th>\n",
       "    </tr>\n",
       "  </thead>\n",
       "  <tbody>\n",
       "    <tr>\n",
       "      <th>0</th>\n",
       "      <td>20190496213_11</td>\n",
       "      <td>20190496213</td>\n",
       "      <td>D</td>\n",
       "      <td>DISPATCHED</td>\n",
       "      <td>U</td>\n",
       "      <td>UNFOUNDED</td>\n",
       "      <td>Closed</td>\n",
       "      <td>07/01/2019 05:31:00 PM</td>\n",
       "      <td>07/01/2019 06:17:00 PM</td>\n",
       "      <td>2410 2410</td>\n",
       "      <td>...</td>\n",
       "      <td>NONE</td>\n",
       "      <td>1</td>\n",
       "      <td>True</td>\n",
       "      <td>I</td>\n",
       "      <td>INDIVIDUAL (18 AND OVER)</td>\n",
       "      <td>M</td>\n",
       "      <td>W</td>\n",
       "      <td>Non-Hispanic</td>\n",
       "      <td>RESIDENT</td>\n",
       "      <td>POINT (-86.696 36.218)</td>\n",
       "    </tr>\n",
       "    <tr>\n",
       "      <th>1</th>\n",
       "      <td>20180290646_11</td>\n",
       "      <td>20180290646</td>\n",
       "      <td>D</td>\n",
       "      <td>DISPATCHED</td>\n",
       "      <td>A</td>\n",
       "      <td>CLEARED BY ARREST</td>\n",
       "      <td>Closed</td>\n",
       "      <td>03/31/2018 12:21:00 PM</td>\n",
       "      <td>03/31/2018 07:41:00 PM</td>\n",
       "      <td>5824 5824</td>\n",
       "      <td>...</td>\n",
       "      <td>NONE</td>\n",
       "      <td>1</td>\n",
       "      <td>False</td>\n",
       "      <td>B</td>\n",
       "      <td>BUSINESS</td>\n",
       "      <td>NaN</td>\n",
       "      <td>NaN</td>\n",
       "      <td>NaN</td>\n",
       "      <td>NaN</td>\n",
       "      <td>POINT (-86.713 36.042)</td>\n",
       "    </tr>\n",
       "  </tbody>\n",
       "</table>\n",
       "<p>2 rows × 31 columns</p>\n",
       "</div>"
      ],
      "text/plain": [
       "      Primary Key  Incident Number Report Type Report Type Description  \\\n",
       "0  20190496213_11      20190496213           D              DISPATCHED   \n",
       "1  20180290646_11      20180290646           D              DISPATCHED   \n",
       "\n",
       "  Incident Status Code Incident Status Description Investigation Status  \\\n",
       "0                    U                   UNFOUNDED               Closed   \n",
       "1                    A           CLEARED BY ARREST               Closed   \n",
       "\n",
       "        Incident Occurred       Incident Reported Incident Location  ...  \\\n",
       "0  07/01/2019 05:31:00 PM  07/01/2019 06:17:00 PM         2410 2410  ...   \n",
       "1  03/31/2018 12:21:00 PM  03/31/2018 07:41:00 PM         5824 5824  ...   \n",
       "\n",
       "   Weapon Description  Victim Number Domestic Related  Victim Type  \\\n",
       "0                NONE              1             True            I   \n",
       "1                NONE              1            False            B   \n",
       "\n",
       "         Victim Description  Victim Gender Victim Race  Victim Ethnicity  \\\n",
       "0  INDIVIDUAL (18 AND OVER)              M           W      Non-Hispanic   \n",
       "1                  BUSINESS            NaN         NaN               NaN   \n",
       "\n",
       "  Victim County Resident         Mapped Location  \n",
       "0               RESIDENT  POINT (-86.696 36.218)  \n",
       "1                    NaN  POINT (-86.713 36.042)  \n",
       "\n",
       "[2 rows x 31 columns]"
      ]
     },
     "execution_count": 3,
     "metadata": {},
     "output_type": "execute_result"
    }
   ],
   "source": [
    "nash_crime_df.head(2)"
   ]
  },
  {
   "cell_type": "code",
   "execution_count": 4,
   "metadata": {},
   "outputs": [
    {
     "data": {
      "text/plain": [
       "0         37214\n",
       "1         37013\n",
       "2         37207\n",
       "3         37205\n",
       "4         37076\n",
       "          ...  \n",
       "865170      NaN\n",
       "865171      NaN\n",
       "865172      NaN\n",
       "865173      NaN\n",
       "865174    37210\n",
       "Name: ZIP Code, Length: 865175, dtype: object"
      ]
     },
     "execution_count": 4,
     "metadata": {},
     "output_type": "execute_result"
    }
   ],
   "source": [
    "nash_crime_df['ZIP Code']"
   ]
  },
  {
   "cell_type": "code",
   "execution_count": 5,
   "metadata": {},
   "outputs": [],
   "source": [
    "nash_unemployment_df=pd.read_csv('../data/Nashville/Unemployment_Nashville-Davidson.csv')                   "
   ]
  },
  {
   "cell_type": "code",
   "execution_count": 6,
   "metadata": {},
   "outputs": [
    {
     "data": {
      "text/html": [
       "<div>\n",
       "<style scoped>\n",
       "    .dataframe tbody tr th:only-of-type {\n",
       "        vertical-align: middle;\n",
       "    }\n",
       "\n",
       "    .dataframe tbody tr th {\n",
       "        vertical-align: top;\n",
       "    }\n",
       "\n",
       "    .dataframe thead th {\n",
       "        text-align: right;\n",
       "    }\n",
       "</style>\n",
       "<table border=\"1\" class=\"dataframe\">\n",
       "  <thead>\n",
       "    <tr style=\"text-align: right;\">\n",
       "      <th></th>\n",
       "      <th>Series ID</th>\n",
       "      <th>Year</th>\n",
       "      <th>Period</th>\n",
       "      <th>Label</th>\n",
       "      <th>Value</th>\n",
       "    </tr>\n",
       "  </thead>\n",
       "  <tbody>\n",
       "    <tr>\n",
       "      <th>0</th>\n",
       "      <td>LAUCA474000000000004</td>\n",
       "      <td>2021</td>\n",
       "      <td>M01</td>\n",
       "      <td>2021 Jan</td>\n",
       "      <td>54892</td>\n",
       "    </tr>\n",
       "    <tr>\n",
       "      <th>1</th>\n",
       "      <td>LAUCA474000000000004</td>\n",
       "      <td>2021</td>\n",
       "      <td>M02</td>\n",
       "      <td>2021 Feb</td>\n",
       "      <td>52123</td>\n",
       "    </tr>\n",
       "  </tbody>\n",
       "</table>\n",
       "</div>"
      ],
      "text/plain": [
       "              Series ID  Year Period     Label  Value\n",
       "0  LAUCA474000000000004  2021    M01  2021 Jan  54892\n",
       "1  LAUCA474000000000004  2021    M02  2021 Feb  52123"
      ]
     },
     "execution_count": 6,
     "metadata": {},
     "output_type": "execute_result"
    }
   ],
   "source": [
    "nash_unemployment_df.head(2)"
   ]
  },
  {
   "cell_type": "code",
   "execution_count": 7,
   "metadata": {},
   "outputs": [
    {
     "data": {
      "text/html": [
       "<div>\n",
       "<style scoped>\n",
       "    .dataframe tbody tr th:only-of-type {\n",
       "        vertical-align: middle;\n",
       "    }\n",
       "\n",
       "    .dataframe tbody tr th {\n",
       "        vertical-align: top;\n",
       "    }\n",
       "\n",
       "    .dataframe thead th {\n",
       "        text-align: right;\n",
       "    }\n",
       "</style>\n",
       "<table border=\"1\" class=\"dataframe\">\n",
       "  <thead>\n",
       "    <tr style=\"text-align: right;\">\n",
       "      <th></th>\n",
       "      <th>Series ID</th>\n",
       "      <th>Year</th>\n",
       "      <th>Period</th>\n",
       "      <th>Label</th>\n",
       "      <th>Value</th>\n",
       "      <th>Month</th>\n",
       "    </tr>\n",
       "  </thead>\n",
       "  <tbody>\n",
       "    <tr>\n",
       "      <th>0</th>\n",
       "      <td>LAUCA474000000000004</td>\n",
       "      <td>2021</td>\n",
       "      <td>M01</td>\n",
       "      <td>2021 Jan</td>\n",
       "      <td>54892</td>\n",
       "      <td>Jan</td>\n",
       "    </tr>\n",
       "    <tr>\n",
       "      <th>1</th>\n",
       "      <td>LAUCA474000000000004</td>\n",
       "      <td>2021</td>\n",
       "      <td>M02</td>\n",
       "      <td>2021 Feb</td>\n",
       "      <td>52123</td>\n",
       "      <td>Feb</td>\n",
       "    </tr>\n",
       "    <tr>\n",
       "      <th>2</th>\n",
       "      <td>LAUCA474000000000004</td>\n",
       "      <td>2021</td>\n",
       "      <td>M03</td>\n",
       "      <td>2021 Mar</td>\n",
       "      <td>50828</td>\n",
       "      <td>Mar</td>\n",
       "    </tr>\n",
       "    <tr>\n",
       "      <th>3</th>\n",
       "      <td>LAUCA474000000000004</td>\n",
       "      <td>2021</td>\n",
       "      <td>M04</td>\n",
       "      <td>2021 Apr</td>\n",
       "      <td>48648</td>\n",
       "      <td>Apr</td>\n",
       "    </tr>\n",
       "    <tr>\n",
       "      <th>4</th>\n",
       "      <td>LAUCA474000000000004</td>\n",
       "      <td>2021</td>\n",
       "      <td>M05</td>\n",
       "      <td>2021 May</td>\n",
       "      <td>45838</td>\n",
       "      <td>May</td>\n",
       "    </tr>\n",
       "  </tbody>\n",
       "</table>\n",
       "</div>"
      ],
      "text/plain": [
       "              Series ID  Year Period     Label  Value Month\n",
       "0  LAUCA474000000000004  2021    M01  2021 Jan  54892   Jan\n",
       "1  LAUCA474000000000004  2021    M02  2021 Feb  52123   Feb\n",
       "2  LAUCA474000000000004  2021    M03  2021 Mar  50828   Mar\n",
       "3  LAUCA474000000000004  2021    M04  2021 Apr  48648   Apr\n",
       "4  LAUCA474000000000004  2021    M05  2021 May  45838   May"
      ]
     },
     "execution_count": 7,
     "metadata": {},
     "output_type": "execute_result"
    }
   ],
   "source": [
    "nash_unemployment_df[['Year', 'Month']] = nash_unemployment_df['Label'].str.split(' ', expand=True)\n",
    "nash_unemployment_df.head()"
   ]
  },
  {
   "cell_type": "markdown",
   "metadata": {},
   "source": [
    "it is interesting to note that Nashville unemployment data is in numbers and not rate or percentage and contains from 2021 - 2023"
   ]
  },
  {
   "cell_type": "code",
   "execution_count": 8,
   "metadata": {},
   "outputs": [
    {
     "data": {
      "text/html": [
       "<div>\n",
       "<style scoped>\n",
       "    .dataframe tbody tr th:only-of-type {\n",
       "        vertical-align: middle;\n",
       "    }\n",
       "\n",
       "    .dataframe tbody tr th {\n",
       "        vertical-align: top;\n",
       "    }\n",
       "\n",
       "    .dataframe thead th {\n",
       "        text-align: right;\n",
       "    }\n",
       "</style>\n",
       "<table border=\"1\" class=\"dataframe\">\n",
       "  <thead>\n",
       "    <tr style=\"text-align: right;\">\n",
       "      <th></th>\n",
       "      <th>Series ID</th>\n",
       "      <th>Year</th>\n",
       "      <th>Period</th>\n",
       "      <th>Label</th>\n",
       "      <th>Unemployed Population</th>\n",
       "      <th>Month</th>\n",
       "    </tr>\n",
       "  </thead>\n",
       "  <tbody>\n",
       "    <tr>\n",
       "      <th>34</th>\n",
       "      <td>LAUCA474000000000004</td>\n",
       "      <td>2023</td>\n",
       "      <td>M11</td>\n",
       "      <td>2023 Nov</td>\n",
       "      <td>33534</td>\n",
       "      <td>Nov</td>\n",
       "    </tr>\n",
       "    <tr>\n",
       "      <th>35</th>\n",
       "      <td>LAUCA474000000000004</td>\n",
       "      <td>2023</td>\n",
       "      <td>M12</td>\n",
       "      <td>2023 Dec</td>\n",
       "      <td>29693</td>\n",
       "      <td>Dec</td>\n",
       "    </tr>\n",
       "  </tbody>\n",
       "</table>\n",
       "</div>"
      ],
      "text/plain": [
       "               Series ID  Year Period     Label  Unemployed Population Month\n",
       "34  LAUCA474000000000004  2023    M11  2023 Nov                  33534   Nov\n",
       "35  LAUCA474000000000004  2023    M12  2023 Dec                  29693   Dec"
      ]
     },
     "execution_count": 8,
     "metadata": {},
     "output_type": "execute_result"
    }
   ],
   "source": [
    "nash_unemployment_df.rename(columns={'Value': 'Unemployed Population'}, inplace=True)\n",
    "nash_unemployment_df.tail(2)"
   ]
  },
  {
   "cell_type": "markdown",
   "metadata": {},
   "source": [
    "# Analysis Average unemployment number per month"
   ]
  },
  {
   "cell_type": "code",
   "execution_count": 9,
   "metadata": {},
   "outputs": [
    {
     "data": {
      "text/plain": [
       "Month\n",
       "Apr    34904.67\n",
       "Aug    36713.67\n",
       "Dec    29191.00\n",
       "Feb    39792.33\n",
       "Jan    40784.67\n",
       "Jul    39103.00\n",
       "Jun    43610.00\n",
       "Mar    37635.00\n",
       "May    36722.67\n",
       "Nov    32051.33\n",
       "Oct    34361.67\n",
       "Sep    34573.33\n",
       "Name: Unemployed Population, dtype: float64"
      ]
     },
     "execution_count": 9,
     "metadata": {},
     "output_type": "execute_result"
    }
   ],
   "source": [
    "avg_unemployment_month=round(nash_unemployment_df.groupby('Month')['Unemployed Population'].mean(), 2)\n",
    "avg_unemployment_month"
   ]
  },
  {
   "cell_type": "code",
   "execution_count": 10,
   "metadata": {},
   "outputs": [
    {
     "data": {
      "text/plain": [
       "'Jun'"
      ]
     },
     "execution_count": 10,
     "metadata": {},
     "output_type": "execute_result"
    }
   ],
   "source": [
    "month_with_max_unemployment = avg_unemployment_month.idxmax()\n",
    "month_with_max_unemployment"
   ]
  },
  {
   "cell_type": "code",
   "execution_count": 11,
   "metadata": {},
   "outputs": [
    {
     "data": {
      "text/plain": [
       "'Dec'"
      ]
     },
     "execution_count": 11,
     "metadata": {},
     "output_type": "execute_result"
    }
   ],
   "source": [
    "month_with_min_unemployment = avg_unemployment_month.idxmin()\n",
    "month_with_min_unemployment"
   ]
  },
  {
   "cell_type": "markdown",
   "metadata": {},
   "source": [
    "June is the month with the highest unemployment population while December is the lowest"
   ]
  },
  {
   "cell_type": "code",
   "execution_count": 12,
   "metadata": {},
   "outputs": [
    {
     "data": {
      "text/plain": [
       "Year\n",
       "2021    44323.50\n",
       "2022    32793.50\n",
       "2023    32743.83\n",
       "Name: Unemployed Population, dtype: float64"
      ]
     },
     "execution_count": 12,
     "metadata": {},
     "output_type": "execute_result"
    }
   ],
   "source": [
    "avg_unemployment_year=round(nash_unemployment_df.groupby('Year')['Unemployed Population'].mean(), 2)\n",
    "avg_unemployment_year"
   ]
  },
  {
   "cell_type": "markdown",
   "metadata": {},
   "source": [
    "from the analysis, there is an average of more people who are unemployment in 2021 than 2023 and 2023. Remember, the economy was partially shut down in 2021, during the COVID-19 recovery years."
   ]
  },
  {
   "cell_type": "code",
   "execution_count": 13,
   "metadata": {},
   "outputs": [
    {
     "data": {
      "text/html": [
       "<div>\n",
       "<style scoped>\n",
       "    .dataframe tbody tr th:only-of-type {\n",
       "        vertical-align: middle;\n",
       "    }\n",
       "\n",
       "    .dataframe tbody tr th {\n",
       "        vertical-align: top;\n",
       "    }\n",
       "\n",
       "    .dataframe thead th {\n",
       "        text-align: right;\n",
       "    }\n",
       "</style>\n",
       "<table border=\"1\" class=\"dataframe\">\n",
       "  <thead>\n",
       "    <tr style=\"text-align: right;\">\n",
       "      <th></th>\n",
       "      <th>Year</th>\n",
       "      <th>Unemployed Population</th>\n",
       "    </tr>\n",
       "  </thead>\n",
       "  <tbody>\n",
       "    <tr>\n",
       "      <th>0</th>\n",
       "      <td>2021</td>\n",
       "      <td>531882</td>\n",
       "    </tr>\n",
       "    <tr>\n",
       "      <th>1</th>\n",
       "      <td>2022</td>\n",
       "      <td>393522</td>\n",
       "    </tr>\n",
       "    <tr>\n",
       "      <th>2</th>\n",
       "      <td>2023</td>\n",
       "      <td>392926</td>\n",
       "    </tr>\n",
       "  </tbody>\n",
       "</table>\n",
       "</div>"
      ],
      "text/plain": [
       "   Year  Unemployed Population\n",
       "0  2021                 531882\n",
       "1  2022                 393522\n",
       "2  2023                 392926"
      ]
     },
     "execution_count": 13,
     "metadata": {},
     "output_type": "execute_result"
    }
   ],
   "source": [
    "nash_unemployment_df_by_year = nash_unemployment_df.groupby('Year')['Unemployed Population'].sum().reset_index()\n",
    "nash_unemployment_df_by_year"
   ]
  },
  {
   "cell_type": "markdown",
   "metadata": {},
   "source": [
    "getting the sum of the unemployment number"
   ]
  },
  {
   "cell_type": "code",
   "execution_count": 14,
   "metadata": {},
   "outputs": [
    {
     "data": {
      "text/plain": [
       "Year                     int32\n",
       "Unemployed Population    int64\n",
       "dtype: object"
      ]
     },
     "execution_count": 14,
     "metadata": {},
     "output_type": "execute_result"
    }
   ],
   "source": [
    "nash_unemployment_df_by_year['Year'] = nash_unemployment_df_by_year['Year'].astype('int32')\n",
    "nash_unemployment_df_by_year.dtypes"
   ]
  },
  {
   "cell_type": "code",
   "execution_count": 15,
   "metadata": {},
   "outputs": [
    {
     "data": {
      "text/plain": [
       "Index(['Primary Key', 'Incident Number', 'Report Type',\n",
       "       'Report Type Description', 'Incident Status Code',\n",
       "       'Incident Status Description', 'Investigation Status',\n",
       "       'Incident Occurred', 'Incident Reported', 'Incident Location',\n",
       "       'Latitude', 'Longitude', 'ZIP Code', 'RPA', 'Zone', 'Location Code',\n",
       "       'Location Description', 'Offense Number', 'Offense NIBRS',\n",
       "       'Offense Description', 'Weapon Primary', 'Weapon Description',\n",
       "       'Victim Number', 'Domestic Related', 'Victim Type',\n",
       "       'Victim Description', 'Victim Gender', 'Victim Race',\n",
       "       'Victim Ethnicity', 'Victim County Resident', 'Mapped Location'],\n",
       "      dtype='object')"
      ]
     },
     "execution_count": 15,
     "metadata": {},
     "output_type": "execute_result"
    }
   ],
   "source": [
    "nash_crime_df.columns"
   ]
  },
  {
   "cell_type": "markdown",
   "metadata": {},
   "source": [
    "# Cleaning Zip Code to remove any that does not belong to Nashville"
   ]
  },
  {
   "cell_type": "code",
   "execution_count": 16,
   "metadata": {},
   "outputs": [
    {
     "data": {
      "text/plain": [
       "array(['37214', '37013', '37207', '37205', '37076', '37201', '37208', nan,\n",
       "       '37219', '37211', '37138', '37216', '37203', '37228', '37209',\n",
       "       '37210', '37220', '37072', '37218', '37206', '37115', '37212',\n",
       "       '37221', '37217', '37189', '37213', '37204', '37215', '37240',\n",
       "       '37080', '37027', '37167', '37049', '37025', '37135', '37015',\n",
       "       '37122', '37086', '37143', '37064', '37683', '37232', '6706',\n",
       "       '37130', '37066', '3701', '37129', '37087', '37075', '38109',\n",
       "       '30139', '38562', '37330', '37067', '53701', '27707', '38401',\n",
       "       '91107', '27216', '89502', '37029', '90069', '37082', '0', '39202',\n",
       "       '37185', '37043', '30318', '32801', '19153', '43440', '37110',\n",
       "       '15213', '37028', '29501', '23236', '17202', '37179', '37090',\n",
       "       '37078', '37274', '60123'], dtype=object)"
      ]
     },
     "execution_count": 16,
     "metadata": {},
     "output_type": "execute_result"
    }
   ],
   "source": [
    "nash_crime_df['ZIP Code'].unique()"
   ]
  },
  {
   "cell_type": "code",
   "execution_count": 17,
   "metadata": {},
   "outputs": [
    {
     "data": {
      "text/plain": [
       "array(['37214', '37013', '37207', '37205', '37076', '37201', '37208',\n",
       "       '37219', '37211', '37138', '37216', '37203', '37228', '37209',\n",
       "       '37210', '37220', '37072', '37218', '37206', '37115', '37212',\n",
       "       '37221', '37217', '37189', '37213', '37204', '37215', '37240',\n",
       "       '37080', '37027', '37167', '37049', '37025', '37135', '37015',\n",
       "       '37122', '37086', '37143', '37064', '37683', '37232', '6706',\n",
       "       '37130', '37066', '3701', '37129', '37087', '37075', '38109',\n",
       "       '30139', '38562', '37330', '37067', '53701', '27707', '38401',\n",
       "       '91107', '27216', '89502', '37029', '90069', '37082', '0', '39202',\n",
       "       '37185', '37043', '30318', '32801', '19153', '43440', '37110',\n",
       "       '15213', '37028', '29501', '23236', '17202', '37179', '37090',\n",
       "       '37078', '37274', '60123'], dtype=object)"
      ]
     },
     "execution_count": 17,
     "metadata": {},
     "output_type": "execute_result"
    }
   ],
   "source": [
    "nash_crime_df.dropna(subset=['ZIP Code'], inplace=True)\n",
    "nash_crime_df['ZIP Code'].unique()"
   ]
  },
  {
   "cell_type": "code",
   "execution_count": 18,
   "metadata": {},
   "outputs": [],
   "source": [
    "# nash_crime_df['ZIP Code'] = nash_crime_df['ZIP Code'].astype(str).str.rstrip('.')\n",
    "# nash_crime_df['ZIP Code'].unique()"
   ]
  },
  {
   "cell_type": "code",
   "execution_count": 19,
   "metadata": {},
   "outputs": [
    {
     "data": {
      "text/plain": [
       "array(['37214', '37013', '37207', '37205', '37076', '37201', '37208',\n",
       "       '37219', '37211', '37138', '37216', '37203', '37228', '37209',\n",
       "       '3721', '3722', '37072', '37218', '37206', '37115', '37212',\n",
       "       '37221', '37217', '37189', '37213', '37204', '37215', '3724',\n",
       "       '3708', '37027', '37167', '37049', '37025', '37135', '37015',\n",
       "       '37122', '37086', '37143', '37064', '37683', '37232', '6706',\n",
       "       '3713', '37066', '3701', '37129', '37087', '37075', '38109',\n",
       "       '30139', '38562', '3733', '37067', '53701', '27707', '38401',\n",
       "       '91107', '27216', '89502', '37029', '90069', '37082', '', '39202',\n",
       "       '37185', '37043', '30318', '32801', '19153', '4344', '3711',\n",
       "       '15213', '37028', '29501', '23236', '17202', '37179', '3709',\n",
       "       '37078', '37274', '60123'], dtype=object)"
      ]
     },
     "execution_count": 19,
     "metadata": {},
     "output_type": "execute_result"
    }
   ],
   "source": [
    "# Assuming 'ZIP Code' is a column in nash_crime_df and you want to remove the last '0' from each ZIP code\n",
    "nash_crime_df['ZIP Code'] = nash_crime_df['ZIP Code'].astype(str).apply(lambda x: x[:-1] if x.endswith('0') else x)\n",
    "nash_crime_df['ZIP Code'].unique()"
   ]
  },
  {
   "cell_type": "markdown",
   "metadata": {},
   "source": [
    "I am applying a function to each element that checks if the ZIP code ends with '0', and then remove it. I tried striping the dots and the zeros came up, which makes it difficult. "
   ]
  },
  {
   "cell_type": "code",
   "execution_count": 20,
   "metadata": {},
   "outputs": [],
   "source": [
    "# nash_crime_df = nash_crime_df.dropna(subset=['ZIP Code'])\n",
    "# nash_crime_df.head(1)"
   ]
  },
  {
   "cell_type": "code",
   "execution_count": 21,
   "metadata": {},
   "outputs": [],
   "source": [
    "# nash_crime_df['ZIP Code'].unique()"
   ]
  },
  {
   "cell_type": "code",
   "execution_count": 22,
   "metadata": {},
   "outputs": [
    {
     "data": {
      "text/plain": [
       "array(['37214', '37013', '37207', '37205', '37076', '37201', '37208',\n",
       "       '37219', '37211', '37138', '37216', '37203', '37228', '37209',\n",
       "       '3721', '37072', '37218', '37206', '37115', '37212', '37221',\n",
       "       '37217', '37189', '37213', '37204', '37215', '37027', '37167',\n",
       "       '37135', '37015', '37122', '37086', '37143', '37064', '37232',\n",
       "       '37066', '37129', '37087', '37075', '', '37185', '37179'],\n",
       "      dtype=object)"
      ]
     },
     "execution_count": 22,
     "metadata": {},
     "output_type": "execute_result"
    }
   ],
   "source": [
    "zip_codes_to_remove = ['38109', '3722','27707', '38401','37029', '37683', '37067', '38562', '37025', '37049', '37274', '3724', '3733', '3708', '3713', '3709', '37078','17202','3711','37082','37028','90069','39202','3701','15213','91107','60123','89502','89502', '30139','53701','37043', '19153','27216', '4344','6706','30318', '32801','29501', '23236']\n",
    "nash_crime_df_filtered = nash_crime_df[~nash_crime_df['ZIP Code'].isin(zip_codes_to_remove)]\n",
    "nash_crime_df_filtered['ZIP Code'].unique()"
   ]
  },
  {
   "cell_type": "code",
   "execution_count": 23,
   "metadata": {},
   "outputs": [
    {
     "data": {
      "text/html": [
       "<div>\n",
       "<style scoped>\n",
       "    .dataframe tbody tr th:only-of-type {\n",
       "        vertical-align: middle;\n",
       "    }\n",
       "\n",
       "    .dataframe tbody tr th {\n",
       "        vertical-align: top;\n",
       "    }\n",
       "\n",
       "    .dataframe thead th {\n",
       "        text-align: right;\n",
       "    }\n",
       "</style>\n",
       "<table border=\"1\" class=\"dataframe\">\n",
       "  <thead>\n",
       "    <tr style=\"text-align: right;\">\n",
       "      <th></th>\n",
       "      <th>Primary Key</th>\n",
       "      <th>Incident Number</th>\n",
       "      <th>Report Type</th>\n",
       "      <th>Report Type Description</th>\n",
       "      <th>Incident Status Code</th>\n",
       "      <th>Incident Status Description</th>\n",
       "      <th>Investigation Status</th>\n",
       "      <th>Incident Occurred</th>\n",
       "      <th>Incident Reported</th>\n",
       "      <th>Incident Location</th>\n",
       "      <th>...</th>\n",
       "      <th>Weapon Description</th>\n",
       "      <th>Victim Number</th>\n",
       "      <th>Domestic Related</th>\n",
       "      <th>Victim Type</th>\n",
       "      <th>Victim Description</th>\n",
       "      <th>Victim Gender</th>\n",
       "      <th>Victim Race</th>\n",
       "      <th>Victim Ethnicity</th>\n",
       "      <th>Victim County Resident</th>\n",
       "      <th>Mapped Location</th>\n",
       "    </tr>\n",
       "  </thead>\n",
       "  <tbody>\n",
       "    <tr>\n",
       "      <th>0</th>\n",
       "      <td>20190496213_11</td>\n",
       "      <td>20190496213</td>\n",
       "      <td>D</td>\n",
       "      <td>DISPATCHED</td>\n",
       "      <td>U</td>\n",
       "      <td>UNFOUNDED</td>\n",
       "      <td>Closed</td>\n",
       "      <td>07/01/2019 05:31:00 PM</td>\n",
       "      <td>07/01/2019 06:17:00 PM</td>\n",
       "      <td>2410 2410</td>\n",
       "      <td>...</td>\n",
       "      <td>NONE</td>\n",
       "      <td>1</td>\n",
       "      <td>True</td>\n",
       "      <td>I</td>\n",
       "      <td>INDIVIDUAL (18 AND OVER)</td>\n",
       "      <td>M</td>\n",
       "      <td>W</td>\n",
       "      <td>Non-Hispanic</td>\n",
       "      <td>RESIDENT</td>\n",
       "      <td>POINT (-86.696 36.218)</td>\n",
       "    </tr>\n",
       "    <tr>\n",
       "      <th>1</th>\n",
       "      <td>20180290646_11</td>\n",
       "      <td>20180290646</td>\n",
       "      <td>D</td>\n",
       "      <td>DISPATCHED</td>\n",
       "      <td>A</td>\n",
       "      <td>CLEARED BY ARREST</td>\n",
       "      <td>Closed</td>\n",
       "      <td>03/31/2018 12:21:00 PM</td>\n",
       "      <td>03/31/2018 07:41:00 PM</td>\n",
       "      <td>5824 5824</td>\n",
       "      <td>...</td>\n",
       "      <td>NONE</td>\n",
       "      <td>1</td>\n",
       "      <td>False</td>\n",
       "      <td>B</td>\n",
       "      <td>BUSINESS</td>\n",
       "      <td>NaN</td>\n",
       "      <td>NaN</td>\n",
       "      <td>NaN</td>\n",
       "      <td>NaN</td>\n",
       "      <td>POINT (-86.713 36.042)</td>\n",
       "    </tr>\n",
       "    <tr>\n",
       "      <th>2</th>\n",
       "      <td>20200243837_11</td>\n",
       "      <td>20200243837</td>\n",
       "      <td>D</td>\n",
       "      <td>DISPATCHED</td>\n",
       "      <td>U</td>\n",
       "      <td>UNFOUNDED</td>\n",
       "      <td>Closed</td>\n",
       "      <td>04/06/2020 11:15:00 AM</td>\n",
       "      <td>04/06/2020 01:11:00 PM</td>\n",
       "      <td>3144 3144</td>\n",
       "      <td>...</td>\n",
       "      <td>NONE</td>\n",
       "      <td>1</td>\n",
       "      <td>False</td>\n",
       "      <td>G</td>\n",
       "      <td>GOVERNMENT</td>\n",
       "      <td>NaN</td>\n",
       "      <td>NaN</td>\n",
       "      <td>NaN</td>\n",
       "      <td>NaN</td>\n",
       "      <td>POINT (-86.759 36.232)</td>\n",
       "    </tr>\n",
       "    <tr>\n",
       "      <th>3</th>\n",
       "      <td>20170471747_11</td>\n",
       "      <td>20170471747</td>\n",
       "      <td>D</td>\n",
       "      <td>DISPATCHED</td>\n",
       "      <td>U</td>\n",
       "      <td>UNFOUNDED</td>\n",
       "      <td>Closed</td>\n",
       "      <td>05/29/2017 02:33:00 AM</td>\n",
       "      <td>05/29/2017 04:27:00 AM</td>\n",
       "      <td>1714 1714</td>\n",
       "      <td>...</td>\n",
       "      <td>NONE</td>\n",
       "      <td>1</td>\n",
       "      <td>False</td>\n",
       "      <td>I</td>\n",
       "      <td>INDIVIDUAL (18 AND OVER)</td>\n",
       "      <td>M</td>\n",
       "      <td>W</td>\n",
       "      <td>Non-Hispanic</td>\n",
       "      <td>RESIDENT</td>\n",
       "      <td>POINT (-86.907 36.086)</td>\n",
       "    </tr>\n",
       "    <tr>\n",
       "      <th>4</th>\n",
       "      <td>20171099391_21</td>\n",
       "      <td>20171099391</td>\n",
       "      <td>D</td>\n",
       "      <td>DISPATCHED</td>\n",
       "      <td>A</td>\n",
       "      <td>CLEARED BY ARREST</td>\n",
       "      <td>Closed</td>\n",
       "      <td>12/16/2017 06:30:00 PM</td>\n",
       "      <td>12/16/2017 10:44:00 PM</td>\n",
       "      <td>1101 1101</td>\n",
       "      <td>...</td>\n",
       "      <td>PERSONAL (HANDS)</td>\n",
       "      <td>1</td>\n",
       "      <td>True</td>\n",
       "      <td>I</td>\n",
       "      <td>INDIVIDUAL (18 AND OVER)</td>\n",
       "      <td>F</td>\n",
       "      <td>B</td>\n",
       "      <td>Non-Hispanic</td>\n",
       "      <td>RESIDENT</td>\n",
       "      <td>POINT (-86.586 36.178)</td>\n",
       "    </tr>\n",
       "    <tr>\n",
       "      <th>...</th>\n",
       "      <td>...</td>\n",
       "      <td>...</td>\n",
       "      <td>...</td>\n",
       "      <td>...</td>\n",
       "      <td>...</td>\n",
       "      <td>...</td>\n",
       "      <td>...</td>\n",
       "      <td>...</td>\n",
       "      <td>...</td>\n",
       "      <td>...</td>\n",
       "      <td>...</td>\n",
       "      <td>...</td>\n",
       "      <td>...</td>\n",
       "      <td>...</td>\n",
       "      <td>...</td>\n",
       "      <td>...</td>\n",
       "      <td>...</td>\n",
       "      <td>...</td>\n",
       "      <td>...</td>\n",
       "      <td>...</td>\n",
       "      <td>...</td>\n",
       "    </tr>\n",
       "    <tr>\n",
       "      <th>865161</th>\n",
       "      <td>20230778865_11</td>\n",
       "      <td>20230778865</td>\n",
       "      <td>T</td>\n",
       "      <td>NaN</td>\n",
       "      <td>U</td>\n",
       "      <td>UNFOUNDED</td>\n",
       "      <td>Closed</td>\n",
       "      <td>12/27/2023 04:00:00 PM</td>\n",
       "      <td>12/30/2023 12:06:00 PM</td>\n",
       "      <td>1708 1708</td>\n",
       "      <td>...</td>\n",
       "      <td>NONE</td>\n",
       "      <td>1</td>\n",
       "      <td>False</td>\n",
       "      <td>I</td>\n",
       "      <td>INDIVIDUAL (18 AND OVER)</td>\n",
       "      <td>F</td>\n",
       "      <td>W</td>\n",
       "      <td>Non-Hispanic</td>\n",
       "      <td>RESIDENT</td>\n",
       "      <td>POINT (-86.799 36.118)</td>\n",
       "    </tr>\n",
       "    <tr>\n",
       "      <th>865163</th>\n",
       "      <td>20230774687_12</td>\n",
       "      <td>20230774687</td>\n",
       "      <td>S</td>\n",
       "      <td>SUSPECT</td>\n",
       "      <td>U</td>\n",
       "      <td>UNFOUNDED</td>\n",
       "      <td>Closed</td>\n",
       "      <td>12/28/2023 10:37:00 AM</td>\n",
       "      <td>12/28/2023 10:37:00 AM</td>\n",
       "      <td>1201 1201</td>\n",
       "      <td>...</td>\n",
       "      <td>NONE</td>\n",
       "      <td>2</td>\n",
       "      <td>False</td>\n",
       "      <td>I</td>\n",
       "      <td>INDIVIDUAL (18 AND OVER)</td>\n",
       "      <td>U</td>\n",
       "      <td>U</td>\n",
       "      <td>Unknown</td>\n",
       "      <td>NON RESIDENT</td>\n",
       "      <td>POINT (-86.733 36.158)</td>\n",
       "    </tr>\n",
       "    <tr>\n",
       "      <th>865167</th>\n",
       "      <td>20230453680_11</td>\n",
       "      <td>20230453680</td>\n",
       "      <td>D</td>\n",
       "      <td>DISPATCHED</td>\n",
       "      <td>A</td>\n",
       "      <td>CLEARED BY ARREST</td>\n",
       "      <td>Closed</td>\n",
       "      <td>08/03/2023 01:47:00 AM</td>\n",
       "      <td>08/03/2023 09:15:00 AM</td>\n",
       "      <td>426 426</td>\n",
       "      <td>...</td>\n",
       "      <td>HANDGUN - SEMIAUTOMATIC</td>\n",
       "      <td>1</td>\n",
       "      <td>False</td>\n",
       "      <td>I</td>\n",
       "      <td>INDIVIDUAL (18 AND OVER)</td>\n",
       "      <td>M</td>\n",
       "      <td>W</td>\n",
       "      <td>Hispanic</td>\n",
       "      <td>NON RESIDENT</td>\n",
       "      <td>POINT (-86.646 36.16)</td>\n",
       "    </tr>\n",
       "    <tr>\n",
       "      <th>865169</th>\n",
       "      <td>20230777152_11</td>\n",
       "      <td>20230777152</td>\n",
       "      <td>D</td>\n",
       "      <td>DISPATCHED</td>\n",
       "      <td>U</td>\n",
       "      <td>UNFOUNDED</td>\n",
       "      <td>Closed</td>\n",
       "      <td>12/29/2023 02:52:00 PM</td>\n",
       "      <td>12/29/2023 02:52:00 PM</td>\n",
       "      <td>301 301</td>\n",
       "      <td>...</td>\n",
       "      <td>NONE</td>\n",
       "      <td>1</td>\n",
       "      <td>False</td>\n",
       "      <td>I</td>\n",
       "      <td>INDIVIDUAL (18 AND OVER)</td>\n",
       "      <td>M</td>\n",
       "      <td>B</td>\n",
       "      <td>Non-Hispanic</td>\n",
       "      <td>RESIDENT</td>\n",
       "      <td>POINT (-86.815 36.147)</td>\n",
       "    </tr>\n",
       "    <tr>\n",
       "      <th>865174</th>\n",
       "      <td>20230774687_133</td>\n",
       "      <td>20230774687</td>\n",
       "      <td>S</td>\n",
       "      <td>SUSPECT</td>\n",
       "      <td>U</td>\n",
       "      <td>UNFOUNDED</td>\n",
       "      <td>Closed</td>\n",
       "      <td>12/28/2023 10:37:00 AM</td>\n",
       "      <td>12/28/2023 10:37:00 AM</td>\n",
       "      <td>1201 1201</td>\n",
       "      <td>...</td>\n",
       "      <td>NONE</td>\n",
       "      <td>33</td>\n",
       "      <td>False</td>\n",
       "      <td>I</td>\n",
       "      <td>INDIVIDUAL (18 AND OVER)</td>\n",
       "      <td>U</td>\n",
       "      <td>U</td>\n",
       "      <td>Unknown</td>\n",
       "      <td>NON RESIDENT</td>\n",
       "      <td>POINT (-86.733 36.158)</td>\n",
       "    </tr>\n",
       "  </tbody>\n",
       "</table>\n",
       "<p>450738 rows × 31 columns</p>\n",
       "</div>"
      ],
      "text/plain": [
       "            Primary Key  Incident Number Report Type Report Type Description  \\\n",
       "0        20190496213_11      20190496213           D              DISPATCHED   \n",
       "1        20180290646_11      20180290646           D              DISPATCHED   \n",
       "2        20200243837_11      20200243837           D              DISPATCHED   \n",
       "3        20170471747_11      20170471747           D              DISPATCHED   \n",
       "4        20171099391_21      20171099391           D              DISPATCHED   \n",
       "...                 ...              ...         ...                     ...   \n",
       "865161   20230778865_11      20230778865           T                     NaN   \n",
       "865163   20230774687_12      20230774687           S                 SUSPECT   \n",
       "865167   20230453680_11      20230453680           D              DISPATCHED   \n",
       "865169   20230777152_11      20230777152           D              DISPATCHED   \n",
       "865174  20230774687_133      20230774687           S                 SUSPECT   \n",
       "\n",
       "       Incident Status Code Incident Status Description Investigation Status  \\\n",
       "0                         U                   UNFOUNDED               Closed   \n",
       "1                         A           CLEARED BY ARREST               Closed   \n",
       "2                         U                   UNFOUNDED               Closed   \n",
       "3                         U                   UNFOUNDED               Closed   \n",
       "4                         A           CLEARED BY ARREST               Closed   \n",
       "...                     ...                         ...                  ...   \n",
       "865161                    U                   UNFOUNDED               Closed   \n",
       "865163                    U                   UNFOUNDED               Closed   \n",
       "865167                    A           CLEARED BY ARREST               Closed   \n",
       "865169                    U                   UNFOUNDED               Closed   \n",
       "865174                    U                   UNFOUNDED               Closed   \n",
       "\n",
       "             Incident Occurred       Incident Reported Incident Location  ...  \\\n",
       "0       07/01/2019 05:31:00 PM  07/01/2019 06:17:00 PM         2410 2410  ...   \n",
       "1       03/31/2018 12:21:00 PM  03/31/2018 07:41:00 PM         5824 5824  ...   \n",
       "2       04/06/2020 11:15:00 AM  04/06/2020 01:11:00 PM         3144 3144  ...   \n",
       "3       05/29/2017 02:33:00 AM  05/29/2017 04:27:00 AM         1714 1714  ...   \n",
       "4       12/16/2017 06:30:00 PM  12/16/2017 10:44:00 PM         1101 1101  ...   \n",
       "...                        ...                     ...               ...  ...   \n",
       "865161  12/27/2023 04:00:00 PM  12/30/2023 12:06:00 PM         1708 1708  ...   \n",
       "865163  12/28/2023 10:37:00 AM  12/28/2023 10:37:00 AM         1201 1201  ...   \n",
       "865167  08/03/2023 01:47:00 AM  08/03/2023 09:15:00 AM           426 426  ...   \n",
       "865169  12/29/2023 02:52:00 PM  12/29/2023 02:52:00 PM           301 301  ...   \n",
       "865174  12/28/2023 10:37:00 AM  12/28/2023 10:37:00 AM         1201 1201  ...   \n",
       "\n",
       "             Weapon Description  Victim Number Domestic Related  Victim Type  \\\n",
       "0                          NONE              1             True            I   \n",
       "1                          NONE              1            False            B   \n",
       "2                          NONE              1            False            G   \n",
       "3                          NONE              1            False            I   \n",
       "4              PERSONAL (HANDS)              1             True            I   \n",
       "...                         ...            ...              ...          ...   \n",
       "865161                     NONE              1            False            I   \n",
       "865163                     NONE              2            False            I   \n",
       "865167  HANDGUN - SEMIAUTOMATIC              1            False            I   \n",
       "865169                     NONE              1            False            I   \n",
       "865174                     NONE             33            False            I   \n",
       "\n",
       "              Victim Description  Victim Gender Victim Race  Victim Ethnicity  \\\n",
       "0       INDIVIDUAL (18 AND OVER)              M           W      Non-Hispanic   \n",
       "1                       BUSINESS            NaN         NaN               NaN   \n",
       "2                     GOVERNMENT            NaN         NaN               NaN   \n",
       "3       INDIVIDUAL (18 AND OVER)              M           W      Non-Hispanic   \n",
       "4       INDIVIDUAL (18 AND OVER)              F           B      Non-Hispanic   \n",
       "...                          ...            ...         ...               ...   \n",
       "865161  INDIVIDUAL (18 AND OVER)              F           W      Non-Hispanic   \n",
       "865163  INDIVIDUAL (18 AND OVER)              U           U           Unknown   \n",
       "865167  INDIVIDUAL (18 AND OVER)              M           W          Hispanic   \n",
       "865169  INDIVIDUAL (18 AND OVER)              M           B      Non-Hispanic   \n",
       "865174  INDIVIDUAL (18 AND OVER)              U           U           Unknown   \n",
       "\n",
       "       Victim County Resident         Mapped Location  \n",
       "0                    RESIDENT  POINT (-86.696 36.218)  \n",
       "1                         NaN  POINT (-86.713 36.042)  \n",
       "2                         NaN  POINT (-86.759 36.232)  \n",
       "3                    RESIDENT  POINT (-86.907 36.086)  \n",
       "4                    RESIDENT  POINT (-86.586 36.178)  \n",
       "...                       ...                     ...  \n",
       "865161               RESIDENT  POINT (-86.799 36.118)  \n",
       "865163           NON RESIDENT  POINT (-86.733 36.158)  \n",
       "865167           NON RESIDENT   POINT (-86.646 36.16)  \n",
       "865169               RESIDENT  POINT (-86.815 36.147)  \n",
       "865174           NON RESIDENT  POINT (-86.733 36.158)  \n",
       "\n",
       "[450738 rows x 31 columns]"
      ]
     },
     "execution_count": 23,
     "metadata": {},
     "output_type": "execute_result"
    }
   ],
   "source": [
    "nash_crime_df_filtered.dropna(subset=['ZIP Code'])"
   ]
  },
  {
   "cell_type": "code",
   "execution_count": 24,
   "metadata": {},
   "outputs": [
    {
     "data": {
      "text/plain": [
       "array(['37214', '37013', '37207', '37205', '37076', '37201', '37208',\n",
       "       '37219', '37211', '37138', '37216', '37203', '37228', '37209',\n",
       "       '3721', '37072', '37218', '37206', '37115', '37212', '37221',\n",
       "       '37217', '37189', '37213', '37204', '37215', '37027', '37167',\n",
       "       '37135', '37015', '37122', '37086', '37143', '37064', '37232',\n",
       "       '37066', '37129', '37087', '37075', '', '37185', '37179'],\n",
       "      dtype=object)"
      ]
     },
     "execution_count": 24,
     "metadata": {},
     "output_type": "execute_result"
    }
   ],
   "source": [
    "nash_crime_df_filtered['ZIP Code'].unique()"
   ]
  },
  {
   "cell_type": "code",
   "execution_count": 25,
   "metadata": {},
   "outputs": [
    {
     "data": {
      "text/plain": [
       "array(['37214', '37013', '37207', '37205', '37076', '37201', '37208',\n",
       "       '37219', '37211', '37138', '37216', '37203', '37228', '37209',\n",
       "       '37210', '37072', '37218', '37206', '37115', '37212', '37221',\n",
       "       '37217', '37189', '37213', '37204', '37215', '37027', '37167',\n",
       "       '37135', '37015', '37122', '37086', '37143', '37064', '37232',\n",
       "       '37066', '37129', '37087', '37075', '', '37185', '37179'],\n",
       "      dtype=object)"
      ]
     },
     "execution_count": 25,
     "metadata": {},
     "output_type": "execute_result"
    }
   ],
   "source": [
    "nash_crime_df_filtered.loc[:, 'ZIP Code'] = nash_crime_df_filtered['ZIP Code'].replace('3721', '37210')\n",
    "nash_crime_df_filtered['ZIP Code'].unique()"
   ]
  },
  {
   "cell_type": "code",
   "execution_count": 26,
   "metadata": {},
   "outputs": [
    {
     "data": {
      "text/plain": [
       "ZIP Code\n",
       "37207    46979\n",
       "37013    43267\n",
       "37211    42507\n",
       "37115    37916\n",
       "37203    27536\n",
       "37210    26131\n",
       "37208    25850\n",
       "37206    23151\n",
       "37217    22838\n",
       "37209    22506\n",
       "37214    20437\n",
       "37076    20269\n",
       "37201    12684\n",
       "37218    11942\n",
       "37216     9908\n",
       "37221     9794\n",
       "37212     6525\n",
       "37138     6150\n",
       "37204     5825\n",
       "37205     5135\n",
       "37219     5109\n",
       "37215     4169\n",
       "37072     3177\n",
       "37228     2840\n",
       "37213     2806\n",
       "37189     2611\n",
       "37027     2141\n",
       "37135      238\n",
       "37015      163\n",
       "37122       62\n",
       "37086       26\n",
       "37143       17\n",
       "37232        6\n",
       "37075        5\n",
       "37167        4\n",
       "37087        4\n",
       "37064        3\n",
       "37066        2\n",
       "37129        2\n",
       "             1\n",
       "37185        1\n",
       "37179        1\n",
       "Name: count, dtype: int64"
      ]
     },
     "execution_count": 26,
     "metadata": {},
     "output_type": "execute_result"
    }
   ],
   "source": [
    "nash_crime_df_filtered['ZIP Code'].value_counts()"
   ]
  },
  {
   "cell_type": "code",
   "execution_count": 27,
   "metadata": {},
   "outputs": [
    {
     "data": {
      "text/plain": [
       "0         07/01/2019 05:31:00 PM\n",
       "1         03/31/2018 12:21:00 PM\n",
       "2         04/06/2020 11:15:00 AM\n",
       "3         05/29/2017 02:33:00 AM\n",
       "4         12/16/2017 06:30:00 PM\n",
       "                   ...          \n",
       "865161    12/27/2023 04:00:00 PM\n",
       "865163    12/28/2023 10:37:00 AM\n",
       "865167    08/03/2023 01:47:00 AM\n",
       "865169    12/29/2023 02:52:00 PM\n",
       "865174    12/28/2023 10:37:00 AM\n",
       "Name: Incident Occurred, Length: 450738, dtype: object"
      ]
     },
     "execution_count": 27,
     "metadata": {},
     "output_type": "execute_result"
    }
   ],
   "source": [
    "nash_crime_df_filtered['Incident Occurred']"
   ]
  },
  {
   "cell_type": "code",
   "execution_count": 28,
   "metadata": {},
   "outputs": [
    {
     "name": "stderr",
     "output_type": "stream",
     "text": [
      "/var/folders/th/jsjzrfgj5mqb0ntmxxmc9pmm0000gn/T/ipykernel_85238/2550027996.py:2: UserWarning: Could not infer format, so each element will be parsed individually, falling back to `dateutil`. To ensure parsing is consistent and as-expected, please specify a format.\n",
      "  nash_crime_df_filtered.loc[:,'Incident Occurred'] = pd.to_datetime(nash_crime_df_filtered['Incident Occurred'])\n"
     ]
    },
    {
     "data": {
      "text/plain": [
       "0         2019-07-01 17:31:00\n",
       "1         2018-03-31 12:21:00\n",
       "2         2020-04-06 11:15:00\n",
       "3         2017-05-29 02:33:00\n",
       "4         2017-12-16 18:30:00\n",
       "                 ...         \n",
       "865161    2023-12-27 16:00:00\n",
       "865163    2023-12-28 10:37:00\n",
       "865167    2023-08-03 01:47:00\n",
       "865169    2023-12-29 14:52:00\n",
       "865174    2023-12-28 10:37:00\n",
       "Name: Incident Occurred, Length: 450738, dtype: object"
      ]
     },
     "execution_count": 28,
     "metadata": {},
     "output_type": "execute_result"
    }
   ],
   "source": [
    "#convert to datetime\n",
    "nash_crime_df_filtered.loc[:,'Incident Occurred'] = pd.to_datetime(nash_crime_df_filtered['Incident Occurred'])\n",
    "nash_crime_df_filtered['Incident Occurred']"
   ]
  },
  {
   "cell_type": "code",
   "execution_count": 29,
   "metadata": {},
   "outputs": [
    {
     "name": "stderr",
     "output_type": "stream",
     "text": [
      "/var/folders/th/jsjzrfgj5mqb0ntmxxmc9pmm0000gn/T/ipykernel_85238/4163609263.py:2: SettingWithCopyWarning: \n",
      "A value is trying to be set on a copy of a slice from a DataFrame.\n",
      "Try using .loc[row_indexer,col_indexer] = value instead\n",
      "\n",
      "See the caveats in the documentation: https://pandas.pydata.org/pandas-docs/stable/user_guide/indexing.html#returning-a-view-versus-a-copy\n",
      "  nash_crime_df_filtered['Incident Occurred'] = pd.to_datetime(nash_crime_df_filtered['Incident Occurred'], errors='coerce')\n",
      "/var/folders/th/jsjzrfgj5mqb0ntmxxmc9pmm0000gn/T/ipykernel_85238/4163609263.py:3: SettingWithCopyWarning: \n",
      "A value is trying to be set on a copy of a slice from a DataFrame.\n",
      "Try using .loc[row_indexer,col_indexer] = value instead\n",
      "\n",
      "See the caveats in the documentation: https://pandas.pydata.org/pandas-docs/stable/user_guide/indexing.html#returning-a-view-versus-a-copy\n",
      "  nash_crime_df_filtered.loc[:, 'Year'] = nash_crime_df_filtered['Incident Occurred'].dt.year\n"
     ]
    },
    {
     "data": {
      "text/html": [
       "<div>\n",
       "<style scoped>\n",
       "    .dataframe tbody tr th:only-of-type {\n",
       "        vertical-align: middle;\n",
       "    }\n",
       "\n",
       "    .dataframe tbody tr th {\n",
       "        vertical-align: top;\n",
       "    }\n",
       "\n",
       "    .dataframe thead th {\n",
       "        text-align: right;\n",
       "    }\n",
       "</style>\n",
       "<table border=\"1\" class=\"dataframe\">\n",
       "  <thead>\n",
       "    <tr style=\"text-align: right;\">\n",
       "      <th></th>\n",
       "      <th>Primary Key</th>\n",
       "      <th>Incident Number</th>\n",
       "      <th>Report Type</th>\n",
       "      <th>Report Type Description</th>\n",
       "      <th>Incident Status Code</th>\n",
       "      <th>Incident Status Description</th>\n",
       "      <th>Investigation Status</th>\n",
       "      <th>Incident Occurred</th>\n",
       "      <th>Incident Reported</th>\n",
       "      <th>Incident Location</th>\n",
       "      <th>...</th>\n",
       "      <th>Victim Number</th>\n",
       "      <th>Domestic Related</th>\n",
       "      <th>Victim Type</th>\n",
       "      <th>Victim Description</th>\n",
       "      <th>Victim Gender</th>\n",
       "      <th>Victim Race</th>\n",
       "      <th>Victim Ethnicity</th>\n",
       "      <th>Victim County Resident</th>\n",
       "      <th>Mapped Location</th>\n",
       "      <th>Year</th>\n",
       "    </tr>\n",
       "  </thead>\n",
       "  <tbody>\n",
       "    <tr>\n",
       "      <th>0</th>\n",
       "      <td>20190496213_11</td>\n",
       "      <td>20190496213</td>\n",
       "      <td>D</td>\n",
       "      <td>DISPATCHED</td>\n",
       "      <td>U</td>\n",
       "      <td>UNFOUNDED</td>\n",
       "      <td>Closed</td>\n",
       "      <td>2019-07-01 17:31:00</td>\n",
       "      <td>07/01/2019 06:17:00 PM</td>\n",
       "      <td>2410 2410</td>\n",
       "      <td>...</td>\n",
       "      <td>1</td>\n",
       "      <td>True</td>\n",
       "      <td>I</td>\n",
       "      <td>INDIVIDUAL (18 AND OVER)</td>\n",
       "      <td>M</td>\n",
       "      <td>W</td>\n",
       "      <td>Non-Hispanic</td>\n",
       "      <td>RESIDENT</td>\n",
       "      <td>POINT (-86.696 36.218)</td>\n",
       "      <td>2019</td>\n",
       "    </tr>\n",
       "  </tbody>\n",
       "</table>\n",
       "<p>1 rows × 32 columns</p>\n",
       "</div>"
      ],
      "text/plain": [
       "      Primary Key  Incident Number Report Type Report Type Description  \\\n",
       "0  20190496213_11      20190496213           D              DISPATCHED   \n",
       "\n",
       "  Incident Status Code Incident Status Description Investigation Status  \\\n",
       "0                    U                   UNFOUNDED               Closed   \n",
       "\n",
       "    Incident Occurred       Incident Reported Incident Location  ...  \\\n",
       "0 2019-07-01 17:31:00  07/01/2019 06:17:00 PM         2410 2410  ...   \n",
       "\n",
       "   Victim Number  Domestic Related Victim Type        Victim Description  \\\n",
       "0              1              True           I  INDIVIDUAL (18 AND OVER)   \n",
       "\n",
       "   Victim Gender  Victim Race Victim Ethnicity  Victim County Resident  \\\n",
       "0              M            W     Non-Hispanic                RESIDENT   \n",
       "\n",
       "          Mapped Location  Year  \n",
       "0  POINT (-86.696 36.218)  2019  \n",
       "\n",
       "[1 rows x 32 columns]"
      ]
     },
     "execution_count": 29,
     "metadata": {},
     "output_type": "execute_result"
    }
   ],
   "source": [
    "# Convert 'Incident Occurred' to datetime and creating a new column year\n",
    "nash_crime_df_filtered['Incident Occurred'] = pd.to_datetime(nash_crime_df_filtered['Incident Occurred'], errors='coerce')\n",
    "nash_crime_df_filtered.loc[:, 'Year'] = nash_crime_df_filtered['Incident Occurred'].dt.year\n",
    "nash_crime_df_filtered.head(1)\n"
   ]
  },
  {
   "cell_type": "code",
   "execution_count": 30,
   "metadata": {},
   "outputs": [
    {
     "name": "stderr",
     "output_type": "stream",
     "text": [
      "/var/folders/th/jsjzrfgj5mqb0ntmxxmc9pmm0000gn/T/ipykernel_85238/3028435236.py:2: SettingWithCopyWarning: \n",
      "A value is trying to be set on a copy of a slice from a DataFrame.\n",
      "Try using .loc[row_indexer,col_indexer] = value instead\n",
      "\n",
      "See the caveats in the documentation: https://pandas.pydata.org/pandas-docs/stable/user_guide/indexing.html#returning-a-view-versus-a-copy\n",
      "  nash_crime_df_filtered.loc[:,'Month'] = nash_crime_df_filtered['Incident Occurred'].dt.month\n"
     ]
    },
    {
     "data": {
      "text/html": [
       "<div>\n",
       "<style scoped>\n",
       "    .dataframe tbody tr th:only-of-type {\n",
       "        vertical-align: middle;\n",
       "    }\n",
       "\n",
       "    .dataframe tbody tr th {\n",
       "        vertical-align: top;\n",
       "    }\n",
       "\n",
       "    .dataframe thead th {\n",
       "        text-align: right;\n",
       "    }\n",
       "</style>\n",
       "<table border=\"1\" class=\"dataframe\">\n",
       "  <thead>\n",
       "    <tr style=\"text-align: right;\">\n",
       "      <th></th>\n",
       "      <th>Primary Key</th>\n",
       "      <th>Incident Number</th>\n",
       "      <th>Report Type</th>\n",
       "      <th>Report Type Description</th>\n",
       "      <th>Incident Status Code</th>\n",
       "      <th>Incident Status Description</th>\n",
       "      <th>Investigation Status</th>\n",
       "      <th>Incident Occurred</th>\n",
       "      <th>Incident Reported</th>\n",
       "      <th>Incident Location</th>\n",
       "      <th>...</th>\n",
       "      <th>Domestic Related</th>\n",
       "      <th>Victim Type</th>\n",
       "      <th>Victim Description</th>\n",
       "      <th>Victim Gender</th>\n",
       "      <th>Victim Race</th>\n",
       "      <th>Victim Ethnicity</th>\n",
       "      <th>Victim County Resident</th>\n",
       "      <th>Mapped Location</th>\n",
       "      <th>Year</th>\n",
       "      <th>Month</th>\n",
       "    </tr>\n",
       "  </thead>\n",
       "  <tbody>\n",
       "    <tr>\n",
       "      <th>0</th>\n",
       "      <td>20190496213_11</td>\n",
       "      <td>20190496213</td>\n",
       "      <td>D</td>\n",
       "      <td>DISPATCHED</td>\n",
       "      <td>U</td>\n",
       "      <td>UNFOUNDED</td>\n",
       "      <td>Closed</td>\n",
       "      <td>2019-07-01 17:31:00</td>\n",
       "      <td>07/01/2019 06:17:00 PM</td>\n",
       "      <td>2410 2410</td>\n",
       "      <td>...</td>\n",
       "      <td>True</td>\n",
       "      <td>I</td>\n",
       "      <td>INDIVIDUAL (18 AND OVER)</td>\n",
       "      <td>M</td>\n",
       "      <td>W</td>\n",
       "      <td>Non-Hispanic</td>\n",
       "      <td>RESIDENT</td>\n",
       "      <td>POINT (-86.696 36.218)</td>\n",
       "      <td>2019</td>\n",
       "      <td>7</td>\n",
       "    </tr>\n",
       "  </tbody>\n",
       "</table>\n",
       "<p>1 rows × 33 columns</p>\n",
       "</div>"
      ],
      "text/plain": [
       "      Primary Key  Incident Number Report Type Report Type Description  \\\n",
       "0  20190496213_11      20190496213           D              DISPATCHED   \n",
       "\n",
       "  Incident Status Code Incident Status Description Investigation Status  \\\n",
       "0                    U                   UNFOUNDED               Closed   \n",
       "\n",
       "    Incident Occurred       Incident Reported Incident Location  ...  \\\n",
       "0 2019-07-01 17:31:00  07/01/2019 06:17:00 PM         2410 2410  ...   \n",
       "\n",
       "   Domestic Related  Victim Type        Victim Description  Victim Gender  \\\n",
       "0              True            I  INDIVIDUAL (18 AND OVER)              M   \n",
       "\n",
       "   Victim Race  Victim Ethnicity Victim County Resident  \\\n",
       "0            W      Non-Hispanic               RESIDENT   \n",
       "\n",
       "          Mapped Location  Year Month  \n",
       "0  POINT (-86.696 36.218)  2019     7  \n",
       "\n",
       "[1 rows x 33 columns]"
      ]
     },
     "execution_count": 30,
     "metadata": {},
     "output_type": "execute_result"
    }
   ],
   "source": [
    "#extracting and creating a month column\n",
    "nash_crime_df_filtered.loc[:,'Month'] = nash_crime_df_filtered['Incident Occurred'].dt.month\n",
    "nash_crime_df_filtered.head(1)"
   ]
  },
  {
   "cell_type": "code",
   "execution_count": 31,
   "metadata": {},
   "outputs": [
    {
     "name": "stderr",
     "output_type": "stream",
     "text": [
      "/var/folders/th/jsjzrfgj5mqb0ntmxxmc9pmm0000gn/T/ipykernel_85238/2390565614.py:4: SettingWithCopyWarning: \n",
      "A value is trying to be set on a copy of a slice from a DataFrame.\n",
      "Try using .loc[row_indexer,col_indexer] = value instead\n",
      "\n",
      "See the caveats in the documentation: https://pandas.pydata.org/pandas-docs/stable/user_guide/indexing.html#returning-a-view-versus-a-copy\n",
      "  nash_crime_df_filtered.loc[:, 'Time'] = nash_crime_df_filtered['Incident Occurred'].dt.time\n"
     ]
    },
    {
     "data": {
      "text/html": [
       "<div>\n",
       "<style scoped>\n",
       "    .dataframe tbody tr th:only-of-type {\n",
       "        vertical-align: middle;\n",
       "    }\n",
       "\n",
       "    .dataframe tbody tr th {\n",
       "        vertical-align: top;\n",
       "    }\n",
       "\n",
       "    .dataframe thead th {\n",
       "        text-align: right;\n",
       "    }\n",
       "</style>\n",
       "<table border=\"1\" class=\"dataframe\">\n",
       "  <thead>\n",
       "    <tr style=\"text-align: right;\">\n",
       "      <th></th>\n",
       "      <th>Primary Key</th>\n",
       "      <th>Incident Number</th>\n",
       "      <th>Report Type</th>\n",
       "      <th>Report Type Description</th>\n",
       "      <th>Incident Status Code</th>\n",
       "      <th>Incident Status Description</th>\n",
       "      <th>Investigation Status</th>\n",
       "      <th>Incident Occurred</th>\n",
       "      <th>Incident Reported</th>\n",
       "      <th>Incident Location</th>\n",
       "      <th>...</th>\n",
       "      <th>Victim Type</th>\n",
       "      <th>Victim Description</th>\n",
       "      <th>Victim Gender</th>\n",
       "      <th>Victim Race</th>\n",
       "      <th>Victim Ethnicity</th>\n",
       "      <th>Victim County Resident</th>\n",
       "      <th>Mapped Location</th>\n",
       "      <th>Year</th>\n",
       "      <th>Month</th>\n",
       "      <th>Time</th>\n",
       "    </tr>\n",
       "  </thead>\n",
       "  <tbody>\n",
       "    <tr>\n",
       "      <th>0</th>\n",
       "      <td>20190496213_11</td>\n",
       "      <td>20190496213</td>\n",
       "      <td>D</td>\n",
       "      <td>DISPATCHED</td>\n",
       "      <td>U</td>\n",
       "      <td>UNFOUNDED</td>\n",
       "      <td>Closed</td>\n",
       "      <td>2019-07-01 17:31:00</td>\n",
       "      <td>07/01/2019 06:17:00 PM</td>\n",
       "      <td>2410 2410</td>\n",
       "      <td>...</td>\n",
       "      <td>I</td>\n",
       "      <td>INDIVIDUAL (18 AND OVER)</td>\n",
       "      <td>M</td>\n",
       "      <td>W</td>\n",
       "      <td>Non-Hispanic</td>\n",
       "      <td>RESIDENT</td>\n",
       "      <td>POINT (-86.696 36.218)</td>\n",
       "      <td>2019</td>\n",
       "      <td>7</td>\n",
       "      <td>17:31:00</td>\n",
       "    </tr>\n",
       "  </tbody>\n",
       "</table>\n",
       "<p>1 rows × 34 columns</p>\n",
       "</div>"
      ],
      "text/plain": [
       "      Primary Key  Incident Number Report Type Report Type Description  \\\n",
       "0  20190496213_11      20190496213           D              DISPATCHED   \n",
       "\n",
       "  Incident Status Code Incident Status Description Investigation Status  \\\n",
       "0                    U                   UNFOUNDED               Closed   \n",
       "\n",
       "    Incident Occurred       Incident Reported Incident Location  ...  \\\n",
       "0 2019-07-01 17:31:00  07/01/2019 06:17:00 PM         2410 2410  ...   \n",
       "\n",
       "   Victim Type        Victim Description Victim Gender  Victim Race  \\\n",
       "0            I  INDIVIDUAL (18 AND OVER)             M            W   \n",
       "\n",
       "   Victim Ethnicity  Victim County Resident         Mapped Location  Year  \\\n",
       "0      Non-Hispanic                RESIDENT  POINT (-86.696 36.218)  2019   \n",
       "\n",
       "  Month      Time  \n",
       "0     7  17:31:00  \n",
       "\n",
       "[1 rows x 34 columns]"
      ]
     },
     "execution_count": 31,
     "metadata": {},
     "output_type": "execute_result"
    }
   ],
   "source": [
    "# nash_crime_df_filtered['Time'] = nash_crime_df_filtered['Incident Occurred'].dt.time\n",
    "# nash_crime_df_filtered.head(1)\n",
    "\n",
    "nash_crime_df_filtered.loc[:, 'Time'] = nash_crime_df_filtered['Incident Occurred'].dt.time\n",
    "nash_crime_df_filtered.head(1)"
   ]
  },
  {
   "cell_type": "markdown",
   "metadata": {},
   "source": [
    "You would notice i use the .loc which does not give me any warning issues, which i used after i googled it up"
   ]
  },
  {
   "cell_type": "code",
   "execution_count": 32,
   "metadata": {},
   "outputs": [
    {
     "data": {
      "text/html": [
       "<div>\n",
       "<style scoped>\n",
       "    .dataframe tbody tr th:only-of-type {\n",
       "        vertical-align: middle;\n",
       "    }\n",
       "\n",
       "    .dataframe tbody tr th {\n",
       "        vertical-align: top;\n",
       "    }\n",
       "\n",
       "    .dataframe thead th {\n",
       "        text-align: right;\n",
       "    }\n",
       "</style>\n",
       "<table border=\"1\" class=\"dataframe\">\n",
       "  <thead>\n",
       "    <tr style=\"text-align: right;\">\n",
       "      <th></th>\n",
       "      <th>Year</th>\n",
       "      <th>Crime Count</th>\n",
       "    </tr>\n",
       "  </thead>\n",
       "  <tbody>\n",
       "    <tr>\n",
       "      <th>0</th>\n",
       "      <td>2017</td>\n",
       "      <td>71019</td>\n",
       "    </tr>\n",
       "    <tr>\n",
       "      <th>1</th>\n",
       "      <td>2018</td>\n",
       "      <td>69170</td>\n",
       "    </tr>\n",
       "    <tr>\n",
       "      <th>2</th>\n",
       "      <td>2019</td>\n",
       "      <td>61968</td>\n",
       "    </tr>\n",
       "    <tr>\n",
       "      <th>3</th>\n",
       "      <td>2020</td>\n",
       "      <td>58112</td>\n",
       "    </tr>\n",
       "    <tr>\n",
       "      <th>4</th>\n",
       "      <td>2021</td>\n",
       "      <td>58873</td>\n",
       "    </tr>\n",
       "    <tr>\n",
       "      <th>5</th>\n",
       "      <td>2022</td>\n",
       "      <td>60605</td>\n",
       "    </tr>\n",
       "    <tr>\n",
       "      <th>6</th>\n",
       "      <td>2023</td>\n",
       "      <td>64029</td>\n",
       "    </tr>\n",
       "    <tr>\n",
       "      <th>7</th>\n",
       "      <td>2024</td>\n",
       "      <td>6962</td>\n",
       "    </tr>\n",
       "  </tbody>\n",
       "</table>\n",
       "</div>"
      ],
      "text/plain": [
       "   Year  Crime Count\n",
       "0  2017        71019\n",
       "1  2018        69170\n",
       "2  2019        61968\n",
       "3  2020        58112\n",
       "4  2021        58873\n",
       "5  2022        60605\n",
       "6  2023        64029\n",
       "7  2024         6962"
      ]
     },
     "execution_count": 32,
     "metadata": {},
     "output_type": "execute_result"
    }
   ],
   "source": [
    "crime_count_by_year=nash_crime_df_filtered.groupby('Year').size().reset_index(name='Crime Count')\n",
    "crime_count_by_year"
   ]
  },
  {
   "cell_type": "markdown",
   "metadata": {},
   "source": [
    "There are more crimes in 2017 that any other year, remember, we are still in 2024. "
   ]
  },
  {
   "cell_type": "code",
   "execution_count": 33,
   "metadata": {},
   "outputs": [
    {
     "data": {
      "text/plain": [
       "2017"
      ]
     },
     "execution_count": 33,
     "metadata": {},
     "output_type": "execute_result"
    }
   ],
   "source": [
    "year_with_max_crime_count = crime_count_by_year.loc[crime_count_by_year['Crime Count'].idxmax(), 'Year']\n",
    "year_with_max_crime_count"
   ]
  },
  {
   "cell_type": "code",
   "execution_count": 34,
   "metadata": {},
   "outputs": [
    {
     "data": {
      "text/plain": [
       "37561.5"
      ]
     },
     "execution_count": 34,
     "metadata": {},
     "output_type": "execute_result"
    }
   ],
   "source": [
    "crime_count_by_year = nash_crime_df_filtered.groupby('Month').size().reset_index(name='Crime Count')\n",
    "avg_crime_count_by_year = crime_count_by_year['Crime Count'].mean().round(2)\n",
    "avg_crime_count_by_year"
   ]
  },
  {
   "cell_type": "markdown",
   "metadata": {},
   "source": [
    "# drilling down to 2023"
   ]
  },
  {
   "cell_type": "code",
   "execution_count": 35,
   "metadata": {},
   "outputs": [
    {
     "data": {
      "text/html": [
       "<div>\n",
       "<style scoped>\n",
       "    .dataframe tbody tr th:only-of-type {\n",
       "        vertical-align: middle;\n",
       "    }\n",
       "\n",
       "    .dataframe tbody tr th {\n",
       "        vertical-align: top;\n",
       "    }\n",
       "\n",
       "    .dataframe thead th {\n",
       "        text-align: right;\n",
       "    }\n",
       "</style>\n",
       "<table border=\"1\" class=\"dataframe\">\n",
       "  <thead>\n",
       "    <tr style=\"text-align: right;\">\n",
       "      <th></th>\n",
       "      <th>Primary Key</th>\n",
       "      <th>Incident Number</th>\n",
       "      <th>Report Type</th>\n",
       "      <th>Report Type Description</th>\n",
       "      <th>Incident Status Code</th>\n",
       "      <th>Incident Status Description</th>\n",
       "      <th>Investigation Status</th>\n",
       "      <th>Incident Occurred</th>\n",
       "      <th>Incident Reported</th>\n",
       "      <th>Incident Location</th>\n",
       "      <th>...</th>\n",
       "      <th>Victim Type</th>\n",
       "      <th>Victim Description</th>\n",
       "      <th>Victim Gender</th>\n",
       "      <th>Victim Race</th>\n",
       "      <th>Victim Ethnicity</th>\n",
       "      <th>Victim County Resident</th>\n",
       "      <th>Mapped Location</th>\n",
       "      <th>Year</th>\n",
       "      <th>Month</th>\n",
       "      <th>Time</th>\n",
       "    </tr>\n",
       "  </thead>\n",
       "  <tbody>\n",
       "    <tr>\n",
       "      <th>144</th>\n",
       "      <td>20230321366_11</td>\n",
       "      <td>20230321366</td>\n",
       "      <td>D</td>\n",
       "      <td>DISPATCHED</td>\n",
       "      <td>U</td>\n",
       "      <td>UNFOUNDED</td>\n",
       "      <td>Closed</td>\n",
       "      <td>2023-06-01 18:30:00</td>\n",
       "      <td>06/01/2023 07:40:00 PM</td>\n",
       "      <td>409 409</td>\n",
       "      <td>...</td>\n",
       "      <td>I</td>\n",
       "      <td>INDIVIDUAL (18 AND OVER)</td>\n",
       "      <td>M</td>\n",
       "      <td>W</td>\n",
       "      <td>Non-Hispanic</td>\n",
       "      <td>RESIDENT</td>\n",
       "      <td>NaN</td>\n",
       "      <td>2023</td>\n",
       "      <td>6</td>\n",
       "      <td>18:30:00</td>\n",
       "    </tr>\n",
       "    <tr>\n",
       "      <th>966</th>\n",
       "      <td>20230770706_11</td>\n",
       "      <td>20230770706</td>\n",
       "      <td>D</td>\n",
       "      <td>DISPATCHED</td>\n",
       "      <td>U</td>\n",
       "      <td>UNFOUNDED</td>\n",
       "      <td>Closed</td>\n",
       "      <td>2023-12-25 15:20:00</td>\n",
       "      <td>12/28/2023 03:29:00 PM</td>\n",
       "      <td>41 41</td>\n",
       "      <td>...</td>\n",
       "      <td>B</td>\n",
       "      <td>BUSINESS</td>\n",
       "      <td>NaN</td>\n",
       "      <td>NaN</td>\n",
       "      <td>NaN</td>\n",
       "      <td>NaN</td>\n",
       "      <td>POINT (-86.835 36.091)</td>\n",
       "      <td>2023</td>\n",
       "      <td>12</td>\n",
       "      <td>15:20:00</td>\n",
       "    </tr>\n",
       "    <tr>\n",
       "      <th>1120</th>\n",
       "      <td>20230761089_21</td>\n",
       "      <td>20230761089</td>\n",
       "      <td>S</td>\n",
       "      <td>SUSPECT</td>\n",
       "      <td>A</td>\n",
       "      <td>CLEARED BY ARREST</td>\n",
       "      <td>Closed</td>\n",
       "      <td>2023-12-20 17:00:00</td>\n",
       "      <td>12/20/2023 06:39:00 PM</td>\n",
       "      <td>405 405</td>\n",
       "      <td>...</td>\n",
       "      <td>S</td>\n",
       "      <td>SOCIETY</td>\n",
       "      <td>NaN</td>\n",
       "      <td>NaN</td>\n",
       "      <td>NaN</td>\n",
       "      <td>NaN</td>\n",
       "      <td>POINT (-86.799 36.158)</td>\n",
       "      <td>2023</td>\n",
       "      <td>12</td>\n",
       "      <td>17:00:00</td>\n",
       "    </tr>\n",
       "    <tr>\n",
       "      <th>1435</th>\n",
       "      <td>20230774490_11</td>\n",
       "      <td>20230774490</td>\n",
       "      <td>D</td>\n",
       "      <td>DISPATCHED</td>\n",
       "      <td>U</td>\n",
       "      <td>UNFOUNDED</td>\n",
       "      <td>Closed</td>\n",
       "      <td>2023-12-15 09:55:00</td>\n",
       "      <td>12/28/2023 09:55:00 AM</td>\n",
       "      <td>121 121</td>\n",
       "      <td>...</td>\n",
       "      <td>B</td>\n",
       "      <td>BUSINESS</td>\n",
       "      <td>NaN</td>\n",
       "      <td>NaN</td>\n",
       "      <td>NaN</td>\n",
       "      <td>NaN</td>\n",
       "      <td>POINT (-86.72 36.251)</td>\n",
       "      <td>2023</td>\n",
       "      <td>12</td>\n",
       "      <td>09:55:00</td>\n",
       "    </tr>\n",
       "    <tr>\n",
       "      <th>1449</th>\n",
       "      <td>20230774845_11</td>\n",
       "      <td>20230774845</td>\n",
       "      <td>D</td>\n",
       "      <td>DISPATCHED</td>\n",
       "      <td>U</td>\n",
       "      <td>UNFOUNDED</td>\n",
       "      <td>Closed</td>\n",
       "      <td>2023-12-28 13:15:00</td>\n",
       "      <td>12/28/2023 02:59:00 PM</td>\n",
       "      <td>5824 5824</td>\n",
       "      <td>...</td>\n",
       "      <td>I</td>\n",
       "      <td>INDIVIDUAL (18 AND OVER)</td>\n",
       "      <td>M</td>\n",
       "      <td>B</td>\n",
       "      <td>Non-Hispanic</td>\n",
       "      <td>RESIDENT</td>\n",
       "      <td>POINT (-86.713 36.039)</td>\n",
       "      <td>2023</td>\n",
       "      <td>12</td>\n",
       "      <td>13:15:00</td>\n",
       "    </tr>\n",
       "  </tbody>\n",
       "</table>\n",
       "<p>5 rows × 34 columns</p>\n",
       "</div>"
      ],
      "text/plain": [
       "         Primary Key  Incident Number Report Type Report Type Description  \\\n",
       "144   20230321366_11      20230321366           D              DISPATCHED   \n",
       "966   20230770706_11      20230770706           D              DISPATCHED   \n",
       "1120  20230761089_21      20230761089           S                 SUSPECT   \n",
       "1435  20230774490_11      20230774490           D              DISPATCHED   \n",
       "1449  20230774845_11      20230774845           D              DISPATCHED   \n",
       "\n",
       "     Incident Status Code Incident Status Description Investigation Status  \\\n",
       "144                     U                   UNFOUNDED               Closed   \n",
       "966                     U                   UNFOUNDED               Closed   \n",
       "1120                    A           CLEARED BY ARREST               Closed   \n",
       "1435                    U                   UNFOUNDED               Closed   \n",
       "1449                    U                   UNFOUNDED               Closed   \n",
       "\n",
       "       Incident Occurred       Incident Reported Incident Location  ...  \\\n",
       "144  2023-06-01 18:30:00  06/01/2023 07:40:00 PM           409 409  ...   \n",
       "966  2023-12-25 15:20:00  12/28/2023 03:29:00 PM             41 41  ...   \n",
       "1120 2023-12-20 17:00:00  12/20/2023 06:39:00 PM           405 405  ...   \n",
       "1435 2023-12-15 09:55:00  12/28/2023 09:55:00 AM           121 121  ...   \n",
       "1449 2023-12-28 13:15:00  12/28/2023 02:59:00 PM         5824 5824  ...   \n",
       "\n",
       "      Victim Type        Victim Description Victim Gender  Victim Race  \\\n",
       "144             I  INDIVIDUAL (18 AND OVER)             M            W   \n",
       "966             B                  BUSINESS           NaN          NaN   \n",
       "1120            S                   SOCIETY           NaN          NaN   \n",
       "1435            B                  BUSINESS           NaN          NaN   \n",
       "1449            I  INDIVIDUAL (18 AND OVER)             M            B   \n",
       "\n",
       "      Victim Ethnicity  Victim County Resident         Mapped Location  Year  \\\n",
       "144       Non-Hispanic                RESIDENT                     NaN  2023   \n",
       "966                NaN                     NaN  POINT (-86.835 36.091)  2023   \n",
       "1120               NaN                     NaN  POINT (-86.799 36.158)  2023   \n",
       "1435               NaN                     NaN   POINT (-86.72 36.251)  2023   \n",
       "1449      Non-Hispanic                RESIDENT  POINT (-86.713 36.039)  2023   \n",
       "\n",
       "     Month      Time  \n",
       "144      6  18:30:00  \n",
       "966     12  15:20:00  \n",
       "1120    12  17:00:00  \n",
       "1435    12  09:55:00  \n",
       "1449    12  13:15:00  \n",
       "\n",
       "[5 rows x 34 columns]"
      ]
     },
     "execution_count": 35,
     "metadata": {},
     "output_type": "execute_result"
    }
   ],
   "source": [
    "\n",
    "twenty_twenty_three = nash_crime_df_filtered.loc[nash_crime_df_filtered['Year'].isin([2023])]\n",
    "twenty_twenty_three.head()"
   ]
  },
  {
   "cell_type": "code",
   "execution_count": 36,
   "metadata": {},
   "outputs": [
    {
     "data": {
      "text/html": [
       "<div>\n",
       "<style scoped>\n",
       "    .dataframe tbody tr th:only-of-type {\n",
       "        vertical-align: middle;\n",
       "    }\n",
       "\n",
       "    .dataframe tbody tr th {\n",
       "        vertical-align: top;\n",
       "    }\n",
       "\n",
       "    .dataframe thead th {\n",
       "        text-align: right;\n",
       "    }\n",
       "</style>\n",
       "<table border=\"1\" class=\"dataframe\">\n",
       "  <thead>\n",
       "    <tr style=\"text-align: right;\">\n",
       "      <th></th>\n",
       "      <th>Primary Key</th>\n",
       "      <th>Incident Number</th>\n",
       "      <th>Report Type</th>\n",
       "      <th>Report Type Description</th>\n",
       "      <th>Incident Status Code</th>\n",
       "      <th>Incident Status Description</th>\n",
       "      <th>Investigation Status</th>\n",
       "      <th>Incident Occurred</th>\n",
       "      <th>Incident Reported</th>\n",
       "      <th>Incident Location</th>\n",
       "      <th>...</th>\n",
       "      <th>Victim Type</th>\n",
       "      <th>Victim Description</th>\n",
       "      <th>Victim Gender</th>\n",
       "      <th>Victim Race</th>\n",
       "      <th>Victim Ethnicity</th>\n",
       "      <th>Victim County Resident</th>\n",
       "      <th>Mapped Location</th>\n",
       "      <th>Year</th>\n",
       "      <th>Month</th>\n",
       "      <th>Time</th>\n",
       "    </tr>\n",
       "  </thead>\n",
       "  <tbody>\n",
       "    <tr>\n",
       "      <th>0</th>\n",
       "      <td>20230321366_11</td>\n",
       "      <td>20230321366</td>\n",
       "      <td>D</td>\n",
       "      <td>DISPATCHED</td>\n",
       "      <td>U</td>\n",
       "      <td>UNFOUNDED</td>\n",
       "      <td>Closed</td>\n",
       "      <td>2023-06-01 18:30:00</td>\n",
       "      <td>06/01/2023 07:40:00 PM</td>\n",
       "      <td>409 409</td>\n",
       "      <td>...</td>\n",
       "      <td>I</td>\n",
       "      <td>INDIVIDUAL (18 AND OVER)</td>\n",
       "      <td>M</td>\n",
       "      <td>W</td>\n",
       "      <td>Non-Hispanic</td>\n",
       "      <td>RESIDENT</td>\n",
       "      <td>NaN</td>\n",
       "      <td>2023</td>\n",
       "      <td>6</td>\n",
       "      <td>18:30:00</td>\n",
       "    </tr>\n",
       "    <tr>\n",
       "      <th>1</th>\n",
       "      <td>20230770706_11</td>\n",
       "      <td>20230770706</td>\n",
       "      <td>D</td>\n",
       "      <td>DISPATCHED</td>\n",
       "      <td>U</td>\n",
       "      <td>UNFOUNDED</td>\n",
       "      <td>Closed</td>\n",
       "      <td>2023-12-25 15:20:00</td>\n",
       "      <td>12/28/2023 03:29:00 PM</td>\n",
       "      <td>41 41</td>\n",
       "      <td>...</td>\n",
       "      <td>B</td>\n",
       "      <td>BUSINESS</td>\n",
       "      <td>NaN</td>\n",
       "      <td>NaN</td>\n",
       "      <td>NaN</td>\n",
       "      <td>NaN</td>\n",
       "      <td>POINT (-86.835 36.091)</td>\n",
       "      <td>2023</td>\n",
       "      <td>12</td>\n",
       "      <td>15:20:00</td>\n",
       "    </tr>\n",
       "    <tr>\n",
       "      <th>2</th>\n",
       "      <td>20230761089_21</td>\n",
       "      <td>20230761089</td>\n",
       "      <td>S</td>\n",
       "      <td>SUSPECT</td>\n",
       "      <td>A</td>\n",
       "      <td>CLEARED BY ARREST</td>\n",
       "      <td>Closed</td>\n",
       "      <td>2023-12-20 17:00:00</td>\n",
       "      <td>12/20/2023 06:39:00 PM</td>\n",
       "      <td>405 405</td>\n",
       "      <td>...</td>\n",
       "      <td>S</td>\n",
       "      <td>SOCIETY</td>\n",
       "      <td>NaN</td>\n",
       "      <td>NaN</td>\n",
       "      <td>NaN</td>\n",
       "      <td>NaN</td>\n",
       "      <td>POINT (-86.799 36.158)</td>\n",
       "      <td>2023</td>\n",
       "      <td>12</td>\n",
       "      <td>17:00:00</td>\n",
       "    </tr>\n",
       "    <tr>\n",
       "      <th>3</th>\n",
       "      <td>20230774490_11</td>\n",
       "      <td>20230774490</td>\n",
       "      <td>D</td>\n",
       "      <td>DISPATCHED</td>\n",
       "      <td>U</td>\n",
       "      <td>UNFOUNDED</td>\n",
       "      <td>Closed</td>\n",
       "      <td>2023-12-15 09:55:00</td>\n",
       "      <td>12/28/2023 09:55:00 AM</td>\n",
       "      <td>121 121</td>\n",
       "      <td>...</td>\n",
       "      <td>B</td>\n",
       "      <td>BUSINESS</td>\n",
       "      <td>NaN</td>\n",
       "      <td>NaN</td>\n",
       "      <td>NaN</td>\n",
       "      <td>NaN</td>\n",
       "      <td>POINT (-86.72 36.251)</td>\n",
       "      <td>2023</td>\n",
       "      <td>12</td>\n",
       "      <td>09:55:00</td>\n",
       "    </tr>\n",
       "    <tr>\n",
       "      <th>4</th>\n",
       "      <td>20230774845_11</td>\n",
       "      <td>20230774845</td>\n",
       "      <td>D</td>\n",
       "      <td>DISPATCHED</td>\n",
       "      <td>U</td>\n",
       "      <td>UNFOUNDED</td>\n",
       "      <td>Closed</td>\n",
       "      <td>2023-12-28 13:15:00</td>\n",
       "      <td>12/28/2023 02:59:00 PM</td>\n",
       "      <td>5824 5824</td>\n",
       "      <td>...</td>\n",
       "      <td>I</td>\n",
       "      <td>INDIVIDUAL (18 AND OVER)</td>\n",
       "      <td>M</td>\n",
       "      <td>B</td>\n",
       "      <td>Non-Hispanic</td>\n",
       "      <td>RESIDENT</td>\n",
       "      <td>POINT (-86.713 36.039)</td>\n",
       "      <td>2023</td>\n",
       "      <td>12</td>\n",
       "      <td>13:15:00</td>\n",
       "    </tr>\n",
       "  </tbody>\n",
       "</table>\n",
       "<p>5 rows × 34 columns</p>\n",
       "</div>"
      ],
      "text/plain": [
       "      Primary Key  Incident Number Report Type Report Type Description  \\\n",
       "0  20230321366_11      20230321366           D              DISPATCHED   \n",
       "1  20230770706_11      20230770706           D              DISPATCHED   \n",
       "2  20230761089_21      20230761089           S                 SUSPECT   \n",
       "3  20230774490_11      20230774490           D              DISPATCHED   \n",
       "4  20230774845_11      20230774845           D              DISPATCHED   \n",
       "\n",
       "  Incident Status Code Incident Status Description Investigation Status  \\\n",
       "0                    U                   UNFOUNDED               Closed   \n",
       "1                    U                   UNFOUNDED               Closed   \n",
       "2                    A           CLEARED BY ARREST               Closed   \n",
       "3                    U                   UNFOUNDED               Closed   \n",
       "4                    U                   UNFOUNDED               Closed   \n",
       "\n",
       "    Incident Occurred       Incident Reported Incident Location  ...  \\\n",
       "0 2023-06-01 18:30:00  06/01/2023 07:40:00 PM           409 409  ...   \n",
       "1 2023-12-25 15:20:00  12/28/2023 03:29:00 PM             41 41  ...   \n",
       "2 2023-12-20 17:00:00  12/20/2023 06:39:00 PM           405 405  ...   \n",
       "3 2023-12-15 09:55:00  12/28/2023 09:55:00 AM           121 121  ...   \n",
       "4 2023-12-28 13:15:00  12/28/2023 02:59:00 PM         5824 5824  ...   \n",
       "\n",
       "   Victim Type        Victim Description Victim Gender  Victim Race  \\\n",
       "0            I  INDIVIDUAL (18 AND OVER)             M            W   \n",
       "1            B                  BUSINESS           NaN          NaN   \n",
       "2            S                   SOCIETY           NaN          NaN   \n",
       "3            B                  BUSINESS           NaN          NaN   \n",
       "4            I  INDIVIDUAL (18 AND OVER)             M            B   \n",
       "\n",
       "   Victim Ethnicity  Victim County Resident         Mapped Location  Year  \\\n",
       "0      Non-Hispanic                RESIDENT                     NaN  2023   \n",
       "1               NaN                     NaN  POINT (-86.835 36.091)  2023   \n",
       "2               NaN                     NaN  POINT (-86.799 36.158)  2023   \n",
       "3               NaN                     NaN   POINT (-86.72 36.251)  2023   \n",
       "4      Non-Hispanic                RESIDENT  POINT (-86.713 36.039)  2023   \n",
       "\n",
       "  Month      Time  \n",
       "0     6  18:30:00  \n",
       "1    12  15:20:00  \n",
       "2    12  17:00:00  \n",
       "3    12  09:55:00  \n",
       "4    12  13:15:00  \n",
       "\n",
       "[5 rows x 34 columns]"
      ]
     },
     "execution_count": 36,
     "metadata": {},
     "output_type": "execute_result"
    }
   ],
   "source": [
    "twenty_twenty_three_df = twenty_twenty_three.reset_index(drop=True)\n",
    "twenty_twenty_three_df.head() #64029 rows × 35 columns"
   ]
  },
  {
   "cell_type": "markdown",
   "metadata": {},
   "source": [
    "converted 2023 sorted crime to df"
   ]
  },
  {
   "cell_type": "code",
   "execution_count": 37,
   "metadata": {},
   "outputs": [
    {
     "data": {
      "text/html": [
       "<div>\n",
       "<style scoped>\n",
       "    .dataframe tbody tr th:only-of-type {\n",
       "        vertical-align: middle;\n",
       "    }\n",
       "\n",
       "    .dataframe tbody tr th {\n",
       "        vertical-align: top;\n",
       "    }\n",
       "\n",
       "    .dataframe thead th {\n",
       "        text-align: right;\n",
       "    }\n",
       "</style>\n",
       "<table border=\"1\" class=\"dataframe\">\n",
       "  <thead>\n",
       "    <tr style=\"text-align: right;\">\n",
       "      <th></th>\n",
       "      <th>Month</th>\n",
       "      <th>Crime Count</th>\n",
       "    </tr>\n",
       "  </thead>\n",
       "  <tbody>\n",
       "    <tr>\n",
       "      <th>0</th>\n",
       "      <td>1</td>\n",
       "      <td>5189</td>\n",
       "    </tr>\n",
       "    <tr>\n",
       "      <th>1</th>\n",
       "      <td>2</td>\n",
       "      <td>4840</td>\n",
       "    </tr>\n",
       "    <tr>\n",
       "      <th>2</th>\n",
       "      <td>3</td>\n",
       "      <td>5412</td>\n",
       "    </tr>\n",
       "    <tr>\n",
       "      <th>3</th>\n",
       "      <td>4</td>\n",
       "      <td>5356</td>\n",
       "    </tr>\n",
       "    <tr>\n",
       "      <th>4</th>\n",
       "      <td>5</td>\n",
       "      <td>5691</td>\n",
       "    </tr>\n",
       "    <tr>\n",
       "      <th>5</th>\n",
       "      <td>6</td>\n",
       "      <td>5599</td>\n",
       "    </tr>\n",
       "    <tr>\n",
       "      <th>6</th>\n",
       "      <td>7</td>\n",
       "      <td>5648</td>\n",
       "    </tr>\n",
       "    <tr>\n",
       "      <th>7</th>\n",
       "      <td>8</td>\n",
       "      <td>5635</td>\n",
       "    </tr>\n",
       "    <tr>\n",
       "      <th>8</th>\n",
       "      <td>9</td>\n",
       "      <td>5503</td>\n",
       "    </tr>\n",
       "    <tr>\n",
       "      <th>9</th>\n",
       "      <td>10</td>\n",
       "      <td>5425</td>\n",
       "    </tr>\n",
       "    <tr>\n",
       "      <th>10</th>\n",
       "      <td>11</td>\n",
       "      <td>4852</td>\n",
       "    </tr>\n",
       "    <tr>\n",
       "      <th>11</th>\n",
       "      <td>12</td>\n",
       "      <td>4879</td>\n",
       "    </tr>\n",
       "  </tbody>\n",
       "</table>\n",
       "</div>"
      ],
      "text/plain": [
       "    Month  Crime Count\n",
       "0       1         5189\n",
       "1       2         4840\n",
       "2       3         5412\n",
       "3       4         5356\n",
       "4       5         5691\n",
       "5       6         5599\n",
       "6       7         5648\n",
       "7       8         5635\n",
       "8       9         5503\n",
       "9      10         5425\n",
       "10     11         4852\n",
       "11     12         4879"
      ]
     },
     "execution_count": 37,
     "metadata": {},
     "output_type": "execute_result"
    }
   ],
   "source": [
    "crime_count_by_month_in_23=twenty_twenty_three_df.groupby('Month').size().reset_index(name='Crime Count')\n",
    "crime_count_by_month_in_23"
   ]
  },
  {
   "cell_type": "code",
   "execution_count": 38,
   "metadata": {},
   "outputs": [
    {
     "data": {
      "text/plain": [
       "5"
      ]
     },
     "execution_count": 38,
     "metadata": {},
     "output_type": "execute_result"
    }
   ],
   "source": [
    "month_with_max_crime_count_in_23 = crime_count_by_month_in_23.loc[crime_count_by_month_in_23['Crime Count'].idxmax(), 'Month']\n",
    "month_with_max_crime_count_in_23"
   ]
  },
  {
   "cell_type": "code",
   "execution_count": 39,
   "metadata": {},
   "outputs": [
    {
     "data": {
      "text/plain": [
       "5335.75"
      ]
     },
     "execution_count": 39,
     "metadata": {},
     "output_type": "execute_result"
    }
   ],
   "source": [
    "crime_count_by_month = twenty_twenty_three_df.groupby('Month').size().reset_index(name='Crime Count')\n",
    "avg_crime_count_by_month = crime_count_by_month_in_23['Crime Count'].mean().round(2)\n",
    "avg_crime_count_by_month"
   ]
  },
  {
   "cell_type": "code",
   "execution_count": 40,
   "metadata": {},
   "outputs": [
    {
     "data": {
      "text/plain": [
       "Index(['Primary Key', 'Incident Number', 'Report Type',\n",
       "       'Report Type Description', 'Incident Status Code',\n",
       "       'Incident Status Description', 'Investigation Status',\n",
       "       'Incident Occurred', 'Incident Reported', 'Incident Location',\n",
       "       'Latitude', 'Longitude', 'ZIP Code', 'RPA', 'Zone', 'Location Code',\n",
       "       'Location Description', 'Offense Number', 'Offense NIBRS',\n",
       "       'Offense Description', 'Weapon Primary', 'Weapon Description',\n",
       "       'Victim Number', 'Domestic Related', 'Victim Type',\n",
       "       'Victim Description', 'Victim Gender', 'Victim Race',\n",
       "       'Victim Ethnicity', 'Victim County Resident', 'Mapped Location', 'Year',\n",
       "       'Month', 'Time'],\n",
       "      dtype='object')"
      ]
     },
     "execution_count": 40,
     "metadata": {},
     "output_type": "execute_result"
    }
   ],
   "source": [
    "twenty_twenty_three_df.columns"
   ]
  },
  {
   "cell_type": "code",
   "execution_count": 41,
   "metadata": {},
   "outputs": [
    {
     "data": {
      "text/plain": [
       "array(['HANDGUN', 'NONE', 'PERSONAL (HANDS)', 'CLUB',\n",
       "       'LETHAL/CUTTING INSTRUMENT', 'Unarmed', 'OTHER FIREARM', nan,\n",
       "       'OTHER', 'HANDGUN - SEMIAUTOMATIC', 'SHOTGUN', 'REVOLVER',\n",
       "       'MOTOR VEHICLE', 'RIFLE', 'DRUGS', 'FIRE/INCENDIARY DEVICES',\n",
       "       'ASPHYXIATION', 'EXPLOSIVES', 'POISON'], dtype=object)"
      ]
     },
     "execution_count": 41,
     "metadata": {},
     "output_type": "execute_result"
    }
   ],
   "source": [
    "twenty_twenty_three_df['Weapon Description'].unique()"
   ]
  },
  {
   "cell_type": "code",
   "execution_count": 42,
   "metadata": {},
   "outputs": [],
   "source": [
    "# twenty_twenty_three_df = twenty_twenty_three_df[~twenty_twenty_three_df['ZIP Code'].isin(['23236', '30318','39202','27216','38562','60123','91107','29501', '17202','0','90069','27707', '30139'])]\n",
    "# twenty_twenty_three_df['ZIP Code'].unique()"
   ]
  },
  {
   "cell_type": "code",
   "execution_count": 43,
   "metadata": {},
   "outputs": [
    {
     "data": {
      "text/plain": [
       "array(['POLICE INQUIRY', 'WEAPON OFFENSE, CRIMINAL ATTEMPT',\n",
       "       'SIMPLE ASSLT', 'BURGLARY - AGGRAVATED', 'MARIJUANA - POSSESS',\n",
       "       'RECOVERY, STOLEN PROPERTY', 'FOUND PROPERTY',\n",
       "       'POSSESSION OF A CONTROLLED SUBSTANCE',\n",
       "       'INTENTIONAL AGGRAVATED ASSAULT', 'BURGLARY- MOTOR VEHICLE',\n",
       "       'KIDNAPPING, CRIMINAL ATTEMPT',\n",
       "       'DRUG FREE SCH.ZONE-CONT.SUB.-SCH. IV', 'DEATH NATURAL', 'ASSAULT',\n",
       "       'TRANSPORT', 'DRUG PARAPHERNALIA- UNLAWFUL USE', 'FAMILY OFFENSE',\n",
       "       'MARIJUANA - SELL', 'LOST PROPERTY',\n",
       "       'DEATH UNNATURAL...(ACCIDENTAL)', 'CIVIL CASE',\n",
       "       'POSS. W/INT-CONT.SUB. - FENTANYL .5 GR OR MORE', 'OVERDOSE',\n",
       "       'CRIMINAL TRESPASS', 'ASSAULT- FEAR OF BODILY INJURY',\n",
       "       'Assault, Aggravated - Deadly Weapon - Int/Kn',\n",
       "       'DAMAGE PROP - PRIVATE', 'DRUGS, COCAINE, POSSESS',\n",
       "       'CONTEMPT - VIOLATION OF PROTECTION ORDER',\n",
       "       'CRIMINAL CONTEMPT-VIOLATION OF ORDER OF PROTECTION',\n",
       "       'CRIMINAL IMPERSONATION', 'VANDALISM- $1,000 OR LESS',\n",
       "       'DRUGS, COCAINE, SELL',\n",
       "       'ASSAULT- OFFENSIVE OR PROVOCATIVE CONTACT', 'VEHICLE THEFT',\n",
       "       'ASSAULT OF OFFICER - BODILY INJURY',\n",
       "       'THEFT OF PROPERTY-$1,000 OR LESS', 'ACCIDENTAL INJURY',\n",
       "       'SHOPLIFTING', 'ASSAULT, DOMESTIC, BODILY INJURY 2ND OFFENSE',\n",
       "       'Weapon - Felon-Poss-Firearm (Drug Offense)',\n",
       "       'BURGL - FORCED ENTRY-NONRESID',\n",
       "       'CONTROLLED SUB. ANALOGUE - POSS OR CASUAL EXCHANGE',\n",
       "       'BURGLARY - MOTOR VEHICLE', 'EMBEZZLE - BUSINESS PROP',\n",
       "       'ASSAULT, AGGRAVATED - DEADLY WEAPON - INT/KN FROM MOT VEH',\n",
       "       'AGGRAV ASSLT - NONFAMILY-WEAPON',\n",
       "       'SIMPLE ASSLT - STRANGULATION (NO LOSS OF CONSCIOUSNESS)',\n",
       "       'AGGRAV ASSLT - FAMILY-STGARM', 'LARC - FROM BLDG',\n",
       "       'THEFT OF PROPERTY- $1,000 OR >  BUT < $10,000',\n",
       "       'POSSESSION OF A CONTROLLED SUB FOR RESALE', 'ROBBERY',\n",
       "       'DRIVING UNDER THE INFLUENCE',\n",
       "       'THEFT OF PROPERTY- $60,000 OR MORE', 'CARRYING CONCEALED WEAPON',\n",
       "       'POSS. W/INT-CONT.SUB. -FENTANYL OR DERIVATIVE 15-149 GR',\n",
       "       'PUBLIC INTOXICATION', 'STALKING- (VALID ONLY:  7/1/92 - 6/30/95)',\n",
       "       'AGGRAV ASSLT - FAMILY-WEAPON', 'FRAUD - SWINDLE',\n",
       "       'DISORDERLY CONDUCT', 'VANDALISM - GOVT. PROPERTY < $2,500',\n",
       "       'THEFT OF MERCHANDISE 5TH - $1,000 OR LESS',\n",
       "       'VEHICLE OFFENSE, CRIMINAL ATTEMPT', 'DAMAGE PROP - BUSINESS',\n",
       "       'VANDALISM- >$1,000 BUT < $2,500', 'BURGLARY',\n",
       "       'Assault, Aggravated - Strangulation - Int/Kn',\n",
       "       'THEFT OF PROPERTY- $500 OR LESS', 'EXTORTION',\n",
       "       'ASSAULT, FIRST RESPONDER, OFFENSIVE CONTACT',\n",
       "       'THEFT OF MERCHANDISE- $1,000 OR LESS', 'BURGLARY- AGGRAVATED',\n",
       "       'WEAPON - FIREARM OR CLUB', 'STALKING - AGGRAVATED', 'SUICIDE',\n",
       "       'REGIS/PLATES, ALTER, FORGE, FALSIFY',\n",
       "       'CRIMINAL TRESPASS- AGGRAVATED - HOME/SCHOOL',\n",
       "       'LARCENY - (FREE TEXT)', 'Poss. or Casual Exchange of Meth',\n",
       "       'ROBBERY- ESP. AGG.', 'LARC - PARTS FROM VEH', 'UNKNOWN DEATH',\n",
       "       'TEST ONLY', 'ASSAULT, AGG., FIRST RESPONDER, DEADLY WEAPON',\n",
       "       'ROBBERY, AGGRAVATED, HANDGUN',\n",
       "       'Assault, Agg - Deadly Weapon- Int/Kn- Acting in Concert',\n",
       "       'AGGRAV ASSLT - NONFAMILY-GUN', 'AMPHETAMINE - POSSESS',\n",
       "       'HARRASSMENT (NUISANCE)',\n",
       "       'ASSAULT, (NO INJURY, ON OFFICER/PUBLIC OFFICIAL)',\n",
       "       'ASSAULT, DOMESTIC, BODILY INJURY 3RD OR MORE',\n",
       "       'THEFT OF VEHICLE->$1,000 BUT <$2,500',\n",
       "       'THEFT OF VEHICLE-2,500 OR > BUT<$10,000', 'DAMAGE PROP - PUBLIC',\n",
       "       'THEFT OF SERVICES-  $500 OR LESS',\n",
       "       'DAMAGE TO PROPERTY, CRIMINAL ATTEMPT',\n",
       "       'POSS.W/INT-CONT.SUB.- SCH. I', 'LARC - FROM COIN MACHINE',\n",
       "       'BURGL - NO FORCED ENTRY-NONRESID',\n",
       "       'HARASSMENT- CAUSE EMOTIONAL DISTRESS, INTIMIDATE, FRIGHTEN',\n",
       "       'CRIMINAL TRESPASS- AGGRAVATED', 'FRAUD - CONFIDENCE GAME',\n",
       "       'NO CONTACT ORDER VIOLATION - DV BOND CONDITION',\n",
       "       'FRAUD -  ILLEG USE OF CREDIT CARDS',\n",
       "       'THEFT OF MERCHANDISE- >$1,000 BUT < $2,500',\n",
       "       'FRAUD - BREACH OF TRUST', 'LARC - POSTAL',\n",
       "       'COMPUTER VIOLATION, DAMAGE - $1,000 OR LESS',\n",
       "       'THEFT OF PROPERTY- $10,000 OR >  BUT  < $60,000',\n",
       "       'THEFT OF PROPERTY-$2,500 OR > BUT < $10,000',\n",
       "       'Theft of Vehicle- $60,000 or > but < $250,000',\n",
       "       'Weapon - Felon-Poss-Firearm (Force,Violence,Deadly Weapon)',\n",
       "       'Poss. or Casual Exchange of Meth - Prior Conviction',\n",
       "       'POSS. W/INT -CONT.SUB. -FENTANYL OR DERIVATIVE 150 GR OR >',\n",
       "       'Weapon - Dangerous Felony - w/prior conviction',\n",
       "       'ASSAULT, AGGRAVATED - DEADLY WEAPON - RECKLESS FROM MOT VEH',\n",
       "       'STALKING- NO PRIOR CONVICTION',\n",
       "       'WEAPON - FELON-POSS-FIREARM(FORCE, VIOLENCE, DEADLY WEAPON)',\n",
       "       'POSSESS COUNTERFEITED-SEE MIS',\n",
       "       'DISPENSE PRESCRIPTION DRUG, VOID REGIS. NUMBER',\n",
       "       'PROSTITUTION - PATRONIZING',\n",
       "       'CONTROLLED SUB. ANALOGUE - POSS W/INTENT - 1ST OFFENSE',\n",
       "       'BURGLARY (NON HABITATION)',\n",
       "       'Assault, Aggravated - Serious Bodily Injury - Reckless',\n",
       "       'ROBBERY, AGGRAVATED, OTHER',\n",
       "       'Assault, Officer/Responder -Agg -Deadly Weapon - Int/Kn',\n",
       "       'WEAPON - FELON-POSS-FIREARM(VIOLENCE, DEADLY WEAPON)',\n",
       "       'OPEN CONTAINER VIOL.', 'HOMICIDE- CRIMINAL',\n",
       "       'ORGANIZED RETAIL CRIME > $1,000 BUT < $2,500',\n",
       "       'VANDALISM- $2,500 OR > BUT < $10,000', 'THREAT TO BOMB',\n",
       "       'DOMESTIC ASSAULT-ATTEMPT TO INFLUENCE A WITNESS',\n",
       "       'WEAPON - FELON-POSS-FIREARM(DRUG OFFENSE)',\n",
       "       'DRIVING UNDER THE INFLUENCE - 2ND OFFENSE',\n",
       "       'STALKING- ESPECIALLY AGGRAVATED', 'LARC - RESID',\n",
       "       'AGGRAV ASSLT - POL OFF-WEAPON',\n",
       "       'ASSAULT, FIRST RESPONDER, BODILY INJURY',\n",
       "       'Assault, Aggravated - Deadly Weapon - Reckless',\n",
       "       'FORGE/SIMULATE, CRIMINAL ATTEMPT',\n",
       "       'FAMILY OFFENSE, CRIMINAL ATTEMPT', 'AGGRAV ASSLT - FAMILY-GUN',\n",
       "       'ROBBERY- AGG.- SERIOUS BODILY INJURY',\n",
       "       'CREDIT CARD, FRAUDULENT USE - $1,000 OR LESS',\n",
       "       'Assault, Aggravated - Deadly Weapon - Int/Kn - In Concert',\n",
       "       'THREAT OF MASS VIOLENCE IN SCHOOL',\n",
       "       'GAMBLING DEVICE OR RECORD- POSSESSION',\n",
       "       'Theft of Property- $60,000 or > but < $250,000',\n",
       "       'DRIVING UNDER THE INFLUENCE - 3RD OFFENSE',\n",
       "       'Poss.w/Int-Cont.Sub.-Meth.5 gr or more',\n",
       "       'TOBACCO, VAPE, NICOTINE OR SMOKING HEMP-POSS. IF <21',\n",
       "       'RECKLESS DRIVING - AGGRAVATED',\n",
       "       'FAIL TO FILE REPORT OF ACCIDENT W/INJURY OR DAMAGE OVER $1,500',\n",
       "       'FAILURE TO NOTIFY LAW ENFORCEMENT',\n",
       "       'THEFT OF PROPERTY- > $500 BUT < $1,000',\n",
       "       'Assault, health care provider - Fear of Bodily Injury',\n",
       "       'MARIJUANA (FREE TEXT)', 'RECKLESS BURNING',\n",
       "       'THEFT OF MERCHANDISE- $2,500 OR > BUT  < $10,000',\n",
       "       'AGGRAV ASSLT - POL OFF-GUN',\n",
       "       'THEFT OF MERCHANDISE 5TH - > $1,000 BUT < $2,500',\n",
       "       'ORGANIZED RETAIL CRIME $1,000 OR LESS',\n",
       "       'Assault, Agg - Serious Bodily Injury- Int/Kn- Acting in Concert',\n",
       "       'FORGERY- $2,500 OR > BUT < $10,000', 'ROBBERY, AGGRAVATED, KNIFE',\n",
       "       'JUVENILE, CURFEW', 'THEFT OF SERVICES- $1,000 OR > BUT < $10,000',\n",
       "       'DELIVERY -CONT.SUB. -FENTANYL OR DERIVATIVE 15-149 GR',\n",
       "       'ALCOHOL- UNDER 21, CONSUMPTION',\n",
       "       'THEFT OF SERVICES (LESS THAN $50 OR NO VAL DETERMINED)',\n",
       "       'WEAPON- CARRYING ON SCHOOL PROPERTY',\n",
       "       'ASSAULT, NURSE, OFFENSIVE CONTACT',\n",
       "       'DRUG OFFENSE, CRIMINAL ATTEMPT (BECOMES DRUG OFFENSE)',\n",
       "       'WEAPON - CARRYING AFTER FEDERAL RESTRICTIONS', 'HOMICIDE',\n",
       "       'THEFT OF MERCHANDISE 5TH - $2,500 OR > BUT < $10,000',\n",
       "       'BURGLARY - ESPECIALLY AGGRAVATED',\n",
       "       'ASSAULT, AGG - DEADLY WEAPON - RECKLESS-IN CONCERT',\n",
       "       'SYNTHETIC CANNABINOIDS VIOLATION - 1ST OFFENSE',\n",
       "       'FIRST DEGREE MURDER- RAPE/ATT RAPE', 'SALE - CONT.SUB.-SCH. I',\n",
       "       'PROSTITUTION', 'THEFT OF SERVICES-$1,000 OR LESS',\n",
       "       'CRIMINAL SIMULATION-$1,000 OR LESS', 'ESCAPE SEE MIS',\n",
       "       'AMPHETAMINE - SELL', 'THEFT OF VEHICLE-$1,000 OR LESS',\n",
       "       'ASSAULT, VEHICULAR, AGGRAVATED',\n",
       "       'IMPLIED CONSENT - INT. REFUSE, PREVENT OR OBSTRUCT',\n",
       "       'THEFT OF SERVICES- $60,000 OR > BUT< $250,000',\n",
       "       'OBSCENE MATERIAL - MFR',\n",
       "       'Reckless Endangerment-Unoccupied Habitation',\n",
       "       'CONSP. -CONT.SUB. -FENTANYL OR DERIVATIVE 15-149 GR',\n",
       "       'LITTERING - MITIGATED',\n",
       "       'THEFT OF MERCHANDISE 5TH - $10,000 OR > BUT < $60,000',\n",
       "       'CRITICAL INFRASTRUCTURE VANDALISM - $2,500 OR > BUT < $10,000',\n",
       "       'ORDER OF PROTECTION FIREARMS VIOLATION',\n",
       "       'OBSCENE MATERIAL - MAILING', 'INTERFERENCE WITH AGRICULTURE',\n",
       "       'Assault, Agg - Strangulation- Int/Kn- Acting in Concert',\n",
       "       'Robbery - Acting in Concert', 'ARSON - RESID',\n",
       "       'WEAPON - FIREARM OR CLUB W/PRIORS',\n",
       "       'Poss.w/Int-Cont.Sub.-Amphetamine 26-299 gr',\n",
       "       'Poss.w/Int-Cont.Sub.-Meth 300 gr or >', 'HOMICIDE, JUSTIFIABLE',\n",
       "       'ASSAULT, AGGRAVATED - STRANGULATION-INT/KN',\n",
       "       'DRIVING UNDER INFLUENCE LIQUOR',\n",
       "       'IMITATION CONTROLLED SUBSTANCE - USE OR POSSESS',\n",
       "       'Poss.w/Int-Cont.Sub.- Meth 26-299 gr',\n",
       "       'ANIMAL - CRUELTY AGGRAVATED', 'Poss.w/Int-Cont.Sub.-Meth <.5 gr',\n",
       "       'POSSESS FORGED-SEE MIS',\n",
       "       'SALE -CONT.SUB. -FENTANYL OR DERIVATIVE 15-149 GR',\n",
       "       'CONTROLLED SUB. ANALOGUE - POSS W/INTENT - 2ND OFFENSE OR MORE',\n",
       "       'TELECOMMUNICATIONS THEFT- $2,500 OR > BUT < $10,000',\n",
       "       'EMBEZZLE - BANKING-TYPE-INST',\n",
       "       'Drug Free NonSch.Zone -Cont.Sub.-Meth <.5 gr Bodily Injury',\n",
       "       'WEAPON - CARRYING AFTER DUI CONVICTIONS',\n",
       "       'Sale-Cont.Sub.-Meth 300 gr or >', 'FRAUD, CRIMINAL ATTEMPT',\n",
       "       'COUNTERFEITING OF-SEE MIS',\n",
       "       'ASSAULT, AGG - SERIOUS BODILY INJURY - RECKLESS-IN CONCERT',\n",
       "       'FORGERY-$1,000 OR LESS', 'AGGRAV ASSLT - PUB OFF-GUN',\n",
       "       'ASSAULT, AGGRAVATED - DEADLY WEAPON - INT/KN FROM MOT VEH IN CONC',\n",
       "       'THREAT TO BURN', 'THEFT OF PROPERTY->$1,000 BUT <$2,500',\n",
       "       'RIOT- INCITING', 'ASSAULT, NURSE, BODILY INJURY',\n",
       "       'TRESPASS BY MOTOR VEHICLE', 'Vandalism- $250,000 or more',\n",
       "       'ORGANIZED RETAIL CRIME $2,500 OR > BUT < $10,000',\n",
       "       'ASSAULT, VEHICULAR - 1ST OFFENSE', 'BURGLARY, CRIMINAL ATTEMPT',\n",
       "       'CAREGIVER: ABANDONMENT W/ NO INJURY',\n",
       "       'POSS. OR CASUAL EXCHANGE OF HERIN-PRIOR CONVICTIONS',\n",
       "       'PROSTITUTION- PROMOTING', 'Delivery -Cont.Sub.-Meth<.5 gr',\n",
       "       'BURGLARY - AGGRAVATED - ACTING IN CONCERT', 'FRAUD BY WIRE',\n",
       "       'TOBACCO OR VAPOR PRODUCT SALE/DISTRIBUTION TO A MINOR',\n",
       "       'CONTROLLED SUB. ANALOGUE - DISPENSE - 2ND OFFENSE OR MORE',\n",
       "       'Computer - Copy - $250,000 or more',\n",
       "       'Assault, health care provider - Bodily Injury',\n",
       "       'LARC - FROM BANKING TYPE-INST',\n",
       "       'MOTOR VEHICLE - ELECTRONIC TRACKING DEVICE',\n",
       "       'POSSESS STOLEN PROP',\n",
       "       'ASSAULT OFFICER-AGG - STRANGULATION - INT/KN',\n",
       "       'Assault, health care provider - Offensive Contact',\n",
       "       'Forgery- $60,000 or > but < $250,000',\n",
       "       'ANIMAL- INTENTIONAL KILLING - $1,000 OR LESS',\n",
       "       'ASSAULT, AGG., NURSE, STRANGULATION',\n",
       "       'RAPE- ESPECIALLY AGGRAVATED',\n",
       "       'IMITATION CONTROLLED SUBSTANCE - USE',\n",
       "       'ORGANIZED RETAIL CRIME $10,000 OR > BUT < $60,000',\n",
       "       'PHOTOGRAPHY - TO INTIMIDATE OR HARASS',\n",
       "       'MANUF.-CONT.SUB. - METH .5 GR or MORE',\n",
       "       'Consp.-Cont.Sub.-Meth 26-299 gr', 'FAILURE TO APPEAR',\n",
       "       'OBSCENITY, CRIMINAL ATTEMPT',\n",
       "       'BRIBERY/COERCION, CRIMINAL ATTEMPT', 'LARC - BICYCLE', 'GAMBLING',\n",
       "       'STOLEN PROPERTY', 'EMERGENCY ORDER VIOLATION',\n",
       "       'PASS FORGED-SEE MIS', 'ASSAULT, AGG., NURSE, DEADLY WEAPON',\n",
       "       'Theft of Vehicle- $250,000 or more',\n",
       "       'Consp.-Cont.Sub.-Meth 300 gr or >', 'BRIBE - OFFERING',\n",
       "       'SEXUAL CONTACT BY AN AUTHORITY FIGURE (REPLACED WITH TCA 39-13-509)',\n",
       "       'Assault, Officer/Responder - Agg - Serious Injury - Reckless',\n",
       "       'COMPUTER VIOLATION, DAMAGE - >$1,000 BUT < $2,500',\n",
       "       'DRIVING UNDER THE INFLUENCE, ALCOHOL',\n",
       "       'Assault, Aggravated - Death - Int/Kn',\n",
       "       'MARIJUANA CONCENTRATE-MANUFACTURE',\n",
       "       'CHILD NEGLECT - EXPOSE TO CONTR. SUBST. & CHILD 8 OR LESS',\n",
       "       'STALKING- INJUCTION- COURT ORDER VALID 7/1/92-6/30/95',\n",
       "       'THEFT OF SERVICES-$2,500 OR > BUT <$10,000',\n",
       "       'EMBEZZLEMENT, CRIMINAL ATTEMPT',\n",
       "       'THEFT OF SERVICES, CRIMINAL ATTEMPT',\n",
       "       'Solicitation of a Minor - Promoting Prostitution', 'KIDNAPPING',\n",
       "       'POSS. W/INT-CONT.SUB. - FENTANYL <.5 GR', 'ARSON - BUSINESS',\n",
       "       'Vandalism- $60,000 or > but < $250,000',\n",
       "       'AGGRAV ASSLT - NONFAMILY-STGARM',\n",
       "       'Criminal Simulation- $60,000 or > but < $250,000',\n",
       "       'ADVERTISING COMMERCIAL SEXUAL ABUSE OF A MINOR',\n",
       "       'IMPAIRED ADULT AGED 60 OR > - ABUSE',\n",
       "       'SALE -CONT.SUB. - FENTANYL .5 GR OR MORE',\n",
       "       'IMITATION CONTROLLED SUBSTANCE - POSS W/INTENT',\n",
       "       'Poss.w/Int-Cont.Sub.-Meth <5 gr Deadly Weapon',\n",
       "       'Assault, Officer Agg - Weapon- Int/Kn- Acting in Concert',\n",
       "       'THEFT OF SERVICES- > $500 BUT < $1,000',\n",
       "       'STALKING- PREV CONV- SAME VICTIM VALID 7/1/92-6/30/95'],\n",
       "      dtype=object)"
      ]
     },
     "execution_count": 43,
     "metadata": {},
     "output_type": "execute_result"
    }
   ],
   "source": [
    "twenty_twenty_three_df['Offense Description'].unique()"
   ]
  },
  {
   "cell_type": "code",
   "execution_count": 44,
   "metadata": {},
   "outputs": [
    {
     "data": {
      "text/plain": [
       "Offense Description\n",
       "POLICE INQUIRY                                             22698\n",
       "FOUND PROPERTY                                              4592\n",
       "LOST PROPERTY                                               4573\n",
       "SIMPLE ASSLT                                                4118\n",
       "RECOVERY, STOLEN PROPERTY                                   3779\n",
       "TRANSPORT                                                   2624\n",
       "ASSAULT- FEAR OF BODILY INJURY                              1742\n",
       "DRUG PARAPHERNALIA- UNLAWFUL USE                            1616\n",
       "ASSAULT- OFFENSIVE OR PROVOCATIVE CONTACT                   1491\n",
       "INTENTIONAL AGGRAVATED ASSAULT                              1384\n",
       "WEAPON OFFENSE, CRIMINAL ATTEMPT                            1373\n",
       "DAMAGE PROP - PRIVATE                                        942\n",
       "VEHICLE THEFT                                                831\n",
       "MARIJUANA - POSSESS                                          625\n",
       "DEATH NATURAL                                                543\n",
       "SHOPLIFTING                                                  512\n",
       "LARC - FROM BLDG                                             500\n",
       "SIMPLE ASSLT - STRANGULATION (NO LOSS OF CONSCIOUSNESS)      500\n",
       "POSSESSION OF A CONTROLLED SUBSTANCE                         484\n",
       "VANDALISM- $1,000 OR LESS                                    440\n",
       "Name: count, dtype: int64"
      ]
     },
     "execution_count": 44,
     "metadata": {},
     "output_type": "execute_result"
    }
   ],
   "source": [
    "twenty_twenty_three_df['Offense Description'].value_counts().head(20)"
   ]
  },
  {
   "cell_type": "markdown",
   "metadata": {},
   "source": [
    "I am going for the top three crime count, after that i will drug paraphernalia and vehicle theft"
   ]
  },
  {
   "cell_type": "markdown",
   "metadata": {},
   "source": [
    "# Analysis by Offense Description, 'Lost Property' and 'Location Description'"
   ]
  },
  {
   "cell_type": "code",
   "execution_count": 45,
   "metadata": {},
   "outputs": [
    {
     "data": {
      "text/html": [
       "<div>\n",
       "<style scoped>\n",
       "    .dataframe tbody tr th:only-of-type {\n",
       "        vertical-align: middle;\n",
       "    }\n",
       "\n",
       "    .dataframe tbody tr th {\n",
       "        vertical-align: top;\n",
       "    }\n",
       "\n",
       "    .dataframe thead th {\n",
       "        text-align: right;\n",
       "    }\n",
       "</style>\n",
       "<table border=\"1\" class=\"dataframe\">\n",
       "  <thead>\n",
       "    <tr style=\"text-align: right;\">\n",
       "      <th></th>\n",
       "      <th>Primary Key</th>\n",
       "      <th>Incident Number</th>\n",
       "      <th>Report Type</th>\n",
       "      <th>Report Type Description</th>\n",
       "      <th>Incident Status Code</th>\n",
       "      <th>Incident Status Description</th>\n",
       "      <th>Investigation Status</th>\n",
       "      <th>Incident Occurred</th>\n",
       "      <th>Incident Reported</th>\n",
       "      <th>Incident Location</th>\n",
       "      <th>...</th>\n",
       "      <th>Victim Type</th>\n",
       "      <th>Victim Description</th>\n",
       "      <th>Victim Gender</th>\n",
       "      <th>Victim Race</th>\n",
       "      <th>Victim Ethnicity</th>\n",
       "      <th>Victim County Resident</th>\n",
       "      <th>Mapped Location</th>\n",
       "      <th>Year</th>\n",
       "      <th>Month</th>\n",
       "      <th>Time</th>\n",
       "    </tr>\n",
       "  </thead>\n",
       "  <tbody>\n",
       "    <tr>\n",
       "      <th>46</th>\n",
       "      <td>20230777187_11</td>\n",
       "      <td>20230777187</td>\n",
       "      <td>T</td>\n",
       "      <td>NaN</td>\n",
       "      <td>U</td>\n",
       "      <td>UNFOUNDED</td>\n",
       "      <td>Closed</td>\n",
       "      <td>2023-10-03 12:00:00</td>\n",
       "      <td>12/29/2023 03:20:00 PM</td>\n",
       "      <td>2345 2345</td>\n",
       "      <td>...</td>\n",
       "      <td>I</td>\n",
       "      <td>INDIVIDUAL (18 AND OVER)</td>\n",
       "      <td>F</td>\n",
       "      <td>B</td>\n",
       "      <td>Non-Hispanic</td>\n",
       "      <td>RESIDENT</td>\n",
       "      <td>POINT (-86.648 36.067)</td>\n",
       "      <td>2023</td>\n",
       "      <td>10</td>\n",
       "      <td>12:00:00</td>\n",
       "    </tr>\n",
       "    <tr>\n",
       "      <th>85</th>\n",
       "      <td>20230326820_11</td>\n",
       "      <td>20230326820</td>\n",
       "      <td>D</td>\n",
       "      <td>DISPATCHED</td>\n",
       "      <td>U</td>\n",
       "      <td>UNFOUNDED</td>\n",
       "      <td>Closed</td>\n",
       "      <td>2023-06-04 15:58:00</td>\n",
       "      <td>06/04/2023 03:58:00 PM</td>\n",
       "      <td>GALLATIN PKE &amp; E TRINITY LN</td>\n",
       "      <td>...</td>\n",
       "      <td>I</td>\n",
       "      <td>INDIVIDUAL (18 AND OVER)</td>\n",
       "      <td>M</td>\n",
       "      <td>W</td>\n",
       "      <td>Non-Hispanic</td>\n",
       "      <td>RESIDENT</td>\n",
       "      <td>POINT (-86.738 36.205)</td>\n",
       "      <td>2023</td>\n",
       "      <td>6</td>\n",
       "      <td>15:58:00</td>\n",
       "    </tr>\n",
       "  </tbody>\n",
       "</table>\n",
       "<p>2 rows × 34 columns</p>\n",
       "</div>"
      ],
      "text/plain": [
       "       Primary Key  Incident Number Report Type Report Type Description  \\\n",
       "46  20230777187_11      20230777187           T                     NaN   \n",
       "85  20230326820_11      20230326820           D              DISPATCHED   \n",
       "\n",
       "   Incident Status Code Incident Status Description Investigation Status  \\\n",
       "46                    U                   UNFOUNDED               Closed   \n",
       "85                    U                   UNFOUNDED               Closed   \n",
       "\n",
       "     Incident Occurred       Incident Reported            Incident Location  \\\n",
       "46 2023-10-03 12:00:00  12/29/2023 03:20:00 PM                    2345 2345   \n",
       "85 2023-06-04 15:58:00  06/04/2023 03:58:00 PM  GALLATIN PKE & E TRINITY LN   \n",
       "\n",
       "    ...  Victim Type        Victim Description Victim Gender  Victim Race  \\\n",
       "46  ...            I  INDIVIDUAL (18 AND OVER)             F            B   \n",
       "85  ...            I  INDIVIDUAL (18 AND OVER)             M            W   \n",
       "\n",
       "    Victim Ethnicity  Victim County Resident         Mapped Location  Year  \\\n",
       "46      Non-Hispanic                RESIDENT  POINT (-86.648 36.067)  2023   \n",
       "85      Non-Hispanic                RESIDENT  POINT (-86.738 36.205)  2023   \n",
       "\n",
       "   Month      Time  \n",
       "46    10  12:00:00  \n",
       "85     6  15:58:00  \n",
       "\n",
       "[2 rows x 34 columns]"
      ]
     },
     "execution_count": 45,
     "metadata": {},
     "output_type": "execute_result"
    }
   ],
   "source": [
    "Lost_Property =twenty_twenty_three_df.loc[twenty_twenty_three_df['Offense Description'].isin(['LOST PROPERTY'])]\n",
    "Lost_Property.head(2)"
   ]
  },
  {
   "cell_type": "markdown",
   "metadata": {},
   "source": [
    "The concept of lost property crime in Nashville, Tennessee involves situations where individuals come into possession of property that they know or should know is lost, mislaid, or misdelivered. Under Tennessee law, the offense of theft includes various categories such as petty theft (misdemeanor theft) for items under 500 and grand theft (felony theft) for larger amounts over 500. Additionally, receiving stolen property is considered a crime when an individual accepts property that they know to be stolen with the intent to sell or use it as their own. see https://nashvillelawoffices.com/criminal-law/theft/"
   ]
  },
  {
   "cell_type": "markdown",
   "metadata": {},
   "source": [
    "I am going for the top three crime count"
   ]
  },
  {
   "cell_type": "code",
   "execution_count": 47,
   "metadata": {},
   "outputs": [],
   "source": [
    "# Lost_Property_copy = Lost_Property.copy()\n",
    "# Lost_Property_copy['ZIP Code'] = Lost_Property_copy['ZIP Code'].astype(str).str.rstrip('.')\n",
    "\n",
    "# Lost_Property.loc[:, 'ZIP Code'] = Lost_Property_copy['ZIP Code']"
   ]
  },
  {
   "cell_type": "code",
   "execution_count": 48,
   "metadata": {},
   "outputs": [
    {
     "data": {
      "text/plain": [
       "array(['37013', '37216', '37217', '37211', '37201', '37203', '37219',\n",
       "       '37209', '37208', '37115', '37205', '37214', '37210', '37189',\n",
       "       '37206', '37076', '37221', '37207', '37228', '37215', '37218',\n",
       "       '37204', '37027', '37212', '37072', '37138', '37213', '37135',\n",
       "       '37015', '37179', '37086', '37122'], dtype=object)"
      ]
     },
     "execution_count": 48,
     "metadata": {},
     "output_type": "execute_result"
    }
   ],
   "source": [
    "Lost_Property['ZIP Code'].unique()"
   ]
  },
  {
   "cell_type": "markdown",
   "metadata": {},
   "source": [
    "i update the original DataFrame using .loc[row_indexer, col_indexer] = value"
   ]
  },
  {
   "cell_type": "code",
   "execution_count": 49,
   "metadata": {},
   "outputs": [
    {
     "data": {
      "text/plain": [
       "ZIP Code\n",
       "37013    476\n",
       "37203    438\n",
       "37211    385\n",
       "37201    381\n",
       "37115    292\n",
       "37210    262\n",
       "37217    256\n",
       "37214    246\n",
       "37207    233\n",
       "37209    199\n",
       "37076    160\n",
       "37206    133\n",
       "37219    126\n",
       "37208    126\n",
       "37221    111\n",
       "Name: count, dtype: int64"
      ]
     },
     "execution_count": 49,
     "metadata": {},
     "output_type": "execute_result"
    }
   ],
   "source": [
    "zip_Lost_Property_count=Lost_Property['ZIP Code'].value_counts()\n",
    "zip_Lost_Property_count.head(15)"
   ]
  },
  {
   "cell_type": "markdown",
   "metadata": {},
   "source": [
    "\"The median household income of 47,455 is slightly less than average compared to the rest of the country.\" 37013, Antioch area has more crime count than any other Zip code in Nashville, than 37221, which has the lowest count Bellevue area that with \"The median household income of $68,473 is high compared to the rest of the country. It is also slightly higher than average compared to nearby ZIP codes. So 37221 is likely to be one of the nicer parts of town with a more affluent demographic.\""
   ]
  },
  {
   "cell_type": "code",
   "execution_count": 50,
   "metadata": {},
   "outputs": [
    {
     "data": {
      "text/plain": [
       "Location Description\n",
       "RESIDENCE, HOME                       1308\n",
       "HIGHWAY, ROAD, ALLEY                   802\n",
       "PARKING LOT, GARAGE                    443\n",
       "BAR, NIGHT CLUB                        306\n",
       "School-Elementary/Secondary            239\n",
       "Auto Dealership New/Used               175\n",
       "APARTMENT                              133\n",
       "HOTEL, MOTEL, ETC.                     129\n",
       "COMMERCIAL, OFFICE BUILDING            123\n",
       "GOVERNMENT, PUBLIC BUILDING            112\n",
       "RESTAURANT                             100\n",
       "AIR, BUS, TRAIN TERMINAL                92\n",
       "SPECIALTY STORE                         78\n",
       "CONVENIENCE STORE                       65\n",
       "DEPARTMENT, DISCOUNT STORE              55\n",
       "GROCERY, SUPERMARKET                    52\n",
       "OTHER, UNKNOWN                          51\n",
       "SERVICE, GAS STATION                    41\n",
       "Arena/Stadium/Fairgrounds/Coliseum      41\n",
       "Name: count, dtype: int64"
      ]
     },
     "execution_count": 50,
     "metadata": {},
     "output_type": "execute_result"
    }
   ],
   "source": [
    "location_count=Lost_Property['Location Description'].value_counts()\n",
    "location_count.head(19)"
   ]
  },
  {
   "cell_type": "code",
   "execution_count": 51,
   "metadata": {},
   "outputs": [
    {
     "data": {
      "text/plain": [
       "Weapon Description\n",
       "NONE                       3698\n",
       "Unarmed                     217\n",
       "PERSONAL (HANDS)            121\n",
       "HANDGUN                       7\n",
       "OTHER                         5\n",
       "HANDGUN - SEMIAUTOMATIC       1\n",
       "Name: count, dtype: int64"
      ]
     },
     "execution_count": 51,
     "metadata": {},
     "output_type": "execute_result"
    }
   ],
   "source": [
    "weapon_Lost_Property=Lost_Property['Weapon Description'].value_counts()\n",
    "weapon_Lost_Property"
   ]
  },
  {
   "cell_type": "markdown",
   "metadata": {},
   "source": [
    "it is surprising to see handgun-semiautomatic as a weapon used to commit this type of crime"
   ]
  },
  {
   "cell_type": "code",
   "execution_count": 52,
   "metadata": {},
   "outputs": [
    {
     "data": {
      "text/plain": [
       "Time\n",
       "12:00:00    477\n",
       "08:00:00    472\n",
       "00:00:00    283\n",
       "09:00:00    180\n",
       "10:00:00    157\n",
       "           ... \n",
       "11:22:00      1\n",
       "16:41:00      1\n",
       "08:40:00      1\n",
       "23:55:00      1\n",
       "19:37:00      1\n",
       "Name: count, Length: 710, dtype: int64"
      ]
     },
     "execution_count": 52,
     "metadata": {},
     "output_type": "execute_result"
    }
   ],
   "source": [
    "time_Lost_Property=Lost_Property['Time'].value_counts()\n",
    "time_Lost_Property"
   ]
  },
  {
   "cell_type": "markdown",
   "metadata": {},
   "source": [
    "There are more crimes happening at 12 pm than 19:37:00 that has the lowest number of crime count. Also, more reported crime of lost properties happen at RESIDENCE, HOME with 13336 than public areas like Arena/Stadium/Fairgrounds/Coliseum andSERVICE, GAS STATION that has 41 counts"
   ]
  },
  {
   "cell_type": "markdown",
   "metadata": {},
   "source": [
    "# Analysis by offense description', 'Simple assault' and 'Location Description\n"
   ]
  },
  {
   "cell_type": "code",
   "execution_count": 53,
   "metadata": {},
   "outputs": [
    {
     "data": {
      "text/html": [
       "<div>\n",
       "<style scoped>\n",
       "    .dataframe tbody tr th:only-of-type {\n",
       "        vertical-align: middle;\n",
       "    }\n",
       "\n",
       "    .dataframe tbody tr th {\n",
       "        vertical-align: top;\n",
       "    }\n",
       "\n",
       "    .dataframe thead th {\n",
       "        text-align: right;\n",
       "    }\n",
       "</style>\n",
       "<table border=\"1\" class=\"dataframe\">\n",
       "  <thead>\n",
       "    <tr style=\"text-align: right;\">\n",
       "      <th></th>\n",
       "      <th>Primary Key</th>\n",
       "      <th>Incident Number</th>\n",
       "      <th>Report Type</th>\n",
       "      <th>Report Type Description</th>\n",
       "      <th>Incident Status Code</th>\n",
       "      <th>Incident Status Description</th>\n",
       "      <th>Investigation Status</th>\n",
       "      <th>Incident Occurred</th>\n",
       "      <th>Incident Reported</th>\n",
       "      <th>Incident Location</th>\n",
       "      <th>...</th>\n",
       "      <th>Victim Type</th>\n",
       "      <th>Victim Description</th>\n",
       "      <th>Victim Gender</th>\n",
       "      <th>Victim Race</th>\n",
       "      <th>Victim Ethnicity</th>\n",
       "      <th>Victim County Resident</th>\n",
       "      <th>Mapped Location</th>\n",
       "      <th>Year</th>\n",
       "      <th>Month</th>\n",
       "      <th>Time</th>\n",
       "    </tr>\n",
       "  </thead>\n",
       "  <tbody>\n",
       "    <tr>\n",
       "      <th>5</th>\n",
       "      <td>20230735954_11</td>\n",
       "      <td>20230735954</td>\n",
       "      <td>D</td>\n",
       "      <td>DISPATCHED</td>\n",
       "      <td>A</td>\n",
       "      <td>CLEARED BY ARREST</td>\n",
       "      <td>Closed</td>\n",
       "      <td>2023-12-08 22:57:00</td>\n",
       "      <td>12/09/2023 12:07:00 AM</td>\n",
       "      <td>838 838</td>\n",
       "      <td>...</td>\n",
       "      <td>I</td>\n",
       "      <td>INDIVIDUAL (18 AND OVER)</td>\n",
       "      <td>F</td>\n",
       "      <td>U</td>\n",
       "      <td>Non-Hispanic</td>\n",
       "      <td>RESIDENT</td>\n",
       "      <td>POINT (-86.761 36.15)</td>\n",
       "      <td>2023</td>\n",
       "      <td>12</td>\n",
       "      <td>22:57:00</td>\n",
       "    </tr>\n",
       "    <tr>\n",
       "      <th>44</th>\n",
       "      <td>20230778134_11</td>\n",
       "      <td>20230778134</td>\n",
       "      <td>D</td>\n",
       "      <td>DISPATCHED</td>\n",
       "      <td>A</td>\n",
       "      <td>CLEARED BY ARREST</td>\n",
       "      <td>Closed</td>\n",
       "      <td>2023-12-29 23:20:00</td>\n",
       "      <td>12/30/2023 12:31:00 AM</td>\n",
       "      <td>306 306</td>\n",
       "      <td>...</td>\n",
       "      <td>I</td>\n",
       "      <td>INDIVIDUAL (18 AND OVER)</td>\n",
       "      <td>M</td>\n",
       "      <td>W</td>\n",
       "      <td>Hispanic</td>\n",
       "      <td>NON RESIDENT</td>\n",
       "      <td>POINT (-86.776 36.162)</td>\n",
       "      <td>2023</td>\n",
       "      <td>12</td>\n",
       "      <td>23:20:00</td>\n",
       "    </tr>\n",
       "    <tr>\n",
       "      <th>62</th>\n",
       "      <td>20230767246_11</td>\n",
       "      <td>20230767246</td>\n",
       "      <td>D</td>\n",
       "      <td>DISPATCHED</td>\n",
       "      <td>R</td>\n",
       "      <td>REFUSED TO COOPERATE</td>\n",
       "      <td>Closed</td>\n",
       "      <td>2023-12-23 14:25:00</td>\n",
       "      <td>12/23/2023 05:11:00 PM</td>\n",
       "      <td>706 706</td>\n",
       "      <td>...</td>\n",
       "      <td>I</td>\n",
       "      <td>INDIVIDUAL (18 AND OVER)</td>\n",
       "      <td>F</td>\n",
       "      <td>B</td>\n",
       "      <td>Non-Hispanic</td>\n",
       "      <td>RESIDENT</td>\n",
       "      <td>POINT (-86.755 36.218)</td>\n",
       "      <td>2023</td>\n",
       "      <td>12</td>\n",
       "      <td>14:25:00</td>\n",
       "    </tr>\n",
       "  </tbody>\n",
       "</table>\n",
       "<p>3 rows × 34 columns</p>\n",
       "</div>"
      ],
      "text/plain": [
       "       Primary Key  Incident Number Report Type Report Type Description  \\\n",
       "5   20230735954_11      20230735954           D              DISPATCHED   \n",
       "44  20230778134_11      20230778134           D              DISPATCHED   \n",
       "62  20230767246_11      20230767246           D              DISPATCHED   \n",
       "\n",
       "   Incident Status Code Incident Status Description Investigation Status  \\\n",
       "5                     A           CLEARED BY ARREST               Closed   \n",
       "44                    A           CLEARED BY ARREST               Closed   \n",
       "62                    R        REFUSED TO COOPERATE               Closed   \n",
       "\n",
       "     Incident Occurred       Incident Reported Incident Location  ...  \\\n",
       "5  2023-12-08 22:57:00  12/09/2023 12:07:00 AM           838 838  ...   \n",
       "44 2023-12-29 23:20:00  12/30/2023 12:31:00 AM           306 306  ...   \n",
       "62 2023-12-23 14:25:00  12/23/2023 05:11:00 PM           706 706  ...   \n",
       "\n",
       "    Victim Type        Victim Description Victim Gender  Victim Race  \\\n",
       "5             I  INDIVIDUAL (18 AND OVER)             F            U   \n",
       "44            I  INDIVIDUAL (18 AND OVER)             M            W   \n",
       "62            I  INDIVIDUAL (18 AND OVER)             F            B   \n",
       "\n",
       "    Victim Ethnicity  Victim County Resident         Mapped Location  Year  \\\n",
       "5       Non-Hispanic                RESIDENT   POINT (-86.761 36.15)  2023   \n",
       "44          Hispanic            NON RESIDENT  POINT (-86.776 36.162)  2023   \n",
       "62      Non-Hispanic                RESIDENT  POINT (-86.755 36.218)  2023   \n",
       "\n",
       "   Month      Time  \n",
       "5     12  22:57:00  \n",
       "44    12  23:20:00  \n",
       "62    12  14:25:00  \n",
       "\n",
       "[3 rows x 34 columns]"
      ]
     },
     "execution_count": 53,
     "metadata": {},
     "output_type": "execute_result"
    }
   ],
   "source": [
    "Simple_assault =twenty_twenty_three_df.loc[twenty_twenty_three_df['Offense Description'].isin(['SIMPLE ASSLT'])]\n",
    "Simple_assault.head(3)"
   ]
  },
  {
   "cell_type": "markdown",
   "metadata": {},
   "source": [
    "In Nashville, Tennessee, simple assault is considered a Class A misdemeanor under the state's criminal laws. Simple assault is defined as intentionally, knowingly, or recklessly causing bodily injury to another person or causing a person to reasonably fear imminent bodily injury. Additionally, physical contact that a reasonable person would find extremely provocative or offensive can also constitute simple assault https://www.tncriminaldefensefirm.com/practice-areas/assault/simple-assault/"
   ]
  },
  {
   "cell_type": "code",
   "execution_count": 54,
   "metadata": {},
   "outputs": [
    {
     "data": {
      "text/plain": [
       "Victim Description\n",
       "INDIVIDUAL (18 AND OVER)    4093\n",
       "POLICE OFFICER                21\n",
       "UNKNOWN                        3\n",
       "OTHER                          1\n",
       "Name: count, dtype: int64"
      ]
     },
     "execution_count": 54,
     "metadata": {},
     "output_type": "execute_result"
    }
   ],
   "source": [
    "victim_Simple_assault_count=Simple_assault['Victim Description'].value_counts()\n",
    "victim_Simple_assault_count.head(15)"
   ]
  },
  {
   "cell_type": "markdown",
   "metadata": {},
   "source": [
    "it appears that police officers were the second highest number of those who were assaulted in Nashville"
   ]
  },
  {
   "cell_type": "code",
   "execution_count": 55,
   "metadata": {},
   "outputs": [
    {
     "data": {
      "text/plain": [
       "ZIP Code\n",
       "37013    461\n",
       "37211    417\n",
       "37207    405\n",
       "37115    331\n",
       "37217    279\n",
       "37208    241\n",
       "37203    230\n",
       "37206    227\n",
       "37210    221\n",
       "37076    217\n",
       "37214    157\n",
       "37209    157\n",
       "37201    130\n",
       "37218     97\n",
       "37221     89\n",
       "Name: count, dtype: int64"
      ]
     },
     "execution_count": 55,
     "metadata": {},
     "output_type": "execute_result"
    }
   ],
   "source": [
    "zip_Simple_assault_count=Simple_assault['ZIP Code'].value_counts()\n",
    "zip_Simple_assault_count.head(15)"
   ]
  },
  {
   "cell_type": "markdown",
   "metadata": {},
   "source": [
    "Antioch, TN (View All Cities) The median household income of $47,455 is slightly less than average compared to the rest of the country. It is also slightly less than average compared to nearby ZIP codes. While money isn't everything, residents in ZIP code 37013 earn less than in other parts of town. The people living in ZIP code 37013 are primarily white. The number of people in their late 20s to early 40s is extremely large while the number of seniors is small. There are also a small number of families and a large number of single parents. https://www.unitedstateszipcodes.org/37013/"
   ]
  },
  {
   "cell_type": "code",
   "execution_count": 56,
   "metadata": {},
   "outputs": [
    {
     "data": {
      "text/plain": [
       "Location Description\n",
       "RESIDENCE, HOME                       1826\n",
       "APARTMENT                             1112\n",
       "PARKING LOT, GARAGE                    322\n",
       "HIGHWAY, ROAD, ALLEY                   303\n",
       "HOTEL, MOTEL, ETC.                     136\n",
       "BAR, NIGHT CLUB                         87\n",
       "RESTAURANT                              47\n",
       "School-Elementary/Secondary             31\n",
       "CONVENIENCE STORE                       26\n",
       "AIR, BUS, TRAIN TERMINAL                25\n",
       "SERVICE, GAS STATION                    25\n",
       "DEPARTMENT, DISCOUNT STORE              18\n",
       "SPECIALTY STORE                         17\n",
       "Arena/Stadium/Fairgrounds/Coliseum      14\n",
       "COMMERCIAL, OFFICE BUILDING             14\n",
       "PARK                                    13\n",
       "HOSPITAL                                12\n",
       "GROCERY, SUPERMARKET                    10\n",
       "Shelter-Mission/Homeless                 9\n",
       "Name: count, dtype: int64"
      ]
     },
     "execution_count": 56,
     "metadata": {},
     "output_type": "execute_result"
    }
   ],
   "source": [
    "Assault_location_count=Simple_assault['Location Description'].value_counts()\n",
    "Assault_location_count.head(19)"
   ]
  },
  {
   "cell_type": "code",
   "execution_count": 57,
   "metadata": {},
   "outputs": [
    {
     "data": {
      "text/plain": [
       "Weapon Description\n",
       "PERSONAL (HANDS)    3774\n",
       "OTHER                280\n",
       "NONE                  50\n",
       "Unarmed                6\n",
       "CLUB                   2\n",
       "MOTOR VEHICLE          1\n",
       "Name: count, dtype: int64"
      ]
     },
     "execution_count": 57,
     "metadata": {},
     "output_type": "execute_result"
    }
   ],
   "source": [
    "weapon_Simple_assault=Simple_assault['Weapon Description'].value_counts()\n",
    "weapon_Simple_assault"
   ]
  },
  {
   "cell_type": "markdown",
   "metadata": {},
   "source": [
    "For this analysis, personal hands were the highest kind of weapon used and motor vehicle as a weapon has one count, and club has one count"
   ]
  },
  {
   "cell_type": "code",
   "execution_count": 58,
   "metadata": {},
   "outputs": [
    {
     "data": {
      "text/plain": [
       "Time\n",
       "12:00:00    90\n",
       "22:00:00    87\n",
       "21:00:00    81\n",
       "18:00:00    76\n",
       "23:00:00    73\n",
       "            ..\n",
       "05:05:00     1\n",
       "11:38:00     1\n",
       "01:35:00     1\n",
       "13:52:00     1\n",
       "14:41:00     1\n",
       "Name: count, Length: 965, dtype: int64"
      ]
     },
     "execution_count": 58,
     "metadata": {},
     "output_type": "execute_result"
    }
   ],
   "source": [
    "time_Simple_assault=Simple_assault['Time'].value_counts()\n",
    "time_Simple_assault"
   ]
  },
  {
   "cell_type": "markdown",
   "metadata": {},
   "source": [
    "12 pm top the count again, same with Lost_Property"
   ]
  },
  {
   "cell_type": "markdown",
   "metadata": {},
   "source": [
    "# Analysis by Offense Description, 'VEHICLE THEFT ' and 'Location Description'"
   ]
  },
  {
   "cell_type": "code",
   "execution_count": 59,
   "metadata": {},
   "outputs": [
    {
     "data": {
      "text/html": [
       "<div>\n",
       "<style scoped>\n",
       "    .dataframe tbody tr th:only-of-type {\n",
       "        vertical-align: middle;\n",
       "    }\n",
       "\n",
       "    .dataframe tbody tr th {\n",
       "        vertical-align: top;\n",
       "    }\n",
       "\n",
       "    .dataframe thead th {\n",
       "        text-align: right;\n",
       "    }\n",
       "</style>\n",
       "<table border=\"1\" class=\"dataframe\">\n",
       "  <thead>\n",
       "    <tr style=\"text-align: right;\">\n",
       "      <th></th>\n",
       "      <th>Primary Key</th>\n",
       "      <th>Incident Number</th>\n",
       "      <th>Report Type</th>\n",
       "      <th>Report Type Description</th>\n",
       "      <th>Incident Status Code</th>\n",
       "      <th>Incident Status Description</th>\n",
       "      <th>Investigation Status</th>\n",
       "      <th>Incident Occurred</th>\n",
       "      <th>Incident Reported</th>\n",
       "      <th>Incident Location</th>\n",
       "      <th>...</th>\n",
       "      <th>Victim Type</th>\n",
       "      <th>Victim Description</th>\n",
       "      <th>Victim Gender</th>\n",
       "      <th>Victim Race</th>\n",
       "      <th>Victim Ethnicity</th>\n",
       "      <th>Victim County Resident</th>\n",
       "      <th>Mapped Location</th>\n",
       "      <th>Year</th>\n",
       "      <th>Month</th>\n",
       "      <th>Time</th>\n",
       "    </tr>\n",
       "  </thead>\n",
       "  <tbody>\n",
       "    <tr>\n",
       "      <th>123</th>\n",
       "      <td>20230315610_11</td>\n",
       "      <td>20230315610</td>\n",
       "      <td>D</td>\n",
       "      <td>DISPATCHED</td>\n",
       "      <td>A</td>\n",
       "      <td>CLEARED BY ARREST</td>\n",
       "      <td>Closed</td>\n",
       "      <td>2023-05-30 12:27:00</td>\n",
       "      <td>05/30/2023 01:09:00 PM</td>\n",
       "      <td>2910 2910</td>\n",
       "      <td>...</td>\n",
       "      <td>I</td>\n",
       "      <td>INDIVIDUAL (18 AND OVER)</td>\n",
       "      <td>M</td>\n",
       "      <td>B</td>\n",
       "      <td>Non-Hispanic</td>\n",
       "      <td>RESIDENT</td>\n",
       "      <td>POINT (-86.82 36.155)</td>\n",
       "      <td>2023</td>\n",
       "      <td>5</td>\n",
       "      <td>12:27:00</td>\n",
       "    </tr>\n",
       "    <tr>\n",
       "      <th>214</th>\n",
       "      <td>20230323512_11</td>\n",
       "      <td>20230323512</td>\n",
       "      <td>D</td>\n",
       "      <td>DISPATCHED</td>\n",
       "      <td>A</td>\n",
       "      <td>CLEARED BY ARREST</td>\n",
       "      <td>Closed</td>\n",
       "      <td>2023-06-02 14:00:00</td>\n",
       "      <td>06/02/2023 08:32:00 PM</td>\n",
       "      <td>LEAFLAND &amp; DAYTON</td>\n",
       "      <td>...</td>\n",
       "      <td>I</td>\n",
       "      <td>INDIVIDUAL (18 AND OVER)</td>\n",
       "      <td>M</td>\n",
       "      <td>W</td>\n",
       "      <td>Non-Hispanic</td>\n",
       "      <td>NON RESIDENT</td>\n",
       "      <td>POINT (-86.745 36.127)</td>\n",
       "      <td>2023</td>\n",
       "      <td>6</td>\n",
       "      <td>14:00:00</td>\n",
       "    </tr>\n",
       "    <tr>\n",
       "      <th>403</th>\n",
       "      <td>20240001062_11</td>\n",
       "      <td>20240001062</td>\n",
       "      <td>D</td>\n",
       "      <td>DISPATCHED</td>\n",
       "      <td>U</td>\n",
       "      <td>UNFOUNDED</td>\n",
       "      <td>Closed</td>\n",
       "      <td>2023-12-31 22:00:00</td>\n",
       "      <td>01/01/2024 05:47:00 PM</td>\n",
       "      <td>908 908</td>\n",
       "      <td>...</td>\n",
       "      <td>I</td>\n",
       "      <td>INDIVIDUAL (18 AND OVER)</td>\n",
       "      <td>M</td>\n",
       "      <td>W</td>\n",
       "      <td>Non-Hispanic</td>\n",
       "      <td>RESIDENT</td>\n",
       "      <td>POINT (-86.641 36.054)</td>\n",
       "      <td>2023</td>\n",
       "      <td>12</td>\n",
       "      <td>22:00:00</td>\n",
       "    </tr>\n",
       "  </tbody>\n",
       "</table>\n",
       "<p>3 rows × 34 columns</p>\n",
       "</div>"
      ],
      "text/plain": [
       "        Primary Key  Incident Number Report Type Report Type Description  \\\n",
       "123  20230315610_11      20230315610           D              DISPATCHED   \n",
       "214  20230323512_11      20230323512           D              DISPATCHED   \n",
       "403  20240001062_11      20240001062           D              DISPATCHED   \n",
       "\n",
       "    Incident Status Code Incident Status Description Investigation Status  \\\n",
       "123                    A           CLEARED BY ARREST               Closed   \n",
       "214                    A           CLEARED BY ARREST               Closed   \n",
       "403                    U                   UNFOUNDED               Closed   \n",
       "\n",
       "      Incident Occurred       Incident Reported  Incident Location  ...  \\\n",
       "123 2023-05-30 12:27:00  05/30/2023 01:09:00 PM          2910 2910  ...   \n",
       "214 2023-06-02 14:00:00  06/02/2023 08:32:00 PM  LEAFLAND & DAYTON  ...   \n",
       "403 2023-12-31 22:00:00  01/01/2024 05:47:00 PM            908 908  ...   \n",
       "\n",
       "     Victim Type        Victim Description Victim Gender  Victim Race  \\\n",
       "123            I  INDIVIDUAL (18 AND OVER)             M            B   \n",
       "214            I  INDIVIDUAL (18 AND OVER)             M            W   \n",
       "403            I  INDIVIDUAL (18 AND OVER)             M            W   \n",
       "\n",
       "     Victim Ethnicity  Victim County Resident         Mapped Location  Year  \\\n",
       "123      Non-Hispanic                RESIDENT   POINT (-86.82 36.155)  2023   \n",
       "214      Non-Hispanic            NON RESIDENT  POINT (-86.745 36.127)  2023   \n",
       "403      Non-Hispanic                RESIDENT  POINT (-86.641 36.054)  2023   \n",
       "\n",
       "    Month      Time  \n",
       "123     5  12:27:00  \n",
       "214     6  14:00:00  \n",
       "403    12  22:00:00  \n",
       "\n",
       "[3 rows x 34 columns]"
      ]
     },
     "execution_count": 59,
     "metadata": {},
     "output_type": "execute_result"
    }
   ],
   "source": [
    "vehicle_theft =twenty_twenty_three_df.loc[twenty_twenty_three_df['Offense Description'].isin(['VEHICLE THEFT'])]\n",
    "vehicle_theft.head(3)"
   ]
  },
  {
   "cell_type": "code",
   "execution_count": 60,
   "metadata": {},
   "outputs": [
    {
     "data": {
      "text/plain": [
       "Victim Description\n",
       "INDIVIDUAL (18 AND OVER)    761\n",
       "BUSINESS                     64\n",
       "GOVERNMENT                    6\n",
       "Name: count, dtype: int64"
      ]
     },
     "execution_count": 60,
     "metadata": {},
     "output_type": "execute_result"
    }
   ],
   "source": [
    "victim_vehicle_theft_count=vehicle_theft['Victim Description'].value_counts()\n",
    "victim_vehicle_theft_count.head(15)"
   ]
  },
  {
   "cell_type": "markdown",
   "metadata": {},
   "source": [
    "it is interesting here as Businesses are the second highest to report vehicle theft in Nashville"
   ]
  },
  {
   "cell_type": "code",
   "execution_count": 61,
   "metadata": {},
   "outputs": [
    {
     "data": {
      "text/plain": [
       "ZIP Code\n",
       "37013    118\n",
       "37211    100\n",
       "37207     96\n",
       "37214     56\n",
       "37217     51\n",
       "37115     50\n",
       "37203     46\n",
       "37206     36\n",
       "37210     35\n",
       "37076     34\n",
       "37209     32\n",
       "37208     31\n",
       "37218     20\n",
       "37201     17\n",
       "37204     16\n",
       "Name: count, dtype: int64"
      ]
     },
     "execution_count": 61,
     "metadata": {},
     "output_type": "execute_result"
    }
   ],
   "source": [
    "zip_vehicle_theft_count=vehicle_theft['ZIP Code'].value_counts()\n",
    "zip_vehicle_theft_count.head(15)"
   ]
  },
  {
   "cell_type": "markdown",
   "metadata": {},
   "source": [
    "37013 zip topped the list again as it did in simple assault"
   ]
  },
  {
   "cell_type": "code",
   "execution_count": 62,
   "metadata": {},
   "outputs": [
    {
     "data": {
      "text/plain": [
       "Location Description\n",
       "PARKING LOT, GARAGE            472\n",
       "RESIDENCE, HOME                153\n",
       "HIGHWAY, ROAD, ALLEY           105\n",
       "APARTMENT                       26\n",
       "HOTEL, MOTEL, ETC.              13\n",
       "Auto Dealership New/Used        13\n",
       "SERVICE, GAS STATION            11\n",
       "CONVENIENCE STORE                7\n",
       "OTHER, UNKNOWN                   4\n",
       "GROCERY, SUPERMARKET             3\n",
       "SPECIALTY STORE                  3\n",
       "HOSPITAL                         3\n",
       "CHURCH, SYNAGOGUE, TEMPLE        3\n",
       "BAR, NIGHT CLUB                  2\n",
       "RESTAURANT                       2\n",
       "Shelter-Mission/Homeless         2\n",
       "COMMERCIAL, OFFICE BUILDING      2\n",
       "Carport                          1\n",
       "RENTAL STORAGE FACILITY          1\n",
       "Name: count, dtype: int64"
      ]
     },
     "execution_count": 62,
     "metadata": {},
     "output_type": "execute_result"
    }
   ],
   "source": [
    "location_vehicle_theft_count=vehicle_theft['Location Description'].value_counts()\n",
    "location_vehicle_theft_count.head(19)"
   ]
  },
  {
   "cell_type": "markdown",
   "metadata": {},
   "source": [
    "parking lot came up as highest count followed by residence and home in vehicle theft while rental storage the least. This provides insight as per where owners of parking lot/garage should invest more money on signs to remind people to lock their cars before leaving or invest security cameras in these places. It is also surprising that there is vehicle theft in CHURCH, SYNAGOGUE, TEMPLE, places of worship. "
   ]
  },
  {
   "cell_type": "code",
   "execution_count": 63,
   "metadata": {},
   "outputs": [
    {
     "data": {
      "text/plain": [
       "Time\n",
       "23:00:00    34\n",
       "21:00:00    30\n",
       "12:00:00    30\n",
       "22:00:00    29\n",
       "19:00:00    27\n",
       "            ..\n",
       "20:36:00     1\n",
       "04:55:00     1\n",
       "17:20:00     1\n",
       "03:14:00     1\n",
       "11:57:00     1\n",
       "Name: count, Length: 256, dtype: int64"
      ]
     },
     "execution_count": 63,
     "metadata": {},
     "output_type": "execute_result"
    }
   ],
   "source": [
    "time_vehicle_theft=vehicle_theft['Time'].value_counts()\n",
    "time_vehicle_theft"
   ]
  },
  {
   "cell_type": "markdown",
   "metadata": {},
   "source": [
    "this makes a little sense that vehicle theft occurs mostly at night, where people are sleeping. "
   ]
  },
  {
   "cell_type": "code",
   "execution_count": 64,
   "metadata": {},
   "outputs": [
    {
     "data": {
      "text/plain": [
       "Weapon Description\n",
       "NONE                         579\n",
       "Unarmed                      171\n",
       "PERSONAL (HANDS)              37\n",
       "CLUB                           9\n",
       "OTHER                          7\n",
       "HANDGUN - SEMIAUTOMATIC        3\n",
       "HANDGUN                        2\n",
       "LETHAL/CUTTING INSTRUMENT      2\n",
       "Name: count, dtype: int64"
      ]
     },
     "execution_count": 64,
     "metadata": {},
     "output_type": "execute_result"
    }
   ],
   "source": [
    "weapon_vehicle_theft=vehicle_theft['Weapon Description'].value_counts()\n",
    "weapon_vehicle_theft"
   ]
  },
  {
   "cell_type": "markdown",
   "metadata": {},
   "source": [
    "this counts shows that most of the time, there were no weapon involved, maybe the owner comes out and finds that their vehicle is missing, which is followed my when the they are unarmed"
   ]
  },
  {
   "cell_type": "markdown",
   "metadata": {},
   "source": [
    "# Analysis, DRUG PARAPHERNALIA- UNLAWFUL USE"
   ]
  },
  {
   "cell_type": "code",
   "execution_count": 65,
   "metadata": {},
   "outputs": [
    {
     "data": {
      "text/html": [
       "<div>\n",
       "<style scoped>\n",
       "    .dataframe tbody tr th:only-of-type {\n",
       "        vertical-align: middle;\n",
       "    }\n",
       "\n",
       "    .dataframe tbody tr th {\n",
       "        vertical-align: top;\n",
       "    }\n",
       "\n",
       "    .dataframe thead th {\n",
       "        text-align: right;\n",
       "    }\n",
       "</style>\n",
       "<table border=\"1\" class=\"dataframe\">\n",
       "  <thead>\n",
       "    <tr style=\"text-align: right;\">\n",
       "      <th></th>\n",
       "      <th>Primary Key</th>\n",
       "      <th>Incident Number</th>\n",
       "      <th>Report Type</th>\n",
       "      <th>Report Type Description</th>\n",
       "      <th>Incident Status Code</th>\n",
       "      <th>Incident Status Description</th>\n",
       "      <th>Investigation Status</th>\n",
       "      <th>Incident Occurred</th>\n",
       "      <th>Incident Reported</th>\n",
       "      <th>Incident Location</th>\n",
       "      <th>...</th>\n",
       "      <th>Victim Type</th>\n",
       "      <th>Victim Description</th>\n",
       "      <th>Victim Gender</th>\n",
       "      <th>Victim Race</th>\n",
       "      <th>Victim Ethnicity</th>\n",
       "      <th>Victim County Resident</th>\n",
       "      <th>Mapped Location</th>\n",
       "      <th>Year</th>\n",
       "      <th>Month</th>\n",
       "      <th>Time</th>\n",
       "    </tr>\n",
       "  </thead>\n",
       "  <tbody>\n",
       "    <tr>\n",
       "      <th>34</th>\n",
       "      <td>20230777129_22</td>\n",
       "      <td>20230777129</td>\n",
       "      <td>D</td>\n",
       "      <td>DISPATCHED</td>\n",
       "      <td>A</td>\n",
       "      <td>CLEARED BY ARREST</td>\n",
       "      <td>Closed</td>\n",
       "      <td>2023-12-29 13:00:00</td>\n",
       "      <td>12/29/2023 06:57:00 PM</td>\n",
       "      <td>1808 1808</td>\n",
       "      <td>...</td>\n",
       "      <td>S</td>\n",
       "      <td>SOCIETY</td>\n",
       "      <td>NaN</td>\n",
       "      <td>NaN</td>\n",
       "      <td>NaN</td>\n",
       "      <td>NaN</td>\n",
       "      <td>POINT (-86.809 36.18)</td>\n",
       "      <td>2023</td>\n",
       "      <td>12</td>\n",
       "      <td>13:00:00</td>\n",
       "    </tr>\n",
       "    <tr>\n",
       "      <th>60</th>\n",
       "      <td>20230777980_11</td>\n",
       "      <td>20230777980</td>\n",
       "      <td>S</td>\n",
       "      <td>SUSPECT</td>\n",
       "      <td>A</td>\n",
       "      <td>CLEARED BY ARREST</td>\n",
       "      <td>Closed</td>\n",
       "      <td>2023-12-29 23:57:00</td>\n",
       "      <td>12/29/2023 11:57:00 PM</td>\n",
       "      <td>614 614</td>\n",
       "      <td>...</td>\n",
       "      <td>S</td>\n",
       "      <td>SOCIETY</td>\n",
       "      <td>NaN</td>\n",
       "      <td>NaN</td>\n",
       "      <td>NaN</td>\n",
       "      <td>NaN</td>\n",
       "      <td>POINT (-86.776 36.153)</td>\n",
       "      <td>2023</td>\n",
       "      <td>12</td>\n",
       "      <td>23:57:00</td>\n",
       "    </tr>\n",
       "    <tr>\n",
       "      <th>121</th>\n",
       "      <td>20230326601_11</td>\n",
       "      <td>20230326601</td>\n",
       "      <td>D</td>\n",
       "      <td>DISPATCHED</td>\n",
       "      <td>A</td>\n",
       "      <td>CLEARED BY ARREST</td>\n",
       "      <td>Closed</td>\n",
       "      <td>2023-06-04 12:25:00</td>\n",
       "      <td>06/04/2023 01:34:00 PM</td>\n",
       "      <td>1504 1504</td>\n",
       "      <td>...</td>\n",
       "      <td>S</td>\n",
       "      <td>SOCIETY</td>\n",
       "      <td>NaN</td>\n",
       "      <td>NaN</td>\n",
       "      <td>NaN</td>\n",
       "      <td>NaN</td>\n",
       "      <td>POINT (-86.779 36.207)</td>\n",
       "      <td>2023</td>\n",
       "      <td>6</td>\n",
       "      <td>12:25:00</td>\n",
       "    </tr>\n",
       "  </tbody>\n",
       "</table>\n",
       "<p>3 rows × 34 columns</p>\n",
       "</div>"
      ],
      "text/plain": [
       "        Primary Key  Incident Number Report Type Report Type Description  \\\n",
       "34   20230777129_22      20230777129           D              DISPATCHED   \n",
       "60   20230777980_11      20230777980           S                 SUSPECT   \n",
       "121  20230326601_11      20230326601           D              DISPATCHED   \n",
       "\n",
       "    Incident Status Code Incident Status Description Investigation Status  \\\n",
       "34                     A           CLEARED BY ARREST               Closed   \n",
       "60                     A           CLEARED BY ARREST               Closed   \n",
       "121                    A           CLEARED BY ARREST               Closed   \n",
       "\n",
       "      Incident Occurred       Incident Reported Incident Location  ...  \\\n",
       "34  2023-12-29 13:00:00  12/29/2023 06:57:00 PM         1808 1808  ...   \n",
       "60  2023-12-29 23:57:00  12/29/2023 11:57:00 PM           614 614  ...   \n",
       "121 2023-06-04 12:25:00  06/04/2023 01:34:00 PM         1504 1504  ...   \n",
       "\n",
       "     Victim Type  Victim Description Victim Gender  Victim Race  \\\n",
       "34             S             SOCIETY           NaN          NaN   \n",
       "60             S             SOCIETY           NaN          NaN   \n",
       "121            S             SOCIETY           NaN          NaN   \n",
       "\n",
       "     Victim Ethnicity  Victim County Resident         Mapped Location  Year  \\\n",
       "34                NaN                     NaN   POINT (-86.809 36.18)  2023   \n",
       "60                NaN                     NaN  POINT (-86.776 36.153)  2023   \n",
       "121               NaN                     NaN  POINT (-86.779 36.207)  2023   \n",
       "\n",
       "    Month      Time  \n",
       "34     12  13:00:00  \n",
       "60     12  23:57:00  \n",
       "121     6  12:25:00  \n",
       "\n",
       "[3 rows x 34 columns]"
      ]
     },
     "execution_count": 65,
     "metadata": {},
     "output_type": "execute_result"
    }
   ],
   "source": [
    "drug_parphernalia =twenty_twenty_three_df.loc[twenty_twenty_three_df['Offense Description'].isin(['DRUG PARAPHERNALIA- UNLAWFUL USE'])]\n",
    "drug_parphernalia.head(3)"
   ]
  },
  {
   "cell_type": "markdown",
   "metadata": {},
   "source": [
    "The unlawful use of drug paraphernalia in Nashville, Tennessee involves various activities related to controlled substances. Tennessee law prohibits the use or possession with intent to use drug paraphernalia for activities like planting, cultivating, manufacturing, or introducing controlled substances into the human body, unless authorized by specific regulationsViolations of these regulations are classified as Class A misdemeanors or Class E felonies, depending on the nature of the offense and the individual's age. Furthermore, possessing drug paraphernalia in Tennessee can lead to legal consequences such as a Class A misdemeanor charge, which carries penalties of up to 11 months and 29 days in jail along with fines. The possession of marijuana paraphernalia specifically is a common criminal charge in Tennessee, with penalties including jail time and fines based on the circumstances and prior offenses. see https://nashvilleattorneynow.com/possession-of-drug-paraphernalia-tn/"
   ]
  },
  {
   "cell_type": "code",
   "execution_count": 66,
   "metadata": {},
   "outputs": [
    {
     "data": {
      "text/plain": [
       "Victim Description\n",
       "SOCIETY    1616\n",
       "Name: count, dtype: int64"
      ]
     },
     "execution_count": 66,
     "metadata": {},
     "output_type": "execute_result"
    }
   ],
   "source": [
    "victim_drug_parphernalia_count=drug_parphernalia['Victim Description'].value_counts()\n",
    "victim_drug_parphernalia_count.head()"
   ]
  },
  {
   "cell_type": "markdown",
   "metadata": {},
   "source": [
    "no much information"
   ]
  },
  {
   "cell_type": "code",
   "execution_count": 67,
   "metadata": {},
   "outputs": [
    {
     "data": {
      "text/plain": [
       "ZIP Code\n",
       "37207    220\n",
       "37203    170\n",
       "37211    143\n",
       "37210    136\n",
       "37201    125\n",
       "37217    114\n",
       "37208    108\n",
       "37013     98\n",
       "37115     95\n",
       "37214     84\n",
       "37076     52\n",
       "37206     45\n",
       "37209     44\n",
       "37216     33\n",
       "37218     31\n",
       "Name: count, dtype: int64"
      ]
     },
     "execution_count": 67,
     "metadata": {},
     "output_type": "execute_result"
    }
   ],
   "source": [
    "zip_drug_parphernalia_count=drug_parphernalia['ZIP Code'].value_counts()\n",
    "zip_drug_parphernalia_count.head(15)"
   ]
  },
  {
   "cell_type": "markdown",
   "metadata": {},
   "source": [
    "Unfortunately, i have to do my analysis, \"The people living in ZIP code 37207 are primarily black or African American. The number of people in their late 20s to early 40s is extremely large while the number of middle aged adults is large. There are also an extremely large number of single parents and an extremely small number of families. The percentage of children under 18 living in the 37207 ZIP code is large compared to other areas of the country.\" https://www.unitedstateszipcodes.org/37207/"
   ]
  },
  {
   "cell_type": "code",
   "execution_count": 68,
   "metadata": {},
   "outputs": [
    {
     "data": {
      "text/plain": [
       "Location Description\n",
       "HIGHWAY, ROAD, ALLEY           671\n",
       "PARKING LOT, GARAGE            463\n",
       "RESIDENCE, HOME                110\n",
       "APARTMENT                       50\n",
       "SERVICE, GAS STATION            44\n",
       "HOTEL, MOTEL, ETC.              41\n",
       "JAIL, PRISON                    30\n",
       "PARK                            29\n",
       "CONVENIENCE STORE               24\n",
       "DEPARTMENT, DISCOUNT STORE      24\n",
       "AIR, BUS, TRAIN TERMINAL        14\n",
       "School-Elementary/Secondary     14\n",
       "Shelter-Mission/Homeless        13\n",
       "RESTAURANT                       9\n",
       "COMMERCIAL, OFFICE BUILDING      9\n",
       "GOVERNMENT, PUBLIC BUILDING      8\n",
       "GROCERY, SUPERMARKET             7\n",
       "SPECIALTY STORE                  7\n",
       "CONSTRUCTION SITE                5\n",
       "Name: count, dtype: int64"
      ]
     },
     "execution_count": 68,
     "metadata": {},
     "output_type": "execute_result"
    }
   ],
   "source": [
    "location_drug_parphernalia_count=drug_parphernalia['Location Description'].value_counts()\n",
    "location_drug_parphernalia_count.head(19)"
   ]
  },
  {
   "cell_type": "markdown",
   "metadata": {},
   "source": [
    "highway has the highest count for drug paraphernalia and construction site has one of the least count"
   ]
  },
  {
   "cell_type": "code",
   "execution_count": 69,
   "metadata": {},
   "outputs": [
    {
     "data": {
      "text/plain": [
       "Time\n",
       "16:00:00    30\n",
       "12:00:00    29\n",
       "18:00:00    25\n",
       "13:00:00    25\n",
       "15:00:00    24\n",
       "            ..\n",
       "05:11:00     1\n",
       "09:06:00     1\n",
       "09:42:00     1\n",
       "03:47:00     1\n",
       "08:58:00     1\n",
       "Name: count, Length: 748, dtype: int64"
      ]
     },
     "execution_count": 69,
     "metadata": {},
     "output_type": "execute_result"
    }
   ],
   "source": [
    "time_drug_parphernalia=drug_parphernalia['Time'].value_counts()\n",
    "time_drug_parphernalia"
   ]
  },
  {
   "cell_type": "markdown",
   "metadata": {},
   "source": [
    "This seems reasonable that people do drugs or are caught with the possession of drugs in the day time"
   ]
  },
  {
   "cell_type": "markdown",
   "metadata": {},
   "source": [
    "# Back to the whole data that includes the whole year"
   ]
  },
  {
   "cell_type": "code",
   "execution_count": 70,
   "metadata": {},
   "outputs": [
    {
     "data": {
      "text/plain": [
       "37561.5"
      ]
     },
     "execution_count": 70,
     "metadata": {},
     "output_type": "execute_result"
    }
   ],
   "source": [
    "crime_count_by_year = nash_crime_df_filtered.groupby('Month').size().reset_index(name='Crime Count')\n",
    "avg_crime_count_by_year = crime_count_by_year['Crime Count'].mean().round(2)\n",
    "avg_crime_count_by_year"
   ]
  },
  {
   "cell_type": "code",
   "execution_count": 71,
   "metadata": {},
   "outputs": [
    {
     "data": {
      "text/plain": [
       "dtype('int32')"
      ]
     },
     "execution_count": 71,
     "metadata": {},
     "output_type": "execute_result"
    }
   ],
   "source": [
    "nash_crime_df_filtered['Month'].dtypes"
   ]
  },
  {
   "cell_type": "code",
   "execution_count": 72,
   "metadata": {},
   "outputs": [
    {
     "name": "stderr",
     "output_type": "stream",
     "text": [
      "/var/folders/th/jsjzrfgj5mqb0ntmxxmc9pmm0000gn/T/ipykernel_85238/3427294572.py:3: SettingWithCopyWarning: \n",
      "A value is trying to be set on a copy of a slice from a DataFrame.\n",
      "Try using .loc[row_indexer,col_indexer] = value instead\n",
      "\n",
      "See the caveats in the documentation: https://pandas.pydata.org/pandas-docs/stable/user_guide/indexing.html#returning-a-view-versus-a-copy\n",
      "  nash_crime_df_filtered['Month'] = nash_crime_df_filtered['Month'].apply(lambda x: calendar.month_name[x])\n"
     ]
    }
   ],
   "source": [
    "import calendar\n",
    "\n",
    "nash_crime_df_filtered['Month'] = nash_crime_df_filtered['Month'].apply(lambda x: calendar.month_name[x])"
   ]
  },
  {
   "cell_type": "markdown",
   "metadata": {},
   "source": [
    "Convert month numbers to month names. i am using the  apply() method to apply a lambda function to each element in the 'Month' column. "
   ]
  },
  {
   "cell_type": "code",
   "execution_count": 73,
   "metadata": {},
   "outputs": [
    {
     "data": {
      "text/html": [
       "<div>\n",
       "<style scoped>\n",
       "    .dataframe tbody tr th:only-of-type {\n",
       "        vertical-align: middle;\n",
       "    }\n",
       "\n",
       "    .dataframe tbody tr th {\n",
       "        vertical-align: top;\n",
       "    }\n",
       "\n",
       "    .dataframe thead th {\n",
       "        text-align: right;\n",
       "    }\n",
       "</style>\n",
       "<table border=\"1\" class=\"dataframe\">\n",
       "  <thead>\n",
       "    <tr style=\"text-align: right;\">\n",
       "      <th></th>\n",
       "      <th>Month</th>\n",
       "      <th>Crime Count</th>\n",
       "    </tr>\n",
       "  </thead>\n",
       "  <tbody>\n",
       "    <tr>\n",
       "      <th>0</th>\n",
       "      <td>April</td>\n",
       "      <td>37356</td>\n",
       "    </tr>\n",
       "    <tr>\n",
       "      <th>1</th>\n",
       "      <td>August</td>\n",
       "      <td>38854</td>\n",
       "    </tr>\n",
       "    <tr>\n",
       "      <th>2</th>\n",
       "      <td>December</td>\n",
       "      <td>34203</td>\n",
       "    </tr>\n",
       "    <tr>\n",
       "      <th>3</th>\n",
       "      <td>February</td>\n",
       "      <td>35915</td>\n",
       "    </tr>\n",
       "    <tr>\n",
       "      <th>4</th>\n",
       "      <td>January</td>\n",
       "      <td>41796</td>\n",
       "    </tr>\n",
       "    <tr>\n",
       "      <th>5</th>\n",
       "      <td>July</td>\n",
       "      <td>38818</td>\n",
       "    </tr>\n",
       "    <tr>\n",
       "      <th>6</th>\n",
       "      <td>June</td>\n",
       "      <td>38040</td>\n",
       "    </tr>\n",
       "    <tr>\n",
       "      <th>7</th>\n",
       "      <td>March</td>\n",
       "      <td>37075</td>\n",
       "    </tr>\n",
       "    <tr>\n",
       "      <th>8</th>\n",
       "      <td>May</td>\n",
       "      <td>39957</td>\n",
       "    </tr>\n",
       "    <tr>\n",
       "      <th>9</th>\n",
       "      <td>November</td>\n",
       "      <td>34260</td>\n",
       "    </tr>\n",
       "    <tr>\n",
       "      <th>10</th>\n",
       "      <td>October</td>\n",
       "      <td>37413</td>\n",
       "    </tr>\n",
       "    <tr>\n",
       "      <th>11</th>\n",
       "      <td>September</td>\n",
       "      <td>37051</td>\n",
       "    </tr>\n",
       "  </tbody>\n",
       "</table>\n",
       "</div>"
      ],
      "text/plain": [
       "        Month  Crime Count\n",
       "0       April        37356\n",
       "1      August        38854\n",
       "2    December        34203\n",
       "3    February        35915\n",
       "4     January        41796\n",
       "5        July        38818\n",
       "6        June        38040\n",
       "7       March        37075\n",
       "8         May        39957\n",
       "9    November        34260\n",
       "10    October        37413\n",
       "11  September        37051"
      ]
     },
     "execution_count": 73,
     "metadata": {},
     "output_type": "execute_result"
    }
   ],
   "source": [
    "crime_count_by_month=nash_crime_df_filtered.groupby('Month').size().reset_index(name='Crime Count')\n",
    "crime_count_by_month"
   ]
  },
  {
   "cell_type": "code",
   "execution_count": 74,
   "metadata": {},
   "outputs": [
    {
     "data": {
      "text/plain": [
       "'January'"
      ]
     },
     "execution_count": 74,
     "metadata": {},
     "output_type": "execute_result"
    }
   ],
   "source": [
    "month_with_max_crime_count = crime_count_by_month.loc[crime_count_by_month['Crime Count'].idxmax(), 'Month']\n",
    "month_with_max_crime_count"
   ]
  },
  {
   "cell_type": "code",
   "execution_count": 75,
   "metadata": {},
   "outputs": [
    {
     "data": {
      "text/plain": [
       "37561.5"
      ]
     },
     "execution_count": 75,
     "metadata": {},
     "output_type": "execute_result"
    }
   ],
   "source": [
    "crime_count_by_month = nash_crime_df_filtered.groupby('Month').size().reset_index(name='Crime Count')\n",
    "avg_crime_count_by_month = crime_count_by_month['Crime Count'].mean().round(2)\n",
    "\n",
    "avg_crime_count_by_month"
   ]
  },
  {
   "cell_type": "code",
   "execution_count": 76,
   "metadata": {},
   "outputs": [
    {
     "data": {
      "text/html": [
       "<div>\n",
       "<style scoped>\n",
       "    .dataframe tbody tr th:only-of-type {\n",
       "        vertical-align: middle;\n",
       "    }\n",
       "\n",
       "    .dataframe tbody tr th {\n",
       "        vertical-align: top;\n",
       "    }\n",
       "\n",
       "    .dataframe thead th {\n",
       "        text-align: right;\n",
       "    }\n",
       "</style>\n",
       "<table border=\"1\" class=\"dataframe\">\n",
       "  <thead>\n",
       "    <tr style=\"text-align: right;\">\n",
       "      <th></th>\n",
       "      <th>Time</th>\n",
       "      <th>Crime Count</th>\n",
       "    </tr>\n",
       "  </thead>\n",
       "  <tbody>\n",
       "    <tr>\n",
       "      <th>0</th>\n",
       "      <td>00:00:00</td>\n",
       "      <td>7853</td>\n",
       "    </tr>\n",
       "    <tr>\n",
       "      <th>1</th>\n",
       "      <td>00:01:00</td>\n",
       "      <td>1292</td>\n",
       "    </tr>\n",
       "    <tr>\n",
       "      <th>2</th>\n",
       "      <td>00:02:00</td>\n",
       "      <td>182</td>\n",
       "    </tr>\n",
       "    <tr>\n",
       "      <th>3</th>\n",
       "      <td>00:03:00</td>\n",
       "      <td>175</td>\n",
       "    </tr>\n",
       "    <tr>\n",
       "      <th>4</th>\n",
       "      <td>00:04:00</td>\n",
       "      <td>165</td>\n",
       "    </tr>\n",
       "    <tr>\n",
       "      <th>...</th>\n",
       "      <td>...</td>\n",
       "      <td>...</td>\n",
       "    </tr>\n",
       "    <tr>\n",
       "      <th>1435</th>\n",
       "      <td>23:55:00</td>\n",
       "      <td>252</td>\n",
       "    </tr>\n",
       "    <tr>\n",
       "      <th>1436</th>\n",
       "      <td>23:56:00</td>\n",
       "      <td>149</td>\n",
       "    </tr>\n",
       "    <tr>\n",
       "      <th>1437</th>\n",
       "      <td>23:57:00</td>\n",
       "      <td>135</td>\n",
       "    </tr>\n",
       "    <tr>\n",
       "      <th>1438</th>\n",
       "      <td>23:58:00</td>\n",
       "      <td>144</td>\n",
       "    </tr>\n",
       "    <tr>\n",
       "      <th>1439</th>\n",
       "      <td>23:59:00</td>\n",
       "      <td>212</td>\n",
       "    </tr>\n",
       "  </tbody>\n",
       "</table>\n",
       "<p>1440 rows × 2 columns</p>\n",
       "</div>"
      ],
      "text/plain": [
       "          Time  Crime Count\n",
       "0     00:00:00         7853\n",
       "1     00:01:00         1292\n",
       "2     00:02:00          182\n",
       "3     00:03:00          175\n",
       "4     00:04:00          165\n",
       "...        ...          ...\n",
       "1435  23:55:00          252\n",
       "1436  23:56:00          149\n",
       "1437  23:57:00          135\n",
       "1438  23:58:00          144\n",
       "1439  23:59:00          212\n",
       "\n",
       "[1440 rows x 2 columns]"
      ]
     },
     "execution_count": 76,
     "metadata": {},
     "output_type": "execute_result"
    }
   ],
   "source": [
    "crime_count_by_time=nash_crime_df_filtered.groupby('Time').size().reset_index(name='Crime Count')\n",
    "crime_count_by_time"
   ]
  },
  {
   "cell_type": "code",
   "execution_count": 83,
   "metadata": {},
   "outputs": [],
   "source": [
    "twenty_twenty_three_df.to_csv('new_Nashville_crime.csv', index=False)"
   ]
  },
  {
   "cell_type": "code",
   "execution_count": 84,
   "metadata": {},
   "outputs": [
    {
     "data": {
      "text/html": [
       "<div>\n",
       "<style scoped>\n",
       "    .dataframe tbody tr th:only-of-type {\n",
       "        vertical-align: middle;\n",
       "    }\n",
       "\n",
       "    .dataframe tbody tr th {\n",
       "        vertical-align: top;\n",
       "    }\n",
       "\n",
       "    .dataframe thead th {\n",
       "        text-align: right;\n",
       "    }\n",
       "</style>\n",
       "<table border=\"1\" class=\"dataframe\">\n",
       "  <thead>\n",
       "    <tr style=\"text-align: right;\">\n",
       "      <th></th>\n",
       "      <th>Primary Key</th>\n",
       "      <th>Incident Number</th>\n",
       "      <th>Report Type</th>\n",
       "      <th>Report Type Description</th>\n",
       "      <th>Incident Status Code</th>\n",
       "      <th>Incident Status Description</th>\n",
       "      <th>Investigation Status</th>\n",
       "      <th>Incident Occurred</th>\n",
       "      <th>Incident Reported</th>\n",
       "      <th>Incident Location</th>\n",
       "      <th>...</th>\n",
       "      <th>Victim Type</th>\n",
       "      <th>Victim Description</th>\n",
       "      <th>Victim Gender</th>\n",
       "      <th>Victim Race</th>\n",
       "      <th>Victim Ethnicity</th>\n",
       "      <th>Victim County Resident</th>\n",
       "      <th>Mapped Location</th>\n",
       "      <th>Year</th>\n",
       "      <th>Month</th>\n",
       "      <th>Time</th>\n",
       "    </tr>\n",
       "  </thead>\n",
       "  <tbody>\n",
       "    <tr>\n",
       "      <th>0</th>\n",
       "      <td>20230321366_11</td>\n",
       "      <td>20230321366</td>\n",
       "      <td>D</td>\n",
       "      <td>DISPATCHED</td>\n",
       "      <td>U</td>\n",
       "      <td>UNFOUNDED</td>\n",
       "      <td>Closed</td>\n",
       "      <td>2023-06-01 18:30:00</td>\n",
       "      <td>06/01/2023 07:40:00 PM</td>\n",
       "      <td>409 409</td>\n",
       "      <td>...</td>\n",
       "      <td>I</td>\n",
       "      <td>INDIVIDUAL (18 AND OVER)</td>\n",
       "      <td>M</td>\n",
       "      <td>W</td>\n",
       "      <td>Non-Hispanic</td>\n",
       "      <td>RESIDENT</td>\n",
       "      <td>NaN</td>\n",
       "      <td>2023</td>\n",
       "      <td>6</td>\n",
       "      <td>18:30:00</td>\n",
       "    </tr>\n",
       "    <tr>\n",
       "      <th>1</th>\n",
       "      <td>20230770706_11</td>\n",
       "      <td>20230770706</td>\n",
       "      <td>D</td>\n",
       "      <td>DISPATCHED</td>\n",
       "      <td>U</td>\n",
       "      <td>UNFOUNDED</td>\n",
       "      <td>Closed</td>\n",
       "      <td>2023-12-25 15:20:00</td>\n",
       "      <td>12/28/2023 03:29:00 PM</td>\n",
       "      <td>41 41</td>\n",
       "      <td>...</td>\n",
       "      <td>B</td>\n",
       "      <td>BUSINESS</td>\n",
       "      <td>NaN</td>\n",
       "      <td>NaN</td>\n",
       "      <td>NaN</td>\n",
       "      <td>NaN</td>\n",
       "      <td>POINT (-86.835 36.091)</td>\n",
       "      <td>2023</td>\n",
       "      <td>12</td>\n",
       "      <td>15:20:00</td>\n",
       "    </tr>\n",
       "    <tr>\n",
       "      <th>2</th>\n",
       "      <td>20230761089_21</td>\n",
       "      <td>20230761089</td>\n",
       "      <td>S</td>\n",
       "      <td>SUSPECT</td>\n",
       "      <td>A</td>\n",
       "      <td>CLEARED BY ARREST</td>\n",
       "      <td>Closed</td>\n",
       "      <td>2023-12-20 17:00:00</td>\n",
       "      <td>12/20/2023 06:39:00 PM</td>\n",
       "      <td>405 405</td>\n",
       "      <td>...</td>\n",
       "      <td>S</td>\n",
       "      <td>SOCIETY</td>\n",
       "      <td>NaN</td>\n",
       "      <td>NaN</td>\n",
       "      <td>NaN</td>\n",
       "      <td>NaN</td>\n",
       "      <td>POINT (-86.799 36.158)</td>\n",
       "      <td>2023</td>\n",
       "      <td>12</td>\n",
       "      <td>17:00:00</td>\n",
       "    </tr>\n",
       "    <tr>\n",
       "      <th>3</th>\n",
       "      <td>20230774490_11</td>\n",
       "      <td>20230774490</td>\n",
       "      <td>D</td>\n",
       "      <td>DISPATCHED</td>\n",
       "      <td>U</td>\n",
       "      <td>UNFOUNDED</td>\n",
       "      <td>Closed</td>\n",
       "      <td>2023-12-15 09:55:00</td>\n",
       "      <td>12/28/2023 09:55:00 AM</td>\n",
       "      <td>121 121</td>\n",
       "      <td>...</td>\n",
       "      <td>B</td>\n",
       "      <td>BUSINESS</td>\n",
       "      <td>NaN</td>\n",
       "      <td>NaN</td>\n",
       "      <td>NaN</td>\n",
       "      <td>NaN</td>\n",
       "      <td>POINT (-86.72 36.251)</td>\n",
       "      <td>2023</td>\n",
       "      <td>12</td>\n",
       "      <td>09:55:00</td>\n",
       "    </tr>\n",
       "    <tr>\n",
       "      <th>4</th>\n",
       "      <td>20230774845_11</td>\n",
       "      <td>20230774845</td>\n",
       "      <td>D</td>\n",
       "      <td>DISPATCHED</td>\n",
       "      <td>U</td>\n",
       "      <td>UNFOUNDED</td>\n",
       "      <td>Closed</td>\n",
       "      <td>2023-12-28 13:15:00</td>\n",
       "      <td>12/28/2023 02:59:00 PM</td>\n",
       "      <td>5824 5824</td>\n",
       "      <td>...</td>\n",
       "      <td>I</td>\n",
       "      <td>INDIVIDUAL (18 AND OVER)</td>\n",
       "      <td>M</td>\n",
       "      <td>B</td>\n",
       "      <td>Non-Hispanic</td>\n",
       "      <td>RESIDENT</td>\n",
       "      <td>POINT (-86.713 36.039)</td>\n",
       "      <td>2023</td>\n",
       "      <td>12</td>\n",
       "      <td>13:15:00</td>\n",
       "    </tr>\n",
       "    <tr>\n",
       "      <th>...</th>\n",
       "      <td>...</td>\n",
       "      <td>...</td>\n",
       "      <td>...</td>\n",
       "      <td>...</td>\n",
       "      <td>...</td>\n",
       "      <td>...</td>\n",
       "      <td>...</td>\n",
       "      <td>...</td>\n",
       "      <td>...</td>\n",
       "      <td>...</td>\n",
       "      <td>...</td>\n",
       "      <td>...</td>\n",
       "      <td>...</td>\n",
       "      <td>...</td>\n",
       "      <td>...</td>\n",
       "      <td>...</td>\n",
       "      <td>...</td>\n",
       "      <td>...</td>\n",
       "      <td>...</td>\n",
       "      <td>...</td>\n",
       "      <td>...</td>\n",
       "    </tr>\n",
       "    <tr>\n",
       "      <th>64024</th>\n",
       "      <td>20230778865_11</td>\n",
       "      <td>20230778865</td>\n",
       "      <td>T</td>\n",
       "      <td>NaN</td>\n",
       "      <td>U</td>\n",
       "      <td>UNFOUNDED</td>\n",
       "      <td>Closed</td>\n",
       "      <td>2023-12-27 16:00:00</td>\n",
       "      <td>12/30/2023 12:06:00 PM</td>\n",
       "      <td>1708 1708</td>\n",
       "      <td>...</td>\n",
       "      <td>I</td>\n",
       "      <td>INDIVIDUAL (18 AND OVER)</td>\n",
       "      <td>F</td>\n",
       "      <td>W</td>\n",
       "      <td>Non-Hispanic</td>\n",
       "      <td>RESIDENT</td>\n",
       "      <td>POINT (-86.799 36.118)</td>\n",
       "      <td>2023</td>\n",
       "      <td>12</td>\n",
       "      <td>16:00:00</td>\n",
       "    </tr>\n",
       "    <tr>\n",
       "      <th>64025</th>\n",
       "      <td>20230774687_12</td>\n",
       "      <td>20230774687</td>\n",
       "      <td>S</td>\n",
       "      <td>SUSPECT</td>\n",
       "      <td>U</td>\n",
       "      <td>UNFOUNDED</td>\n",
       "      <td>Closed</td>\n",
       "      <td>2023-12-28 10:37:00</td>\n",
       "      <td>12/28/2023 10:37:00 AM</td>\n",
       "      <td>1201 1201</td>\n",
       "      <td>...</td>\n",
       "      <td>I</td>\n",
       "      <td>INDIVIDUAL (18 AND OVER)</td>\n",
       "      <td>U</td>\n",
       "      <td>U</td>\n",
       "      <td>Unknown</td>\n",
       "      <td>NON RESIDENT</td>\n",
       "      <td>POINT (-86.733 36.158)</td>\n",
       "      <td>2023</td>\n",
       "      <td>12</td>\n",
       "      <td>10:37:00</td>\n",
       "    </tr>\n",
       "    <tr>\n",
       "      <th>64026</th>\n",
       "      <td>20230453680_11</td>\n",
       "      <td>20230453680</td>\n",
       "      <td>D</td>\n",
       "      <td>DISPATCHED</td>\n",
       "      <td>A</td>\n",
       "      <td>CLEARED BY ARREST</td>\n",
       "      <td>Closed</td>\n",
       "      <td>2023-08-03 01:47:00</td>\n",
       "      <td>08/03/2023 09:15:00 AM</td>\n",
       "      <td>426 426</td>\n",
       "      <td>...</td>\n",
       "      <td>I</td>\n",
       "      <td>INDIVIDUAL (18 AND OVER)</td>\n",
       "      <td>M</td>\n",
       "      <td>W</td>\n",
       "      <td>Hispanic</td>\n",
       "      <td>NON RESIDENT</td>\n",
       "      <td>POINT (-86.646 36.16)</td>\n",
       "      <td>2023</td>\n",
       "      <td>8</td>\n",
       "      <td>01:47:00</td>\n",
       "    </tr>\n",
       "    <tr>\n",
       "      <th>64027</th>\n",
       "      <td>20230777152_11</td>\n",
       "      <td>20230777152</td>\n",
       "      <td>D</td>\n",
       "      <td>DISPATCHED</td>\n",
       "      <td>U</td>\n",
       "      <td>UNFOUNDED</td>\n",
       "      <td>Closed</td>\n",
       "      <td>2023-12-29 14:52:00</td>\n",
       "      <td>12/29/2023 02:52:00 PM</td>\n",
       "      <td>301 301</td>\n",
       "      <td>...</td>\n",
       "      <td>I</td>\n",
       "      <td>INDIVIDUAL (18 AND OVER)</td>\n",
       "      <td>M</td>\n",
       "      <td>B</td>\n",
       "      <td>Non-Hispanic</td>\n",
       "      <td>RESIDENT</td>\n",
       "      <td>POINT (-86.815 36.147)</td>\n",
       "      <td>2023</td>\n",
       "      <td>12</td>\n",
       "      <td>14:52:00</td>\n",
       "    </tr>\n",
       "    <tr>\n",
       "      <th>64028</th>\n",
       "      <td>20230774687_133</td>\n",
       "      <td>20230774687</td>\n",
       "      <td>S</td>\n",
       "      <td>SUSPECT</td>\n",
       "      <td>U</td>\n",
       "      <td>UNFOUNDED</td>\n",
       "      <td>Closed</td>\n",
       "      <td>2023-12-28 10:37:00</td>\n",
       "      <td>12/28/2023 10:37:00 AM</td>\n",
       "      <td>1201 1201</td>\n",
       "      <td>...</td>\n",
       "      <td>I</td>\n",
       "      <td>INDIVIDUAL (18 AND OVER)</td>\n",
       "      <td>U</td>\n",
       "      <td>U</td>\n",
       "      <td>Unknown</td>\n",
       "      <td>NON RESIDENT</td>\n",
       "      <td>POINT (-86.733 36.158)</td>\n",
       "      <td>2023</td>\n",
       "      <td>12</td>\n",
       "      <td>10:37:00</td>\n",
       "    </tr>\n",
       "  </tbody>\n",
       "</table>\n",
       "<p>64029 rows × 34 columns</p>\n",
       "</div>"
      ],
      "text/plain": [
       "           Primary Key  Incident Number Report Type Report Type Description  \\\n",
       "0       20230321366_11      20230321366           D              DISPATCHED   \n",
       "1       20230770706_11      20230770706           D              DISPATCHED   \n",
       "2       20230761089_21      20230761089           S                 SUSPECT   \n",
       "3       20230774490_11      20230774490           D              DISPATCHED   \n",
       "4       20230774845_11      20230774845           D              DISPATCHED   \n",
       "...                ...              ...         ...                     ...   \n",
       "64024   20230778865_11      20230778865           T                     NaN   \n",
       "64025   20230774687_12      20230774687           S                 SUSPECT   \n",
       "64026   20230453680_11      20230453680           D              DISPATCHED   \n",
       "64027   20230777152_11      20230777152           D              DISPATCHED   \n",
       "64028  20230774687_133      20230774687           S                 SUSPECT   \n",
       "\n",
       "      Incident Status Code Incident Status Description Investigation Status  \\\n",
       "0                        U                   UNFOUNDED               Closed   \n",
       "1                        U                   UNFOUNDED               Closed   \n",
       "2                        A           CLEARED BY ARREST               Closed   \n",
       "3                        U                   UNFOUNDED               Closed   \n",
       "4                        U                   UNFOUNDED               Closed   \n",
       "...                    ...                         ...                  ...   \n",
       "64024                    U                   UNFOUNDED               Closed   \n",
       "64025                    U                   UNFOUNDED               Closed   \n",
       "64026                    A           CLEARED BY ARREST               Closed   \n",
       "64027                    U                   UNFOUNDED               Closed   \n",
       "64028                    U                   UNFOUNDED               Closed   \n",
       "\n",
       "        Incident Occurred       Incident Reported Incident Location  ...  \\\n",
       "0     2023-06-01 18:30:00  06/01/2023 07:40:00 PM           409 409  ...   \n",
       "1     2023-12-25 15:20:00  12/28/2023 03:29:00 PM             41 41  ...   \n",
       "2     2023-12-20 17:00:00  12/20/2023 06:39:00 PM           405 405  ...   \n",
       "3     2023-12-15 09:55:00  12/28/2023 09:55:00 AM           121 121  ...   \n",
       "4     2023-12-28 13:15:00  12/28/2023 02:59:00 PM         5824 5824  ...   \n",
       "...                   ...                     ...               ...  ...   \n",
       "64024 2023-12-27 16:00:00  12/30/2023 12:06:00 PM         1708 1708  ...   \n",
       "64025 2023-12-28 10:37:00  12/28/2023 10:37:00 AM         1201 1201  ...   \n",
       "64026 2023-08-03 01:47:00  08/03/2023 09:15:00 AM           426 426  ...   \n",
       "64027 2023-12-29 14:52:00  12/29/2023 02:52:00 PM           301 301  ...   \n",
       "64028 2023-12-28 10:37:00  12/28/2023 10:37:00 AM         1201 1201  ...   \n",
       "\n",
       "       Victim Type        Victim Description Victim Gender  Victim Race  \\\n",
       "0                I  INDIVIDUAL (18 AND OVER)             M            W   \n",
       "1                B                  BUSINESS           NaN          NaN   \n",
       "2                S                   SOCIETY           NaN          NaN   \n",
       "3                B                  BUSINESS           NaN          NaN   \n",
       "4                I  INDIVIDUAL (18 AND OVER)             M            B   \n",
       "...            ...                       ...           ...          ...   \n",
       "64024            I  INDIVIDUAL (18 AND OVER)             F            W   \n",
       "64025            I  INDIVIDUAL (18 AND OVER)             U            U   \n",
       "64026            I  INDIVIDUAL (18 AND OVER)             M            W   \n",
       "64027            I  INDIVIDUAL (18 AND OVER)             M            B   \n",
       "64028            I  INDIVIDUAL (18 AND OVER)             U            U   \n",
       "\n",
       "       Victim Ethnicity  Victim County Resident         Mapped Location  Year  \\\n",
       "0          Non-Hispanic                RESIDENT                     NaN  2023   \n",
       "1                   NaN                     NaN  POINT (-86.835 36.091)  2023   \n",
       "2                   NaN                     NaN  POINT (-86.799 36.158)  2023   \n",
       "3                   NaN                     NaN   POINT (-86.72 36.251)  2023   \n",
       "4          Non-Hispanic                RESIDENT  POINT (-86.713 36.039)  2023   \n",
       "...                 ...                     ...                     ...   ...   \n",
       "64024      Non-Hispanic                RESIDENT  POINT (-86.799 36.118)  2023   \n",
       "64025           Unknown            NON RESIDENT  POINT (-86.733 36.158)  2023   \n",
       "64026          Hispanic            NON RESIDENT   POINT (-86.646 36.16)  2023   \n",
       "64027      Non-Hispanic                RESIDENT  POINT (-86.815 36.147)  2023   \n",
       "64028           Unknown            NON RESIDENT  POINT (-86.733 36.158)  2023   \n",
       "\n",
       "      Month      Time  \n",
       "0         6  18:30:00  \n",
       "1        12  15:20:00  \n",
       "2        12  17:00:00  \n",
       "3        12  09:55:00  \n",
       "4        12  13:15:00  \n",
       "...     ...       ...  \n",
       "64024    12  16:00:00  \n",
       "64025    12  10:37:00  \n",
       "64026     8  01:47:00  \n",
       "64027    12  14:52:00  \n",
       "64028    12  10:37:00  \n",
       "\n",
       "[64029 rows x 34 columns]"
      ]
     },
     "execution_count": 84,
     "metadata": {},
     "output_type": "execute_result"
    }
   ],
   "source": [
    "twenty_twenty_three_df"
   ]
  },
  {
   "cell_type": "code",
   "execution_count": null,
   "metadata": {},
   "outputs": [],
   "source": []
  }
 ],
 "metadata": {
  "kernelspec": {
   "display_name": "Python 3 (ipykernel)",
   "language": "python",
   "name": "python3"
  },
  "language_info": {
   "codemirror_mode": {
    "name": "ipython",
    "version": 3
   },
   "file_extension": ".py",
   "mimetype": "text/x-python",
   "name": "python",
   "nbconvert_exporter": "python",
   "pygments_lexer": "ipython3",
   "version": "3.11.5"
  }
 },
 "nbformat": 4,
 "nbformat_minor": 4
}
